{
 "cells": [
  {
   "cell_type": "markdown",
   "id": "ec6a150f",
   "metadata": {},
   "source": [
    "# Analyse des CO2 Verbrauchs zwischen 1900-2023 :\n",
    "---"
   ]
  },
  {
   "cell_type": "markdown",
   "id": "f5212426",
   "metadata": {},
   "source": [
    "## Daten Bearbeitung\n",
    "---"
   ]
  },
  {
   "cell_type": "markdown",
   "id": "b4a50918",
   "metadata": {},
   "source": [
    "### Daten Import"
   ]
  },
  {
   "cell_type": "code",
   "execution_count": 1,
   "id": "a0325198",
   "metadata": {},
   "outputs": [],
   "source": [
    "# imports\n",
    "import seaborn as sbs\n",
    "import matplotlib.pyplot as plt\n",
    "import pandas as pd\n",
    "import plotly.express as px\n",
    "import plotly.graph_objects as go\n",
    "import plotly.io as pio\n",
    "import seaborn as sns\n",
    "\n"
   ]
  },
  {
   "cell_type": "markdown",
   "id": "09443f8f",
   "metadata": {},
   "source": [
    "### Vorbereitung der CSV Daten"
   ]
  },
  {
   "cell_type": "code",
   "execution_count": 2,
   "id": "4bd008ca",
   "metadata": {},
   "outputs": [],
   "source": [
    "\n",
    "coal = pd.read_csv('CSV_daten/annual-co-emissions-from-coal.csv')\n",
    "gas = pd.read_csv('CSV_daten/annual-co-emissions-from-gas.csv')\n",
    "land_use= pd.read_csv('CSV_daten/annual-co-emissions-from-land-use-change.csv')\n",
    "oil= pd.read_csv('CSV_daten/annual-co-emissions-from-oil.csv')\n",
    "land_use_incl = pd.read_csv('CSV_daten/annual-co-emissions-including-land-use-change.csv')\n",
    "co2_emissions = pd.read_csv('CSV_daten/annual-co-emissions.csv')\n",
    "fossil_ressources_mean = pd.read_csv('CSV_daten/contribution-to-global-mean-surface-temperature-rise-from-fossil-sources.csv')\n",
    "capita_co2_emmissions = pd.read_csv('CSV_daten/per-capita-greenhouse-gas-emissions.csv')\n",
    "capita_greenhouse = pd.read_csv('CSV_daten/per-capita-greenhouse-gas-emissions.csv')\n",
    "capita_methane = pd.read_csv('CSV_daten/per-capita-methane-emissions.csv')\n",
    "capita_nitrous_oxide = pd.read_csv('CSV_daten/per-capita-nitrous-oxide-emissions.csv')\n",
    "\n"
   ]
  },
  {
   "cell_type": "markdown",
   "id": "e1cbae63",
   "metadata": {},
   "source": [
    "### Reinigung der Daten"
   ]
  },
  {
   "cell_type": "markdown",
   "id": "f10a109a",
   "metadata": {},
   "source": []
  },
  {
   "cell_type": "code",
   "execution_count": 3,
   "id": "412312c7",
   "metadata": {},
   "outputs": [],
   "source": [
    "\n",
    "def load_and_clean_emission_data(folder_path='CSV_daten/'):\n",
    "    file_map = {\n",
    "        'coal': ('annual-co-emissions-from-coal.csv', 'Co2_coal'),\n",
    "        'gas': ('annual-co-emissions-from-gas.csv', 'Co2_gas'),\n",
    "        'oil': ('annual-co-emissions-from-oil.csv', 'Co2_oil'),\n",
    "        'land_use': ('annual-co-emissions-from-land-use-change.csv', 'Co2_land_use'),\n",
    "        'land_use_incl': ('annual-co-emissions-including-land-use-change.csv', 'Co2_land_use_incl'),\n",
    "        'co2_emissions': ('annual-co-emissions.csv', 'Co2_emissions'),\n",
    "        'fossil_ressources_mean': ('contribution-to-global-mean-surface-temperature-rise-from-fossil-sources.csv', 'Co2_fossil_ressources_mean'),\n",
    "        'capita_co2_emmissions': ('per-capita-greenhouse-gas-emissions.csv', 'Co2_capita_emissions'),\n",
    "        'capita_greenhouse': ('per-capita-greenhouse-gas-emissions.csv', 'Co2_capita_greenhouse'),\n",
    "        'capita_methane': ('per-capita-methane-emissions.csv', 'Co2_capita_methane'),\n",
    "        'capita_nitrous_oxide': ('per-capita-nitrous-oxide-emissions.csv', 'Co2_capita_nitrous_oxide')\n",
    "    }\n",
    "\n",
    "    cleaned_data = {}\n",
    "\n",
    "    for varname, (filename, new_colname) in file_map.items():\n",
    "        path = folder_path + filename\n",
    "        df = pd.read_csv(path)\n",
    "\n",
    "        # Umbenennung der Spalten\n",
    "        df.columns = ['Entity', 'Year', new_colname]\n",
    "\n",
    "        # Speicher\n",
    "        cleaned_data[varname] = df\n",
    "\n",
    "    return cleaned_data\n",
    "\n",
    "\n"
   ]
  },
  {
   "cell_type": "code",
   "execution_count": 4,
   "id": "504ec9ad",
   "metadata": {},
   "outputs": [],
   "source": [
    "\n",
    "data = load_and_clean_emission_data()\n",
    "\n",
    "coal = data['coal']\n",
    "gas = data['gas']\n",
    "land_use = data['land_use']\n",
    "oil = data['oil']\n",
    "land_use_incl = data['land_use_incl']\n",
    "co2_emissions = data['co2_emissions']\n",
    "fossil_ressources_mean = data['fossil_ressources_mean']\n",
    "capita_co2_emmissions = data['capita_co2_emmissions']\n",
    "capita_greenhouse = data['capita_greenhouse']\n",
    "capita_methane = data['capita_methane']\n",
    "capita_nitrous_oxide = data['capita_nitrous_oxide']"
   ]
  },
  {
   "cell_type": "code",
   "execution_count": 5,
   "id": "99bc6211",
   "metadata": {},
   "outputs": [],
   "source": [
    "excluded_entities_dict = {\n",
    "    \"global\": [\n",
    "        \"World\", \"International shipping\", \"International aviation\"\n",
    "    ],\n",
    "    \"regions\": [\n",
    "        \"Asia\", \"EurGCP)\", \"Africa (GCP)\", \"North America (GCP)\", \"South America (GCP)\", \"Oceania (GCP)\",\n",
    "        \"Asia (excl. Chinaope\", \"Africa\", \"North America\", \"South America\", \"Oceania\",\n",
    "        \"Asia (GCP)\", \"Europe ( and India)\", \"North America (excl. USA)\",\n",
    "        \"Europe (excl. EU-27)\", \"Europe (excl. EU-28)\"\n",
    "    ],\n",
    "    \"economic_groups\": [\n",
    "        \"High-income countries\", \"Upper-middle-income countries\", \n",
    "        \"Lower-middle-income countries\", \"Low-income countries\",\n",
    "        \"OECD (GCP)\", \"Non-OECD (GCP)\"\n",
    "    ],\n",
    "    \"political_unions\": [\n",
    "        \"European Union (27)\", \"European Union (28)\"\n",
    "    ],\n",
    "    \"all\" :[\n",
    "        \"World\", \"International shipping\", \"International aviation\",\"Asia\", \"Europe\", \"Africa\", \"North America\", \"South America\", \"Oceania\",\n",
    "        \"Asia (GCP)\", \"Europe (GCP)\", \"Africa (GCP)\", \"North America (GCP)\", \"South America (GCP)\", \"Oceania (GCP)\",\n",
    "        \"Asia (excl. China and India)\", \"North America (excl. USA)\",\n",
    "        \"Europe (excl. EU-27)\", \"Europe (excl. EU-28)\", \"High-income countries\", \"Upper-middle-income countries\", \n",
    "        \"Lower-middle-income countries\", \"Low-income countries\",\n",
    "        \"OECD (GCP)\", \"Non-OECD (GCP)\", \"European Union (27)\", \"European Union (28)\"],\n",
    "\n",
    "    'exclusions' : \n",
    "    ['European Union (27)', 'European Union (28)', \n",
    "    \"Europe (excl. EU-27)\", \"Europe (excl. EU-28)\",\n",
    "    \"Asia (excl. China and India)\", \"North America (excl. USA)\"\n",
    "\n",
    "    ]\n",
    "}\n",
    "\n",
    "def exclude_entities(df, categories_to_exclude):\n",
    "    to_exclude = []\n",
    "    for category in categories_to_exclude:\n",
    "        to_exclude.extend(excluded_entities_dict.get(category, []))\n",
    "    \n",
    "    return df[~df['Entity'].isin(to_exclude)]\n",
    "\n",
    "\n",
    "\n"
   ]
  },
  {
   "cell_type": "markdown",
   "id": "800240d1",
   "metadata": {},
   "source": [
    "## Grafik Visualisierungen\n",
    "---"
   ]
  },
  {
   "cell_type": "markdown",
   "id": "ea9c9d4d",
   "metadata": {},
   "source": [
    "### 1. Welweite Co2 Emissionen "
   ]
  },
  {
   "cell_type": "code",
   "execution_count": 31,
   "id": "3568ce5b",
   "metadata": {},
   "outputs": [
    {
     "data": {
      "text/plain": [
       "Index(['Entity', 'Year', 'Co2_emissions'], dtype='object')"
      ]
     },
     "execution_count": 31,
     "metadata": {},
     "output_type": "execute_result"
    }
   ],
   "source": [
    "Co2_welweit = co2_emissions[co2_emissions['Entity'] == 'World']\n",
    "Co2_welweit.columns"
   ]
  },
  {
   "cell_type": "code",
   "execution_count": 39,
   "id": "487dc4a2",
   "metadata": {},
   "outputs": [
    {
     "data": {
      "application/vnd.plotly.v1+json": {
       "config": {
        "plotlyServerURL": "https://plot.ly"
       },
       "data": [
        {
         "hovertemplate": "Year=%{x}<br>Co2_emissions=%{y}<extra></extra>",
         "legendgroup": "",
         "line": {
          "color": "#636efa",
          "dash": "solid"
         },
         "marker": {
          "symbol": "circle"
         },
         "mode": "lines",
         "name": "",
         "orientation": "v",
         "showlegend": false,
         "type": "scatter",
         "x": {
          "bdata": "1gbXBtgG2QbaBtsG3AbdBt4G3wbgBuEG4gbjBuQG5QbmBucG6AbpBuoG6wbsBu0G7gbvBvAG8QbyBvMG9Ab1BvYG9wb4BvkG+gb7BvwG/Qb+Bv8GAAcBBwIHAwcEBwUHBgcHBwgHCQcKBwsHDAcNBw4HDwcQBxEHEgcTBxQHFQcWBxcHGAcZBxoHGwccBx0HHgcfByAHIQciByMHJAclByYHJwcoBykHKgcrBywHLQcuBy8HMAcxBzIHMwc0BzUHNgc3BzgHOQc6BzsHPAc9Bz4HPwdAB0EHQgdDB0QHRQdGB0cHSAdJB0oHSwdMB00HTgdPB1AHUQdSB1MHVAdVB1YHVwdYB1kHWgdbB1wHXQdeB18HYAdhB2IHYwdkB2UHZgdnB2gHaQdqB2sHbAdtB24HbwdwB3EHcgdzB3QHdQd2B3cHeAd5B3oHewd8B30Hfgd/B4AHgQeCB4MHhAeFB4YHhweIB4kHigeLB4wHjQeOB48HkAeRB5IHkweUB5UHlgeXB5gHmQeaB5sHnAedB54HnwegB6EHogejB6QHpQemB6cHqAepB6oHqwesB60HrgevB7AHsQeyB7MHtAe1B7YHtwe4B7kHuge7B7wHvQe+B78HwAfBB8IHwwfEB8UHxgfHB8gHyQfKB8sHzAfNB84HzwfQB9EH0gfTB9QH1QfWB9cH2AfZB9oH2wfcB90H3gffB+AH4QfiB+MH5AflB+YH5wc=",
          "dtype": "i2"
         },
         "xaxis": "x",
         "y": {
          "bdata": "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",
          "dtype": "f8"
         },
         "yaxis": "y"
        }
       ],
       "layout": {
        "legend": {
         "tracegroupgap": 0
        },
        "template": {
         "data": {
          "bar": [
           {
            "error_x": {
             "color": "#2a3f5f"
            },
            "error_y": {
             "color": "#2a3f5f"
            },
            "marker": {
             "line": {
              "color": "#E5ECF6",
              "width": 0.5
             },
             "pattern": {
              "fillmode": "overlay",
              "size": 10,
              "solidity": 0.2
             }
            },
            "type": "bar"
           }
          ],
          "barpolar": [
           {
            "marker": {
             "line": {
              "color": "#E5ECF6",
              "width": 0.5
             },
             "pattern": {
              "fillmode": "overlay",
              "size": 10,
              "solidity": 0.2
             }
            },
            "type": "barpolar"
           }
          ],
          "carpet": [
           {
            "aaxis": {
             "endlinecolor": "#2a3f5f",
             "gridcolor": "white",
             "linecolor": "white",
             "minorgridcolor": "white",
             "startlinecolor": "#2a3f5f"
            },
            "baxis": {
             "endlinecolor": "#2a3f5f",
             "gridcolor": "white",
             "linecolor": "white",
             "minorgridcolor": "white",
             "startlinecolor": "#2a3f5f"
            },
            "type": "carpet"
           }
          ],
          "choropleth": [
           {
            "colorbar": {
             "outlinewidth": 0,
             "ticks": ""
            },
            "type": "choropleth"
           }
          ],
          "contour": [
           {
            "colorbar": {
             "outlinewidth": 0,
             "ticks": ""
            },
            "colorscale": [
             [
              0,
              "#0d0887"
             ],
             [
              0.1111111111111111,
              "#46039f"
             ],
             [
              0.2222222222222222,
              "#7201a8"
             ],
             [
              0.3333333333333333,
              "#9c179e"
             ],
             [
              0.4444444444444444,
              "#bd3786"
             ],
             [
              0.5555555555555556,
              "#d8576b"
             ],
             [
              0.6666666666666666,
              "#ed7953"
             ],
             [
              0.7777777777777778,
              "#fb9f3a"
             ],
             [
              0.8888888888888888,
              "#fdca26"
             ],
             [
              1,
              "#f0f921"
             ]
            ],
            "type": "contour"
           }
          ],
          "contourcarpet": [
           {
            "colorbar": {
             "outlinewidth": 0,
             "ticks": ""
            },
            "type": "contourcarpet"
           }
          ],
          "heatmap": [
           {
            "colorbar": {
             "outlinewidth": 0,
             "ticks": ""
            },
            "colorscale": [
             [
              0,
              "#0d0887"
             ],
             [
              0.1111111111111111,
              "#46039f"
             ],
             [
              0.2222222222222222,
              "#7201a8"
             ],
             [
              0.3333333333333333,
              "#9c179e"
             ],
             [
              0.4444444444444444,
              "#bd3786"
             ],
             [
              0.5555555555555556,
              "#d8576b"
             ],
             [
              0.6666666666666666,
              "#ed7953"
             ],
             [
              0.7777777777777778,
              "#fb9f3a"
             ],
             [
              0.8888888888888888,
              "#fdca26"
             ],
             [
              1,
              "#f0f921"
             ]
            ],
            "type": "heatmap"
           }
          ],
          "histogram": [
           {
            "marker": {
             "pattern": {
              "fillmode": "overlay",
              "size": 10,
              "solidity": 0.2
             }
            },
            "type": "histogram"
           }
          ],
          "histogram2d": [
           {
            "colorbar": {
             "outlinewidth": 0,
             "ticks": ""
            },
            "colorscale": [
             [
              0,
              "#0d0887"
             ],
             [
              0.1111111111111111,
              "#46039f"
             ],
             [
              0.2222222222222222,
              "#7201a8"
             ],
             [
              0.3333333333333333,
              "#9c179e"
             ],
             [
              0.4444444444444444,
              "#bd3786"
             ],
             [
              0.5555555555555556,
              "#d8576b"
             ],
             [
              0.6666666666666666,
              "#ed7953"
             ],
             [
              0.7777777777777778,
              "#fb9f3a"
             ],
             [
              0.8888888888888888,
              "#fdca26"
             ],
             [
              1,
              "#f0f921"
             ]
            ],
            "type": "histogram2d"
           }
          ],
          "histogram2dcontour": [
           {
            "colorbar": {
             "outlinewidth": 0,
             "ticks": ""
            },
            "colorscale": [
             [
              0,
              "#0d0887"
             ],
             [
              0.1111111111111111,
              "#46039f"
             ],
             [
              0.2222222222222222,
              "#7201a8"
             ],
             [
              0.3333333333333333,
              "#9c179e"
             ],
             [
              0.4444444444444444,
              "#bd3786"
             ],
             [
              0.5555555555555556,
              "#d8576b"
             ],
             [
              0.6666666666666666,
              "#ed7953"
             ],
             [
              0.7777777777777778,
              "#fb9f3a"
             ],
             [
              0.8888888888888888,
              "#fdca26"
             ],
             [
              1,
              "#f0f921"
             ]
            ],
            "type": "histogram2dcontour"
           }
          ],
          "mesh3d": [
           {
            "colorbar": {
             "outlinewidth": 0,
             "ticks": ""
            },
            "type": "mesh3d"
           }
          ],
          "parcoords": [
           {
            "line": {
             "colorbar": {
              "outlinewidth": 0,
              "ticks": ""
             }
            },
            "type": "parcoords"
           }
          ],
          "pie": [
           {
            "automargin": true,
            "type": "pie"
           }
          ],
          "scatter": [
           {
            "fillpattern": {
             "fillmode": "overlay",
             "size": 10,
             "solidity": 0.2
            },
            "type": "scatter"
           }
          ],
          "scatter3d": [
           {
            "line": {
             "colorbar": {
              "outlinewidth": 0,
              "ticks": ""
             }
            },
            "marker": {
             "colorbar": {
              "outlinewidth": 0,
              "ticks": ""
             }
            },
            "type": "scatter3d"
           }
          ],
          "scattercarpet": [
           {
            "marker": {
             "colorbar": {
              "outlinewidth": 0,
              "ticks": ""
             }
            },
            "type": "scattercarpet"
           }
          ],
          "scattergeo": [
           {
            "marker": {
             "colorbar": {
              "outlinewidth": 0,
              "ticks": ""
             }
            },
            "type": "scattergeo"
           }
          ],
          "scattergl": [
           {
            "marker": {
             "colorbar": {
              "outlinewidth": 0,
              "ticks": ""
             }
            },
            "type": "scattergl"
           }
          ],
          "scattermap": [
           {
            "marker": {
             "colorbar": {
              "outlinewidth": 0,
              "ticks": ""
             }
            },
            "type": "scattermap"
           }
          ],
          "scattermapbox": [
           {
            "marker": {
             "colorbar": {
              "outlinewidth": 0,
              "ticks": ""
             }
            },
            "type": "scattermapbox"
           }
          ],
          "scatterpolar": [
           {
            "marker": {
             "colorbar": {
              "outlinewidth": 0,
              "ticks": ""
             }
            },
            "type": "scatterpolar"
           }
          ],
          "scatterpolargl": [
           {
            "marker": {
             "colorbar": {
              "outlinewidth": 0,
              "ticks": ""
             }
            },
            "type": "scatterpolargl"
           }
          ],
          "scatterternary": [
           {
            "marker": {
             "colorbar": {
              "outlinewidth": 0,
              "ticks": ""
             }
            },
            "type": "scatterternary"
           }
          ],
          "surface": [
           {
            "colorbar": {
             "outlinewidth": 0,
             "ticks": ""
            },
            "colorscale": [
             [
              0,
              "#0d0887"
             ],
             [
              0.1111111111111111,
              "#46039f"
             ],
             [
              0.2222222222222222,
              "#7201a8"
             ],
             [
              0.3333333333333333,
              "#9c179e"
             ],
             [
              0.4444444444444444,
              "#bd3786"
             ],
             [
              0.5555555555555556,
              "#d8576b"
             ],
             [
              0.6666666666666666,
              "#ed7953"
             ],
             [
              0.7777777777777778,
              "#fb9f3a"
             ],
             [
              0.8888888888888888,
              "#fdca26"
             ],
             [
              1,
              "#f0f921"
             ]
            ],
            "type": "surface"
           }
          ],
          "table": [
           {
            "cells": {
             "fill": {
              "color": "#EBF0F8"
             },
             "line": {
              "color": "white"
             }
            },
            "header": {
             "fill": {
              "color": "#C8D4E3"
             },
             "line": {
              "color": "white"
             }
            },
            "type": "table"
           }
          ]
         },
         "layout": {
          "annotationdefaults": {
           "arrowcolor": "#2a3f5f",
           "arrowhead": 0,
           "arrowwidth": 1
          },
          "autotypenumbers": "strict",
          "coloraxis": {
           "colorbar": {
            "outlinewidth": 0,
            "ticks": ""
           }
          },
          "colorscale": {
           "diverging": [
            [
             0,
             "#8e0152"
            ],
            [
             0.1,
             "#c51b7d"
            ],
            [
             0.2,
             "#de77ae"
            ],
            [
             0.3,
             "#f1b6da"
            ],
            [
             0.4,
             "#fde0ef"
            ],
            [
             0.5,
             "#f7f7f7"
            ],
            [
             0.6,
             "#e6f5d0"
            ],
            [
             0.7,
             "#b8e186"
            ],
            [
             0.8,
             "#7fbc41"
            ],
            [
             0.9,
             "#4d9221"
            ],
            [
             1,
             "#276419"
            ]
           ],
           "sequential": [
            [
             0,
             "#0d0887"
            ],
            [
             0.1111111111111111,
             "#46039f"
            ],
            [
             0.2222222222222222,
             "#7201a8"
            ],
            [
             0.3333333333333333,
             "#9c179e"
            ],
            [
             0.4444444444444444,
             "#bd3786"
            ],
            [
             0.5555555555555556,
             "#d8576b"
            ],
            [
             0.6666666666666666,
             "#ed7953"
            ],
            [
             0.7777777777777778,
             "#fb9f3a"
            ],
            [
             0.8888888888888888,
             "#fdca26"
            ],
            [
             1,
             "#f0f921"
            ]
           ],
           "sequentialminus": [
            [
             0,
             "#0d0887"
            ],
            [
             0.1111111111111111,
             "#46039f"
            ],
            [
             0.2222222222222222,
             "#7201a8"
            ],
            [
             0.3333333333333333,
             "#9c179e"
            ],
            [
             0.4444444444444444,
             "#bd3786"
            ],
            [
             0.5555555555555556,
             "#d8576b"
            ],
            [
             0.6666666666666666,
             "#ed7953"
            ],
            [
             0.7777777777777778,
             "#fb9f3a"
            ],
            [
             0.8888888888888888,
             "#fdca26"
            ],
            [
             1,
             "#f0f921"
            ]
           ]
          },
          "colorway": [
           "#636efa",
           "#EF553B",
           "#00cc96",
           "#ab63fa",
           "#FFA15A",
           "#19d3f3",
           "#FF6692",
           "#B6E880",
           "#FF97FF",
           "#FECB52"
          ],
          "font": {
           "color": "#2a3f5f"
          },
          "geo": {
           "bgcolor": "white",
           "lakecolor": "white",
           "landcolor": "#E5ECF6",
           "showlakes": true,
           "showland": true,
           "subunitcolor": "white"
          },
          "hoverlabel": {
           "align": "left"
          },
          "hovermode": "closest",
          "mapbox": {
           "style": "light"
          },
          "paper_bgcolor": "white",
          "plot_bgcolor": "#E5ECF6",
          "polar": {
           "angularaxis": {
            "gridcolor": "white",
            "linecolor": "white",
            "ticks": ""
           },
           "bgcolor": "#E5ECF6",
           "radialaxis": {
            "gridcolor": "white",
            "linecolor": "white",
            "ticks": ""
           }
          },
          "scene": {
           "xaxis": {
            "backgroundcolor": "#E5ECF6",
            "gridcolor": "white",
            "gridwidth": 2,
            "linecolor": "white",
            "showbackground": true,
            "ticks": "",
            "zerolinecolor": "white"
           },
           "yaxis": {
            "backgroundcolor": "#E5ECF6",
            "gridcolor": "white",
            "gridwidth": 2,
            "linecolor": "white",
            "showbackground": true,
            "ticks": "",
            "zerolinecolor": "white"
           },
           "zaxis": {
            "backgroundcolor": "#E5ECF6",
            "gridcolor": "white",
            "gridwidth": 2,
            "linecolor": "white",
            "showbackground": true,
            "ticks": "",
            "zerolinecolor": "white"
           }
          },
          "shapedefaults": {
           "line": {
            "color": "#2a3f5f"
           }
          },
          "ternary": {
           "aaxis": {
            "gridcolor": "white",
            "linecolor": "white",
            "ticks": ""
           },
           "baxis": {
            "gridcolor": "white",
            "linecolor": "white",
            "ticks": ""
           },
           "bgcolor": "#E5ECF6",
           "caxis": {
            "gridcolor": "white",
            "linecolor": "white",
            "ticks": ""
           }
          },
          "title": {
           "x": 0.05
          },
          "xaxis": {
           "automargin": true,
           "gridcolor": "white",
           "linecolor": "white",
           "ticks": "",
           "title": {
            "standoff": 15
           },
           "zerolinecolor": "white",
           "zerolinewidth": 2
          },
          "yaxis": {
           "automargin": true,
           "gridcolor": "white",
           "linecolor": "white",
           "ticks": "",
           "title": {
            "standoff": 15
           },
           "zerolinecolor": "white",
           "zerolinewidth": 2
          }
         }
        },
        "title": {
         "text": "Gesamte menschliche Co2 Emissionen Weltweit 1900-2025"
        },
        "xaxis": {
         "anchor": "y",
         "domain": [
          0,
          1
         ],
         "range": [
          1900,
          2025
         ],
         "title": {
          "text": "Jahr"
         }
        },
        "yaxis": {
         "anchor": "x",
         "domain": [
          0,
          1
         ],
         "title": {
          "text": "Co2 Verbrauch in Gt"
         }
        }
       }
      }
     },
     "metadata": {},
     "output_type": "display_data"
    }
   ],
   "source": [
    "co2_welweit_fig= px.line(Co2_welweit, x = 'Year', y = 'Co2_emissions', title= 'Gesamte menschliche Co2 Emissionen Weltweit 1900-2025' )\n",
    "co2_welweit_fig.update_layout( xaxis_range= [1900, 2025],\n",
    "                              yaxis_title = 'Co2 Verbrauch in Gt',\n",
    "                              xaxis_title = 'Jahr')\n",
    "co2_welweit_fig.show()\n"
   ]
  },
  {
   "cell_type": "markdown",
   "id": "7f518c0b",
   "metadata": {},
   "source": [
    "### 2. Woher kommen diese Emissionen? "
   ]
  },
  {
   "cell_type": "code",
   "execution_count": 48,
   "id": "1235e159",
   "metadata": {},
   "outputs": [],
   "source": [
    "\n",
    "\n",
    "\n",
    "\n",
    "df_gas = gas[gas['Entity'] == 'World'][['Year', 'Co2_gas']]\n",
    "df_gas['Source'] = 'gas'\n",
    "df_gas.rename(columns={'Co2_gas': 'Emissions'}, inplace=True)\n",
    "\n",
    "\n",
    "df_coal = coal[coal['Entity'] == 'World'][['Year', 'Co2_coal']]\n",
    "df_coal['Source'] = 'coal'\n",
    "df_coal.rename(columns={'Co2_coal': 'Emissions'}, inplace=True)\n",
    "\n",
    "\n",
    "df_oil = oil[oil['Entity'] == 'World'][['Year', 'Co2_oil']]\n",
    "df_oil['Source'] = 'oil'\n",
    "df_oil.rename(columns={'Co2_oil': 'Emissions'}, inplace=True)\n",
    "\n",
    "# Concat um die df zusammenzufuegen\n",
    "df_welt= pd.concat([df_gas, df_coal, df_oil], ignore_index=True)\n"
   ]
  },
  {
   "cell_type": "code",
   "execution_count": 49,
   "id": "024b03cf",
   "metadata": {},
   "outputs": [],
   "source": [
    "# \n",
    "\n",
    "df_welt['Total'] = df_welt.groupby('Year')['Emissions'].transform('sum')\n",
    "\n",
    "# Layout Vorbereitung\n",
    "df_welt['Part (%)'] = (df_welt['Emissions'] / df_welt['Total'] * 100).round(1)\n",
    "df_welt['Emissions (Mt)'] = (df_welt['Emissions'] / 1_000_000).round(1)\n",
    "df_welt['Source'] = df_welt['Source'].replace({\n",
    "    'coal': 'Kohle',\n",
    "    'oil': 'Öl',\n",
    "    'gas': 'Gas'\n",
    "})\n"
   ]
  },
  {
   "cell_type": "code",
   "execution_count": 50,
   "id": "5760436d",
   "metadata": {},
   "outputs": [
    {
     "data": {
      "application/vnd.plotly.v1+json": {
       "config": {
        "plotlyServerURL": "https://plot.ly"
       },
       "data": [
        {
         "customdata": [
          [
           0.2,
           0,
           "Gas",
           937887936
          ],
          [
           0.4,
           0,
           "Gas",
           997514192
          ],
          [
           1.2,
           0.1,
           "Gas",
           1009429456
          ],
          [
           3.7,
           0.4,
           "Gas",
           1017144226
          ],
          [
           7.7,
           0.7,
           "Gas",
           1032613338
          ],
          [
           11.8,
           1.1,
           "Gas",
           1083726976
          ],
          [
           16.8,
           1.4,
           "Gas",
           1200801086
          ],
          [
           12.2,
           1,
           "Gas",
           1201515666
          ],
          [
           11.7,
           0.9,
           "Gas",
           1306590477
          ],
          [
           8.9,
           0.7,
           "Gas",
           1368915008
          ],
          [
           7.8,
           0.6,
           "Gas",
           1379808312
          ],
          [
           7.3,
           0.5,
           "Gas",
           1362514324
          ],
          [
           6.7,
           0.5,
           "Gas",
           1411532230
          ],
          [
           7,
           0.5,
           "Gas",
           1495238158
          ],
          [
           6.8,
           0.4,
           "Gas",
           1544660114
          ],
          [
           7.3,
           0.5,
           "Gas",
           1617491893
          ],
          [
           8.5,
           0.5,
           "Gas",
           1705959896
          ],
          [
           10.9,
           0.6,
           "Gas",
           1863134128
          ],
          [
           11.5,
           0.6,
           "Gas",
           1961489336
          ],
          [
           12.9,
           0.6,
           "Gas",
           2023962136
          ],
          [
           13.7,
           0.7,
           "Gas",
           2074798252
          ],
          [
           14.5,
           0.6,
           "Gas",
           2262043520
          ],
          [
           15.2,
           0.7,
           "Gas",
           2285672784
          ],
          [
           17.2,
           0.7,
           "Gas",
           2435077960
          ],
          [
           19,
           0.7,
           "Gas",
           2542354112
          ],
          [
           19.9,
           0.7,
           "Gas",
           2898266198
          ],
          [
           19.7,
           0.7,
           "Gas",
           2783737744
          ],
          [
           23.5,
           0.8,
           "Gas",
           2898704408
          ],
          [
           24.9,
           0.8,
           "Gas",
           3040843300
          ],
          [
           25.7,
           0.8,
           "Gas",
           3087676274
          ],
          [
           28.3,
           0.9,
           "Gas",
           3243953372
          ],
          [
           29.6,
           0.8,
           "Gas",
           3513909732
          ],
          [
           30.1,
           0.9,
           "Gas",
           3187365744
          ],
          [
           31.9,
           1,
           "Gas",
           3137695730
          ],
          [
           38.4,
           1.1,
           "Gas",
           3389077980
          ],
          [
           40.5,
           1.1,
           "Gas",
           3545496254
          ],
          [
           36.5,
           1,
           "Gas",
           3497439580
          ],
          [
           37.9,
           1.3,
           "Gas",
           3031514136
          ],
          [
           41.7,
           1.2,
           "Gas",
           3535341096
          ],
          [
           35,
           1.1,
           "Gas",
           3104367654
          ],
          [
           40.1,
           1.2,
           "Gas",
           3251849110
          ],
          [
           52.5,
           1.4,
           "Gas",
           3687775928
          ],
          [
           59.7,
           1.6,
           "Gas",
           3699847110
          ],
          [
           63.9,
           1.7,
           "Gas",
           3723124170
          ],
          [
           69.1,
           1.9,
           "Gas",
           3659659540
          ],
          [
           76,
           1.9,
           "Gas",
           3994565344
          ],
          [
           82.6,
           2.1,
           "Gas",
           3957794596
          ],
          [
           102.9,
           2.4,
           "Gas",
           4248478056
          ],
          [
           104.2,
           2.7,
           "Gas",
           3920260910
          ],
          [
           92.9,
           2.6,
           "Gas",
           3506592296
          ],
          [
           88.2,
           2.8,
           "Gas",
           3166577004
          ],
          [
           90.9,
           2.7,
           "Gas",
           3337304100
          ],
          [
           102,
           2.8,
           "Gas",
           3626059100
          ],
          [
           111.4,
           2.9,
           "Gas",
           3801704320
          ],
          [
           125.5,
           3,
           "Gas",
           4166700780
          ],
          [
           140.6,
           3.2,
           "Gas",
           4453197820
          ],
          [
           135.5,
           3.2,
           "Gas",
           4188897800
          ],
          [
           141.3,
           3.2,
           "Gas",
           4431614560
          ],
          [
           153.5,
           3.2,
           "Gas",
           4850005630
          ],
          [
           153.5,
           3.1,
           "Gas",
           4951765330
          ],
          [
           166,
           3.4,
           "Gas",
           4940113140
          ],
          [
           182.9,
           3.6,
           "Gas",
           5036176600
          ],
          [
           197.6,
           3.8,
           "Gas",
           5135494870
          ],
          [
           216.7,
           5.1,
           "Gas",
           4262365960
          ],
          [
           223.8,
           4.9,
           "Gas",
           4568279920
          ],
          [
           247.9,
           4.8,
           "Gas",
           5117516880
          ],
          [
           280.1,
           5.2,
           "Gas",
           5391408400
          ],
          [
           300.5,
           5.8,
           "Gas",
           5141665630
          ],
          [
           353.2,
           6.1,
           "Gas",
           5784731820
          ],
          [
           416.2,
           6.7,
           "Gas",
           6220286130
          ],
          [
           447.1,
           7.1,
           "Gas",
           6295996000
          ],
          [
           474.5,
           7.3,
           "Gas",
           6473536940
          ],
          [
           501.3,
           7.6,
           "Gas",
           6609062130
          ],
          [
           547.2,
           7.6,
           "Gas",
           7232656100
          ],
          [
           587.2,
           7.6,
           "Gas",
           7694309700
          ],
          [
           646.7,
           8.1,
           "Gas",
           7949986150
          ],
          [
           705.8,
           8.6,
           "Gas",
           8186217400
          ],
          [
           758.2,
           8.8,
           "Gas",
           8609462200
          ],
          [
           834.6,
           9.2,
           "Gas",
           9112969170
          ],
          [
           882.1,
           9.7,
           "Gas",
           9135459600
          ],
          [
           967.7,
           10.2,
           "Gas",
           9454712050
          ],
          [
           1046.9,
           10.5,
           "Gas",
           9958530600
          ],
          [
           1152.9,
           11,
           "Gas",
           10470537900
          ],
          [
           1230.6,
           11.3,
           "Gas",
           10929188900
          ],
          [
           1339.9,
           11.7,
           "Gas",
           11448842400
          ],
          [
           1433,
           12.2,
           "Gas",
           11769495400
          ],
          [
           1559.7,
           12.6,
           "Gas",
           12407603000
          ],
          [
           1708.6,
           12.9,
           "Gas",
           13205426400
          ],
          [
           1790.8,
           12.5,
           "Gas",
           14288777000
          ],
          [
           1933.5,
           13,
           "Gas",
           14834626800
          ],
          [
           2052.2,
           13.2,
           "Gas",
           15508282300
          ],
          [
           2204.5,
           13.5,
           "Gas",
           16291008100
          ],
          [
           2259.6,
           13.9,
           "Gas",
           16226553800
          ],
          [
           2256.2,
           13.8,
           "Gas",
           16328825900
          ],
          [
           2387.6,
           13.9,
           "Gas",
           17187448600
          ],
          [
           2441.9,
           13.8,
           "Gas",
           17694576000
          ],
          [
           2551.1,
           14,
           "Gas",
           18229981900
          ],
          [
           2689.9,
           14.3,
           "Gas",
           18792532500
          ],
          [
           2759,
           14.7,
           "Gas",
           18717596600
          ],
          [
           2795.2,
           15.2,
           "Gas",
           18332771600
          ],
          [
           2732.2,
           15,
           "Gas",
           18186220000
          ],
          [
           2761.5,
           15.1,
           "Gas",
           18317348500
          ],
          [
           3011.5,
           15.9,
           "Gas",
           18987585300
          ],
          [
           3122.3,
           15.9,
           "Gas",
           19647505500
          ],
          [
           3046.9,
           15.3,
           "Gas",
           19941039400
          ],
          [
           3308.5,
           16.1,
           "Gas",
           20551283700
          ],
          [
           3467.4,
           16.3,
           "Gas",
           21323645200
          ],
          [
           3641.5,
           16.8,
           "Gas",
           21651962100
          ],
          [
           3806.2,
           17.5,
           "Gas",
           21752776400
          ],
          [
           3868.1,
           17.4,
           "Gas",
           22188150600
          ],
          [
           3921.8,
           18.2,
           "Gas",
           21540839500
          ],
          [
           4025.1,
           18.5,
           "Gas",
           21753609600
          ],
          [
           4061.5,
           18.6,
           "Gas",
           21872408100
          ],
          [
           4218.2,
           18.9,
           "Gas",
           22358672800
          ],
          [
           4404.7,
           19.1,
           "Gas",
           23049352000
          ],
          [
           4420.7,
           19.1,
           "Gas",
           23163018000
          ],
          [
           4467.6,
           19.4,
           "Gas",
           23086633000
          ],
          [
           4613.6,
           19.5,
           "Gas",
           23611797300
          ],
          [
           4749.9,
           19.6,
           "Gas",
           24223147600
          ],
          [
           4794.5,
           19.6,
           "Gas",
           24399910000
          ],
          [
           4937.4,
           19.8,
           "Gas",
           24950726000
          ],
          [
           5118.3,
           19.5,
           "Gas",
           26240352700
          ],
          [
           5284.5,
           19.5,
           "Gas",
           27155780600
          ],
          [
           5402.5,
           19.3,
           "Gas",
           28055949500
          ],
          [
           5557,
           19.2,
           "Gas",
           28972094000
          ],
          [
           5760.3,
           19.3,
           "Gas",
           29797784000
          ],
          [
           5926.7,
           19.5,
           "Gas",
           30330569500
          ],
          [
           5783.9,
           19.4,
           "Gas",
           29785453500
          ],
          [
           6227.9,
           19.8,
           "Gas",
           31505361000
          ],
          [
           6412,
           19.7,
           "Gas",
           32511338600
          ],
          [
           6550.1,
           19.9,
           "Gas",
           32951497300
          ],
          [
           6587.9,
           19.9,
           "Gas",
           33167225300
          ],
          [
           6631.2,
           19.9,
           "Gas",
           33255536000
          ],
          [
           6766.8,
           20.3,
           "Gas",
           33266113400
          ],
          [
           6952.6,
           20.9,
           "Gas",
           33251731000
          ],
          [
           7127.8,
           21.1,
           "Gas",
           33790323000
          ],
          [
           7470.2,
           21.7,
           "Gas",
           34465660400
          ],
          [
           7633.8,
           22,
           "Gas",
           34740668000
          ],
          [
           7564.6,
           23.1,
           "Gas",
           32792135000
          ],
          [
           7923,
           22.9,
           "Gas",
           34588553000
          ],
          [
           7892.7,
           22.6,
           "Gas",
           34988270000
          ],
          [
           7900.1,
           22.2,
           "Gas",
           35510153000
          ]
         ],
         "hovertemplate": "Emissions (MtCO₂)=%{customdata[0]:.2f}<br>Part (%)=%{customdata[1]}<extra></extra>",
         "legendgroup": "Gas",
         "marker": {
          "color": "#636efa",
          "pattern": {
           "shape": ""
          }
         },
         "name": "Gas",
         "orientation": "v",
         "showlegend": true,
         "textposition": "auto",
         "type": "bar",
         "x": {
          "bdata": "WgdbB1wHXQdeB18HYAdhB2IHYwdkB2UHZgdnB2gHaQdqB2sHbAdtB24HbwdwB3EHcgdzB3QHdQd2B3cHeAd5B3oHewd8B30Hfgd/B4AHgQeCB4MHhAeFB4YHhweIB4kHigeLB4wHjQeOB48HkAeRB5IHkweUB5UHlgeXB5gHmQeaB5sHnAedB54HnwegB6EHogejB6QHpQemB6cHqAepB6oHqwesB60HrgevB7AHsQeyB7MHtAe1B7YHtwe4B7kHuge7B7wHvQe+B78HwAfBB8IHwwfEB8UHxgfHB8gHyQfKB8sHzAfNB84HzwfQB9EH0gfTB9QH1QfWB9cH2AfZB9oH2wfcB90H3gffB+AH4QfiB+MH5AflB+YH5wc=",
          "dtype": "i2"
         },
         "xaxis": "x",
         "y": {
          "bdata": "AAAAAIAgBEEAAAAA7EEXQQAAAAAA5DFBAAAAAHBYTEEAAAAALEhdQQAAAABqe2ZBAAAAAFT+b0EAAAAAGlJnQQAAAKAOS2ZBAAAAAOQQYUEAAAAAyKhdQQAAAADkzFtBAAAAgN6MWUEAAACAGt1aQQAAAAB3H1pBAAAAwNbMW0EAAAAA8iJgQQAAAABAzGRBAAAAAIwDZkEAAAAAnIdoQQAAAACEH2pBAAAAAKK1a0EAAABA5uxsQQAAAADGX3BBAAAAAE0lckEAAAAg0fRyQQAAAACiw3JBAAAA4ONudkEAAAAA0MJ3QQAAAGC5hnhBAAAAAPAAe0EAAAAABjp8QQAAAACJvXxBAAAAYLljfkEAAABQq0yCQQAAACD2UINBAAAAkOVpgUEAAAAgVBiCQQAAAKCM4INBAAAAIIavgEEAAABw3x+DQQAAAODgC4lBAAAAgK54jEEAAADwB3uOQQAAAFBBfJBBAAAA4LcfkkEAAADg6bKTQQAAAGAriJhBAAAAuFXZmEEAAAAgZyWWQQAAAKBwCJVBAAAAQCWtlUEAAABQik6YQQAAAKCjjZpBAAAAQLntnUEAAAAABcKgQQAAAMD0JqBBAAAAgATZoEEAAAA89kyiQQAAAHxTS6JBAAAAWGnLo0EAAAB4qc2lQQAAAHxMjqdBAAAAaBzVqUEAAADg566qQQAAAOj+jK1BAAAA/FmysEEAAABemOixQQAAALypDLVBAAAAfm3OuEEAAACY6KW6QQAAAMCoSLxBAAAAYv3hvUEAAAA0CE/AQQAAAPY2gMFBAAAAP7NFw0EAAACWDwnFQQAAAADdmMZBAAAAYS7fyEEAAAAagknKQQAAAAE418xBAAAAdgAzz0EAAAAYCC7RQQAAAL1cVtJBAAAAQFr300EAAABJklrVQQAAAFSnPddBAAAA++N12UEAAABBY6/aQQAAAH6az9xBAAAA96qU3kEAAACDyGzgQQAAAP7t1eBBAACAo2/P4EEAAAA/6snhQQAAAAN4MeJBAACAROoB40EAAIBCiArkQQAAAJ1RjuRBAAAASH/T5EEAAAAgPlvkQQAAAAUrk+RBAACAwQpw5kEAAAAEVkPnQQAAAOaBs+ZBAACAHWym6EEAAAA/ldXpQQAAgLqwIetBAAAA2qhb7EEAAADExdHsQQAAgJo/OO1BAAAAykf97UEAAIAcvELuQQAAAHqPbe9BAACA66do8EEAAIBs9HfwQQAAgBabpPBBAADAv98v8UEAAIBg1LHxQQAAAP5t3PFBAACA46Jk8kEAAMCeMRHzQQAAgP+8r/NBAABAIEMg9EEAAIC4kLP0QQAAgC9rdfVBAADAfSkU9kEAAECe84v1QQAAgG5sM/dBAACAIv7i90EAAMBesmb4QQAAQCKqivhBAACAcAa0+EEAAAAdSTX5QQAAAFGQ5vlBAACA0JiN+kEAAAC+KdT7QQAAAN4hcPxBAACApiAu/EEAAABK8YP9QQAAgAYOZ/1BAAAA3R5u/UE=",
          "dtype": "f8"
         },
         "yaxis": "y"
        },
        {
         "customdata": [
          [
           9.3,
           100,
           "Kohle",
           9305937
          ],
          [
           9.4,
           100,
           "Kohle",
           9407229
          ],
          [
           9.5,
           100,
           "Kohle",
           9505168
          ],
          [
           9.6,
           100,
           "Kohle",
           9610490
          ],
          [
           9.7,
           100,
           "Kohle",
           9733580
          ],
          [
           9.8,
           100,
           "Kohle",
           9793468
          ],
          [
           9.9,
           100,
           "Kohle",
           9909914
          ],
          [
           10.1,
           100,
           "Kohle",
           10093936
          ],
          [
           10.2,
           100,
           "Kohle",
           10216358
          ],
          [
           10.3,
           100,
           "Kohle",
           10338854
          ],
          [
           10.5,
           100,
           "Kohle",
           10514331
          ],
          [
           10.7,
           100,
           "Kohle",
           10747885
          ],
          [
           11,
           100,
           "Kohle",
           10952198
          ],
          [
           11.2,
           100,
           "Kohle",
           11191592
          ],
          [
           11.4,
           100,
           "Kohle",
           11396982
          ],
          [
           11.6,
           100,
           "Kohle",
           11643486
          ],
          [
           11.9,
           100,
           "Kohle",
           11876080
          ],
          [
           12.2,
           100,
           "Kohle",
           12152509
          ],
          [
           12.5,
           100,
           "Kohle",
           12466936
          ],
          [
           12.8,
           100,
           "Kohle",
           12780074
          ],
          [
           13.1,
           100,
           "Kohle",
           13097216
          ],
          [
           13.4,
           100,
           "Kohle",
           13369488
          ],
          [
           13.6,
           100,
           "Kohle",
           13623507
          ],
          [
           13.8,
           100,
           "Kohle",
           13808138
          ],
          [
           14,
           100,
           "Kohle",
           14012415
          ],
          [
           14.3,
           100,
           "Kohle",
           14338920
          ],
          [
           14.7,
           100,
           "Kohle",
           14654124
          ],
          [
           15,
           100,
           "Kohle",
           14959537
          ],
          [
           15.2,
           100,
           "Kohle",
           15243483
          ],
          [
           15.5,
           100,
           "Kohle",
           15535235
          ],
          [
           15.9,
           100,
           "Kohle",
           15878726
          ],
          [
           16.2,
           100,
           "Kohle",
           16234383
          ],
          [
           16.6,
           100,
           "Kohle",
           16580954
          ],
          [
           17.1,
           100,
           "Kohle",
           17062752
          ],
          [
           17.5,
           100,
           "Kohle",
           17471092
          ],
          [
           18,
           100,
           "Kohle",
           17965128
          ],
          [
           18.4,
           100,
           "Kohle",
           18447496
          ],
          [
           18.9,
           100,
           "Kohle",
           18859130
          ],
          [
           19.3,
           100,
           "Kohle",
           19286228
          ],
          [
           19.9,
           100,
           "Kohle",
           19863424
          ],
          [
           20.4,
           100,
           "Kohle",
           20398094
          ],
          [
           20.9,
           100,
           "Kohle",
           20931750
          ],
          [
           21.9,
           100,
           "Kohle",
           21929214
          ],
          [
           22.3,
           100,
           "Kohle",
           22297260
          ],
          [
           22.5,
           100,
           "Kohle",
           22519656
          ],
          [
           22.3,
           100,
           "Kohle",
           22315246
          ],
          [
           22.1,
           100,
           "Kohle",
           22121374
          ],
          [
           22.1,
           100,
           "Kohle",
           22090078
          ],
          [
           23.1,
           100,
           "Kohle",
           23105928
          ],
          [
           27.5,
           100,
           "Kohle",
           27485206
          ],
          [
           32.8,
           100,
           "Kohle",
           32798352
          ],
          [
           32,
           100,
           "Kohle",
           31986050
          ],
          [
           40.3,
           100,
           "Kohle",
           40310476
          ],
          [
           29.5,
           100,
           "Kohle",
           29538506
          ],
          [
           31.8,
           100,
           "Kohle",
           31769176
          ],
          [
           31.3,
           100,
           "Kohle",
           31251818
          ],
          [
           32.7,
           100,
           "Kohle",
           32704620
          ],
          [
           36.2,
           100,
           "Kohle",
           36200652
          ],
          [
           35.5,
           100,
           "Kohle",
           35497788
          ],
          [
           36.3,
           100,
           "Kohle",
           36333812
          ],
          [
           39.5,
           100,
           "Kohle",
           39492310
          ],
          [
           40.2,
           100,
           "Kohle",
           40176680
          ],
          [
           40.8,
           100,
           "Kohle",
           40814520
          ],
          [
           41.2,
           100,
           "Kohle",
           41206140
          ],
          [
           42.2,
           100,
           "Kohle",
           42226650
          ],
          [
           43.6,
           100,
           "Kohle",
           43587264
          ],
          [
           45.5,
           100,
           "Kohle",
           45496580
          ],
          [
           49.3,
           100,
           "Kohle",
           49275920
          ],
          [
           51.4,
           100,
           "Kohle",
           51392010
          ],
          [
           50.9,
           100,
           "Kohle",
           50930170
          ],
          [
           50.7,
           100,
           "Kohle",
           50733076
          ],
          [
           52.1,
           100,
           "Kohle",
           52059348
          ],
          [
           54,
           100,
           "Kohle",
           54021710
          ],
          [
           56.4,
           100,
           "Kohle",
           56357760
          ],
          [
           57.6,
           100,
           "Kohle",
           57583636
          ],
          [
           60.7,
           100,
           "Kohle",
           60730864
          ],
          [
           61.4,
           100,
           "Kohle",
           61382130
          ],
          [
           65.7,
           100,
           "Kohle",
           65738572
          ],
          [
           66.7,
           100,
           "Kohle",
           66681790
          ],
          [
           66.3,
           100,
           "Kohle",
           66307412
          ],
          [
           89,
           100,
           "Kohle",
           88988500
          ],
          [
           83.3,
           100,
           "Kohle",
           83250904
          ],
          [
           82.1,
           100,
           "Kohle",
           82091750
          ],
          [
           83.2,
           100,
           "Kohle",
           83248940
          ],
          [
           88.8,
           100,
           "Kohle",
           88763100
          ],
          [
           97.4,
           100,
           "Kohle",
           97399600
          ],
          [
           106.9,
           100,
           "Kohle",
           106894500
          ],
          [
           106.2,
           100,
           "Kohle",
           106199420
          ],
          [
           105.8,
           100,
           "Kohle",
           105845260
          ],
          [
           109.7,
           100,
           "Kohle",
           109653030
          ],
          [
           118.8,
           100,
           "Kohle",
           118808510
          ],
          [
           122.2,
           100,
           "Kohle",
           122165550
          ],
          [
           129.4,
           100,
           "Kohle",
           129388790
          ],
          [
           132.4,
           100,
           "Kohle",
           132369384
          ],
          [
           142,
           100,
           "Kohle",
           141966450
          ],
          [
           155.1,
           100,
           "Kohle",
           155073400
          ],
          [
           157.7,
           100,
           "Kohle",
           157701780
          ],
          [
           170.8,
           100,
           "Kohle",
           170796750
          ],
          [
           173.6,
           100,
           "Kohle",
           173643470
          ],
          [
           185,
           100,
           "Kohle",
           185048030
          ],
          [
           196.8,
           100,
           "Kohle",
           196847600
          ],
          [
           198.8,
           100,
           "Kohle",
           198778540
          ],
          [
           207.6,
           100,
           "Kohle",
           207595090
          ],
          [
           217.2,
           100,
           "Kohle",
           217236980
          ],
          [
           255,
           100,
           "Kohle",
           255038560
          ],
          [
           260.2,
           100,
           "Kohle",
           260259840
          ],
          [
           278.2,
           100,
           "Kohle",
           278245604
          ],
          [
           281.1,
           100,
           "Kohle",
           281181056
          ],
          [
           285.5,
           100,
           "Kohle",
           285548388
          ],
          [
           302.5,
           100,
           "Kohle",
           302572175
          ],
          [
           332,
           99.9,
           "Kohle",
           332298469
          ],
          [
           348.2,
           99.7,
           "Kohle",
           349190172
          ],
          [
           354.6,
           99.6,
           "Kohle",
           355991085
          ],
          [
           378.2,
           99.7,
           "Kohle",
           379534887
          ],
          [
           408.4,
           99.7,
           "Kohle",
           409525416
          ],
          [
           433.5,
           99.7,
           "Kohle",
           434851336
          ],
          [
           447.1,
           99.6,
           "Kohle",
           449067003
          ],
          [
           478.8,
           99.6,
           "Kohle",
           480813917
          ],
          [
           492.2,
           99.5,
           "Kohle",
           494493537
          ],
          [
           522.1,
           99.5,
           "Kohle",
           524731073
          ],
          [
           533,
           99.4,
           "Kohle",
           536123271
          ],
          [
           566.5,
           99.4,
           "Kohle",
           569776627
          ],
          [
           627.3,
           99.4,
           "Kohle",
           630961488
          ],
          [
           664.8,
           99.2,
           "Kohle",
           670467238
          ],
          [
           622.4,
           99,
           "Kohle",
           628662270
          ],
          [
           675.2,
           99.1,
           "Kohle",
           681047978
          ],
          [
           684,
           99.1,
           "Kohle",
           690582512
          ],
          [
           695.2,
           98.7,
           "Kohle",
           704032855
          ],
          [
           699.6,
           98.6,
           "Kohle",
           709649520
          ],
          [
           747.1,
           98.3,
           "Kohle",
           759794370
          ],
          [
           842.7,
           98.2,
           "Kohle",
           858055518
          ],
          [
           870.7,
           98.1,
           "Kohle",
           887964738
          ],
          [
           918.8,
           98,
           "Kohle",
           937887936
          ],
          [
           980.6,
           98.3,
           "Kohle",
           997514192
          ],
          [
           989.9,
           98.1,
           "Kohle",
           1009429456
          ],
          [
           994.5,
           97.8,
           "Kohle",
           1017144226
          ],
          [
           1003.1,
           97.1,
           "Kohle",
           1032613338
          ],
          [
           1048.5,
           96.7,
           "Kohle",
           1083726976
          ],
          [
           1159.4,
           96.6,
           "Kohle",
           1200801086
          ],
          [
           1160.9,
           96.6,
           "Kohle",
           1201515666
          ],
          [
           1260.3,
           96.5,
           "Kohle",
           1306590477
          ],
          [
           1319.1,
           96.4,
           "Kohle",
           1368915008
          ],
          [
           1331.8,
           96.5,
           "Kohle",
           1379808312
          ],
          [
           1312.7,
           96.3,
           "Kohle",
           1362514324
          ],
          [
           1363.1,
           96.6,
           "Kohle",
           1411532230
          ],
          [
           1439.7,
           96.3,
           "Kohle",
           1495238158
          ],
          [
           1485.2,
           96.2,
           "Kohle",
           1544660114
          ],
          [
           1554.7,
           96.1,
           "Kohle",
           1617491893
          ],
          [
           1640.3,
           96.2,
           "Kohle",
           1705959896
          ],
          [
           1792.2,
           96.2,
           "Kohle",
           1863134128
          ],
          [
           1882.6,
           96,
           "Kohle",
           1961489336
          ],
          [
           1936.4,
           95.7,
           "Kohle",
           2023962136
          ],
          [
           1980.3,
           95.4,
           "Kohle",
           2074798252
          ],
          [
           2162,
           95.6,
           "Kohle",
           2262043520
          ],
          [
           2174.4,
           95.1,
           "Kohle",
           2285672784
          ],
          [
           2320.9,
           95.3,
           "Kohle",
           2435077960
          ],
          [
           2425.4,
           95.4,
           "Kohle",
           2542354112
          ],
          [
           2759,
           95.2,
           "Kohle",
           2898266198
          ],
          [
           2635.3,
           94.7,
           "Kohle",
           2783737744
          ],
          [
           2740.8,
           94.6,
           "Kohle",
           2898704408
          ],
          [
           2871.8,
           94.4,
           "Kohle",
           3040843300
          ],
          [
           2909.1,
           94.2,
           "Kohle",
           3087676274
          ],
          [
           3058.5,
           94.3,
           "Kohle",
           3243953372
          ],
          [
           3302.3,
           94,
           "Kohle",
           3513909732
          ],
          [
           2971.2,
           93.2,
           "Kohle",
           3187365744
          ],
          [
           2908.3,
           92.7,
           "Kohle",
           3137695730
          ],
          [
           3135.5,
           92.5,
           "Kohle",
           3389077980
          ],
          [
           3265.6,
           92.1,
           "Kohle",
           3545496254
          ],
          [
           3215.9,
           91.9,
           "Kohle",
           3497439580
          ],
          [
           2720.2,
           89.7,
           "Kohle",
           3031514136
          ],
          [
           3132.6,
           88.6,
           "Kohle",
           3535341096
          ],
          [
           2672.1,
           86.1,
           "Kohle",
           3104367654
          ],
          [
           2773.4,
           85.3,
           "Kohle",
           3251849110
          ],
          [
           3149.7,
           85.4,
           "Kohle",
           3687775928
          ],
          [
           3155.9,
           85.3,
           "Kohle",
           3699847110
          ],
          [
           3153.7,
           84.7,
           "Kohle",
           3723124170
          ],
          [
           3084,
           84.3,
           "Kohle",
           3659659540
          ],
          [
           3364.4,
           84.2,
           "Kohle",
           3994565344
          ],
          [
           3307.6,
           83.6,
           "Kohle",
           3957794596
          ],
          [
           3523.9,
           82.9,
           "Kohle",
           4248478056
          ],
          [
           3216.2,
           82,
           "Kohle",
           3920260910
          ],
          [
           2833.2,
           80.8,
           "Kohle",
           3506592296
          ],
          [
           2522.3,
           79.7,
           "Kohle",
           3166577004
          ],
          [
           2638.8,
           79.1,
           "Kohle",
           3337304100
          ],
          [
           2880.4,
           79.4,
           "Kohle",
           3626059100
          ],
          [
           2998.3,
           78.9,
           "Kohle",
           3801704320
          ],
          [
           3287.7,
           78.9,
           "Kohle",
           4166700780
          ],
          [
           3465.9,
           77.8,
           "Kohle",
           4453197820
          ],
          [
           3230.5,
           77.1,
           "Kohle",
           4188897800
          ],
          [
           3435.7,
           77.5,
           "Kohle",
           4431614560
          ],
          [
           3795.4,
           78.3,
           "Kohle",
           4850005630
          ],
          [
           3885.9,
           78.5,
           "Kohle",
           4951765330
          ],
          [
           3910.5,
           79.2,
           "Kohle",
           4940113140
          ],
          [
           3926.7,
           78,
           "Kohle",
           5036176600
          ],
          [
           3869.1,
           75.3,
           "Kohle",
           5135494870
          ],
          [
           2999.8,
           70.4,
           "Kohle",
           4262365960
          ],
          [
           3235.9,
           70.8,
           "Kohle",
           4568279920
          ],
          [
           3623.1,
           70.8,
           "Kohle",
           5117516880
          ],
          [
           3740.6,
           69.4,
           "Kohle",
           5391408400
          ],
          [
           3547.2,
           69,
           "Kohle",
           5141665630
          ],
          [
           3881.7,
           67.1,
           "Kohle",
           5784731820
          ],
          [
           4085.9,
           65.7,
           "Kohle",
           6220286130
          ],
          [
           4031.6,
           64,
           "Kohle",
           6295996000
          ],
          [
           4062.4,
           62.8,
           "Kohle",
           6473536940
          ],
          [
           4054.8,
           61.4,
           "Kohle",
           6609062130
          ],
          [
           4387.1,
           60.7,
           "Kohle",
           7232656100
          ],
          [
           4608.9,
           59.9,
           "Kohle",
           7694309700
          ],
          [
           4692.1,
           59,
           "Kohle",
           7949986150
          ],
          [
           4761.8,
           58.2,
           "Kohle",
           8186217400
          ],
          [
           4954.2,
           57.5,
           "Kohle",
           8609462200
          ],
          [
           5157.6,
           56.6,
           "Kohle",
           9112969170
          ],
          [
           4943.3,
           54.1,
           "Kohle",
           9135459600
          ],
          [
           4927.6,
           52.1,
           "Kohle",
           9454712050
          ],
          [
           5107.1,
           51.3,
           "Kohle",
           9958530600
          ],
          [
           5212.5,
           49.8,
           "Kohle",
           10470537900
          ],
          [
           5288.6,
           48.4,
           "Kohle",
           10929188900
          ],
          [
           5349.5,
           46.7,
           "Kohle",
           11448842400
          ],
          [
           5261.4,
           44.7,
           "Kohle",
           11769495400
          ],
          [
           5319.2,
           42.9,
           "Kohle",
           12407603000
          ],
          [
           5517.7,
           41.8,
           "Kohle",
           13205426400
          ],
          [
           5698.2,
           39.9,
           "Kohle",
           14288777000
          ],
          [
           5699.5,
           38.4,
           "Kohle",
           14834626800
          ],
          [
           5690.9,
           36.7,
           "Kohle",
           15508282300
          ],
          [
           5862.6,
           36,
           "Kohle",
           16291008100
          ],
          [
           5860.9,
           36.1,
           "Kohle",
           16226553800
          ],
          [
           6035.4,
           37,
           "Kohle",
           16328825900
          ],
          [
           6260.6,
           36.4,
           "Kohle",
           17187448600
          ],
          [
           6413,
           36.2,
           "Kohle",
           17694576000
          ],
          [
           6522,
           35.8,
           "Kohle",
           18229981900
          ],
          [
           6828.8,
           36.3,
           "Kohle",
           18792532500
          ],
          [
           7009,
           37.4,
           "Kohle",
           18717596600
          ],
          [
           6989.4,
           38.1,
           "Kohle",
           18332771600
          ],
          [
           7111.6,
           39.1,
           "Kohle",
           18186220000
          ],
          [
           7298,
           39.8,
           "Kohle",
           18317348500
          ],
          [
           7651,
           40.3,
           "Kohle",
           18987585300
          ],
          [
           8202,
           41.7,
           "Kohle",
           19647505500
          ],
          [
           8321.2,
           41.7,
           "Kohle",
           19941039400
          ],
          [
           8598.4,
           41.8,
           "Kohle",
           20551283700
          ],
          [
           8893.9,
           41.7,
           "Kohle",
           21323645200
          ],
          [
           8892.3,
           41.1,
           "Kohle",
           21651962100
          ],
          [
           8702.6,
           40,
           "Kohle",
           21752776400
          ],
          [
           8616.4,
           38.8,
           "Kohle",
           22188150600
          ],
          [
           8410.1,
           39,
           "Kohle",
           21540839500
          ],
          [
           8511,
           39.1,
           "Kohle",
           21753609600
          ],
          [
           8560,
           39.1,
           "Kohle",
           21872408100
          ],
          [
           8803.8,
           39.4,
           "Kohle",
           22358672800
          ],
          [
           9025.1,
           39.2,
           "Kohle",
           23049352000
          ],
          [
           8977.6,
           38.8,
           "Kohle",
           23163018000
          ],
          [
           8735.7,
           37.8,
           "Kohle",
           23086633000
          ],
          [
           8862.8,
           37.5,
           "Kohle",
           23611797300
          ],
          [
           9202.4,
           38,
           "Kohle",
           24223147600
          ],
          [
           9256.9,
           37.9,
           "Kohle",
           24399910000
          ],
          [
           9681.1,
           38.8,
           "Kohle",
           24950726000
          ],
          [
           10518.8,
           40.1,
           "Kohle",
           26240352700
          ],
          [
           10872.5,
           40,
           "Kohle",
           27155780600
          ],
          [
           11547.4,
           41.2,
           "Kohle",
           28055949500
          ],
          [
           12194.1,
           42.1,
           "Kohle",
           28972094000
          ],
          [
           12784.7,
           42.9,
           "Kohle",
           29797784000
          ],
          [
           13201.7,
           43.5,
           "Kohle",
           30330569500
          ],
          [
           13045,
           43.8,
           "Kohle",
           29785453500
          ],
          [
           13954.1,
           44.3,
           "Kohle",
           31505361000
          ],
          [
           14737.9,
           45.3,
           "Kohle",
           32511338600
          ],
          [
           14907,
           45.2,
           "Kohle",
           32951497300
          ],
          [
           15001.5,
           45.2,
           "Kohle",
           33167225300
          ],
          [
           15017.9,
           45.2,
           "Kohle",
           33255536000
          ],
          [
           14667.7,
           44.1,
           "Kohle",
           33266113400
          ],
          [
           14336.1,
           43.1,
           "Kohle",
           33251731000
          ],
          [
           14513.1,
           43,
           "Kohle",
           33790323000
          ],
          [
           14746.2,
           42.8,
           "Kohle",
           34465660400
          ],
          [
           14694.9,
           42.3,
           "Kohle",
           34740668000
          ],
          [
           14266.9,
           43.5,
           "Kohle",
           32792135000
          ],
          [
           15134.6,
           43.8,
           "Kohle",
           34588553000
          ],
          [
           15186,
           43.4,
           "Kohle",
           34988270000
          ],
          [
           15401.2,
           43.4,
           "Kohle",
           35510153000
          ]
         ],
         "hovertemplate": "Emissions (MtCO₂)=%{customdata[0]:.2f}<br>Part (%)=%{customdata[1]}<extra></extra>",
         "legendgroup": "Kohle",
         "marker": {
          "color": "#EF553B",
          "pattern": {
           "shape": ""
          }
         },
         "name": "Kohle",
         "orientation": "v",
         "showlegend": true,
         "textposition": "auto",
         "type": "bar",
         "x": {
          "bdata": "1gbXBtgG2QbaBtsG3AbdBt4G3wbgBuEG4gbjBuQG5QbmBucG6AbpBuoG6wbsBu0G7gbvBvAG8QbyBvMG9Ab1BvYG9wb4BvkG+gb7BvwG/Qb+Bv8GAAcBBwIHAwcEBwUHBgcHBwgHCQcKBwsHDAcNBw4HDwcQBxEHEgcTBxQHFQcWBxcHGAcZBxoHGwccBx0HHgcfByAHIQciByMHJAclByYHJwcoBykHKgcrBywHLQcuBy8HMAcxBzIHMwc0BzUHNgc3BzgHOQc6BzsHPAc9Bz4HPwdAB0EHQgdDB0QHRQdGB0cHSAdJB0oHSwdMB00HTgdPB1AHUQdSB1MHVAdVB1YHVwdYB1kHWgdbB1wHXQdeB18HYAdhB2IHYwdkB2UHZgdnB2gHaQdqB2sHbAdtB24HbwdwB3EHcgdzB3QHdQd2B3cHeAd5B3oHewd8B30Hfgd/B4AHgQeCB4MHhAeFB4YHhweIB4kHigeLB4wHjQeOB48HkAeRB5IHkweUB5UHlgeXB5gHmQeaB5sHnAedB54HnwegB6EHogejB6QHpQemB6cHqAepB6oHqwesB60HrgevB7AHsQeyB7MHtAe1B7YHtwe4B7kHuge7B7wHvQe+B78HwAfBB8IHwwfEB8UHxgfHB8gHyQfKB8sHzAfNB84HzwfQB9EH0gfTB9QH1QfWB9cH2AfZB9oH2wfcB90H3gffB+AH4QfiB+MH5AflB+YH5wc=",
          "dtype": "i2"
         },
         "xaxis": "x",
         "y": {
          "bdata": "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",
          "dtype": "f8"
         },
         "yaxis": "y"
        },
        {
         "customdata": [
          [
           0,
           0,
           "Öl",
           260259840
          ],
          [
           0,
           0,
           "Öl",
           278245604
          ],
          [
           0.1,
           0,
           "Öl",
           281181056
          ],
          [
           0.1,
           0,
           "Öl",
           285548388
          ],
          [
           0.1,
           0,
           "Öl",
           302572175
          ],
          [
           0.3,
           0.1,
           "Öl",
           332298469
          ],
          [
           0.9,
           0.3,
           "Öl",
           349190172
          ],
          [
           1.4,
           0.4,
           "Öl",
           355991085
          ],
          [
           1.3,
           0.3,
           "Öl",
           379534887
          ],
          [
           1.1,
           0.3,
           "Öl",
           409525416
          ],
          [
           1.3,
           0.3,
           "Öl",
           434851336
          ],
          [
           2,
           0.4,
           "Öl",
           449067003
          ],
          [
           2,
           0.4,
           "Öl",
           480813917
          ],
          [
           2.3,
           0.5,
           "Öl",
           494493537
          ],
          [
           2.6,
           0.5,
           "Öl",
           524731073
          ],
          [
           3.1,
           0.6,
           "Öl",
           536123271
          ],
          [
           3.3,
           0.6,
           "Öl",
           569776627
          ],
          [
           3.7,
           0.6,
           "Öl",
           630961488
          ],
          [
           5.7,
           0.8,
           "Öl",
           670467238
          ],
          [
           6.2,
           1,
           "Öl",
           628662270
          ],
          [
           5.8,
           0.9,
           "Öl",
           681047978
          ],
          [
           6.5,
           0.9,
           "Öl",
           690582512
          ],
          [
           8.8,
           1.3,
           "Öl",
           704032855
          ],
          [
           10,
           1.4,
           "Öl",
           709649520
          ],
          [
           12.7,
           1.7,
           "Öl",
           759794370
          ],
          [
           15.4,
           1.8,
           "Öl",
           858055518
          ],
          [
           17.2,
           1.9,
           "Öl",
           887964738
          ],
          [
           18.9,
           2,
           "Öl",
           937887936
          ],
          [
           16.5,
           1.7,
           "Öl",
           997514192
          ],
          [
           18.3,
           1.8,
           "Öl",
           1009429456
          ],
          [
           19,
           1.9,
           "Öl",
           1017144226
          ],
          [
           21.8,
           2.1,
           "Öl",
           1032613338
          ],
          [
           23.5,
           2.2,
           "Öl",
           1083726976
          ],
          [
           24.6,
           2,
           "Öl",
           1200801086
          ],
          [
           28.4,
           2.4,
           "Öl",
           1201515666
          ],
          [
           34.7,
           2.7,
           "Öl",
           1306590477
          ],
          [
           40.8,
           3,
           "Öl",
           1368915008
          ],
          [
           40.2,
           2.9,
           "Öl",
           1379808312
          ],
          [
           42.5,
           3.1,
           "Öl",
           1362514324
          ],
          [
           41.7,
           3,
           "Öl",
           1411532230
          ],
          [
           48.5,
           3.2,
           "Öl",
           1495238158
          ],
          [
           52.6,
           3.4,
           "Öl",
           1544660114
          ],
          [
           55.5,
           3.4,
           "Öl",
           1617491893
          ],
          [
           57.2,
           3.4,
           "Öl",
           1705959896
          ],
          [
           60,
           3.2,
           "Öl",
           1863134128
          ],
          [
           67.3,
           3.4,
           "Öl",
           1961489336
          ],
          [
           74.7,
           3.7,
           "Öl",
           2023962136
          ],
          [
           80.8,
           3.9,
           "Öl",
           2074798252
          ],
          [
           85.6,
           3.8,
           "Öl",
           2262043520
          ],
          [
           96.1,
           4.2,
           "Öl",
           2285672784
          ],
          [
           97,
           4,
           "Öl",
           2435077960
          ],
          [
           97.9,
           3.9,
           "Öl",
           2542354112
          ],
          [
           119.4,
           4.1,
           "Öl",
           2898266198
          ],
          [
           128.8,
           4.6,
           "Öl",
           2783737744
          ],
          [
           134.4,
           4.6,
           "Öl",
           2898704408
          ],
          [
           144.1,
           4.7,
           "Öl",
           3040843300
          ],
          [
           152.8,
           4.9,
           "Öl",
           3087676274
          ],
          [
           157.2,
           4.8,
           "Öl",
           3243953372
          ],
          [
           182,
           5.2,
           "Öl",
           3513909732
          ],
          [
           186,
           5.8,
           "Öl",
           3187365744
          ],
          [
           197.6,
           6.3,
           "Öl",
           3137695730
          ],
          [
           215.2,
           6.4,
           "Öl",
           3389077980
          ],
          [
           239.4,
           6.8,
           "Öl",
           3545496254
          ],
          [
           245,
           7,
           "Öl",
           3497439580
          ],
          [
           273.4,
           9,
           "Öl",
           3031514136
          ],
          [
           361,
           10.2,
           "Öl",
           3535341096
          ],
          [
           397.3,
           12.8,
           "Öl",
           3104367654
          ],
          [
           438.3,
           13.5,
           "Öl",
           3251849110
          ],
          [
           485.5,
           13.2,
           "Öl",
           3687775928
          ],
          [
           484.2,
           13.1,
           "Öl",
           3699847110
          ],
          [
           505.5,
           13.6,
           "Öl",
           3723124170
          ],
          [
           506.5,
           13.8,
           "Öl",
           3659659540
          ],
          [
           554.2,
           13.9,
           "Öl",
           3994565344
          ],
          [
           567.6,
           14.3,
           "Öl",
           3957794596
          ],
          [
           621.7,
           14.6,
           "Öl",
           4248478056
          ],
          [
           599.8,
           15.3,
           "Öl",
           3920260910
          ],
          [
           580.5,
           16.6,
           "Öl",
           3506592296
          ],
          [
           556,
           17.6,
           "Öl",
           3166577004
          ],
          [
           607.6,
           18.2,
           "Öl",
           3337304100
          ],
          [
           643.7,
           17.8,
           "Öl",
           3626059100
          ],
          [
           692,
           18.2,
           "Öl",
           3801704320
          ],
          [
           753.5,
           18.1,
           "Öl",
           4166700780
          ],
          [
           846.7,
           19,
           "Öl",
           4453197820
          ],
          [
           822.9,
           19.6,
           "Öl",
           4188897800
          ],
          [
           854.6,
           19.3,
           "Öl",
           4431614560
          ],
          [
           901.1,
           18.6,
           "Öl",
           4850005630
          ],
          [
           912.4,
           18.4,
           "Öl",
           4951765330
          ],
          [
           863.5,
           17.5,
           "Öl",
           4940113140
          ],
          [
           926.6,
           18.4,
           "Öl",
           5036176600
          ],
          [
           1068.8,
           20.8,
           "Öl",
           5135494870
          ],
          [
           1045.9,
           24.5,
           "Öl",
           4262365960
          ],
          [
           1108.5,
           24.3,
           "Öl",
           4568279920
          ],
          [
           1246.6,
           24.4,
           "Öl",
           5117516880
          ],
          [
           1370.7,
           25.4,
           "Öl",
           5391408400
          ],
          [
           1294,
           25.2,
           "Öl",
           5141665630
          ],
          [
           1549.9,
           26.8,
           "Öl",
           5784731820
          ],
          [
           1718.2,
           27.6,
           "Öl",
           6220286130
          ],
          [
           1817.3,
           28.9,
           "Öl",
           6295996000
          ],
          [
           1936.6,
           29.9,
           "Öl",
           6473536940
          ],
          [
           2052.9,
           31.1,
           "Öl",
           6609062130
          ],
          [
           2298.4,
           31.8,
           "Öl",
           7232656100
          ],
          [
           2498.1,
           32.5,
           "Öl",
           7694309700
          ],
          [
           2611.2,
           32.8,
           "Öl",
           7949986150
          ],
          [
           2718.6,
           33.2,
           "Öl",
           8186217400
          ],
          [
           2897.1,
           33.6,
           "Öl",
           8609462200
          ],
          [
           3120.8,
           34.2,
           "Öl",
           9112969170
          ],
          [
           3310.1,
           36.2,
           "Öl",
           9135459600
          ],
          [
           3559.4,
           37.6,
           "Öl",
           9454712050
          ],
          [
           3804.6,
           38.2,
           "Öl",
           9958530600
          ],
          [
           4105.1,
           39.2,
           "Öl",
           10470537900
          ],
          [
           4410,
           40.4,
           "Öl",
           10929188900
          ],
          [
           4759.4,
           41.6,
           "Öl",
           11448842400
          ],
          [
           5075.1,
           43.1,
           "Öl",
           11769495400
          ],
          [
           5528.8,
           44.6,
           "Öl",
           12407603000
          ],
          [
           5979.1,
           45.3,
           "Öl",
           13205426400
          ],
          [
           6799.8,
           47.6,
           "Öl",
           14288777000
          ],
          [
           7201.6,
           48.5,
           "Öl",
           14834626800
          ],
          [
           7765.1,
           50.1,
           "Öl",
           15508282300
          ],
          [
           8223.9,
           50.5,
           "Öl",
           16291008100
          ],
          [
           8106,
           50,
           "Öl",
           16226553800
          ],
          [
           8037.2,
           49.2,
           "Öl",
           16328825900
          ],
          [
           8539.3,
           49.7,
           "Öl",
           17187448600
          ],
          [
           8839.7,
           50,
           "Öl",
           17694576000
          ],
          [
           9156.9,
           50.2,
           "Öl",
           18229981900
          ],
          [
           9273.9,
           49.3,
           "Öl",
           18792532500
          ],
          [
           8949.6,
           47.8,
           "Öl",
           18717596600
          ],
          [
           8548.1,
           46.6,
           "Öl",
           18332771600
          ],
          [
           8342.4,
           45.9,
           "Öl",
           18186220000
          ],
          [
           8257.9,
           45.1,
           "Öl",
           18317348500
          ],
          [
           8325,
           43.8,
           "Öl",
           18987585300
          ],
          [
           8323.2,
           42.4,
           "Öl",
           19647505500
          ],
          [
           8573,
           43,
           "Öl",
           19941039400
          ],
          [
           8644.4,
           42.1,
           "Öl",
           20551283700
          ],
          [
           8962.3,
           42,
           "Öl",
           21323645200
          ],
          [
           9118.1,
           42.1,
           "Öl",
           21651962100
          ],
          [
           9244,
           42.5,
           "Öl",
           21752776400
          ],
          [
           9703.7,
           43.7,
           "Öl",
           22188150600
          ],
          [
           9208.9,
           42.8,
           "Öl",
           21540839500
          ],
          [
           9217.5,
           42.4,
           "Öl",
           21753609600
          ],
          [
           9250.9,
           42.3,
           "Öl",
           21872408100
          ],
          [
           9336.7,
           41.8,
           "Öl",
           22358672800
          ],
          [
           9619.6,
           41.7,
           "Öl",
           23049352000
          ],
          [
           9764.6,
           42.2,
           "Öl",
           23163018000
          ],
          [
           9883.4,
           42.8,
           "Öl",
           23086633000
          ],
          [
           10135.4,
           42.9,
           "Öl",
           23611797300
          ],
          [
           10270.9,
           42.4,
           "Öl",
           24223147600
          ],
          [
           10348.5,
           42.4,
           "Öl",
           24399910000
          ],
          [
           10332.2,
           41.4,
           "Öl",
           24950726000
          ],
          [
           10603.3,
           40.4,
           "Öl",
           26240352700
          ],
          [
           10998.8,
           40.5,
           "Öl",
           27155780600
          ],
          [
           11106,
           39.6,
           "Öl",
           28055949500
          ],
          [
           11221,
           38.7,
           "Öl",
           28972094000
          ],
          [
           11252.8,
           37.8,
           "Öl",
           29797784000
          ],
          [
           11202.1,
           36.9,
           "Öl",
           30330569500
          ],
          [
           10956.5,
           36.8,
           "Öl",
           29785453500
          ],
          [
           11323.3,
           35.9,
           "Öl",
           31505361000
          ],
          [
           11361.4,
           34.9,
           "Öl",
           32511338600
          ],
          [
           11494.4,
           34.9,
           "Öl",
           32951497300
          ],
          [
           11577.9,
           34.9,
           "Öl",
           33167225300
          ],
          [
           11606.4,
           34.9,
           "Öl",
           33255536000
          ],
          [
           11831.7,
           35.6,
           "Öl",
           33266113400
          ],
          [
           11963,
           36,
           "Öl",
           33251731000
          ],
          [
           12149.4,
           36,
           "Öl",
           33790323000
          ],
          [
           12249.2,
           35.5,
           "Öl",
           34465660400
          ],
          [
           12412,
           35.7,
           "Öl",
           34740668000
          ],
          [
           10960.7,
           33.4,
           "Öl",
           32792135000
          ],
          [
           11531,
           33.3,
           "Öl",
           34588553000
          ],
          [
           11909.6,
           34,
           "Öl",
           34988270000
          ],
          [
           12208.8,
           34.4,
           "Öl",
           35510153000
          ]
         ],
         "hovertemplate": "Emissions (MtCO₂)=%{customdata[0]:.2f}<br>Part (%)=%{customdata[1]}<extra></extra>",
         "legendgroup": "Öl",
         "marker": {
          "color": "#00cc96",
          "pattern": {
           "shape": ""
          }
         },
         "name": "Öl",
         "orientation": "v",
         "showlegend": true,
         "textposition": "auto",
         "type": "bar",
         "x": {
          "bdata": "PwdAB0EHQgdDB0QHRQdGB0cHSAdJB0oHSwdMB00HTgdPB1AHUQdSB1MHVAdVB1YHVwdYB1kHWgdbB1wHXQdeB18HYAdhB2IHYwdkB2UHZgdnB2gHaQdqB2sHbAdtB24HbwdwB3EHcgdzB3QHdQd2B3cHeAd5B3oHewd8B30Hfgd/B4AHgQeCB4MHhAeFB4YHhweIB4kHigeLB4wHjQeOB48HkAeRB5IHkweUB5UHlgeXB5gHmQeaB5sHnAedB54HnwegB6EHogejB6QHpQemB6cHqAepB6oHqwesB60HrgevB7AHsQeyB7MHtAe1B7YHtwe4B7kHuge7B7wHvQe+B78HwAfBB8IHwwfEB8UHxgfHB8gHyQfKB8sHzAfNB84HzwfQB9EH0gfTB9QH1QfWB9cH2AfZB9oH2wfcB90H3gffB+AH4QfiB+MH5AflB+YH5wc=",
          "dtype": "i2"
         },
         "xaxis": "x",
         "y": {
          "bdata": "AAAAAADk4UAAAAAAAK7jQAAAAAAADOlAAAAAAABq7kAAAAAAYNXqQAAAAAD0sBBBAAAAALy3LEEAAAAAiVc1QQAAAABHuzNBAAAAAOzvMEEAAAAAiCM0QQAAAACfyD1BAAAAAL1JPkEAAACATnZBQQAAAIAP8kNBAAAAgFHnR0EAAACANQpJQQAAAAAGN0xBAAAAgJmgVUEAAACAsNBXQQAAAIBqQlZBAAAAAKHuWEEAAADgbNRgQQAAAABnJmNBAAAAwC8laEEAAABAq01tQQAAAKBocXBBAAAAQLgPckEAAACgMnlvQQAAAEAdeXFBAAAAYJIUckEAAABg+s90QQAAAMDCZHZBAAAAoBJxd0EAAACgOhd7QQAAAMDJhYBBAAAAYEF4g0EAAACg9SuDQQAAAKChSYRBAAAAQGrig0EAAAAgGSWHQQAAALBNEYlBAAAA8I56ikEAAAAg9UKLQQAAAID8n4xBAAAAoCkMkEEAAACgUtKRQQAAACAQRJNBAAAA4IFmlEEAAABYROiWQQAAACCcIZdBAAAA4KdWl0EAAABQAXmcQQAAAGDhtJ5BAAAAfLUEoEEAAAB4xi2hQQAAAGj9N6JBAAAAYMG8okEAAABIlrGlQQAAAJjtLKZBAAAACI+Np0EAAADErKepQQAAAORDiaxBAAAAnKc1rUEAAAAE8EuwQQAAAHQKhbVBAAAAYuett0EAAACkFyC6QQAAABy48LxBAAAA/ivcvEEAAADcwCG+QQAAAMRHML5BAAAA4OqDwEEAAADcferAQQAAAEBOh8JBAAAAZBPgwUEAAAAgBE3BQQAAACIEksBBAAAAWq8bwkEAAADW3S7DQQAAADqen8RBAAAAxsx0xkEAAAB+tDvJQQAAAF4NhshBAAAAEtB3yUEAAACumNrKQQAAAFYcMctBAAAAsBq8yUEAAAD8d53LQQAAAMBy2s9BAAAAAEcrz0EAAAAaoYTQQQAAAHZDk9JBAAAA255s1EEAAACAYEjTQQAAAPZXGNdBAAAAyYKa2UEAAADuoBTbQQAAAH+h29xBAAAAZUSX3kEAAACPxx/hQQAAAGPUnOJBAAAAXIp040EAAAAVSkHkQQAAAHq8leVBAAAA4XFA50EAAADcf6noQQAAADzthOpBAAAAJJ5Y7EEAAIBj4JXuQQAAgK29bfBBAACAk+268UEAAMA+8ufyQQAAwOCnmPRBAABA3htG9kEAAMCixVT5QQAAAGAB1PpBAACAWmvt/EEAAMAd8qL+QQAAgMJ7Mv5BAAAAtdfw/UEAAIAduc//QQAAwL8bdwBCAADAo1QOAUIAAEAiHkYBQgAAQBSBqwBCAACAXSXY/0EAAAC67xP/QQAAwABOw/5BAAAA9WAD/0EAAEBhpwH/QQAAQN3S7/9BAADAjvUZAEIAAEDojbEAQgAAQGra+wBCAADAuuY3AUIAAEBxEBMCQgAAgIUmJwFCAAAACUIrAUIAAAC+LDsBQgAAwKsZZAFCAAAAI/nqAUIAAMAXIjACQgAAQNnFaAJCAACAIfLgAkIAAADzjCEDQgAAwI2KRgNCAACAl8g+A0IAAMCaCMADQgAAwGmffARCAACAt72vBEIAAIC1l+YEQgAAAC/G9QRCAABAdZTdBEIAAEBoe2gEQgAAwLFcFwVCAAAAI4opBUIAAEC08WgFQgAAQJnBkAVCAADA2FieBUIAAABpxwkGQgAAwCphSAZCAAAAhUqhBkIAAEBU3tAGQgAAwLB8HgdCAABAu3ZqBEIAAABbZXoFQgAAAIzyLgZCAADATaC9BkI=",
          "dtype": "f8"
         },
         "yaxis": "y"
        }
       ],
       "layout": {
        "barmode": "relative",
        "legend": {
         "title": {
          "text": "Ressourcen"
         },
         "tracegroupgap": 0
        },
        "template": {
         "data": {
          "bar": [
           {
            "error_x": {
             "color": "#2a3f5f"
            },
            "error_y": {
             "color": "#2a3f5f"
            },
            "marker": {
             "line": {
              "color": "#E5ECF6",
              "width": 0.5
             },
             "pattern": {
              "fillmode": "overlay",
              "size": 10,
              "solidity": 0.2
             }
            },
            "type": "bar"
           }
          ],
          "barpolar": [
           {
            "marker": {
             "line": {
              "color": "#E5ECF6",
              "width": 0.5
             },
             "pattern": {
              "fillmode": "overlay",
              "size": 10,
              "solidity": 0.2
             }
            },
            "type": "barpolar"
           }
          ],
          "carpet": [
           {
            "aaxis": {
             "endlinecolor": "#2a3f5f",
             "gridcolor": "white",
             "linecolor": "white",
             "minorgridcolor": "white",
             "startlinecolor": "#2a3f5f"
            },
            "baxis": {
             "endlinecolor": "#2a3f5f",
             "gridcolor": "white",
             "linecolor": "white",
             "minorgridcolor": "white",
             "startlinecolor": "#2a3f5f"
            },
            "type": "carpet"
           }
          ],
          "choropleth": [
           {
            "colorbar": {
             "outlinewidth": 0,
             "ticks": ""
            },
            "type": "choropleth"
           }
          ],
          "contour": [
           {
            "colorbar": {
             "outlinewidth": 0,
             "ticks": ""
            },
            "colorscale": [
             [
              0,
              "#0d0887"
             ],
             [
              0.1111111111111111,
              "#46039f"
             ],
             [
              0.2222222222222222,
              "#7201a8"
             ],
             [
              0.3333333333333333,
              "#9c179e"
             ],
             [
              0.4444444444444444,
              "#bd3786"
             ],
             [
              0.5555555555555556,
              "#d8576b"
             ],
             [
              0.6666666666666666,
              "#ed7953"
             ],
             [
              0.7777777777777778,
              "#fb9f3a"
             ],
             [
              0.8888888888888888,
              "#fdca26"
             ],
             [
              1,
              "#f0f921"
             ]
            ],
            "type": "contour"
           }
          ],
          "contourcarpet": [
           {
            "colorbar": {
             "outlinewidth": 0,
             "ticks": ""
            },
            "type": "contourcarpet"
           }
          ],
          "heatmap": [
           {
            "colorbar": {
             "outlinewidth": 0,
             "ticks": ""
            },
            "colorscale": [
             [
              0,
              "#0d0887"
             ],
             [
              0.1111111111111111,
              "#46039f"
             ],
             [
              0.2222222222222222,
              "#7201a8"
             ],
             [
              0.3333333333333333,
              "#9c179e"
             ],
             [
              0.4444444444444444,
              "#bd3786"
             ],
             [
              0.5555555555555556,
              "#d8576b"
             ],
             [
              0.6666666666666666,
              "#ed7953"
             ],
             [
              0.7777777777777778,
              "#fb9f3a"
             ],
             [
              0.8888888888888888,
              "#fdca26"
             ],
             [
              1,
              "#f0f921"
             ]
            ],
            "type": "heatmap"
           }
          ],
          "histogram": [
           {
            "marker": {
             "pattern": {
              "fillmode": "overlay",
              "size": 10,
              "solidity": 0.2
             }
            },
            "type": "histogram"
           }
          ],
          "histogram2d": [
           {
            "colorbar": {
             "outlinewidth": 0,
             "ticks": ""
            },
            "colorscale": [
             [
              0,
              "#0d0887"
             ],
             [
              0.1111111111111111,
              "#46039f"
             ],
             [
              0.2222222222222222,
              "#7201a8"
             ],
             [
              0.3333333333333333,
              "#9c179e"
             ],
             [
              0.4444444444444444,
              "#bd3786"
             ],
             [
              0.5555555555555556,
              "#d8576b"
             ],
             [
              0.6666666666666666,
              "#ed7953"
             ],
             [
              0.7777777777777778,
              "#fb9f3a"
             ],
             [
              0.8888888888888888,
              "#fdca26"
             ],
             [
              1,
              "#f0f921"
             ]
            ],
            "type": "histogram2d"
           }
          ],
          "histogram2dcontour": [
           {
            "colorbar": {
             "outlinewidth": 0,
             "ticks": ""
            },
            "colorscale": [
             [
              0,
              "#0d0887"
             ],
             [
              0.1111111111111111,
              "#46039f"
             ],
             [
              0.2222222222222222,
              "#7201a8"
             ],
             [
              0.3333333333333333,
              "#9c179e"
             ],
             [
              0.4444444444444444,
              "#bd3786"
             ],
             [
              0.5555555555555556,
              "#d8576b"
             ],
             [
              0.6666666666666666,
              "#ed7953"
             ],
             [
              0.7777777777777778,
              "#fb9f3a"
             ],
             [
              0.8888888888888888,
              "#fdca26"
             ],
             [
              1,
              "#f0f921"
             ]
            ],
            "type": "histogram2dcontour"
           }
          ],
          "mesh3d": [
           {
            "colorbar": {
             "outlinewidth": 0,
             "ticks": ""
            },
            "type": "mesh3d"
           }
          ],
          "parcoords": [
           {
            "line": {
             "colorbar": {
              "outlinewidth": 0,
              "ticks": ""
             }
            },
            "type": "parcoords"
           }
          ],
          "pie": [
           {
            "automargin": true,
            "type": "pie"
           }
          ],
          "scatter": [
           {
            "fillpattern": {
             "fillmode": "overlay",
             "size": 10,
             "solidity": 0.2
            },
            "type": "scatter"
           }
          ],
          "scatter3d": [
           {
            "line": {
             "colorbar": {
              "outlinewidth": 0,
              "ticks": ""
             }
            },
            "marker": {
             "colorbar": {
              "outlinewidth": 0,
              "ticks": ""
             }
            },
            "type": "scatter3d"
           }
          ],
          "scattercarpet": [
           {
            "marker": {
             "colorbar": {
              "outlinewidth": 0,
              "ticks": ""
             }
            },
            "type": "scattercarpet"
           }
          ],
          "scattergeo": [
           {
            "marker": {
             "colorbar": {
              "outlinewidth": 0,
              "ticks": ""
             }
            },
            "type": "scattergeo"
           }
          ],
          "scattergl": [
           {
            "marker": {
             "colorbar": {
              "outlinewidth": 0,
              "ticks": ""
             }
            },
            "type": "scattergl"
           }
          ],
          "scattermap": [
           {
            "marker": {
             "colorbar": {
              "outlinewidth": 0,
              "ticks": ""
             }
            },
            "type": "scattermap"
           }
          ],
          "scattermapbox": [
           {
            "marker": {
             "colorbar": {
              "outlinewidth": 0,
              "ticks": ""
             }
            },
            "type": "scattermapbox"
           }
          ],
          "scatterpolar": [
           {
            "marker": {
             "colorbar": {
              "outlinewidth": 0,
              "ticks": ""
             }
            },
            "type": "scatterpolar"
           }
          ],
          "scatterpolargl": [
           {
            "marker": {
             "colorbar": {
              "outlinewidth": 0,
              "ticks": ""
             }
            },
            "type": "scatterpolargl"
           }
          ],
          "scatterternary": [
           {
            "marker": {
             "colorbar": {
              "outlinewidth": 0,
              "ticks": ""
             }
            },
            "type": "scatterternary"
           }
          ],
          "surface": [
           {
            "colorbar": {
             "outlinewidth": 0,
             "ticks": ""
            },
            "colorscale": [
             [
              0,
              "#0d0887"
             ],
             [
              0.1111111111111111,
              "#46039f"
             ],
             [
              0.2222222222222222,
              "#7201a8"
             ],
             [
              0.3333333333333333,
              "#9c179e"
             ],
             [
              0.4444444444444444,
              "#bd3786"
             ],
             [
              0.5555555555555556,
              "#d8576b"
             ],
             [
              0.6666666666666666,
              "#ed7953"
             ],
             [
              0.7777777777777778,
              "#fb9f3a"
             ],
             [
              0.8888888888888888,
              "#fdca26"
             ],
             [
              1,
              "#f0f921"
             ]
            ],
            "type": "surface"
           }
          ],
          "table": [
           {
            "cells": {
             "fill": {
              "color": "#EBF0F8"
             },
             "line": {
              "color": "white"
             }
            },
            "header": {
             "fill": {
              "color": "#C8D4E3"
             },
             "line": {
              "color": "white"
             }
            },
            "type": "table"
           }
          ]
         },
         "layout": {
          "annotationdefaults": {
           "arrowcolor": "#2a3f5f",
           "arrowhead": 0,
           "arrowwidth": 1
          },
          "autotypenumbers": "strict",
          "coloraxis": {
           "colorbar": {
            "outlinewidth": 0,
            "ticks": ""
           }
          },
          "colorscale": {
           "diverging": [
            [
             0,
             "#8e0152"
            ],
            [
             0.1,
             "#c51b7d"
            ],
            [
             0.2,
             "#de77ae"
            ],
            [
             0.3,
             "#f1b6da"
            ],
            [
             0.4,
             "#fde0ef"
            ],
            [
             0.5,
             "#f7f7f7"
            ],
            [
             0.6,
             "#e6f5d0"
            ],
            [
             0.7,
             "#b8e186"
            ],
            [
             0.8,
             "#7fbc41"
            ],
            [
             0.9,
             "#4d9221"
            ],
            [
             1,
             "#276419"
            ]
           ],
           "sequential": [
            [
             0,
             "#0d0887"
            ],
            [
             0.1111111111111111,
             "#46039f"
            ],
            [
             0.2222222222222222,
             "#7201a8"
            ],
            [
             0.3333333333333333,
             "#9c179e"
            ],
            [
             0.4444444444444444,
             "#bd3786"
            ],
            [
             0.5555555555555556,
             "#d8576b"
            ],
            [
             0.6666666666666666,
             "#ed7953"
            ],
            [
             0.7777777777777778,
             "#fb9f3a"
            ],
            [
             0.8888888888888888,
             "#fdca26"
            ],
            [
             1,
             "#f0f921"
            ]
           ],
           "sequentialminus": [
            [
             0,
             "#0d0887"
            ],
            [
             0.1111111111111111,
             "#46039f"
            ],
            [
             0.2222222222222222,
             "#7201a8"
            ],
            [
             0.3333333333333333,
             "#9c179e"
            ],
            [
             0.4444444444444444,
             "#bd3786"
            ],
            [
             0.5555555555555556,
             "#d8576b"
            ],
            [
             0.6666666666666666,
             "#ed7953"
            ],
            [
             0.7777777777777778,
             "#fb9f3a"
            ],
            [
             0.8888888888888888,
             "#fdca26"
            ],
            [
             1,
             "#f0f921"
            ]
           ]
          },
          "colorway": [
           "#636efa",
           "#EF553B",
           "#00cc96",
           "#ab63fa",
           "#FFA15A",
           "#19d3f3",
           "#FF6692",
           "#B6E880",
           "#FF97FF",
           "#FECB52"
          ],
          "font": {
           "color": "#2a3f5f"
          },
          "geo": {
           "bgcolor": "white",
           "lakecolor": "white",
           "landcolor": "#E5ECF6",
           "showlakes": true,
           "showland": true,
           "subunitcolor": "white"
          },
          "hoverlabel": {
           "align": "left"
          },
          "hovermode": "closest",
          "mapbox": {
           "style": "light"
          },
          "paper_bgcolor": "white",
          "plot_bgcolor": "#E5ECF6",
          "polar": {
           "angularaxis": {
            "gridcolor": "white",
            "linecolor": "white",
            "ticks": ""
           },
           "bgcolor": "#E5ECF6",
           "radialaxis": {
            "gridcolor": "white",
            "linecolor": "white",
            "ticks": ""
           }
          },
          "scene": {
           "xaxis": {
            "backgroundcolor": "#E5ECF6",
            "gridcolor": "white",
            "gridwidth": 2,
            "linecolor": "white",
            "showbackground": true,
            "ticks": "",
            "zerolinecolor": "white"
           },
           "yaxis": {
            "backgroundcolor": "#E5ECF6",
            "gridcolor": "white",
            "gridwidth": 2,
            "linecolor": "white",
            "showbackground": true,
            "ticks": "",
            "zerolinecolor": "white"
           },
           "zaxis": {
            "backgroundcolor": "#E5ECF6",
            "gridcolor": "white",
            "gridwidth": 2,
            "linecolor": "white",
            "showbackground": true,
            "ticks": "",
            "zerolinecolor": "white"
           }
          },
          "shapedefaults": {
           "line": {
            "color": "#2a3f5f"
           }
          },
          "ternary": {
           "aaxis": {
            "gridcolor": "white",
            "linecolor": "white",
            "ticks": ""
           },
           "baxis": {
            "gridcolor": "white",
            "linecolor": "white",
            "ticks": ""
           },
           "bgcolor": "#E5ECF6",
           "caxis": {
            "gridcolor": "white",
            "linecolor": "white",
            "ticks": ""
           }
          },
          "title": {
           "x": 0.05
          },
          "xaxis": {
           "automargin": true,
           "gridcolor": "white",
           "linecolor": "white",
           "ticks": "",
           "title": {
            "standoff": 15
           },
           "zerolinecolor": "white",
           "zerolinewidth": 2
          },
          "yaxis": {
           "automargin": true,
           "gridcolor": "white",
           "linecolor": "white",
           "ticks": "",
           "title": {
            "standoff": 15
           },
           "zerolinecolor": "white",
           "zerolinewidth": 2
          }
         }
        },
        "title": {
         "text": "Weltweite CO₂-Emissionen nach Energiequelle"
        },
        "xaxis": {
         "anchor": "y",
         "domain": [
          0,
          1
         ],
         "range": [
          1900,
          2025
         ],
         "title": {
          "text": "Jahr"
         }
        },
        "yaxis": {
         "anchor": "x",
         "domain": [
          0,
          1
         ],
         "title": {
          "text": "Emissionen in Milliarden Tonnen"
         }
        }
       }
      }
     },
     "metadata": {},
     "output_type": "display_data"
    }
   ],
   "source": [
    "fig = px.bar(\n",
    "    df_welt,\n",
    "    x='Year',\n",
    "    y='Emissions',\n",
    "    color='Source',\n",
    "    title='Weltweite CO₂-Emissionen nach Energiequelle',\n",
    "    hover_data= {\n",
    "        'Emissions (Mt)': ':.2f',\n",
    "        'Part (%)': True,\n",
    "        'Year': False,\n",
    "        'Source': False,\n",
    "        'Total': False,\n",
    "        'Emissions': False\n",
    "    },\n",
    "    labels= {  \n",
    "         'Year': 'Jahr',\n",
    "        'Emissions': 'Emissionen',\n",
    "        'Emissions (Mt)': 'Emissionen (MtCO₂)',\n",
    "        'Emissions (Mt)': 'Emissions (MtCO₂)',\n",
    "        'Anteil (%)': '% vom total'}\n",
    ")\n",
    "fig.update_layout(xaxis_range =[1900, 2025],\n",
    "                  legend_title = 'Ressourcen',\n",
    "                  xaxis_title= 'Jahr',\n",
    "                  yaxis_title= 'Emissionen in Milliarden Tonnen')\n",
    "fig.show()\n"
   ]
  },
  {
   "cell_type": "markdown",
   "id": "5d7b34a4",
   "metadata": {},
   "source": [
    "### 3. 10 groessten kumulative Verbraucher"
   ]
  },
  {
   "cell_type": "code",
   "execution_count": 11,
   "id": "83c062cf",
   "metadata": {},
   "outputs": [],
   "source": [
    "\n",
    "lander_ohne_regionen = exclude_entities(co2_emissions, ['all'])"
   ]
  },
  {
   "cell_type": "code",
   "execution_count": 12,
   "id": "9a8dbbea",
   "metadata": {},
   "outputs": [
    {
     "name": "stderr",
     "output_type": "stream",
     "text": [
      "C:\\Users\\Anwender\\AppData\\Local\\Temp\\ipykernel_28564\\1093656630.py:13: SettingWithCopyWarning:\n",
      "\n",
      "\n",
      "A value is trying to be set on a copy of a slice from a DataFrame.\n",
      "Try using .loc[row_indexer,col_indexer] = value instead\n",
      "\n",
      "See the caveats in the documentation: https://pandas.pydata.org/pandas-docs/stable/user_guide/indexing.html#returning-a-view-versus-a-copy\n",
      "\n",
      "C:\\Users\\Anwender\\AppData\\Local\\Temp\\ipykernel_28564\\1093656630.py:14: SettingWithCopyWarning:\n",
      "\n",
      "\n",
      "A value is trying to be set on a copy of a slice from a DataFrame.\n",
      "Try using .loc[row_indexer,col_indexer] = value instead\n",
      "\n",
      "See the caveats in the documentation: https://pandas.pydata.org/pandas-docs/stable/user_guide/indexing.html#returning-a-view-versus-a-copy\n",
      "\n"
     ]
    }
   ],
   "source": [
    "top_laender = (\n",
    "    lander_ohne_regionen\n",
    "    .groupby('Entity')['Co2_emissions']\n",
    "    .sum()\n",
    "    .sort_values(ascending=False)\n",
    "    .head(11)\n",
    "    .index\n",
    ")\n",
    "top_laender\n",
    "\n",
    "df_top10 = lander_ohne_regionen[lander_ohne_regionen['Entity'].isin(top_laender)]\n",
    "\n",
    "df_top10['Total'] = df_top10.groupby('Year')['Co2_emissions'].transform('sum')\n",
    "df_top10['Part (%)'] = (df_top10['Co2_emissions'] / df_top10['Total'] * 100).round(1)\n",
    "\n"
   ]
  },
  {
   "cell_type": "code",
   "execution_count": 52,
   "id": "a9297e49",
   "metadata": {},
   "outputs": [
    {
     "data": {
      "application/vnd.plotly.v1+json": {
       "config": {
        "plotlyServerURL": "https://plot.ly"
       },
       "data": [
        {
         "customdata": {
          "bdata": "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",
          "dtype": "f8",
          "shape": "239, 2"
         },
         "hovertemplate": "Entity=Canada<br>Year=%{x}<br>Co2_emissions=%{y}<br>Part (%)=%{customdata[0]}<extra></extra>",
         "legendgroup": "Canada",
         "marker": {
          "color": "#636efa",
          "pattern": {
           "shape": ""
          }
         },
         "name": "Canada",
         "orientation": "v",
         "showlegend": true,
         "textposition": "auto",
         "type": "bar",
         "x": {
          "bdata": "+Qb6BvsG/Ab9Bv4G/wYABwEHAgcDBwQHBQcGBwcHCAcJBwoHCwcMBw0HDgcPBxAHEQcSBxMHFAcVBxYHFwcYBxkHGgcbBxwHHQceBx8HIAchByIHIwckByUHJgcnBygHKQcqBysHLActBy4HLwcwBzEHMgczBzQHNQc2BzcHOAc5BzoHOwc8Bz0HPgc/B0AHQQdCB0MHRAdFB0YHRwdIB0kHSgdLB0wHTQdOB08HUAdRB1IHUwdUB1UHVgdXB1gHWQdaB1sHXAddB14HXwdgB2EHYgdjB2QHZQdmB2cHaAdpB2oHawdsB20HbgdvB3AHcQdyB3MHdAd1B3YHdwd4B3kHegd7B3wHfQd+B38HgAeBB4IHgweEB4UHhgeHB4gHiQeKB4sHjAeNB44HjweQB5EHkgeTB5QHlQeWB5cHmAeZB5oHmwecB50HngefB6AHoQeiB6MHpAelB6YHpweoB6kHqgerB6wHrQeuB68HsAexB7IHswe0B7UHtge3B7gHuQe6B7sHvAe9B74HvwfAB8EHwgfDB8QHxQfGB8cHyAfJB8oHywfMB80HzgfPB9AH0QfSB9MH1AfVB9YH1wfYB9kH2gfbB9wH3QfeB98H4AfhB+IH4wfkB+UH5gfnBw==",
          "dtype": "i2"
         },
         "xaxis": "x",
         "y": {
          "bdata": "AAAAAACgrEAAAAAAAKCsQAAAAAAAoKxAAAAAAACgrEAAAAAAAKCsQAAAAAAAoKxAAAAAAACgrEAAAAAAAKCsQAAAAAAAoKxAAAAAAACgrEAAAAAAAKCsQAAAAAAAoKxAAAAAAACgrEAAAAAAAKCsQAAAAAAAoKxAAAAAAACgrEAAAAAAAKCsQAAAAAAAoKxAAAAAAACgrEAAAAAAAKCsQAAAAAAAoKxAAAAAAACgrEAAAAAAAKCsQAAAAAAAoKxAAAAAAACgrEAAAAAAAKCsQAAAAAAAoKxAAAAAAACgrEAAAAAAAKCsQAAAAAAAoKxAAAAAAACgrEAAAAAAAKCsQAAAAAAAoKxAAAAAAACgrEAAAAAAAKCsQAAAAAAAoKxAAAAAAACgrEAAAAAAAKCsQAAAAAAAoKxAAAAAAACgrEAAAAAAAKCsQAAAAAAAoKxAAAAAAACgrEAAAAAAAKCsQAAAAAAAoKxAAAAAAACgrEAAAAAAAKCsQAAAAAAAoKxAAAAAAACgrEAAAAAAAKCsQAAAAAAAoKxAAAAAAACgrEAAAAAAAKCsQAAAAAAAoKxAAAAAAACgrEAAAAAAAKCsQAAAAAAAoKxAAAAAAACgrEAAAAAAAKCsQAAAAAAAoKxAAAAAAACgrEAAAAAAAAzZQAAAAAAAGuBAAAAAAACu40AAAAAAAELnQAAAAAAAoOxAAAAAAAD/8EAAAAAAAJP0QAAAAAAADPlAAAAAAABq/kAAAAAAgFYCQQAAAACA6gVBAAAAAIBjCkEAAAAAABoQQQAAAACAOxNBAAAAAABCF0EAAAAAQPQbQQAAAACgGyFBAAAAAAB4JUEAAAAAwLcpQQAAAADAFS9BAAAAAPDzMkEAAAAA8FE4QQAAAABA2SxBAAAAAODoJEEAAAAAYKwyQQAAAADgKztBAAAAAIAtPEEAAAAAMIs4QQAAAABwxDhBAAAAAACgPEEAAAAAcFg8QWZmZuZ/3D5BAAAAAACFPUEAAAAAIKlAQQAAAACQ9VNBAAAAADhUVUEAAAAAGD5ZQQAAAABwWFxBAAAAAO5mYEEAAAAgyHJfQQAAAACKx2BBAAAAALRbY0EAAAAAqmNpQQAAAADkiWVBAAAAAFitZ0EAAAAAYpdqQQAAAABWfmpBAAAAANxUbEEAAAAArAtrQQAAAAACz2lBAAAAAKzwa0EAAAAABjpsQQAAAAC29W1BAAAAADBIckEAAAAANqxzQQAAAACcvXZBAAAAALh1eEEAAAAAK6p6QQAAAABNkH9BAAAA8LDfgEEAAAAA5tOBQQAAAIAuaIZBAAAAgCubhkEAAACQR6SFQQAAAICGnYhBAAAAgBK9jEEAAAAA5gmQQQAAAHj35pJBAAAAuKhNkEEAAAAAZCSNQQAAAMiLOpJBAAAAQNFSlEEAAAAIzFeVQQAAAMguJJJBAAAAUAoelEEAAABwUTCTQQAAAFAzgJBBAAAASCErlkEAAAAAIHOSQQAAAEi/8JFBAAAACBM1lEEAAABQMu+VQQAAAACsW5ZBAAAAiFCcl0EAAABwh36WQQAAAKB4FZJBAAAAIBK9kEEAAADY4JCQQQAAAACFDZNBAAAAmE/JkkEAAACY+oqUQQAAAAjASZZBAAAA0ClllEEAAAAAk6aWQQAAACi/5ZlBAAAAgHylnEEAAACIVECfQQAAAHhSdaBBAAAAQOO8oEEAAAAgXR6fQQAAAPhOgKBBAAAAqLscoUEAAACAPOWiQQAAAJi3SaFBAAAAAMpfokEAAAAcimSjQQAAANzEAKNBAAAAaF8lo0EAAADYYG2jQQAAACTpM6RBAAAAfE+gpkEAAAA49sqlQQAAAIDvtqVBAAAAoOz9pUEAAAAoO/mmQQAAAGRuIKdBAAAAZNusqEEAAAB4fCSpQQAAAARMUqxBAAAAkOUHrkEAAACEUuKuQQAAAJxwybBBAAAAnGYTskEAAABgRE6yQQAAAHDzVbRBAAAAvHr/tEEAAACAa7K2QQAAAFzEubZBAAAAIhU5t0EAAABcfKa3QQAAAECux7dBAAAAXmNOuEEAAADedsS4QQAAAOJzU7pBAAAAgk5lukEAAAAioZu5QQAAAHQUtLhBAAAARMBWuEEAAAC8i1i5QQAAAKzqIrlBAAAAZFofuEEAAACiQ7C5QQAAAGz1KLtBAAAAHhGXu0EAAAC0wEy7QQAAAOK7zrpBAAAAJGagu0EAAAAAhaq7QQAAAKBSh7xBAAAAnGBKvUEAAAAeU0O+QQAAACBsHb9BAAAAnJmRv0EAAACAXTXAQQAAAEw74MBBAAAAwfOjwEEAAAA66MzAQQAAAEEYT8FBAAAAP6lCwUEAAAAIiRLBQQAAAGHR7sBBAAAAgMCjwUEAAACWxijBQQAAAD9RLcBBAAAAbkmIwEEAAAAoy8nAQQAAAIiq0MBBAAAAlAL0wEEAAAB+0OHAQQAAAKKF28BBAAAAGNqnwEEAAAC+ufnAQQAAAGEFQsFBAAAAgH9YwUEAAABg/2K/QQAAABhAGsBBAAAAYdVowEEAAACc0V7AQQ==",
          "dtype": "f8"
         },
         "yaxis": "y"
        },
        {
         "customdata": {
          "bdata": "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",
          "dtype": "f8",
          "shape": "117, 2"
         },
         "hovertemplate": "Entity=China<br>Year=%{x}<br>Co2_emissions=%{y}<br>Part (%)=%{customdata[0]}<extra></extra>",
         "legendgroup": "China",
         "marker": {
          "color": "#EF553B",
          "pattern": {
           "shape": ""
          }
         },
         "name": "China",
         "orientation": "v",
         "showlegend": true,
         "textposition": "auto",
         "type": "bar",
         "x": {
          "bdata": "cwd0B3UHdgd3B3gHeQd6B3sHfAd9B34HfweAB4EHggeDB4QHhQeGB4cHiAeJB4oHiweMB40HjgePB5AHkQeSB5MHlAeVB5YHlweYB5kHmgebB5wHnQeeB58HoAehB6IHowekB6UHpgenB6gHqQeqB6sHrAetB64HrwewB7EHsgezB7QHtQe2B7cHuAe5B7oHuwe8B70Hvge/B8AHwQfCB8MHxAfFB8YHxwfIB8kHygfLB8wHzQfOB88H0AfRB9IH0wfUB9UH1gfXB9gH2QfaB9sH3AfdB94H3wfgB+EH4gfjB+QH5QfmB+cH",
          "dtype": "i2"
         },
         "xaxis": "x",
         "y": {
          "bdata": "AAAAAOf4ckEAAADgvq51QQAAAIDLIHdBAAAA4NHZd0EAAACgTn13QQAAACCCPXBBAAAAgMsgd0EAAAAADXt5QQAAACAyPnhBAAAAICC8fEEAAACAOYp+QQAAAOCxkYBBAAAAgFcegkEAAADAzTSDQQAAAGDHe4JBAAAAIFYPg0EAAACgaS6GQQAAACCoSodBAAAAwLjphUEAAAAgnNGEQQAAACDe14VBAAAAoICxhkEAAAAgxwWHQQAAAMCdoYdBAAAAoATAiEEAAADwXviHQQAAAGBezYlBAAAAIBG/jUEAAABI9VGRQQAAAAjE/pFBAAAAKJXrkEEAAACA6EKNQQAAALipvpFBAAAACGqllUEAAAAosyybQQAAACDnbJ5BAAAAsH/8mUEAAADI1o6YQQAAAJDHpopBAAAAUJk3gUEAAABA8/KDQQAAAECDT4JBAAAAYEKajUEAAABoucuSQQAAACieWJhBAAAAiHWEnkEAAACAdeWfQQAAALCWLaNBAAAA6EC2pkEAAADYbLqpQQAAAADwfa5BAAAAZAVFv0EAAAD/UXbFQQAAACJczsdBAAAAHJABwUEAAAAgN2W7QQAAAMTmObtBAAAArMN0u0EAAACiw9G9QQAAAJ4KYMBBAAAAbH1uu0EAAACA1Ii9QQAAAHJBHMJBAAAAgDAUyEEAAAAyuBjLQQAAAOEt3sxBAAAAfKkMzkEAAACAx6POQQAAAGabodFBAAAA9GxG0kEAAABf3frTQQAAAOt+PtZBAAAAhO+71kEAAACnDEXWQQAAAJ5aANZBAAAAqqLw10EAAACY7D7ZQQAAANh1fdtBAAAA7hTG3UEAAADm71rfQQAAgGBL0uBBAAAAXAYT4kEAAABADFviQQAAAAJ8g+JBAACA3Ltq40EAAABikFjkQQAAAGebxOVBAAAAj+kf50EAAABR0AvpQQAAACOKJOpBAAAAu3Yx6kEAAID9cBHpQQAAAH32gOpBAACA4Fgw60EAAIBgkcfrQQAAAKDwke5BAADAvtkI8kEAAIBVp2/zQQAAACKd6fVBAAAA4nkx+EEAAICgBwT6QQAAQD388ftBAAAAt4Rl/UEAAABonA4AQgAAAL9ewQFCAAAAOyE3AkIAAEAxjIsCQgAAQMu5mwJCAABAR0NfAkIAAICMOS8CQgAAwGplowJCAABAryc/A0IAAABg0/QDQgAAQFo9UARCAABAUcpSBUIAAIC4WyQFQgAAwEKOKwZC",
          "dtype": "f8"
         },
         "yaxis": "y"
        },
        {
         "customdata": {
          "bdata": "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",
          "dtype": "f8",
          "shape": "216, 2"
         },
         "hovertemplate": "Entity=France<br>Year=%{x}<br>Co2_emissions=%{y}<br>Part (%)=%{customdata[0]}<extra></extra>",
         "legendgroup": "France",
         "marker": {
          "color": "#00cc96",
          "pattern": {
           "shape": ""
          }
         },
         "name": "France",
         "orientation": "v",
         "showlegend": true,
         "textposition": "auto",
         "type": "bar",
         "x": {
          "bdata": "CgcMBxIHEwcUBxUHFgcXBxgHGQcaBxsHHAcdBx4HHwcgByEHIgcjByQHJQcmBycHKAcpByoHKwcsBy0HLgcvBzAHMQcyBzMHNAc1BzYHNwc4BzkHOgc7BzwHPQc+Bz8HQAdBB0IHQwdEB0UHRgdHB0gHSQdKB0sHTAdNB04HTwdQB1EHUgdTB1QHVQdWB1cHWAdZB1oHWwdcB10HXgdfB2AHYQdiB2MHZAdlB2YHZwdoB2kHagdrB2wHbQduB28HcAdxB3IHcwd0B3UHdgd3B3gHeQd6B3sHfAd9B34HfweAB4EHggeDB4QHhQeGB4cHiAeJB4oHiweMB40HjgePB5AHkQeSB5MHlAeVB5YHlweYB5kHmgebB5wHnQeeB58HoAehB6IHowekB6UHpgenB6gHqQeqB6sHrAetB64HrwewB7EHsgezB7QHtQe2B7cHuAe5B7oHuwe8B70Hvge/B8AHwQfCB8MHxAfFB8YHxwfIB8kHygfLB8wHzQfOB88H0AfRB9IH0wfUB9UH1gfXB9gH2QfaB9sH3AfdB94H3wfgB+EH4gfjB+QH5QfmB+cH",
          "dtype": "i2"
         },
         "xaxis": "x",
         "y": {
          "bdata": "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",
          "dtype": "f8"
         },
         "yaxis": "y"
        },
        {
         "customdata": {
          "bdata": "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",
          "dtype": "f8",
          "shape": "232, 2"
         },
         "hovertemplate": "Entity=Germany<br>Year=%{x}<br>Co2_emissions=%{y}<br>Part (%)=%{customdata[0]}<extra></extra>",
         "legendgroup": "Germany",
         "marker": {
          "color": "#ab63fa",
          "pattern": {
           "shape": ""
          }
         },
         "name": "Germany",
         "orientation": "v",
         "showlegend": true,
         "textposition": "auto",
         "type": "bar",
         "x": {
          "bdata": "AAcBBwIHAwcEBwUHBgcHBwgHCQcKBwsHDAcNBw4HDwcQBxEHEgcTBxQHFQcWBxcHGAcZBxoHGwccBx0HHgcfByAHIQciByMHJAclByYHJwcoBykHKgcrBywHLQcuBy8HMAcxBzIHMwc0BzUHNgc3BzgHOQc6BzsHPAc9Bz4HPwdAB0EHQgdDB0QHRQdGB0cHSAdJB0oHSwdMB00HTgdPB1AHUQdSB1MHVAdVB1YHVwdYB1kHWgdbB1wHXQdeB18HYAdhB2IHYwdkB2UHZgdnB2gHaQdqB2sHbAdtB24HbwdwB3EHcgdzB3QHdQd2B3cHeAd5B3oHewd8B30Hfgd/B4AHgQeCB4MHhAeFB4YHhweIB4kHigeLB4wHjQeOB48HkAeRB5IHkweUB5UHlgeXB5gHmQeaB5sHnAedB54HnwegB6EHogejB6QHpQemB6cHqAepB6oHqwesB60HrgevB7AHsQeyB7MHtAe1B7YHtwe4B7kHuge7B7wHvQe+B78HwAfBB8IHwwfEB8UHxgfHB8gHyQfKB8sHzAfNB84HzwfQB9EH0gfTB9QH1QfWB9cH2AfZB9oH2wfcB90H3gffB+AH4QfiB+MH5AflB+YH5wc=",
          "dtype": "i2"
         },
         "xaxis": "x",
         "y": {
          "bdata": "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",
          "dtype": "f8"
         },
         "yaxis": "y"
        },
        {
         "customdata": {
          "bdata": "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",
          "dtype": "f8",
          "shape": "155, 2"
         },
         "hovertemplate": "Entity=India<br>Year=%{x}<br>Co2_emissions=%{y}<br>Part (%)=%{customdata[0]}<extra></extra>",
         "legendgroup": "India",
         "marker": {
          "color": "#FFA15A",
          "pattern": {
           "shape": ""
          }
         },
         "name": "India",
         "orientation": "v",
         "showlegend": true,
         "textposition": "auto",
         "type": "bar",
         "x": {
          "bdata": "QgdDB0QHRQdGB0cHSAdJB0oHVgdXB1gHWQdaB1sHXAddB14HXwdgB2EHYgdjB2QHZQdmB2cHaAdpB2oHawdsB20HbgdvB3AHcQdyB3MHdAd1B3YHdwd4B3kHegd7B3wHfQd+B38HgAeBB4IHgweEB4UHhgeHB4gHiQeKB4sHjAeNB44HjweQB5EHkgeTB5QHlQeWB5cHmAeZB5oHmwecB50HngefB6AHoQeiB6MHpAelB6YHpweoB6kHqgerB6wHrQeuB68HsAexB7IHswe0B7UHtge3B7gHuQe6B7sHvAe9B74HvwfAB8EHwgfDB8QHxQfGB8cHyAfJB8oHywfMB80HzgfPB9AH0QfSB9MH1AfVB9YH1wfYB9kH2gfbB9wH3QfeB98H4AfhB+IH4wfkB+UH5gfnBw==",
          "dtype": "i2"
         },
         "xaxis": "x",
         "y": {
          "bdata": "AAAAAOATGEEAAAAAimwjQQAAAABWoCNBAAAAAJhZHkEAAAAALMsgQQAAAABanSJBAAAAAFyaIUEAAAAAqkwhQQAAAABwhiNBAAAAAPz1OkEAAAAAnrM5QQAAAAA1yjxBAAAAAOUQPEEAAACAosFAQQAAAABln0JBAAAAAA7UREEAAACAhMNCQQAAAIAuJkVBAAAAgE9kR0EAAAAASANKQZqZmZkhr05BAAAAQM3nUEEAAADAkDRSQQAAAIBOBFRBAAAAQEUlVUEAAAAAEG1VQQAAAIDT1VpBAAAAgLYFXUEAAABA73tfQQAAACCoZ2FBAAAAwGktY0EAAAAg+8BmQQAAAKBjI2lBAAAAwJuva0EAAAAgmTtsQQAAAOBtlm9BAAAAAHolcEEAAACAzqRyQQAAAACHw3RBAAAAIB3Bd0EAAACgMwZ3QQAAAEA1ZnZBAAAA4Gaid0EAAABgPjN7QQAAAIBQAn5BAAAAAM46fkEAAACAPZt/QQAAACD89n9BAAAA0N+ygEEAAABwmsSCQQAAAEDxfYRBAAAAQFiggEEAAACAT+KBQQAAAFDOmIFBAAAAkD0bgkEAAABwd1+DQQAAABAuHYNBAAAAoM0Lg0EAAABgxPiDQQAAAAC4G4NBAAAAIEvjg0EAAABAuDeEQQAAAICOhoJBAAAAIFY6gUEAAABggumAQQAAALBU44JBAAAAgOG8g0EAAAAAXmaDQQAAAKBgfYVBAAAAQNwFiEEAAAAAj4OHQQAAANBw8YhBAAAAYKmMiUEAAAAAXoaJQQAAAEDmPYZBAAAAoEO+hkEAAACgWTaJQQAAAEAf54hBAAAAwLtbiUEAAACAo16JQQAAAADeyopBAAAAAM8ijUEAAAAgM4eOQQAAAHBdE5BBAAAA4GhhkEEAAADgxkORQQAAAHDSyJJBAAAAyOh3k0EAAABY+tiVQQAAAKAh2JZBAAAAYNkvmEEAAADovYqaQQAAALjktJxBAAAAoCKcn0EAAADYDPugQQAAABzYoKBBAAAAaJxSokEAAACcsP+iQQAAANhBBaNBAAAApCzApEEAAADgOSalQQAAACC8qaVBAAAAQETipkEAAACYKjSoQQAAAAAT7ahBAAAA+FC7qUEAAADAfuurQQAAAIgoLa1BAAAAhOLerkEAAAAEsF6vQQAAAETFd7BBAAAAfChjsUEAAACkAMayQQAAAKDnZLNBAAAAwiD+tEEAAACk9Yy1QQAAACTGsrdBAAAABPdouUEAAADA+yO7QQAAAICgTr1BAAAALtccwEEAAABwwjnBQQAAAMTcVsJBAAAAAKqIw0EAAAAeYi/EQQAAAL7fR8VBAAAAn9ypxkEAAAAuuovIQQAAACAbkslBAAAA35wZykEAAAAeCqLMQQAAAM75Zc1BAAAAtmnRzUEAAAAMmsLOQQAAAMAv0s9BAAAAhDXl0EEAAAAkAs3RQQAAAP5vQtNBAAAAJP2/1EEAAAC2wDHWQQAAAPsdBthBAAAAnIj+2EEAAAD010vaQQAAAB32sdxBAAAA/bG63UEAAAD/owHgQQAAgH1vpeBBAAAAWieL4UEAAACaYhTiQQAAAIHdUeNBAAAAOLB340EAAABwvgriQQAAAF2s7ONBAAAAXwUY5UEAAICi69DmQQ==",
          "dtype": "f8"
         },
         "yaxis": "y"
        },
        {
         "customdata": {
          "bdata": "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",
          "dtype": "f8",
          "shape": "156, 2"
         },
         "hovertemplate": "Entity=Japan<br>Year=%{x}<br>Co2_emissions=%{y}<br>Part (%)=%{customdata[0]}<extra></extra>",
         "legendgroup": "Japan",
         "marker": {
          "color": "#19d3f3",
          "pattern": {
           "shape": ""
          }
         },
         "name": "Japan",
         "orientation": "v",
         "showlegend": true,
         "textposition": "auto",
         "type": "bar",
         "x": {
          "bdata": "TAdNB04HTwdQB1EHUgdTB1QHVQdWB1cHWAdZB1oHWwdcB10HXgdfB2AHYQdiB2MHZAdlB2YHZwdoB2kHagdrB2wHbQduB28HcAdxB3IHcwd0B3UHdgd3B3gHeQd6B3sHfAd9B34HfweAB4EHggeDB4QHhQeGB4cHiAeJB4oHiweMB40HjgePB5AHkQeSB5MHlAeVB5YHlweYB5kHmgebB5wHnQeeB58HoAehB6IHowekB6UHpgenB6gHqQeqB6sHrAetB64HrwewB7EHsgezB7QHtQe2B7cHuAe5B7oHuwe8B70Hvge/B8AHwQfCB8MHxAfFB8YHxwfIB8kHygfLB8wHzQfOB88H0AfRB9IH0wfUB9UH1gfXB9gH2QfaB9sH3AfdB94H3wfgB+EH4gfjB+QH5QfmB+cH",
          "dtype": "i2"
         },
         "xaxis": "x",
         "y": {
          "bdata": "AAAAAAB4xUAAAAAAAOTRQAAAAAAA5NFAAAAAAAAM2UAAAAAAABrgQAAAAAAAruNAAAAAAADkIUEAAAAA0Pg1QQAAAACwaTVBAAAAAACuM0EAAAAAcFg8QQAAAADAqkFBAAAAACjrQUEAAAAA+GtCQQAAAAAwLUNBAAAAAKCvREEAAAAAGI9GQQAAAADQjElBAAAAAMCBS0EAAAAA5BBRQQAAAAC8uFNBAAAAANzbV0EAAAAAEMZZQQAAAAC0/F5BAAAA4C/OXkEAAAAAaFpgQQAAAABKB2VBAAAAABpSZ0EAAAAAcqJoQQAAAABg1GlBAAAAAI9ycEEAAAAA0nhwQQAAAAA6g3JBAAAAABAydkEAAAAA+Ml3QQAAAAC2l3hBAAAAAL20e0EAAAAAbYt8QQAAAABDVX9BAAAAEDq5gEEAAACA3fGBQQAAAIDmPYJBAAAAgKjHgkEAAAAAtRSFQQAAAAC5f4dBAAAAAETmiUEAAAAAAaqLQQAAABB3MolBAAAAcB7xi0EAAAB43haQQQAAAHCnDpFBAAAAkJnhkkEAAAA4tbWRQQAAACBx249BAAAAwLgHkUEAAABIABmSQQAAAPD96pJBAAAAuJKNk0EAAABAzbGTQQAAAIiPVZVBAAAAqBIHlkEAAABQCZ+WQQAAAGAki5RBAAAAKOKSkkEAAABQjZeSQQAAAJAax5VBAAAAEO4gmEEAAABoEl2ZQQAAALjm25tBAAAAwLLnnUEAAABAeWifQQAAAGAMdZ5BAAAA3KREokEAAABIKG6iQQAAAMA/nqFBAAAAPBf1oUEAAAA4yYmgQQAAAGBwRZJBAAAAAOghiUEAAADIb7KQQQAAAAgfAJVBAAAAIBZ3l0EAAADgmnKYQQAAAMhBb51BAAAA4LAYn0EAAAAIkWShQQAAAKhEAqFBAAAA+JnuoEEAAAC46iujQQAAABANcqZBAAAAuIegpUEAAAAEd/+mQQAAAARlwatBAAAAwj3gsEEAAABcEnuxQQAAACAjY7NBAAAAbDtrtUEAAAB+rxC3QQAAANxVBblBAAAAwHYzvUEAAAAmAMTAQQAAADByfMNBAAAABqfwxkEAAACiy9THQQAAAF5DqclBAAAAjkQ/y0EAAAASkz/LQQAAABgF7MlBAAAAglsby0EAAADWhuHLQQAAAKIX+cpBAAAA7FKGzEEAAABsv0TMQQAAAJ8mustBAAAAquXXykEAAACellvKQQAAAPinB8xBAAAAwOdGy0EAAADioT3LQQAAAJoS48pBAAAATqVYzUEAAAB/u2/OQQAAAMwaP9FBAAAAYrxr0UEAAAC4HZHRQQAAAEVqdtFBAAAA5DlI0kEAAABFJ3fSQQAAABvWptJBAAAAyf2K0kEAAACGKfPRQQAAAOLIftJBAAAAXMDV0kEAAAC+Dp7SQQAAAEP6DtNBAAAAPWcv00EAAADb2h3TQQAAAOIWOtNBAAAAKlni0kEAAAA6iWrTQQAAAB10XNJBAAAAlv1V0UEAAABFFhrSQQAAAAfR2NJBAAAAYfx100EAAACCdpnTQQAAAEEJ1dJBAAAAqiI60kEAAABgyO3RQQAAANXksdFBAAAAATgG0UEAAABcEHnQQQAAACRCAs9BAAAAyrGlz0EAAABoxsbOQQAAAB7Ud81B",
          "dtype": "f8"
         },
         "yaxis": "y"
        },
        {
         "customdata": {
          "bdata": "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",
          "dtype": "f8",
          "shape": "174, 2"
         },
         "hovertemplate": "Entity=Middle East (GCP)<br>Year=%{x}<br>Co2_emissions=%{y}<br>Part (%)=%{customdata[0]}<extra></extra>",
         "legendgroup": "Middle East (GCP)",
         "marker": {
          "color": "#FF6692",
          "pattern": {
           "shape": ""
          }
         },
         "name": "Middle East (GCP)",
         "orientation": "v",
         "showlegend": true,
         "textposition": "auto",
         "type": "bar",
         "x": {
          "bdata": "Ogc7BzwHPQc+Bz8HQAdBB0IHQwdEB0UHRgdHB0gHSQdKB0sHTAdNB04HTwdQB1EHUgdTB1QHVQdWB1cHWAdZB1oHWwdcB10HXgdfB2AHYQdiB2MHZAdlB2YHZwdoB2kHagdrB2wHbQduB28HcAdxB3IHcwd0B3UHdgd3B3gHeQd6B3sHfAd9B34HfweAB4EHggeDB4QHhQeGB4cHiAeJB4oHiweMB40HjgePB5AHkQeSB5MHlAeVB5YHlweYB5kHmgebB5wHnQeeB58HoAehB6IHowekB6UHpgenB6gHqQeqB6sHrAetB64HrwewB7EHsgezB7QHtQe2B7cHuAe5B7oHuwe8B70Hvge/B8AHwQfCB8MHxAfFB8YHxwfIB8kHygfLB8wHzQfOB88H0AfRB9IH0wfUB9UH1gfXB9gH2QfaB9sH3AfdB94H3wfgB+EH4gfjB+QH5QfmB+cH",
          "dtype": "i2"
         },
         "xaxis": "x",
         "y": {
          "bdata": "AAAAAAAAAAAAAAAAAAAAAAAAAAAAAAAAAAAAAAAAAAAAAAAAAAAAAAAAAAAAAAAAAAAAAAAAAAAAAAAAAAAAAAAAAAAAAAAAAAAAAAAAAAAAAAAAAAAAAAAAAAAAAAAAAAAAAAAAAAAAAAAAAAAAAAAAAAAAAAAAAAAAAIBWAkEAAAAAgH4JQQAAAAAAuwtBAAAAAAB4BUEAAAAAQFMQQQAAAACAOwNBAAAAAAAnCEEAAAAAgPcNQXE9Ctd/Eg1BAAAAAABPD0EAAAAAAHgVQQAAAADAxRBBAAAAAIBIG0EAAAAAQOcTQY/C9SgAav5AAAAAAAD/AEEAAAAAAF0GQQAAAAAAyQJBAAAAAACuA0EAAAAAAHgFQQAAAACAtAdBAAAAAICMAEEAAAAAgPcNQQAAAABAUxBBAAAAAICZGEEAAAAAAF0WQQAAAACAmRhBAAAAAAAMGUEAAAAAAPEZQQAAAADA7RdBAAAAAIDPFkEAAAAAQA8bQQAAAACAOxNB7FG4HsD6H0EAAAAAYHYkQQAAAADgpC9BAAAAAOD1LEHsUbgewPovQQAAAADQZDJBAAAAAJDaNEEAAAAAoF43QQAAAAAAJzhBAAAAAFCuPEEAAAAA4EY6QWZmZubf2j1BAAAAAKC8PEEAAAAAyAdCQQAAAADwKUFBAAAAAEgORkEAAAAA8KJFQQAAAAAQnkJBAAAAAIA7Q0EAAAAAGFlIQQAAAACQzE1BAAAAAJwOVEEAAAAAXBhaQQAAAACo415BAAAAAKSGY0EAAAAApORoQQAAAABeb25BAAAA4COab0EAAAAA7zpxQQAAAADfL3NBAAAAIMIddEEAAABAE/lzQQAAAMDJ1XVBAAAA4I0+dUEAAAAAbGZ3QQAAAAB88nlBAAAAYGLafkEAAABAJQSBQQAAAAAqwYJBAAAAoPbFhUEAAABgewWGQQAAACB92ohBAAAAkIy0hUEAAACg6SuBQQAAACCUooZBAAAAgHQBiUEAAAB4WCSQQQAAAGCRipRBAAAA8ADlmkEAAABgKfefQQAAAIht65lBAAAAIKXvg0EAAAAgAVl+QQAAAGBP9HhBAAAAIO95dkEAAAAg5fp5QQAAAEBDOH9BAAAAcCH3h0EAAAAAZkGMQQAAADBSdI1BAAAAcHcDkEEAAADgUd+QQQAAACD9hZVBAAAAiNWGlkEAAADA2g6aQQAAAGCHd51BAAAA6ABCoUEAAAB8SZmkQQAAADiAt6dBAAAARIyAqEEAAADo+zasQQAAAORqALBBAAAA5D8CsUEAAAAeB++zQQAAABzygbVBAAAA0IGKuUEAAAA4s3K6QQAAAAJA5blBAAAAQDtIvkEAAADi7Nm/QQAAAPye+b9BAAAAdOH4wEEAAAAm94bAQQAAAKxodsBBAAAAQp7SwEEAAACCxbrBQQAAAOADkcJBAAAAgKACxEEAAACWMkrFQQAAAOQexMVBAAAAGiwvx0EAAAAEPITIQQAAAIiDaMhBAAAAAjGAykEAAABiXjvNQQAAACDRwc9BAAAAlqDC0EEAAACGnOrQQQAAAGhoMtFBAAAAI5D10EEAAAC2WY7RQQAAAHbU49JBAAAAv0zk1EEAAABiMmrVQQAAAD74ldVBAAAAPLsA10EAAAApDZjYQQAAAD2rntlBAAAAJTo120EAAAAoXmPbQQAAAJkGf91BAAAAym+23kEAAIAbYTTgQQAAAGxxmeBBAAAAYqm14UEAAADg3F7hQQAAgEEas+FBAAAAJfJd4kEAAABS0sPiQQAAgMBxOuNBAAAAmidn40EAAIDhNfDjQQAAAEZrd+NBAAAAAFiE5EEAAICd0fbkQQAAgL1CUeVB",
          "dtype": "f8"
         },
         "yaxis": "y"
        },
        {
         "customdata": {
          "bdata": "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",
          "dtype": "f8",
          "shape": "172, 2"
         },
         "hovertemplate": "Entity=Russia<br>Year=%{x}<br>Co2_emissions=%{y}<br>Part (%)=%{customdata[0]}<extra></extra>",
         "legendgroup": "Russia",
         "marker": {
          "color": "#B6E880",
          "pattern": {
           "shape": ""
          }
         },
         "name": "Russia",
         "orientation": "v",
         "showlegend": true,
         "textposition": "auto",
         "type": "bar",
         "x": {
          "bdata": "JgcnBygHKQc6Bz8HQgdDB0QHRQdGB0cHSAdJB0oHSwdMB00HTgdPB1AHUQdSB1MHVAdVB1YHVwdYB1kHWgdbB1wHXQdeB18HYAdhB2IHYwdkB2UHZgdnB2gHaQdqB2sHbAdtB24HbwdwB3EHcgdzB3QHdQd2B3cHeAd5B3oHewd8B30Hfgd/B4AHgQeCB4MHhAeFB4YHhweIB4kHigeLB4wHjQeOB48HkAeRB5IHkweUB5UHlgeXB5gHmQeaB5sHnAedB54HnwegB6EHogejB6QHpQemB6cHqAepB6oHqwesB60HrgevB7AHsQeyB7MHtAe1B7YHtwe4B7kHuge7B7wHvQe+B78HwAfBB8IHwwfEB8UHxgfHB8gHyQfKB8sHzAfNB84HzwfQB9EH0gfTB9QH1QfWB9cH2AfZB9oH2wfcB90H3gffB+AH4QfiB+MH5AflB+YH5wc=",
          "dtype": "i2"
         },
         "xaxis": "x",
         "y": {
          "bdata": "AAAAAADgxUAAAAAAAEDKQAAAAAAAgMFAAAAAAADgxUAAAAAA8PPwQAAAAADoswlBAAAAAPALEkEAAAAA8CMTQQAAAADoShlBAAAAAHIQIEEAAAAA5PscQQAAAADkWR5BAAAAAHAFIUEAAAAA8kQgQQAAAADpszlBAAAAACV/PUEAAAAAaoo4QQAAAAAxpUBBAAAAgE8QQkEAAAAACmNIQQAAAABJCUlBAAAAgIp/R0EAAAAAxoVMQQAAAAAhalBBAAAAgB1hVEEAAAAATcxUQQAAAEBXLltBAAAAwObjW0EAAAAg6VtgQQAAAGAIO2FBAAAAgC8mYkEAAABANahkQQAAAOAk+WRBAAAAQDPYZkEAAADACm5nQQAAAIDxymhBAAAAgGDcaUEAAACgvu1rQQAAAGDroG9BAAAAIIRpcUEAAABAX25yQQAAAGB4mnVBAAAAALwAdkEAAAAALUh5QQAAAICovHlBAAAA4NzBfUEAAACw2q+AQQAAAIC2W4NBAAAAIN7thUEAAACAb4OGQQAAAFCQvoVBAAAAwChFhUEAAABgMqqHQQAAAMCyH4VBAAAAIB4YiEEAAABg2fyKQQAAAFA7J4tBAAAA4N2pjEEAAACAOhyMQQAAAHDpJI1BAAAAAMiBkEEAAACYiu6RQQAAAGARL5BBAAAA4I61jUEAAABAN6qPQQAAAHBdJI1BAAAA4HY+d0EAAAAAltpzQQAAAKCzGnJBAAAAIEKic0EAAABA1vF3QQAAAOBPc3pBAAAAYGODf0EAAADAYxp/QQAAAIBbiIZBAAAAgJ4DjEEAAADwFx+PQQAAAAD2wZBBAAAAyOXHlkEAAACgP16bQQAAAKj+1Z5BAAAAPCw7oUEAAABE2dekQQAAAOTfl6dBAAAAoNwNq0EAAAAQ/amrQQAAAICyMq1BAAAAyF6OrUEAAAAcibexQQAAAEgsIa9BAAAAHH3soEEAAADooqmhQQAAAKQ2nalBAAAAJCAeq0EAAAC8tXmuQQAAABhAWbJBAAAAHFSGs0EAAADi1TG2QQAAAMJTvbhBAAAAgOXPukEAAACiK7a8QQAAAPwRYL5BAAAA4lOWwEEAAADs687CQQAAAGEYn8RBAAAAOvuQxkEAAABIQxbIQQAAAHz+UslBAAAA0LxdykEAAACE2jDLQQAAAIHTicxBAAAA3y+bzkEAAAC/dkbQQQAAADTbQ9FBAAAAOZc70kEAAAA/rBDTQQAAAATWmdNBAAAAgb9p1EEAAAAUHXjVQQAAAAWAyNZBAAAAJoj410EAAAAMsvvYQQAAADc979lBAAAABs5C20EAAACLlU/cQQAAACMaRt1BAAAA23hH3kEAAAD2wofeQQAAABVHu99BAAAAepsg30EAAAAM17bfQQAAAF7/FOBBAACAG4454EEAAADmeX/hQQAAAIA5gOFBAACAXmCR4UEAAADdFSjiQQAAgBrX6uFBAAAAP4Ll4kEAAACihe7hQQAAAL+eTd1BAAAAowHR20EAAABdV43YQQAAANjEIthBAAAA9T6l10EAAABlUBbWQQAAAIZ/1dVBAAAA/NZD1kEAAAAAewrWQQAAAB+8ldZBAAAAqPBz1kEAAACIQufWQQAAAIK6AddBAAAAAcJI10EAAADkQi/YQQAAANQ7MthBAAAAPSCe2EEAAACo1gXXQQAAANiSVNhBAAAA/zsf2UEAAADs0lnZQQAAAKbFcdhBAAAAqPJv2EEAAADZDGvYQQAAAGKXXNhBAAAAfL/T2EEAAAC3pYTZQQAAAD0taNlBAAAAhSFV2EEAAAB1vILZQQAAACzP2tpBAAAA9zMP20E=",
          "dtype": "f8"
         },
         "yaxis": "y"
        },
        {
         "customdata": {
          "bdata": "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",
          "dtype": "f8",
          "shape": "172, 2"
         },
         "hovertemplate": "Entity=Ukraine<br>Year=%{x}<br>Co2_emissions=%{y}<br>Part (%)=%{customdata[0]}<extra></extra>",
         "legendgroup": "Ukraine",
         "marker": {
          "color": "#FF97FF",
          "pattern": {
           "shape": ""
          }
         },
         "name": "Ukraine",
         "orientation": "v",
         "showlegend": true,
         "textposition": "auto",
         "type": "bar",
         "x": {
          "bdata": "JgcnBygHKQc6Bz8HQgdDB0QHRQdGB0cHSAdJB0oHSwdMB00HTgdPB1AHUQdSB1MHVAdVB1YHVwdYB1kHWgdbB1wHXQdeB18HYAdhB2IHYwdkB2UHZgdnB2gHaQdqB2sHbAdtB24HbwdwB3EHcgdzB3QHdQd2B3cHeAd5B3oHewd8B30Hfgd/B4AHgQeCB4MHhAeFB4YHhweIB4kHigeLB4wHjQeOB48HkAeRB5IHkweUB5UHlgeXB5gHmQeaB5sHnAedB54HnwegB6EHogejB6QHpQemB6cHqAepB6oHqwesB60HrgevB7AHsQeyB7MHtAe1B7YHtwe4B7kHuge7B7wHvQe+B78HwAfBB8IHwwfEB8UHxgfHB8gHyQfKB8sHzAfNB84HzwfQB9EH0gfTB9QH1QfWB9cH2AfZB9oH2wfcB90H3gffB+AH4QfiB+MH5AflB+YH5wc=",
          "dtype": "i2"
         },
         "xaxis": "x",
         "y": {
          "bdata": "AAAAAADCq0AAAAAAAKewQAAAAAAANKZAAAAAAADCq0AAAAAAgILVQAAAAABATvBAAAAAAMDl9kAAAAAAAEn4QAAAAACoCwBBAAAAANBhBEEAAAAAKGMCQQAAAAAwQQNBAAAAALCYBUEAAAAAcKQEQQAAAABCTiBBAAAAAGi2IkEAAAAAECMfQQAAAACOHiVBAAAAAEbrJkEAAAAAGvEuQQAAAAAIxC9BAAAAAHTQLUEAAAAANRgyQQAAAACe0zRBAAAAAGvbOUEAAAAAamM6QQAAAIBVPkFBAAAAgIOxQUEAAACAk8FEQQAAAICr3EVBAAAAgAcHR0EAAAAAnzVKQQAAAABQnEpBAAAAACL8TEEAAAAAQLpNQZqZmRnvdE9BAAAAgO5nUEEAAABAwrdRQQAAAECkEFRBAAAAAKYXVkEAAACAnmJXQQAAAEAAaVtBAAAAgMDqW0EAAADA6QlgQQAAACDPU2BBAAAAILvgYkEAAABAFSxlQQAAACDBj2hBAAAAYNDSa0EAAADAlZBsQQAAAKDLlmtBAAAAIML8akEAAABAkwZuQQAAAKA6zWpBAAAAYAqSbkEAAADA7x5xQQAAAODSOXFBAAAAYBovckEAAACAP9VxQQAAAKApfXJBAAAAIKDxdEEAAAAAbsB2QQAAAOCtiHRBAAAA4OzYckEAAAAAihZ0QQAAAKDQfHJBAAAAgOJ9XUEAAADAujBZQQAAAIB1+FZBAAAAAEPpWEEAAACAeGFeQQAAACCvx2BBAAAAQOj9Y0EAAAAATLtjQQAAAGDUlmxBAAAAAKPFcUEAAADAML5zQQAAAEApQ3VBAAAAoH/ofEEAAADATF2BQQAAAFAvkINBAAAAAPLchUEAAABAGnKKQQAAAOBB741BAAAAsKEpkUEAAAAgtIyRQQAAAHjWhZJBAAAAMP2/kkEAAAAAAHuWQQAAAHi+v5NBAAAAwAN5hUEAAADgAGmGQQAAAGDcP5BBAAAAuFw0kUEAAADg81WTQQAAAOCrSJdBAAAASOzGmEEAAACgZSqcQQAAAFBsZZ9BAAAACIQDoUEAAACgFTiiQQAAAIBYRqNBAAAABC8NpUEAAAAEzt6nQQAAAOiQK6pBAAAABAqjrEEAAABYTpCuQQAAAN6/ELBBAAAAIFe5sEEAAACkSD6xQQAAAFTIF7JBAAAAxLJms0EAAABceqG0QQAAACTV4bVBAAAAQAsbt0EAAAD8/ye4QQAAALy11LhBAAAAApXbuUEAAACe1zK7QQAAAJxb3LxBAAAAvG1dvkEAAADcE6W/QQAAAF9RbMBBAAAAGihDwUEAAACoJu3BQQAAALLfiMJBAAAAjkwrw0EAAABCBlTDQQAAAN4ZF8RBAAAAsGCzw0EAAAAO/RLEQQAAACFMW8RBAAAAYD6JxEEAAABszifGQQAAABKZEcZBAAAAIRffxUEAAABi+azFQQAAAGLeX8RBAAAAahUMxUEAAAAA1NzCQQAAAPjej8FBAAAAEN9qvkEAAAAE8QC5QQAAAEIHQLdBAAAAZJT3tEEAAABC1ku0QQAAAJw0mbNBAAAAwPPLsUEAAADYCgexQQAAAGQDHbJBAAAA5BajsUEAAABEMVCyQQAAAODFg7JBAAAAwBiwskEAAAD+HdqzQQAAAF51E7RBAAAAqBxus0EAAAD8vIuwQQAAAGiqi7FBAAAAZHNhskEAAACkJCWyQQAAAFgru7FBAAAAsIS2rkEAAABkdK2qQQAAAHjs46tBAAAA6OKXqkEAAACY0Z2rQQAAAAQrdapBAAAAaMOnqEEAAAC8Xg2pQQAAAMTV0qBBAAAAXHJEoEE=",
          "dtype": "f8"
         },
         "yaxis": "y"
        },
        {
         "customdata": {
          "bdata": "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",
          "dtype": "f8",
          "shape": "274, 2"
         },
         "hovertemplate": "Entity=United Kingdom<br>Year=%{x}<br>Co2_emissions=%{y}<br>Part (%)=%{customdata[0]}<extra></extra>",
         "legendgroup": "United Kingdom",
         "marker": {
          "color": "#FECB52",
          "pattern": {
           "shape": ""
          }
         },
         "name": "United Kingdom",
         "orientation": "v",
         "showlegend": true,
         "textposition": "auto",
         "type": "bar",
         "x": {
          "bdata": "1gbXBtgG2QbaBtsG3AbdBt4G3wbgBuEG4gbjBuQG5QbmBucG6AbpBuoG6wbsBu0G7gbvBvAG8QbyBvMG9Ab1BvYG9wb4BvkG+gb7BvwG/Qb+Bv8GAAcBBwIHAwcEBwUHBgcHBwgHCQcKBwsHDAcNBw4HDwcQBxEHEgcTBxQHFQcWBxcHGAcZBxoHGwccBx0HHgcfByAHIQciByMHJAclByYHJwcoBykHKgcrBywHLQcuBy8HMAcxBzIHMwc0BzUHNgc3BzgHOQc6BzsHPAc9Bz4HPwdAB0EHQgdDB0QHRQdGB0cHSAdJB0oHSwdMB00HTgdPB1AHUQdSB1MHVAdVB1YHVwdYB1kHWgdbB1wHXQdeB18HYAdhB2IHYwdkB2UHZgdnB2gHaQdqB2sHbAdtB24HbwdwB3EHcgdzB3QHdQd2B3cHeAd5B3oHewd8B30Hfgd/B4AHgQeCB4MHhAeFB4YHhweIB4kHigeLB4wHjQeOB48HkAeRB5IHkweUB5UHlgeXB5gHmQeaB5sHnAedB54HnwegB6EHogejB6QHpQemB6cHqAepB6oHqwesB60HrgevB7AHsQeyB7MHtAe1B7YHtwe4B7kHuge7B7wHvQe+B78HwAfBB8IHwwfEB8UHxgfHB8gHyQfKB8sHzAfNB84HzwfQB9EH0gfTB9QH1QfWB9cH2AfZB9oH2wfcB90H3gffB+AH4QfiB+MH5AflB+YH5wc=",
          "dtype": "i2"
         },
         "xaxis": "x",
         "y": {
          "bdata": "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",
          "dtype": "f8"
         },
         "yaxis": "y"
        },
        {
         "customdata": {
          "bdata": "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",
          "dtype": "f8",
          "shape": "224, 2"
         },
         "hovertemplate": "Entity=United States<br>Year=%{x}<br>Co2_emissions=%{y}<br>Part (%)=%{customdata[0]}<extra></extra>",
         "legendgroup": "United States",
         "marker": {
          "color": "#636efa",
          "pattern": {
           "shape": ""
          }
         },
         "name": "United States",
         "orientation": "v",
         "showlegend": true,
         "textposition": "auto",
         "type": "bar",
         "x": {
          "bdata": "CAcJBwoHCwcMBw0HDgcPBxAHEQcSBxMHFAcVBxYHFwcYBxkHGgcbBxwHHQceBx8HIAchByIHIwckByUHJgcnBygHKQcqBysHLActBy4HLwcwBzEHMgczBzQHNQc2BzcHOAc5BzoHOwc8Bz0HPgc/B0AHQQdCB0MHRAdFB0YHRwdIB0kHSgdLB0wHTQdOB08HUAdRB1IHUwdUB1UHVgdXB1gHWQdaB1sHXAddB14HXwdgB2EHYgdjB2QHZQdmB2cHaAdpB2oHawdsB20HbgdvB3AHcQdyB3MHdAd1B3YHdwd4B3kHegd7B3wHfQd+B38HgAeBB4IHgweEB4UHhgeHB4gHiQeKB4sHjAeNB44HjweQB5EHkgeTB5QHlQeWB5cHmAeZB5oHmwecB50HngefB6AHoQeiB6MHpAelB6YHpweoB6kHqgerB6wHrQeuB68HsAexB7IHswe0B7UHtge3B7gHuQe6B7sHvAe9B74HvwfAB8EHwgfDB8QHxQfGB8cHyAfJB8oHywfMB80HzgfPB9AH0QfSB9MH1AfVB9YH1wfYB9kH2gfbB9wH3QfeB98H4AfhB+IH4wfkB+UH5gfnBw==",
          "dtype": "i2"
         },
         "xaxis": "x",
         "y": {
          "bdata": "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",
          "dtype": "f8"
         },
         "yaxis": "y"
        }
       ],
       "layout": {
        "barmode": "relative",
        "legend": {
         "title": {
          "text": "Entität"
         },
         "tracegroupgap": 0
        },
        "template": {
         "data": {
          "bar": [
           {
            "error_x": {
             "color": "#2a3f5f"
            },
            "error_y": {
             "color": "#2a3f5f"
            },
            "marker": {
             "line": {
              "color": "#E5ECF6",
              "width": 0.5
             },
             "pattern": {
              "fillmode": "overlay",
              "size": 10,
              "solidity": 0.2
             }
            },
            "type": "bar"
           }
          ],
          "barpolar": [
           {
            "marker": {
             "line": {
              "color": "#E5ECF6",
              "width": 0.5
             },
             "pattern": {
              "fillmode": "overlay",
              "size": 10,
              "solidity": 0.2
             }
            },
            "type": "barpolar"
           }
          ],
          "carpet": [
           {
            "aaxis": {
             "endlinecolor": "#2a3f5f",
             "gridcolor": "white",
             "linecolor": "white",
             "minorgridcolor": "white",
             "startlinecolor": "#2a3f5f"
            },
            "baxis": {
             "endlinecolor": "#2a3f5f",
             "gridcolor": "white",
             "linecolor": "white",
             "minorgridcolor": "white",
             "startlinecolor": "#2a3f5f"
            },
            "type": "carpet"
           }
          ],
          "choropleth": [
           {
            "colorbar": {
             "outlinewidth": 0,
             "ticks": ""
            },
            "type": "choropleth"
           }
          ],
          "contour": [
           {
            "colorbar": {
             "outlinewidth": 0,
             "ticks": ""
            },
            "colorscale": [
             [
              0,
              "#0d0887"
             ],
             [
              0.1111111111111111,
              "#46039f"
             ],
             [
              0.2222222222222222,
              "#7201a8"
             ],
             [
              0.3333333333333333,
              "#9c179e"
             ],
             [
              0.4444444444444444,
              "#bd3786"
             ],
             [
              0.5555555555555556,
              "#d8576b"
             ],
             [
              0.6666666666666666,
              "#ed7953"
             ],
             [
              0.7777777777777778,
              "#fb9f3a"
             ],
             [
              0.8888888888888888,
              "#fdca26"
             ],
             [
              1,
              "#f0f921"
             ]
            ],
            "type": "contour"
           }
          ],
          "contourcarpet": [
           {
            "colorbar": {
             "outlinewidth": 0,
             "ticks": ""
            },
            "type": "contourcarpet"
           }
          ],
          "heatmap": [
           {
            "colorbar": {
             "outlinewidth": 0,
             "ticks": ""
            },
            "colorscale": [
             [
              0,
              "#0d0887"
             ],
             [
              0.1111111111111111,
              "#46039f"
             ],
             [
              0.2222222222222222,
              "#7201a8"
             ],
             [
              0.3333333333333333,
              "#9c179e"
             ],
             [
              0.4444444444444444,
              "#bd3786"
             ],
             [
              0.5555555555555556,
              "#d8576b"
             ],
             [
              0.6666666666666666,
              "#ed7953"
             ],
             [
              0.7777777777777778,
              "#fb9f3a"
             ],
             [
              0.8888888888888888,
              "#fdca26"
             ],
             [
              1,
              "#f0f921"
             ]
            ],
            "type": "heatmap"
           }
          ],
          "histogram": [
           {
            "marker": {
             "pattern": {
              "fillmode": "overlay",
              "size": 10,
              "solidity": 0.2
             }
            },
            "type": "histogram"
           }
          ],
          "histogram2d": [
           {
            "colorbar": {
             "outlinewidth": 0,
             "ticks": ""
            },
            "colorscale": [
             [
              0,
              "#0d0887"
             ],
             [
              0.1111111111111111,
              "#46039f"
             ],
             [
              0.2222222222222222,
              "#7201a8"
             ],
             [
              0.3333333333333333,
              "#9c179e"
             ],
             [
              0.4444444444444444,
              "#bd3786"
             ],
             [
              0.5555555555555556,
              "#d8576b"
             ],
             [
              0.6666666666666666,
              "#ed7953"
             ],
             [
              0.7777777777777778,
              "#fb9f3a"
             ],
             [
              0.8888888888888888,
              "#fdca26"
             ],
             [
              1,
              "#f0f921"
             ]
            ],
            "type": "histogram2d"
           }
          ],
          "histogram2dcontour": [
           {
            "colorbar": {
             "outlinewidth": 0,
             "ticks": ""
            },
            "colorscale": [
             [
              0,
              "#0d0887"
             ],
             [
              0.1111111111111111,
              "#46039f"
             ],
             [
              0.2222222222222222,
              "#7201a8"
             ],
             [
              0.3333333333333333,
              "#9c179e"
             ],
             [
              0.4444444444444444,
              "#bd3786"
             ],
             [
              0.5555555555555556,
              "#d8576b"
             ],
             [
              0.6666666666666666,
              "#ed7953"
             ],
             [
              0.7777777777777778,
              "#fb9f3a"
             ],
             [
              0.8888888888888888,
              "#fdca26"
             ],
             [
              1,
              "#f0f921"
             ]
            ],
            "type": "histogram2dcontour"
           }
          ],
          "mesh3d": [
           {
            "colorbar": {
             "outlinewidth": 0,
             "ticks": ""
            },
            "type": "mesh3d"
           }
          ],
          "parcoords": [
           {
            "line": {
             "colorbar": {
              "outlinewidth": 0,
              "ticks": ""
             }
            },
            "type": "parcoords"
           }
          ],
          "pie": [
           {
            "automargin": true,
            "type": "pie"
           }
          ],
          "scatter": [
           {
            "fillpattern": {
             "fillmode": "overlay",
             "size": 10,
             "solidity": 0.2
            },
            "type": "scatter"
           }
          ],
          "scatter3d": [
           {
            "line": {
             "colorbar": {
              "outlinewidth": 0,
              "ticks": ""
             }
            },
            "marker": {
             "colorbar": {
              "outlinewidth": 0,
              "ticks": ""
             }
            },
            "type": "scatter3d"
           }
          ],
          "scattercarpet": [
           {
            "marker": {
             "colorbar": {
              "outlinewidth": 0,
              "ticks": ""
             }
            },
            "type": "scattercarpet"
           }
          ],
          "scattergeo": [
           {
            "marker": {
             "colorbar": {
              "outlinewidth": 0,
              "ticks": ""
             }
            },
            "type": "scattergeo"
           }
          ],
          "scattergl": [
           {
            "marker": {
             "colorbar": {
              "outlinewidth": 0,
              "ticks": ""
             }
            },
            "type": "scattergl"
           }
          ],
          "scattermap": [
           {
            "marker": {
             "colorbar": {
              "outlinewidth": 0,
              "ticks": ""
             }
            },
            "type": "scattermap"
           }
          ],
          "scattermapbox": [
           {
            "marker": {
             "colorbar": {
              "outlinewidth": 0,
              "ticks": ""
             }
            },
            "type": "scattermapbox"
           }
          ],
          "scatterpolar": [
           {
            "marker": {
             "colorbar": {
              "outlinewidth": 0,
              "ticks": ""
             }
            },
            "type": "scatterpolar"
           }
          ],
          "scatterpolargl": [
           {
            "marker": {
             "colorbar": {
              "outlinewidth": 0,
              "ticks": ""
             }
            },
            "type": "scatterpolargl"
           }
          ],
          "scatterternary": [
           {
            "marker": {
             "colorbar": {
              "outlinewidth": 0,
              "ticks": ""
             }
            },
            "type": "scatterternary"
           }
          ],
          "surface": [
           {
            "colorbar": {
             "outlinewidth": 0,
             "ticks": ""
            },
            "colorscale": [
             [
              0,
              "#0d0887"
             ],
             [
              0.1111111111111111,
              "#46039f"
             ],
             [
              0.2222222222222222,
              "#7201a8"
             ],
             [
              0.3333333333333333,
              "#9c179e"
             ],
             [
              0.4444444444444444,
              "#bd3786"
             ],
             [
              0.5555555555555556,
              "#d8576b"
             ],
             [
              0.6666666666666666,
              "#ed7953"
             ],
             [
              0.7777777777777778,
              "#fb9f3a"
             ],
             [
              0.8888888888888888,
              "#fdca26"
             ],
             [
              1,
              "#f0f921"
             ]
            ],
            "type": "surface"
           }
          ],
          "table": [
           {
            "cells": {
             "fill": {
              "color": "#EBF0F8"
             },
             "line": {
              "color": "white"
             }
            },
            "header": {
             "fill": {
              "color": "#C8D4E3"
             },
             "line": {
              "color": "white"
             }
            },
            "type": "table"
           }
          ]
         },
         "layout": {
          "annotationdefaults": {
           "arrowcolor": "#2a3f5f",
           "arrowhead": 0,
           "arrowwidth": 1
          },
          "autotypenumbers": "strict",
          "coloraxis": {
           "colorbar": {
            "outlinewidth": 0,
            "ticks": ""
           }
          },
          "colorscale": {
           "diverging": [
            [
             0,
             "#8e0152"
            ],
            [
             0.1,
             "#c51b7d"
            ],
            [
             0.2,
             "#de77ae"
            ],
            [
             0.3,
             "#f1b6da"
            ],
            [
             0.4,
             "#fde0ef"
            ],
            [
             0.5,
             "#f7f7f7"
            ],
            [
             0.6,
             "#e6f5d0"
            ],
            [
             0.7,
             "#b8e186"
            ],
            [
             0.8,
             "#7fbc41"
            ],
            [
             0.9,
             "#4d9221"
            ],
            [
             1,
             "#276419"
            ]
           ],
           "sequential": [
            [
             0,
             "#0d0887"
            ],
            [
             0.1111111111111111,
             "#46039f"
            ],
            [
             0.2222222222222222,
             "#7201a8"
            ],
            [
             0.3333333333333333,
             "#9c179e"
            ],
            [
             0.4444444444444444,
             "#bd3786"
            ],
            [
             0.5555555555555556,
             "#d8576b"
            ],
            [
             0.6666666666666666,
             "#ed7953"
            ],
            [
             0.7777777777777778,
             "#fb9f3a"
            ],
            [
             0.8888888888888888,
             "#fdca26"
            ],
            [
             1,
             "#f0f921"
            ]
           ],
           "sequentialminus": [
            [
             0,
             "#0d0887"
            ],
            [
             0.1111111111111111,
             "#46039f"
            ],
            [
             0.2222222222222222,
             "#7201a8"
            ],
            [
             0.3333333333333333,
             "#9c179e"
            ],
            [
             0.4444444444444444,
             "#bd3786"
            ],
            [
             0.5555555555555556,
             "#d8576b"
            ],
            [
             0.6666666666666666,
             "#ed7953"
            ],
            [
             0.7777777777777778,
             "#fb9f3a"
            ],
            [
             0.8888888888888888,
             "#fdca26"
            ],
            [
             1,
             "#f0f921"
            ]
           ]
          },
          "colorway": [
           "#636efa",
           "#EF553B",
           "#00cc96",
           "#ab63fa",
           "#FFA15A",
           "#19d3f3",
           "#FF6692",
           "#B6E880",
           "#FF97FF",
           "#FECB52"
          ],
          "font": {
           "color": "#2a3f5f"
          },
          "geo": {
           "bgcolor": "white",
           "lakecolor": "white",
           "landcolor": "#E5ECF6",
           "showlakes": true,
           "showland": true,
           "subunitcolor": "white"
          },
          "hoverlabel": {
           "align": "left"
          },
          "hovermode": "closest",
          "mapbox": {
           "style": "light"
          },
          "paper_bgcolor": "white",
          "plot_bgcolor": "#E5ECF6",
          "polar": {
           "angularaxis": {
            "gridcolor": "white",
            "linecolor": "white",
            "ticks": ""
           },
           "bgcolor": "#E5ECF6",
           "radialaxis": {
            "gridcolor": "white",
            "linecolor": "white",
            "ticks": ""
           }
          },
          "scene": {
           "xaxis": {
            "backgroundcolor": "#E5ECF6",
            "gridcolor": "white",
            "gridwidth": 2,
            "linecolor": "white",
            "showbackground": true,
            "ticks": "",
            "zerolinecolor": "white"
           },
           "yaxis": {
            "backgroundcolor": "#E5ECF6",
            "gridcolor": "white",
            "gridwidth": 2,
            "linecolor": "white",
            "showbackground": true,
            "ticks": "",
            "zerolinecolor": "white"
           },
           "zaxis": {
            "backgroundcolor": "#E5ECF6",
            "gridcolor": "white",
            "gridwidth": 2,
            "linecolor": "white",
            "showbackground": true,
            "ticks": "",
            "zerolinecolor": "white"
           }
          },
          "shapedefaults": {
           "line": {
            "color": "#2a3f5f"
           }
          },
          "ternary": {
           "aaxis": {
            "gridcolor": "white",
            "linecolor": "white",
            "ticks": ""
           },
           "baxis": {
            "gridcolor": "white",
            "linecolor": "white",
            "ticks": ""
           },
           "bgcolor": "#E5ECF6",
           "caxis": {
            "gridcolor": "white",
            "linecolor": "white",
            "ticks": ""
           }
          },
          "title": {
           "x": 0.05
          },
          "xaxis": {
           "automargin": true,
           "gridcolor": "white",
           "linecolor": "white",
           "ticks": "",
           "title": {
            "standoff": 15
           },
           "zerolinecolor": "white",
           "zerolinewidth": 2
          },
          "yaxis": {
           "automargin": true,
           "gridcolor": "white",
           "linecolor": "white",
           "ticks": "",
           "title": {
            "standoff": 15
           },
           "zerolinecolor": "white",
           "zerolinewidth": 2
          }
         }
        },
        "title": {
         "text": "Top 10 Länder mit den höchsten kumulierten CO₂-Emissionen weltweit (1900–2025)"
        },
        "xaxis": {
         "anchor": "y",
         "domain": [
          0,
          1
         ],
         "range": [
          1950,
          2025
         ],
         "title": {
          "text": "Year"
         }
        },
        "yaxis": {
         "anchor": "x",
         "domain": [
          0,
          1
         ],
         "title": {
          "text": "Co2 emissions"
         }
        }
       }
      }
     },
     "metadata": {},
     "output_type": "display_data"
    }
   ],
   "source": [
    "fig_top_10 = px.bar(\n",
    "    df_top10,\n",
    "    x='Year',\n",
    "    y='Co2_emissions',\n",
    "    color='Entity',\n",
    "    title='Top 10 Länder mit den höchsten kumulierten CO₂-Emissionen weltweit (1900–2025)',\n",
    "    hover_data={\n",
    "        'Part (%)': True,\n",
    "        'Co2_emissions': True,\n",
    "        'Total': False\n",
    "    }\n",
    ")\n",
    "fig_top_10.update_layout(xaxis_range=[1950, 2025],\n",
    "                         yaxis_title= 'Co2 emissions',\n",
    "                         legend_title = 'Entität')\n",
    "fig_top_10.show()\n",
    "\n"
   ]
  },
  {
   "cell_type": "markdown",
   "id": "b9db59bb",
   "metadata": {},
   "source": [
    "### 4. Weltweite Landnutzung"
   ]
  },
  {
   "cell_type": "code",
   "execution_count": 14,
   "id": "b274e83d",
   "metadata": {},
   "outputs": [],
   "source": [
    "# Welt filtern\n",
    "\n",
    "land_use_incl_weltweit = land_use_incl[land_use_incl['Entity'] == 'World']\n",
    "land_use_weltweit= land_use[land_use['Entity'] == 'World']"
   ]
  },
  {
   "cell_type": "code",
   "execution_count": 15,
   "id": "ac9c5770",
   "metadata": {},
   "outputs": [
    {
     "data": {
      "application/vnd.plotly.v1+json": {
       "config": {
        "plotlyServerURL": "https://plot.ly"
       },
       "data": [
        {
         "hovertemplate": "Emmissionstyp=Co2_land_use_incl<br>Jahr=%{x}<br> CO₂ Emissionen (Mt)=%{y}<extra></extra>",
         "legendgroup": "Co2_land_use_incl",
         "line": {
          "color": "#636efa",
          "dash": "solid"
         },
         "marker": {
          "symbol": "circle"
         },
         "mode": "lines",
         "name": "Co2_land_use_incl",
         "orientation": "v",
         "showlegend": true,
         "type": "scatter",
         "x": {
          "bdata": "Ogc7BzwHPQc+Bz8HQAdBB0IHQwdEB0UHRgdHB0gHSQdKB0sHTAdNB04HTwdQB1EHUgdTB1QHVQdWB1cHWAdZB1oHWwdcB10HXgdfB2AHYQdiB2MHZAdlB2YHZwdoB2kHagdrB2wHbQduB28HcAdxB3IHcwd0B3UHdgd3B3gHeQd6B3sHfAd9B34HfweAB4EHggeDB4QHhQeGB4cHiAeJB4oHiweMB40HjgePB5AHkQeSB5MHlAeVB5YHlweYB5kHmgebB5wHnQeeB58HoAehB6IHowekB6UHpgenB6gHqQeqB6sHrAetB64HrwewB7EHsgezB7QHtQe2B7cHuAe5B7oHuwe8B70Hvge/B8AHwQfCB8MHxAfFB8YHxwfIB8kHygfLB8wHzQfOB88H0AfRB9IH0wfUB9UH1gfXB9gH2QfaB9sH3AfdB94H3wfgB+EH4gfjB+QH5QfmB+cH",
          "dtype": "i2"
         },
         "xaxis": "x",
         "y": {
          "bdata": "AAAAXjUg5UEAAAAlUX3mQQAAALwz1uZBAACAoVVE50EAAABiEJ7nQQAAgMO/YudBAACApWgx6EEAAICEDxXoQQAAAECtSuhBAACABOzk6EEAAAAE2zHnQQAAgKJWOOdBAACAG/8R50EAAIAgU//mQQAAAIPgj+ZBAACAxAdm5kEAAACCIsfmQQAAAN5ju+ZBAAAAKEuZ5kEAAACnICvnQQAAgMIwHulBAAAAm1SD6UEAAIAEqHHrQQAAAMQfM+tBAACAPqVc7EEAAIBElGHtQQAAgKDBm+1BAAAAev3y7EEAAIB6xbPtQQAAAIOFBu5BAAAA5QyU70EAAIAj7sbvQQAAAOZPvvBBAACAogut8EEAAID/pkrxQQAAgH8MUfFBAACAy+AN8UEAAIA79cnxQQAAABJgwvFBAABAgC0t8kEAAAC2ZJXzQQAAgIZkmfRBAACAxbJr9EEAAMCfaQ31QQAAQALqSvVBAADAgdGf9UEAAADnF5H1QQAAADnibvZBAACAXQeW9kEAAAB5ZYL3QQAAAPr4F/hBAADAQfts+EEAAABai/f4QQAAgGU8jflBAADAPtrz+UEAAAC/TQ/7QQAAANPSf/tBAACAN4V+/EEAAMA/T2f8QQAAAH/SO/1BAAAAOlMF/UEAAIAAG379QQAAAPcwjf1BAABA/Qnr/UEAAADIfQH9QQAAgMAuuvxBAACA9fp7/UEAAEB+kyb+QQAAALhW+/1BAACA8fX++0EAAAC4NFT+QQAAQOISmf1BAADA/8gD/kEAAICGDQQAQgAAwARIEABCAABAPPggAEIAAEA3eggAQgAAwEltuQBCAAAA7yilAEIAAEBOeBoBQgAAADw2uQBCAABAjAFAAEIAAIA/qWP/QQAAQONuIQBCAACAPajAAEIAAABnvvEAQgAAwO4BtgFCAADAfABgAkIAAAA+YvgBQgAAQDcFTgJCAADAGO5DA0IAAIAK/f8DQgAAwI7XBgRCAABA7/obBEIAAIC/3zoEQgAAwF+alwJCAADANX0aA0IAAADmkR4EQgAAAMhWfARCAAAAQrvkA0IAAIDCg5sGQgAAgHrcGghCAABAPOocCEIAAIDJTqkIQgAAgPsKpglCAAAAYSUiC0IAAECB8TUMQgAAwDte4wxCAACAt7YSDUIAAABvueoOQgAAAPu/+Q1CAABA+7g9DkIAAMBolPINQgAAwM6BmQ5CAABAyjYTD0IAAIBvkosPQgAAQIT90g9CAAAAwkdtEEIAAMADNPwQQgAAwDh4QBJCAACA484tE0IAACDhpzQTQgAAIHx0IRRCAAAAv7DLFEIAAECb2KAUQgAAwJ/ulxRCAAAAvRl9FUIAAGADAV0WQgAA4N8LzRZCAACAPZCgFkIAAKBCx8YWQgAA4P/1NhZCAACAu4XOFUIAAEC72CQWQgAAoLvcjBdCAACg3TLYF0IAAKDnxVgYQgAAwFuFwxhCAADgPF1iGUIAAIDzW3YZQgAAwAOHzRlCAAAAO+84GkIAAKCnveAZQgAAAGZD0xlCAADgGBXmGkIAACDeq/kaQgAAwIMZMRxCAABg/7qfHUIAAOBEbVscQgAA4AbMvBxCAAAgPSWxHEIAAKAF+2AcQgAAQDqIPx1CAABAuXltH0IAAMC67rIfQgAAAIJcESBCAADAltS+IEIAAPCB8NIgQgAAYCVSNSFCAADAGswkIUIAAOAgixYiQgAA4ON6hiJCAADw/RXuIkIAAKCsLdIiQgAAMMFBBSNCAAAQYQIQI0IAAGDEQosiQgAA4AG1uiJCAACAIO/kIkIAAMDllgojQgAAAEVe9SFCAACgX0jhIkIAAOBV5QMjQgAAAKo6SSNC",
          "dtype": "f8"
         },
         "yaxis": "y"
        },
        {
         "hovertemplate": "Emmissionstyp=Co2_land_use<br>Jahr=%{x}<br> CO₂ Emissionen (Mt)=%{y}<extra></extra>",
         "legendgroup": "Co2_land_use",
         "line": {
          "color": "#EF553B",
          "dash": "solid"
         },
         "marker": {
          "symbol": "circle"
         },
         "mode": "lines",
         "name": "Co2_land_use",
         "orientation": "v",
         "showlegend": true,
         "type": "scatter",
         "x": {
          "bdata": "Ogc7BzwHPQc+Bz8HQAdBB0IHQwdEB0UHRgdHB0gHSQdKB0sHTAdNB04HTwdQB1EHUgdTB1QHVQdWB1cHWAdZB1oHWwdcB10HXgdfB2AHYQdiB2MHZAdlB2YHZwdoB2kHagdrB2wHbQduB28HcAdxB3IHcwd0B3UHdgd3B3gHeQd6B3sHfAd9B34HfweAB4EHggeDB4QHhQeGB4cHiAeJB4oHiweMB40HjgePB5AHkQeSB5MHlAeVB5YHlweYB5kHmgebB5wHnQeeB58HoAehB6IHowekB6UHpgenB6gHqQeqB6sHrAetB64HrwewB7EHsgezB7QHtQe2B7cHuAe5B7oHuwe8B70Hvge/B8AHwQfCB8MHxAfFB8YHxwfIB8kHygfLB8wHzQfOB88H0AfRB9IH0wfUB9UH1gfXB9gH2QfaB9sH3AfdB94H3wfgB+EH4gfjB+QH5QfmB+cH",
          "dtype": "i2"
         },
         "xaxis": "x",
         "y": {
          "bdata": "AAAAYMCo40EAAIA7LQLlQQAAAP0+SuVBAACA4Pyl5UEAAIDdnbflQQAAALxXcuVBAAAAfbIe5kEAAIAbwPzlQQAAADkJKuZBAAAAo8+j5kEAAIDjC7jkQQAAgJtPnuRBAAAAVP9q5EEAAABaayvkQQAAgOPEguNBAAAACJ4o40EAAACDm27jQQAAAIFPJuNBAACAQB/q4kEAAAA/SELjQQAAgMGdH+VBAAAAYJFE5UEAAIBlMb7mQQAAABtPNOZBAAAAO5Gt50EAAABAlU7oQQAAACSTduhBAACAgie050EAAID7OGroQQAAgBpUXehBAAAAb3Av6UEAAIB6RSnpQQAAAHq+f+pBAAAAf3vr6UEAAABB+A/rQQAAAFwMDutBAAAAuzNq6kEAAICl3oDrQQAAgGFnkupBAAAABqVm60EAAIBjqW7tQQAAAAnJ/+5BAAAArp6P7kEAAADFCPTvQQAAgIjFCPBBAACA2dgN8EEAAADm+p/vQQAAgHhSaPBBAABAARk78EEAAICHkpHwQQAAgFZZyfBBAAAAWcfi8EEAAABi3DzxQQAAwP/6H/FBAACAS1Bu8UEAAIANJPvxQQAAwH42BfJBAACATY6w8UEAAAD1qwbyQQAAQL8NbfJBAAAAt/uu8UEAAIByKPvxQQAAQB0cdfFBAAAAjGnR8EEAAABveR/xQQAAwKJhB/FBAADAnyTZ8EEAAICxzu7wQQAAQB7H8fBBAAAAmKqx8EEAAID7QibxQQAAwCHJBvJBAABAXhbk8UEAAACjYUjyQQAAwJ9RVfJBAAAA/pdS8kEAAAD9513yQQAAQB3Pf/JBAAAAwiNn8kEAAAAAYjvyQQAAgK6ws/JBAAAADqdQ80EAAAD9937zQQAAwB/2u/NBAACAs4Di80EAAIAccJnzQQAAAN0Ev/NBAABA/pn/80EAAICoFi/0QQAAAOH89PNBAACAXntV9EEAAAA/eGD1QQAAgH76ffVBAABAYM1P9UEAAEDdajr1QQAAgG+ZNPVBAABA/+wJ9UEAAMA/N//0QQAAwKIrrfRBAAAAA4Jm9EEAAAALgh/3QQAAgP3qb/hBAABAn/oh+EEAAIBa1ov4QQAAQP0VAfpBAAAAVj2J+kEAAMAeDeX6QQAAgCBMSPtBAAAA/ivK+kEAAEA+9dj8QQAAgCFZ+/hBAACAuY9o+UEAAEABbJX3QQAAAD3b8/ZBAAAA7mnT9UEAAEC/g/T0QQAAAPvgdPNBAACAHage9EEAAMAgYN3zQQAAAD6evfVBAACA3VE29UEAAIDp/hDzQQAAgHHWFPRBAABAYiWJ80EAAIDrXCTzQQAAAN702PJBAACAwqXw8kEAAEBgV4r0QQAAAOBKKvRBAADAPqJ18UEAAABeaIHyQQAAQH8w/vFBAACAgzXt8EEAAIDnSdPxQQAAgEXYAfVBAAAA3tq180EAAIBsIZf0QQAAAP1u5PNBAACAgm9D80EAAIBB4HPyQQAAgGEOivJBAACAor+D8kEAAICgbJbzQQAAgKFxh/JBAAAA8Ivw9UEAAAAevjz0QQAAgJ0BZvZBAACAaHOX+0EAAABI0eP2QQAAwD/TXPZBAACAW9K780EAAIBnfcDxQQAAAHKNGvNBAAAAzTii9kEAAAACpSH0QQAAAGdnOPJBAABAYiHd80EAAIBdvB3xQQAAwAE6LvJBAAAAxqil80EAAIAernH0QQAAgGe/qfNBAAAA7xAO9UEAAEDdJA/zQQAAALA1GvRBAACAAlWb9EEAAIBcIWrwQQAAgNsIhu9BAAAAhDel7EEAAAD/ozbsQQAAgCRcn+lBAACAhGN46kEAAICh/WHqQQAAAD71AetB",
          "dtype": "f8"
         },
         "yaxis": "y"
        }
       ],
       "layout": {
        "legend": {
         "title": {
          "text": "Emmissionstyp"
         },
         "tracegroupgap": 0
        },
        "template": {
         "data": {
          "bar": [
           {
            "error_x": {
             "color": "#2a3f5f"
            },
            "error_y": {
             "color": "#2a3f5f"
            },
            "marker": {
             "line": {
              "color": "#E5ECF6",
              "width": 0.5
             },
             "pattern": {
              "fillmode": "overlay",
              "size": 10,
              "solidity": 0.2
             }
            },
            "type": "bar"
           }
          ],
          "barpolar": [
           {
            "marker": {
             "line": {
              "color": "#E5ECF6",
              "width": 0.5
             },
             "pattern": {
              "fillmode": "overlay",
              "size": 10,
              "solidity": 0.2
             }
            },
            "type": "barpolar"
           }
          ],
          "carpet": [
           {
            "aaxis": {
             "endlinecolor": "#2a3f5f",
             "gridcolor": "white",
             "linecolor": "white",
             "minorgridcolor": "white",
             "startlinecolor": "#2a3f5f"
            },
            "baxis": {
             "endlinecolor": "#2a3f5f",
             "gridcolor": "white",
             "linecolor": "white",
             "minorgridcolor": "white",
             "startlinecolor": "#2a3f5f"
            },
            "type": "carpet"
           }
          ],
          "choropleth": [
           {
            "colorbar": {
             "outlinewidth": 0,
             "ticks": ""
            },
            "type": "choropleth"
           }
          ],
          "contour": [
           {
            "colorbar": {
             "outlinewidth": 0,
             "ticks": ""
            },
            "colorscale": [
             [
              0,
              "#0d0887"
             ],
             [
              0.1111111111111111,
              "#46039f"
             ],
             [
              0.2222222222222222,
              "#7201a8"
             ],
             [
              0.3333333333333333,
              "#9c179e"
             ],
             [
              0.4444444444444444,
              "#bd3786"
             ],
             [
              0.5555555555555556,
              "#d8576b"
             ],
             [
              0.6666666666666666,
              "#ed7953"
             ],
             [
              0.7777777777777778,
              "#fb9f3a"
             ],
             [
              0.8888888888888888,
              "#fdca26"
             ],
             [
              1,
              "#f0f921"
             ]
            ],
            "type": "contour"
           }
          ],
          "contourcarpet": [
           {
            "colorbar": {
             "outlinewidth": 0,
             "ticks": ""
            },
            "type": "contourcarpet"
           }
          ],
          "heatmap": [
           {
            "colorbar": {
             "outlinewidth": 0,
             "ticks": ""
            },
            "colorscale": [
             [
              0,
              "#0d0887"
             ],
             [
              0.1111111111111111,
              "#46039f"
             ],
             [
              0.2222222222222222,
              "#7201a8"
             ],
             [
              0.3333333333333333,
              "#9c179e"
             ],
             [
              0.4444444444444444,
              "#bd3786"
             ],
             [
              0.5555555555555556,
              "#d8576b"
             ],
             [
              0.6666666666666666,
              "#ed7953"
             ],
             [
              0.7777777777777778,
              "#fb9f3a"
             ],
             [
              0.8888888888888888,
              "#fdca26"
             ],
             [
              1,
              "#f0f921"
             ]
            ],
            "type": "heatmap"
           }
          ],
          "histogram": [
           {
            "marker": {
             "pattern": {
              "fillmode": "overlay",
              "size": 10,
              "solidity": 0.2
             }
            },
            "type": "histogram"
           }
          ],
          "histogram2d": [
           {
            "colorbar": {
             "outlinewidth": 0,
             "ticks": ""
            },
            "colorscale": [
             [
              0,
              "#0d0887"
             ],
             [
              0.1111111111111111,
              "#46039f"
             ],
             [
              0.2222222222222222,
              "#7201a8"
             ],
             [
              0.3333333333333333,
              "#9c179e"
             ],
             [
              0.4444444444444444,
              "#bd3786"
             ],
             [
              0.5555555555555556,
              "#d8576b"
             ],
             [
              0.6666666666666666,
              "#ed7953"
             ],
             [
              0.7777777777777778,
              "#fb9f3a"
             ],
             [
              0.8888888888888888,
              "#fdca26"
             ],
             [
              1,
              "#f0f921"
             ]
            ],
            "type": "histogram2d"
           }
          ],
          "histogram2dcontour": [
           {
            "colorbar": {
             "outlinewidth": 0,
             "ticks": ""
            },
            "colorscale": [
             [
              0,
              "#0d0887"
             ],
             [
              0.1111111111111111,
              "#46039f"
             ],
             [
              0.2222222222222222,
              "#7201a8"
             ],
             [
              0.3333333333333333,
              "#9c179e"
             ],
             [
              0.4444444444444444,
              "#bd3786"
             ],
             [
              0.5555555555555556,
              "#d8576b"
             ],
             [
              0.6666666666666666,
              "#ed7953"
             ],
             [
              0.7777777777777778,
              "#fb9f3a"
             ],
             [
              0.8888888888888888,
              "#fdca26"
             ],
             [
              1,
              "#f0f921"
             ]
            ],
            "type": "histogram2dcontour"
           }
          ],
          "mesh3d": [
           {
            "colorbar": {
             "outlinewidth": 0,
             "ticks": ""
            },
            "type": "mesh3d"
           }
          ],
          "parcoords": [
           {
            "line": {
             "colorbar": {
              "outlinewidth": 0,
              "ticks": ""
             }
            },
            "type": "parcoords"
           }
          ],
          "pie": [
           {
            "automargin": true,
            "type": "pie"
           }
          ],
          "scatter": [
           {
            "fillpattern": {
             "fillmode": "overlay",
             "size": 10,
             "solidity": 0.2
            },
            "type": "scatter"
           }
          ],
          "scatter3d": [
           {
            "line": {
             "colorbar": {
              "outlinewidth": 0,
              "ticks": ""
             }
            },
            "marker": {
             "colorbar": {
              "outlinewidth": 0,
              "ticks": ""
             }
            },
            "type": "scatter3d"
           }
          ],
          "scattercarpet": [
           {
            "marker": {
             "colorbar": {
              "outlinewidth": 0,
              "ticks": ""
             }
            },
            "type": "scattercarpet"
           }
          ],
          "scattergeo": [
           {
            "marker": {
             "colorbar": {
              "outlinewidth": 0,
              "ticks": ""
             }
            },
            "type": "scattergeo"
           }
          ],
          "scattergl": [
           {
            "marker": {
             "colorbar": {
              "outlinewidth": 0,
              "ticks": ""
             }
            },
            "type": "scattergl"
           }
          ],
          "scattermap": [
           {
            "marker": {
             "colorbar": {
              "outlinewidth": 0,
              "ticks": ""
             }
            },
            "type": "scattermap"
           }
          ],
          "scattermapbox": [
           {
            "marker": {
             "colorbar": {
              "outlinewidth": 0,
              "ticks": ""
             }
            },
            "type": "scattermapbox"
           }
          ],
          "scatterpolar": [
           {
            "marker": {
             "colorbar": {
              "outlinewidth": 0,
              "ticks": ""
             }
            },
            "type": "scatterpolar"
           }
          ],
          "scatterpolargl": [
           {
            "marker": {
             "colorbar": {
              "outlinewidth": 0,
              "ticks": ""
             }
            },
            "type": "scatterpolargl"
           }
          ],
          "scatterternary": [
           {
            "marker": {
             "colorbar": {
              "outlinewidth": 0,
              "ticks": ""
             }
            },
            "type": "scatterternary"
           }
          ],
          "surface": [
           {
            "colorbar": {
             "outlinewidth": 0,
             "ticks": ""
            },
            "colorscale": [
             [
              0,
              "#0d0887"
             ],
             [
              0.1111111111111111,
              "#46039f"
             ],
             [
              0.2222222222222222,
              "#7201a8"
             ],
             [
              0.3333333333333333,
              "#9c179e"
             ],
             [
              0.4444444444444444,
              "#bd3786"
             ],
             [
              0.5555555555555556,
              "#d8576b"
             ],
             [
              0.6666666666666666,
              "#ed7953"
             ],
             [
              0.7777777777777778,
              "#fb9f3a"
             ],
             [
              0.8888888888888888,
              "#fdca26"
             ],
             [
              1,
              "#f0f921"
             ]
            ],
            "type": "surface"
           }
          ],
          "table": [
           {
            "cells": {
             "fill": {
              "color": "#EBF0F8"
             },
             "line": {
              "color": "white"
             }
            },
            "header": {
             "fill": {
              "color": "#C8D4E3"
             },
             "line": {
              "color": "white"
             }
            },
            "type": "table"
           }
          ]
         },
         "layout": {
          "annotationdefaults": {
           "arrowcolor": "#2a3f5f",
           "arrowhead": 0,
           "arrowwidth": 1
          },
          "autotypenumbers": "strict",
          "coloraxis": {
           "colorbar": {
            "outlinewidth": 0,
            "ticks": ""
           }
          },
          "colorscale": {
           "diverging": [
            [
             0,
             "#8e0152"
            ],
            [
             0.1,
             "#c51b7d"
            ],
            [
             0.2,
             "#de77ae"
            ],
            [
             0.3,
             "#f1b6da"
            ],
            [
             0.4,
             "#fde0ef"
            ],
            [
             0.5,
             "#f7f7f7"
            ],
            [
             0.6,
             "#e6f5d0"
            ],
            [
             0.7,
             "#b8e186"
            ],
            [
             0.8,
             "#7fbc41"
            ],
            [
             0.9,
             "#4d9221"
            ],
            [
             1,
             "#276419"
            ]
           ],
           "sequential": [
            [
             0,
             "#0d0887"
            ],
            [
             0.1111111111111111,
             "#46039f"
            ],
            [
             0.2222222222222222,
             "#7201a8"
            ],
            [
             0.3333333333333333,
             "#9c179e"
            ],
            [
             0.4444444444444444,
             "#bd3786"
            ],
            [
             0.5555555555555556,
             "#d8576b"
            ],
            [
             0.6666666666666666,
             "#ed7953"
            ],
            [
             0.7777777777777778,
             "#fb9f3a"
            ],
            [
             0.8888888888888888,
             "#fdca26"
            ],
            [
             1,
             "#f0f921"
            ]
           ],
           "sequentialminus": [
            [
             0,
             "#0d0887"
            ],
            [
             0.1111111111111111,
             "#46039f"
            ],
            [
             0.2222222222222222,
             "#7201a8"
            ],
            [
             0.3333333333333333,
             "#9c179e"
            ],
            [
             0.4444444444444444,
             "#bd3786"
            ],
            [
             0.5555555555555556,
             "#d8576b"
            ],
            [
             0.6666666666666666,
             "#ed7953"
            ],
            [
             0.7777777777777778,
             "#fb9f3a"
            ],
            [
             0.8888888888888888,
             "#fdca26"
            ],
            [
             1,
             "#f0f921"
            ]
           ]
          },
          "colorway": [
           "#636efa",
           "#EF553B",
           "#00cc96",
           "#ab63fa",
           "#FFA15A",
           "#19d3f3",
           "#FF6692",
           "#B6E880",
           "#FF97FF",
           "#FECB52"
          ],
          "font": {
           "color": "#2a3f5f"
          },
          "geo": {
           "bgcolor": "white",
           "lakecolor": "white",
           "landcolor": "#E5ECF6",
           "showlakes": true,
           "showland": true,
           "subunitcolor": "white"
          },
          "hoverlabel": {
           "align": "left"
          },
          "hovermode": "closest",
          "mapbox": {
           "style": "light"
          },
          "paper_bgcolor": "white",
          "plot_bgcolor": "#E5ECF6",
          "polar": {
           "angularaxis": {
            "gridcolor": "white",
            "linecolor": "white",
            "ticks": ""
           },
           "bgcolor": "#E5ECF6",
           "radialaxis": {
            "gridcolor": "white",
            "linecolor": "white",
            "ticks": ""
           }
          },
          "scene": {
           "xaxis": {
            "backgroundcolor": "#E5ECF6",
            "gridcolor": "white",
            "gridwidth": 2,
            "linecolor": "white",
            "showbackground": true,
            "ticks": "",
            "zerolinecolor": "white"
           },
           "yaxis": {
            "backgroundcolor": "#E5ECF6",
            "gridcolor": "white",
            "gridwidth": 2,
            "linecolor": "white",
            "showbackground": true,
            "ticks": "",
            "zerolinecolor": "white"
           },
           "zaxis": {
            "backgroundcolor": "#E5ECF6",
            "gridcolor": "white",
            "gridwidth": 2,
            "linecolor": "white",
            "showbackground": true,
            "ticks": "",
            "zerolinecolor": "white"
           }
          },
          "shapedefaults": {
           "line": {
            "color": "#2a3f5f"
           }
          },
          "ternary": {
           "aaxis": {
            "gridcolor": "white",
            "linecolor": "white",
            "ticks": ""
           },
           "baxis": {
            "gridcolor": "white",
            "linecolor": "white",
            "ticks": ""
           },
           "bgcolor": "#E5ECF6",
           "caxis": {
            "gridcolor": "white",
            "linecolor": "white",
            "ticks": ""
           }
          },
          "title": {
           "x": 0.05
          },
          "xaxis": {
           "automargin": true,
           "gridcolor": "white",
           "linecolor": "white",
           "ticks": "",
           "title": {
            "standoff": 15
           },
           "zerolinecolor": "white",
           "zerolinewidth": 2
          },
          "yaxis": {
           "automargin": true,
           "gridcolor": "white",
           "linecolor": "white",
           "ticks": "",
           "title": {
            "standoff": 15
           },
           "zerolinecolor": "white",
           "zerolinewidth": 2
          }
         }
        },
        "title": {
         "text": "Weltweite CO₂ Emissionen : mit ond ohne Landnutzung"
        },
        "xaxis": {
         "anchor": "y",
         "domain": [
          0,
          1
         ],
         "title": {
          "text": "Jahr"
         }
        },
        "yaxis": {
         "anchor": "x",
         "domain": [
          0,
          1
         ],
         "title": {
          "text": " CO₂ Emissionen (Mt)"
         }
        }
       }
      }
     },
     "metadata": {},
     "output_type": "display_data"
    }
   ],
   "source": [
    "# beide Tabellen zusammenfuegen auf Jahr spalte\n",
    "land_use_vergleich= pd.merge(\n",
    "    land_use_incl_weltweit[['Year', 'Co2_land_use_incl']],\n",
    "    land_use_weltweit[['Year', 'Co2_land_use']],\n",
    "    on = 'Year',\n",
    "    how = 'inner'\n",
    ")\n",
    "\n",
    "fig = px.line(\n",
    "    land_use_vergleich,\n",
    "    x='Year',\n",
    "    y=['Co2_land_use_incl', 'Co2_land_use'],\n",
    "    labels={\n",
    "        'value': ' CO₂ Emissionen (Mt)',\n",
    "        'Year': 'Jahr',\n",
    "        'variable': 'Emmissionstyp'\n",
    "    },\n",
    "    title=\"Weltweite CO₂ Emissionen : mit ond ohne Landnutzung\"\n",
    ")\n",
    "\n",
    "fig.show()"
   ]
  },
  {
   "cell_type": "markdown",
   "id": "17a68d4f",
   "metadata": {},
   "source": [
    "Landnutzung : z.B Wenn Wälder abgeholzt werden, Wiesen in Felder umgewandelt werden ...\n"
   ]
  },
  {
   "cell_type": "markdown",
   "id": "bb9a927a",
   "metadata": {},
   "source": [
    "### 5. 10 top Verbraucher"
   ]
  },
  {
   "cell_type": "code",
   "execution_count": 16,
   "id": "eda5eeaf",
   "metadata": {},
   "outputs": [
    {
     "data": {
      "text/html": [
       "<div>\n",
       "<style scoped>\n",
       "    .dataframe tbody tr th:only-of-type {\n",
       "        vertical-align: middle;\n",
       "    }\n",
       "\n",
       "    .dataframe tbody tr th {\n",
       "        vertical-align: top;\n",
       "    }\n",
       "\n",
       "    .dataframe thead th {\n",
       "        text-align: right;\n",
       "    }\n",
       "</style>\n",
       "<table border=\"1\" class=\"dataframe\">\n",
       "  <thead>\n",
       "    <tr style=\"text-align: right;\">\n",
       "      <th></th>\n",
       "      <th>Entity</th>\n",
       "      <th>Year</th>\n",
       "      <th>Co2_coal</th>\n",
       "    </tr>\n",
       "  </thead>\n",
       "  <tbody>\n",
       "    <tr>\n",
       "      <th>71</th>\n",
       "      <td>Afghanistan</td>\n",
       "      <td>2020</td>\n",
       "      <td>4115975.0</td>\n",
       "    </tr>\n",
       "    <tr>\n",
       "      <th>211</th>\n",
       "      <td>Africa</td>\n",
       "      <td>2020</td>\n",
       "      <td>433637900.0</td>\n",
       "    </tr>\n",
       "    <tr>\n",
       "      <th>302</th>\n",
       "      <td>Albania</td>\n",
       "      <td>2020</td>\n",
       "      <td>567920.0</td>\n",
       "    </tr>\n",
       "    <tr>\n",
       "      <th>410</th>\n",
       "      <td>Algeria</td>\n",
       "      <td>2020</td>\n",
       "      <td>542272.0</td>\n",
       "    </tr>\n",
       "    <tr>\n",
       "      <th>444</th>\n",
       "      <td>Andorra</td>\n",
       "      <td>2020</td>\n",
       "      <td>0.0</td>\n",
       "    </tr>\n",
       "  </tbody>\n",
       "</table>\n",
       "</div>"
      ],
      "text/plain": [
       "          Entity  Year     Co2_coal\n",
       "71   Afghanistan  2020    4115975.0\n",
       "211       Africa  2020  433637900.0\n",
       "302      Albania  2020     567920.0\n",
       "410      Algeria  2020     542272.0\n",
       "444      Andorra  2020          0.0"
      ]
     },
     "execution_count": 16,
     "metadata": {},
     "output_type": "execute_result"
    }
   ],
   "source": [
    "excluded = [\"economic_groups\", 'political_unions', 'global', 'exclusions']\n",
    "coal_clean = exclude_entities(coal, excluded)\n",
    "gas_clean = exclude_entities(gas, excluded)\n",
    "oil_clean = exclude_entities(oil, excluded)\n",
    "\n",
    "\n",
    "# Filter auf Jahr\n",
    "coal_2020 = coal_clean[coal_clean['Year'] == 2020]\n",
    "gas_2020 = gas_clean[gas_clean['Year'] == 2020]\n",
    "oil_2020 = oil_clean[oil_clean['Year'] == 2020]\n",
    "\n",
    "#Filter auf top_10\n",
    "coal_top10_2020 = coal_2020.nlargest(10, 'Co2_coal')\n",
    "gas_top10_2020 = gas_clean[gas_clean['Year'] == 2020].nlargest(10, 'Co2_gas')\n",
    "oil_top10_2020 = oil_clean[oil_clean['Year'] == 2020].nlargest(10, 'Co2_oil')\n",
    "\n",
    "coal_2020.head()\n",
    "\n"
   ]
  },
  {
   "cell_type": "code",
   "execution_count": 17,
   "id": "c912ce08",
   "metadata": {},
   "outputs": [
    {
     "data": {
      "application/vnd.plotly.v1+json": {
       "config": {
        "plotlyServerURL": "https://plot.ly"
       },
       "data": [
        {
         "alignmentgroup": "True",
         "hovertemplate": "Energie=Kohle<br>Entity=%{x}<br>CO2 (tonnen)=%{y}<extra></extra>",
         "legendgroup": "Kohle",
         "marker": {
          "color": "#636efa",
          "pattern": {
           "shape": ""
          }
         },
         "name": "Kohle",
         "offsetgroup": "Kohle",
         "orientation": "v",
         "showlegend": true,
         "textposition": "auto",
         "type": "bar",
         "x": [
          "Africa",
          "Asia",
          "China",
          "Europe",
          "India",
          "Iran",
          "Japan",
          "North America",
          "Russia",
          "Saudi Arabia",
          "South Africa",
          "South America",
          "United States"
         ],
         "xaxis": "x",
         "y": {
          "bdata": "AAAADMrYuUEAAADsfEUFQgAAAAa6m/xBAAAAfGt10UEAAAA9ykXXQQAAAAAAAPh/AAAAwNXPt0EAAAD4bwLNQQAAAAQu6rVBAAAAAAAA+H8AAACwGEm2QQAAAAAAAPh/AAAAFgAqykE=",
          "dtype": "f8"
         },
         "yaxis": "y"
        },
        {
         "alignmentgroup": "True",
         "hovertemplate": "Energie=Gas<br>Entity=%{x}<br>CO2 (tonnen)=%{y}<extra></extra>",
         "legendgroup": "Gas",
         "marker": {
          "color": "#EF553B",
          "pattern": {
           "shape": ""
          }
         },
         "name": "Gas",
         "offsetgroup": "Gas",
         "orientation": "v",
         "showlegend": true,
         "textposition": "auto",
         "type": "bar",
         "x": [
          "Africa",
          "Asia",
          "China",
          "Europe",
          "India",
          "Iran",
          "Japan",
          "North America",
          "Russia",
          "Saudi Arabia",
          "South Africa",
          "South America",
          "United States"
         ],
         "xaxis": "x",
         "y": {
          "bdata": "AAAAopSosUEAAADh+LnmQQAAAP4UKcRBAAAATCkL20EAAAAAAAD4fwAAAOBlvLtBAAAAAAAA+H8AAACB+fzeQQAAAMapX8dBAAAAIDoCrEEAAAAAAAD4fwAAAMQWZKtBAAAAVByu2EE=",
          "dtype": "f8"
         },
         "yaxis": "y"
        },
        {
         "alignmentgroup": "True",
         "hovertemplate": "Energie=Oel<br>Entity=%{x}<br>CO2 (tonnen)=%{y}<extra></extra>",
         "legendgroup": "Oel",
         "marker": {
          "color": "#00cc96",
          "pattern": {
           "shape": ""
          }
         },
         "name": "Oel",
         "offsetgroup": "Oel",
         "orientation": "v",
         "showlegend": true,
         "textposition": "auto",
         "type": "bar",
         "x": [
          "Africa",
          "Asia",
          "China",
          "Europe",
          "India",
          "Iran",
          "Japan",
          "North America",
          "Russia",
          "Saudi Arabia",
          "South Africa",
          "South America",
          "United States"
         ],
         "xaxis": "x",
         "y": {
          "bdata": "AAAAcNh7vUEAAIAh5tXwQQAAAPv6sdZBAAAAVliq2kEAAAAIwg/CQQAAAAAAAPh/AAAAXgkTt0EAAACzbDbjQQAAAMC08bZBAAAAAAAA+H8AAAAAAAD4fwAAAHaRq8BBAAAAFMOC3kE=",
          "dtype": "f8"
         },
         "yaxis": "y"
        }
       ],
       "layout": {
        "barmode": "group",
        "legend": {
         "title": {
          "text": "Energie"
         },
         "tracegroupgap": 0
        },
        "template": {
         "data": {
          "bar": [
           {
            "error_x": {
             "color": "#2a3f5f"
            },
            "error_y": {
             "color": "#2a3f5f"
            },
            "marker": {
             "line": {
              "color": "#E5ECF6",
              "width": 0.5
             },
             "pattern": {
              "fillmode": "overlay",
              "size": 10,
              "solidity": 0.2
             }
            },
            "type": "bar"
           }
          ],
          "barpolar": [
           {
            "marker": {
             "line": {
              "color": "#E5ECF6",
              "width": 0.5
             },
             "pattern": {
              "fillmode": "overlay",
              "size": 10,
              "solidity": 0.2
             }
            },
            "type": "barpolar"
           }
          ],
          "carpet": [
           {
            "aaxis": {
             "endlinecolor": "#2a3f5f",
             "gridcolor": "white",
             "linecolor": "white",
             "minorgridcolor": "white",
             "startlinecolor": "#2a3f5f"
            },
            "baxis": {
             "endlinecolor": "#2a3f5f",
             "gridcolor": "white",
             "linecolor": "white",
             "minorgridcolor": "white",
             "startlinecolor": "#2a3f5f"
            },
            "type": "carpet"
           }
          ],
          "choropleth": [
           {
            "colorbar": {
             "outlinewidth": 0,
             "ticks": ""
            },
            "type": "choropleth"
           }
          ],
          "contour": [
           {
            "colorbar": {
             "outlinewidth": 0,
             "ticks": ""
            },
            "colorscale": [
             [
              0,
              "#0d0887"
             ],
             [
              0.1111111111111111,
              "#46039f"
             ],
             [
              0.2222222222222222,
              "#7201a8"
             ],
             [
              0.3333333333333333,
              "#9c179e"
             ],
             [
              0.4444444444444444,
              "#bd3786"
             ],
             [
              0.5555555555555556,
              "#d8576b"
             ],
             [
              0.6666666666666666,
              "#ed7953"
             ],
             [
              0.7777777777777778,
              "#fb9f3a"
             ],
             [
              0.8888888888888888,
              "#fdca26"
             ],
             [
              1,
              "#f0f921"
             ]
            ],
            "type": "contour"
           }
          ],
          "contourcarpet": [
           {
            "colorbar": {
             "outlinewidth": 0,
             "ticks": ""
            },
            "type": "contourcarpet"
           }
          ],
          "heatmap": [
           {
            "colorbar": {
             "outlinewidth": 0,
             "ticks": ""
            },
            "colorscale": [
             [
              0,
              "#0d0887"
             ],
             [
              0.1111111111111111,
              "#46039f"
             ],
             [
              0.2222222222222222,
              "#7201a8"
             ],
             [
              0.3333333333333333,
              "#9c179e"
             ],
             [
              0.4444444444444444,
              "#bd3786"
             ],
             [
              0.5555555555555556,
              "#d8576b"
             ],
             [
              0.6666666666666666,
              "#ed7953"
             ],
             [
              0.7777777777777778,
              "#fb9f3a"
             ],
             [
              0.8888888888888888,
              "#fdca26"
             ],
             [
              1,
              "#f0f921"
             ]
            ],
            "type": "heatmap"
           }
          ],
          "histogram": [
           {
            "marker": {
             "pattern": {
              "fillmode": "overlay",
              "size": 10,
              "solidity": 0.2
             }
            },
            "type": "histogram"
           }
          ],
          "histogram2d": [
           {
            "colorbar": {
             "outlinewidth": 0,
             "ticks": ""
            },
            "colorscale": [
             [
              0,
              "#0d0887"
             ],
             [
              0.1111111111111111,
              "#46039f"
             ],
             [
              0.2222222222222222,
              "#7201a8"
             ],
             [
              0.3333333333333333,
              "#9c179e"
             ],
             [
              0.4444444444444444,
              "#bd3786"
             ],
             [
              0.5555555555555556,
              "#d8576b"
             ],
             [
              0.6666666666666666,
              "#ed7953"
             ],
             [
              0.7777777777777778,
              "#fb9f3a"
             ],
             [
              0.8888888888888888,
              "#fdca26"
             ],
             [
              1,
              "#f0f921"
             ]
            ],
            "type": "histogram2d"
           }
          ],
          "histogram2dcontour": [
           {
            "colorbar": {
             "outlinewidth": 0,
             "ticks": ""
            },
            "colorscale": [
             [
              0,
              "#0d0887"
             ],
             [
              0.1111111111111111,
              "#46039f"
             ],
             [
              0.2222222222222222,
              "#7201a8"
             ],
             [
              0.3333333333333333,
              "#9c179e"
             ],
             [
              0.4444444444444444,
              "#bd3786"
             ],
             [
              0.5555555555555556,
              "#d8576b"
             ],
             [
              0.6666666666666666,
              "#ed7953"
             ],
             [
              0.7777777777777778,
              "#fb9f3a"
             ],
             [
              0.8888888888888888,
              "#fdca26"
             ],
             [
              1,
              "#f0f921"
             ]
            ],
            "type": "histogram2dcontour"
           }
          ],
          "mesh3d": [
           {
            "colorbar": {
             "outlinewidth": 0,
             "ticks": ""
            },
            "type": "mesh3d"
           }
          ],
          "parcoords": [
           {
            "line": {
             "colorbar": {
              "outlinewidth": 0,
              "ticks": ""
             }
            },
            "type": "parcoords"
           }
          ],
          "pie": [
           {
            "automargin": true,
            "type": "pie"
           }
          ],
          "scatter": [
           {
            "fillpattern": {
             "fillmode": "overlay",
             "size": 10,
             "solidity": 0.2
            },
            "type": "scatter"
           }
          ],
          "scatter3d": [
           {
            "line": {
             "colorbar": {
              "outlinewidth": 0,
              "ticks": ""
             }
            },
            "marker": {
             "colorbar": {
              "outlinewidth": 0,
              "ticks": ""
             }
            },
            "type": "scatter3d"
           }
          ],
          "scattercarpet": [
           {
            "marker": {
             "colorbar": {
              "outlinewidth": 0,
              "ticks": ""
             }
            },
            "type": "scattercarpet"
           }
          ],
          "scattergeo": [
           {
            "marker": {
             "colorbar": {
              "outlinewidth": 0,
              "ticks": ""
             }
            },
            "type": "scattergeo"
           }
          ],
          "scattergl": [
           {
            "marker": {
             "colorbar": {
              "outlinewidth": 0,
              "ticks": ""
             }
            },
            "type": "scattergl"
           }
          ],
          "scattermap": [
           {
            "marker": {
             "colorbar": {
              "outlinewidth": 0,
              "ticks": ""
             }
            },
            "type": "scattermap"
           }
          ],
          "scattermapbox": [
           {
            "marker": {
             "colorbar": {
              "outlinewidth": 0,
              "ticks": ""
             }
            },
            "type": "scattermapbox"
           }
          ],
          "scatterpolar": [
           {
            "marker": {
             "colorbar": {
              "outlinewidth": 0,
              "ticks": ""
             }
            },
            "type": "scatterpolar"
           }
          ],
          "scatterpolargl": [
           {
            "marker": {
             "colorbar": {
              "outlinewidth": 0,
              "ticks": ""
             }
            },
            "type": "scatterpolargl"
           }
          ],
          "scatterternary": [
           {
            "marker": {
             "colorbar": {
              "outlinewidth": 0,
              "ticks": ""
             }
            },
            "type": "scatterternary"
           }
          ],
          "surface": [
           {
            "colorbar": {
             "outlinewidth": 0,
             "ticks": ""
            },
            "colorscale": [
             [
              0,
              "#0d0887"
             ],
             [
              0.1111111111111111,
              "#46039f"
             ],
             [
              0.2222222222222222,
              "#7201a8"
             ],
             [
              0.3333333333333333,
              "#9c179e"
             ],
             [
              0.4444444444444444,
              "#bd3786"
             ],
             [
              0.5555555555555556,
              "#d8576b"
             ],
             [
              0.6666666666666666,
              "#ed7953"
             ],
             [
              0.7777777777777778,
              "#fb9f3a"
             ],
             [
              0.8888888888888888,
              "#fdca26"
             ],
             [
              1,
              "#f0f921"
             ]
            ],
            "type": "surface"
           }
          ],
          "table": [
           {
            "cells": {
             "fill": {
              "color": "#EBF0F8"
             },
             "line": {
              "color": "white"
             }
            },
            "header": {
             "fill": {
              "color": "#C8D4E3"
             },
             "line": {
              "color": "white"
             }
            },
            "type": "table"
           }
          ]
         },
         "layout": {
          "annotationdefaults": {
           "arrowcolor": "#2a3f5f",
           "arrowhead": 0,
           "arrowwidth": 1
          },
          "autotypenumbers": "strict",
          "coloraxis": {
           "colorbar": {
            "outlinewidth": 0,
            "ticks": ""
           }
          },
          "colorscale": {
           "diverging": [
            [
             0,
             "#8e0152"
            ],
            [
             0.1,
             "#c51b7d"
            ],
            [
             0.2,
             "#de77ae"
            ],
            [
             0.3,
             "#f1b6da"
            ],
            [
             0.4,
             "#fde0ef"
            ],
            [
             0.5,
             "#f7f7f7"
            ],
            [
             0.6,
             "#e6f5d0"
            ],
            [
             0.7,
             "#b8e186"
            ],
            [
             0.8,
             "#7fbc41"
            ],
            [
             0.9,
             "#4d9221"
            ],
            [
             1,
             "#276419"
            ]
           ],
           "sequential": [
            [
             0,
             "#0d0887"
            ],
            [
             0.1111111111111111,
             "#46039f"
            ],
            [
             0.2222222222222222,
             "#7201a8"
            ],
            [
             0.3333333333333333,
             "#9c179e"
            ],
            [
             0.4444444444444444,
             "#bd3786"
            ],
            [
             0.5555555555555556,
             "#d8576b"
            ],
            [
             0.6666666666666666,
             "#ed7953"
            ],
            [
             0.7777777777777778,
             "#fb9f3a"
            ],
            [
             0.8888888888888888,
             "#fdca26"
            ],
            [
             1,
             "#f0f921"
            ]
           ],
           "sequentialminus": [
            [
             0,
             "#0d0887"
            ],
            [
             0.1111111111111111,
             "#46039f"
            ],
            [
             0.2222222222222222,
             "#7201a8"
            ],
            [
             0.3333333333333333,
             "#9c179e"
            ],
            [
             0.4444444444444444,
             "#bd3786"
            ],
            [
             0.5555555555555556,
             "#d8576b"
            ],
            [
             0.6666666666666666,
             "#ed7953"
            ],
            [
             0.7777777777777778,
             "#fb9f3a"
            ],
            [
             0.8888888888888888,
             "#fdca26"
            ],
            [
             1,
             "#f0f921"
            ]
           ]
          },
          "colorway": [
           "#636efa",
           "#EF553B",
           "#00cc96",
           "#ab63fa",
           "#FFA15A",
           "#19d3f3",
           "#FF6692",
           "#B6E880",
           "#FF97FF",
           "#FECB52"
          ],
          "font": {
           "color": "#2a3f5f"
          },
          "geo": {
           "bgcolor": "white",
           "lakecolor": "white",
           "landcolor": "#E5ECF6",
           "showlakes": true,
           "showland": true,
           "subunitcolor": "white"
          },
          "hoverlabel": {
           "align": "left"
          },
          "hovermode": "closest",
          "mapbox": {
           "style": "light"
          },
          "paper_bgcolor": "white",
          "plot_bgcolor": "#E5ECF6",
          "polar": {
           "angularaxis": {
            "gridcolor": "white",
            "linecolor": "white",
            "ticks": ""
           },
           "bgcolor": "#E5ECF6",
           "radialaxis": {
            "gridcolor": "white",
            "linecolor": "white",
            "ticks": ""
           }
          },
          "scene": {
           "xaxis": {
            "backgroundcolor": "#E5ECF6",
            "gridcolor": "white",
            "gridwidth": 2,
            "linecolor": "white",
            "showbackground": true,
            "ticks": "",
            "zerolinecolor": "white"
           },
           "yaxis": {
            "backgroundcolor": "#E5ECF6",
            "gridcolor": "white",
            "gridwidth": 2,
            "linecolor": "white",
            "showbackground": true,
            "ticks": "",
            "zerolinecolor": "white"
           },
           "zaxis": {
            "backgroundcolor": "#E5ECF6",
            "gridcolor": "white",
            "gridwidth": 2,
            "linecolor": "white",
            "showbackground": true,
            "ticks": "",
            "zerolinecolor": "white"
           }
          },
          "shapedefaults": {
           "line": {
            "color": "#2a3f5f"
           }
          },
          "ternary": {
           "aaxis": {
            "gridcolor": "white",
            "linecolor": "white",
            "ticks": ""
           },
           "baxis": {
            "gridcolor": "white",
            "linecolor": "white",
            "ticks": ""
           },
           "bgcolor": "#E5ECF6",
           "caxis": {
            "gridcolor": "white",
            "linecolor": "white",
            "ticks": ""
           }
          },
          "title": {
           "x": 0.05
          },
          "xaxis": {
           "automargin": true,
           "gridcolor": "white",
           "linecolor": "white",
           "ticks": "",
           "title": {
            "standoff": 15
           },
           "zerolinecolor": "white",
           "zerolinewidth": 2
          },
          "yaxis": {
           "automargin": true,
           "gridcolor": "white",
           "linecolor": "white",
           "ticks": "",
           "title": {
            "standoff": 15
           },
           "zerolinecolor": "white",
           "zerolinewidth": 2
          }
         }
        },
        "title": {
         "text": "Vergleich der 10 groeßten CO₂-Emissionen Verbraucher (2020)"
        },
        "xaxis": {
         "anchor": "y",
         "domain": [
          0,
          1
         ],
         "title": {
          "text": "Entity"
         }
        },
        "yaxis": {
         "anchor": "x",
         "domain": [
          0,
          1
         ],
         "title": {
          "text": "CO2 (tonnen)"
         }
        }
       }
      }
     },
     "metadata": {},
     "output_type": "display_data"
    }
   ],
   "source": [
    "# Umnennung der Spalten\n",
    "coal_top10_2020 = coal_top10_2020[['Entity', 'Co2_coal']].rename(columns={'Co2_coal': 'Kohle'})\n",
    "gas_top10_2020 = gas_top10_2020[['Entity', 'Co2_gas']].rename(columns={'Co2_gas': 'Gas'})\n",
    "oil_top10_2020 = oil_top10_2020[['Entity', 'Co2_oil']].rename(columns={'Co2_oil': 'Oel'})\n",
    "\n",
    "# # ressourcen mergen auf eine df\n",
    "merged = coal_top10_2020.merge(gas_top10_2020, on='Entity', how='outer')\n",
    "merged = merged.merge(oil_top10_2020, on='Entity', how='outer')\n",
    "\n",
    "\n",
    "# Umwandlung in merged_long\n",
    "merged_long = pd.melt(\n",
    "    merged,\n",
    "    id_vars='Entity',\n",
    "    value_vars=['Kohle', 'Gas', 'Oel'],\n",
    "    var_name='Energie',\n",
    "    value_name='CO2 (tonnen)'\n",
    ")\n",
    "\n",
    "# Grafik erstellen\n",
    "fig = px.bar(\n",
    "    merged_long,\n",
    "    x='Entity',\n",
    "    y='CO2 (tonnen)',\n",
    "    color='Energie',\n",
    "    barmode='group',\n",
    "    title='Vergleich der 10 groeßten CO₂-Emissionen Verbraucher (2020)'\n",
    ")\n",
    "\n",
    "fig.show()"
   ]
  },
  {
   "cell_type": "markdown",
   "id": "caaf9374",
   "metadata": {},
   "source": [
    "### 6. Vergleich Bevölkerung mit Co2/ Einwohner"
   ]
  },
  {
   "cell_type": "code",
   "execution_count": 18,
   "id": "378dc316",
   "metadata": {},
   "outputs": [
    {
     "data": {
      "application/vnd.plotly.v1+json": {
       "config": {
        "plotlyServerURL": "https://plot.ly"
       },
       "data": [
        {
         "customdata": [
          [
           "419.3 Mio",
           419266080.01227075
          ]
         ],
         "hovertemplate": "<b>%{hovertext}</b><br><br>Land=Africa<br>CO₂-Emissionen pro Kopf (Tonnen)=%{x:.2f}<br>Gesamte CO₂-Emissionen (Gt)=%{y:.2f}<br>Bevölkerung (geschätzt)=%{customdata[0]}<extra></extra>",
         "hovertext": [
          "Africa"
         ],
         "legendgroup": "Africa",
         "marker": {
          "color": "#636efa",
          "size": {
           "bdata": "LSQDIH79uEE=",
           "dtype": "f8"
          },
          "sizemode": "area",
          "sizeref": 971920.4277993267,
          "symbol": "circle"
         },
         "mode": "markers",
         "name": "Africa",
         "orientation": "v",
         "showlegend": true,
         "type": "scatter",
         "x": {
          "bdata": "GY7nM6DeCUA=",
          "dtype": "f8"
         },
         "xaxis": "x",
         "y": {
          "bdata": "1eDH4kix9T8=",
          "dtype": "f8"
         },
         "yaxis": "y"
        },
        {
         "customdata": [
          [
           "3498.9 Mio",
           3498913540.077576
          ]
         ],
         "hovertemplate": "<b>%{hovertext}</b><br><br>Land=Asia<br>CO₂-Emissionen pro Kopf (Tonnen)=%{x:.2f}<br>Gesamte CO₂-Emissionen (Gt)=%{y:.2f}<br>Bevölkerung (geschätzt)=%{customdata[0]}<extra></extra>",
         "hovertext": [
          "Asia"
         ],
         "legendgroup": "Asia",
         "marker": {
          "color": "#EF553B",
          "size": {
           "bdata": "gXuC4KUR6kE=",
           "dtype": "f8"
          },
          "sizemode": "area",
          "sizeref": 971920.4277993267,
          "symbol": "circle"
         },
         "mode": "markers",
         "name": "Asia",
         "orientation": "v",
         "showlegend": true,
         "type": "scatter",
         "x": {
          "bdata": "d1OA3gqXF0A=",
          "dtype": "f8"
         },
         "xaxis": "x",
         "y": {
          "bdata": "OdVamIWiNEA=",
          "dtype": "f8"
         },
         "yaxis": "y"
        },
        {
         "customdata": [
          [
           "39.4 Mio",
           39382211.20546826
          ]
         ],
         "hovertemplate": "<b>%{hovertext}</b><br><br>Land=Brazil<br>CO₂-Emissionen pro Kopf (Tonnen)=%{x:.2f}<br>Gesamte CO₂-Emissionen (Gt)=%{y:.2f}<br>Bevölkerung (geschätzt)=%{customdata[0]}<extra></extra>",
         "hovertext": [
          "Brazil"
         ],
         "legendgroup": "Brazil",
         "marker": {
          "color": "#00cc96",
          "size": {
           "bdata": "i8ykGWbHgkE=",
           "dtype": "f8"
          },
          "sizemode": "area",
          "sizeref": 971920.4277993267,
          "symbol": "circle"
         },
         "mode": "markers",
         "name": "Brazil",
         "orientation": "v",
         "showlegend": true,
         "type": "scatter",
         "x": {
          "bdata": "w4L7AQ+cJkA=",
          "dtype": "f8"
         },
         "xaxis": "x",
         "y": {
          "bdata": "2oNaHUp+3D8=",
          "dtype": "f8"
         },
         "yaxis": "y"
        },
        {
         "customdata": [
          [
           "26.5 Mio",
           26465062.785604995
          ]
         ],
         "hovertemplate": "<b>%{hovertext}</b><br><br>Land=Canada<br>CO₂-Emissionen pro Kopf (Tonnen)=%{x:.2f}<br>Gesamte CO₂-Emissionen (Gt)=%{y:.2f}<br>Bevölkerung (geschätzt)=%{customdata[0]}<extra></extra>",
         "hovertext": [
          "Canada"
         ],
         "legendgroup": "Canada",
         "marker": {
          "color": "#ab63fa",
          "size": {
           "bdata": "i9aRbDI9eUE=",
           "dtype": "f8"
          },
          "sizemode": "area",
          "sizeref": 971920.4277993267,
          "symbol": "circle"
         },
         "mode": "markers",
         "name": "Canada",
         "orientation": "v",
         "showlegend": true,
         "type": "scatter",
         "x": {
          "bdata": "OsssQrHlM0A=",
          "dtype": "f8"
         },
         "xaxis": "x",
         "y": {
          "bdata": "f5zVp8HZ4D8=",
          "dtype": "f8"
         },
         "yaxis": "y"
        },
        {
         "customdata": [
          [
           "1211.1 Mio",
           1211144822.837597
          ]
         ],
         "hovertemplate": "<b>%{hovertext}</b><br><br>Land=China<br>CO₂-Emissionen pro Kopf (Tonnen)=%{x:.2f}<br>Gesamte CO₂-Emissionen (Gt)=%{y:.2f}<br>Bevölkerung (geschätzt)=%{customdata[0]}<extra></extra>",
         "hovertext": [
          "China"
         ],
         "legendgroup": "China",
         "marker": {
          "color": "#FFA15A",
          "size": {
           "bdata": "MJu1nSYM0kE=",
           "dtype": "f8"
          },
          "sizemode": "area",
          "sizeref": 971920.4277993267,
          "symbol": "circle"
         },
         "mode": "markers",
         "name": "China",
         "orientation": "v",
         "showlegend": true,
         "type": "scatter",
         "x": {
          "bdata": "Ne84RUcCIkA=",
          "dtype": "f8"
         },
         "xaxis": "x",
         "y": {
          "bdata": "qG4u/rbPJUA=",
          "dtype": "f8"
         },
         "yaxis": "y"
        },
        {
         "customdata": [
          [
           "563.8 Mio",
           563820802.8300099
          ]
         ],
         "hovertemplate": "<b>%{hovertext}</b><br><br>Land=Europe<br>CO₂-Emissionen pro Kopf (Tonnen)=%{x:.2f}<br>Gesamte CO₂-Emissionen (Gt)=%{y:.2f}<br>Bevölkerung (geschätzt)=%{customdata[0]}<extra></extra>",
         "hovertext": [
          "Europe"
         ],
         "legendgroup": "Europe",
         "marker": {
          "color": "#19d3f3",
          "size": {
           "bdata": "xD1qgZzNwEE=",
           "dtype": "f8"
          },
          "sizemode": "area",
          "sizeref": 971920.4277993267,
          "symbol": "circle"
         },
         "mode": "markers",
         "name": "Europe",
         "orientation": "v",
         "showlegend": true,
         "type": "scatter",
         "x": {
          "bdata": "YsCSq1jUIUA=",
          "dtype": "f8"
         },
         "xaxis": "x",
         "y": {
          "bdata": "qInjZfIaFEA=",
          "dtype": "f8"
         },
         "yaxis": "y"
        },
        {
         "customdata": [
          [
           "74.3 Mio",
           74303386.33512898
          ]
         ],
         "hovertemplate": "<b>%{hovertext}</b><br><br>Land=Germany<br>CO₂-Emissionen pro Kopf (Tonnen)=%{x:.2f}<br>Gesamte CO₂-Emissionen (Gt)=%{y:.2f}<br>Bevölkerung (geschätzt)=%{customdata[0]}<extra></extra>",
         "hovertext": [
          "Germany"
         ],
         "legendgroup": "Germany",
         "marker": {
          "color": "#FF6692",
          "size": {
           "bdata": "DSxXaR63kUE=",
           "dtype": "f8"
          },
          "sizemode": "area",
          "sizeref": 971920.4277993267,
          "symbol": "circle"
         },
         "mode": "markers",
         "name": "Germany",
         "orientation": "v",
         "showlegend": true,
         "type": "scatter",
         "x": {
          "bdata": "64uEtpxzIUA=",
          "dtype": "f8"
         },
         "xaxis": "x",
         "y": {
          "bdata": "wsq64la/5D8=",
          "dtype": "f8"
         },
         "yaxis": "y"
        },
        {
         "customdata": [
          [
           "966.1 Mio",
           966095850.5288917
          ]
         ],
         "hovertemplate": "<b>%{hovertext}</b><br><br>Land=India<br>CO₂-Emissionen pro Kopf (Tonnen)=%{x:.2f}<br>Gesamte CO₂-Emissionen (Gt)=%{y:.2f}<br>Bevölkerung (geschätzt)=%{customdata[0]}<extra></extra>",
         "hovertext": [
          "India"
         ],
         "legendgroup": "India",
         "marker": {
          "color": "#B6E880",
          "size": {
           "bdata": "ubJD9bnKzEE=",
           "dtype": "f8"
          },
          "sizemode": "area",
          "sizeref": 971920.4277993267,
          "symbol": "circle"
         },
         "mode": "markers",
         "name": "India",
         "orientation": "v",
         "showlegend": true,
         "type": "scatter",
         "x": {
          "bdata": "zoU2pWENBEA=",
          "dtype": "f8"
         },
         "xaxis": "x",
         "y": {
          "bdata": "1IGsp1ZfA0A=",
          "dtype": "f8"
         },
         "yaxis": "y"
        },
        {
         "customdata": [
          [
           "99.4 Mio",
           99351682.31085616
          ]
         ],
         "hovertemplate": "<b>%{hovertext}</b><br><br>Land=Indonesia<br>CO₂-Emissionen pro Kopf (Tonnen)=%{x:.2f}<br>Gesamte CO₂-Emissionen (Gt)=%{y:.2f}<br>Bevölkerung (geschätzt)=%{customdata[0]}<extra></extra>",
         "hovertext": [
          "Indonesia"
         ],
         "legendgroup": "Indonesia",
         "marker": {
          "color": "#FF97FF",
          "size": {
           "bdata": "FFE+CfKvl0E=",
           "dtype": "f8"
          },
          "sizemode": "area",
          "sizeref": 971920.4277993267,
          "symbol": "circle"
         },
         "mode": "markers",
         "name": "Indonesia",
         "orientation": "v",
         "showlegend": true,
         "type": "scatter",
         "x": {
          "bdata": "kbdc/dh8GEA=",
          "dtype": "f8"
         },
         "xaxis": "x",
         "y": {
          "bdata": "FWQVgJB24z8=",
          "dtype": "f8"
         },
         "yaxis": "y"
        },
        {
         "customdata": [
          [
           "67.1 Mio",
           67106446.98937091
          ]
         ],
         "hovertemplate": "<b>%{hovertext}</b><br><br>Land=Iran<br>CO₂-Emissionen pro Kopf (Tonnen)=%{x:.2f}<br>Gesamte CO₂-Emissionen (Gt)=%{y:.2f}<br>Bevölkerung (geschätzt)=%{customdata[0]}<extra></extra>",
         "hovertext": [
          "Iran"
         ],
         "legendgroup": "Iran",
         "marker": {
          "color": "#FECB52",
          "size": {
           "bdata": "TDvqd7T/j0E=",
           "dtype": "f8"
          },
          "sizemode": "area",
          "sizeref": 971920.4277993267,
          "symbol": "circle"
         },
         "mode": "markers",
         "name": "Iran",
         "orientation": "v",
         "showlegend": true,
         "type": "scatter",
         "x": {
          "bdata": "Px2PGaiMJkA=",
          "dtype": "f8"
         },
         "xaxis": "x",
         "y": {
          "bdata": "qTf+nx426D8=",
          "dtype": "f8"
         },
         "yaxis": "y"
        },
        {
         "customdata": [
          [
           "121.3 Mio",
           121348483.65040722
          ]
         ],
         "hovertemplate": "<b>%{hovertext}</b><br><br>Land=Japan<br>CO₂-Emissionen pro Kopf (Tonnen)=%{x:.2f}<br>Gesamte CO₂-Emissionen (Gt)=%{y:.2f}<br>Bevölkerung (geschätzt)=%{customdata[0]}<extra></extra>",
         "hovertext": [
          "Japan"
         ],
         "legendgroup": "Japan",
         "marker": {
          "color": "#636efa",
          "size": {
           "bdata": "WgSaDobunEE=",
           "dtype": "f8"
          },
          "sizemode": "area",
          "sizeref": 971920.4277993267,
          "symbol": "circle"
         },
         "mode": "markers",
         "name": "Japan",
         "orientation": "v",
         "showlegend": true,
         "type": "scatter",
         "x": {
          "bdata": "P3CVJxAmIUA=",
          "dtype": "f8"
         },
         "xaxis": "x",
         "y": {
          "bdata": "g37w69Gl8D8=",
          "dtype": "f8"
         },
         "yaxis": "y"
        },
        {
         "customdata": [
          [
           "74.7 Mio",
           74681072.65999818
          ]
         ],
         "hovertemplate": "<b>%{hovertext}</b><br><br>Land=Mexico<br>CO₂-Emissionen pro Kopf (Tonnen)=%{x:.2f}<br>Gesamte CO₂-Emissionen (Gt)=%{y:.2f}<br>Bevölkerung (geschätzt)=%{customdata[0]}<extra></extra>",
         "hovertext": [
          "Mexico"
         ],
         "legendgroup": "Mexico",
         "marker": {
          "color": "#EF553B",
          "size": {
           "bdata": "kNajwivOkUE=",
           "dtype": "f8"
          },
          "sizemode": "area",
          "sizeref": 971920.4277993267,
          "symbol": "circle"
         },
         "mode": "markers",
         "name": "Mexico",
         "orientation": "v",
         "showlegend": true,
         "type": "scatter",
         "x": {
          "bdata": "P49Rnnn5FkA=",
          "dtype": "f8"
         },
         "xaxis": "x",
         "y": {
          "bdata": "c+4bBMJz2z8=",
          "dtype": "f8"
         },
         "yaxis": "y"
        },
        {
         "customdata": [
          [
           "465.4 Mio",
           465428012.97977513
          ]
         ],
         "hovertemplate": "<b>%{hovertext}</b><br><br>Land=North America<br>CO₂-Emissionen pro Kopf (Tonnen)=%{x:.2f}<br>Gesamte CO₂-Emissionen (Gt)=%{y:.2f}<br>Bevölkerung (geschätzt)=%{customdata[0]}<extra></extra>",
         "hovertext": [
          "North America"
         ],
         "legendgroup": "North America",
         "marker": {
          "color": "#00cc96",
          "size": {
           "bdata": "i9L6LN69u0E=",
           "dtype": "f8"
          },
          "sizemode": "area",
          "sizeref": 971920.4277993267,
          "symbol": "circle"
         },
         "mode": "markers",
         "name": "North America",
         "orientation": "v",
         "showlegend": true,
         "type": "scatter",
         "x": {
          "bdata": "91YkJqgJKUA=",
          "dtype": "f8"
         },
         "xaxis": "x",
         "y": {
          "bdata": "ycBLundOF0A=",
          "dtype": "f8"
         },
         "yaxis": "y"
        },
        {
         "customdata": [
          [
           "26.4 Mio",
           26388313.03469299
          ]
         ],
         "hovertemplate": "<b>%{hovertext}</b><br><br>Land=Oceania<br>CO₂-Emissionen pro Kopf (Tonnen)=%{x:.2f}<br>Gesamte CO₂-Emissionen (Gt)=%{y:.2f}<br>Bevölkerung (geschätzt)=%{customdata[0]}<extra></extra>",
         "hovertext": [
          "Oceania"
         ],
         "legendgroup": "Oceania",
         "marker": {
          "color": "#ab63fa",
          "size": {
           "bdata": "PRqOkHUqeUE=",
           "dtype": "f8"
          },
          "sizemode": "area",
          "sizeref": 971920.4277993267,
          "symbol": "circle"
         },
         "mode": "markers",
         "name": "Oceania",
         "orientation": "v",
         "showlegend": true,
         "type": "scatter",
         "x": {
          "bdata": "XTelvFYKMUA=",
          "dtype": "f8"
         },
         "xaxis": "x",
         "y": {
          "bdata": "aOe4Q1jH3D8=",
          "dtype": "f8"
         },
         "yaxis": "y"
        },
        {
         "customdata": [
          [
           "99.4 Mio",
           99435955.11365297
          ]
         ],
         "hovertemplate": "<b>%{hovertext}</b><br><br>Land=Russia<br>CO₂-Emissionen pro Kopf (Tonnen)=%{x:.2f}<br>Gesamte CO₂-Emissionen (Gt)=%{y:.2f}<br>Bevölkerung (geschätzt)=%{customdata[0]}<extra></extra>",
         "hovertext": [
          "Russia"
         ],
         "legendgroup": "Russia",
         "marker": {
          "color": "#FFA15A",
          "size": {
           "bdata": "cmF0zBa1l0E=",
           "dtype": "f8"
          },
          "sizemode": "area",
          "sizeref": 971920.4277993267,
          "symbol": "circle"
         },
         "mode": "markers",
         "name": "Russia",
         "orientation": "v",
         "showlegend": true,
         "type": "scatter",
         "x": {
          "bdata": "QIf58gJsMEA=",
          "dtype": "f8"
         },
         "xaxis": "x",
         "y": {
          "bdata": "/eFCeXog+j8=",
          "dtype": "f8"
         },
         "yaxis": "y"
        },
        {
         "customdata": [
          [
           "25.4 Mio",
           25387721.2071203
          ]
         ],
         "hovertemplate": "<b>%{hovertext}</b><br><br>Land=Saudi Arabia<br>CO₂-Emissionen pro Kopf (Tonnen)=%{x:.2f}<br>Gesamte CO₂-Emissionen (Gt)=%{y:.2f}<br>Bevölkerung (geschätzt)=%{customdata[0]}<extra></extra>",
         "hovertext": [
          "Saudi Arabia"
         ],
         "legendgroup": "Saudi Arabia",
         "marker": {
          "color": "#19d3f3",
          "size": {
           "bdata": "YF1Qkyw2eEE=",
           "dtype": "f8"
          },
          "sizemode": "area",
          "sizeref": 971920.4277993267,
          "symbol": "circle"
         },
         "mode": "markers",
         "name": "Saudi Arabia",
         "orientation": "v",
         "showlegend": true,
         "type": "scatter",
         "x": {
          "bdata": "54u9F19EOEA=",
          "dtype": "f8"
         },
         "xaxis": "x",
         "y": {
          "bdata": "2mbXe/m24z8=",
          "dtype": "f8"
         },
         "yaxis": "y"
        },
        {
         "customdata": [
          [
           "48.1 Mio",
           48069351.22745212
          ]
         ],
         "hovertemplate": "<b>%{hovertext}</b><br><br>Land=South Africa<br>CO₂-Emissionen pro Kopf (Tonnen)=%{x:.2f}<br>Gesamte CO₂-Emissionen (Gt)=%{y:.2f}<br>Bevölkerung (geschätzt)=%{customdata[0]}<extra></extra>",
         "hovertext": [
          "South Africa"
         ],
         "legendgroup": "South Africa",
         "marker": {
          "color": "#FF6692",
          "size": {
           "bdata": "a9LROdfrhkE=",
           "dtype": "f8"
          },
          "sizemode": "area",
          "sizeref": 971920.4277993267,
          "symbol": "circle"
         },
         "mode": "markers",
         "name": "South Africa",
         "orientation": "v",
         "showlegend": true,
         "type": "scatter",
         "x": {
          "bdata": "GF5J8lwPIkA=",
          "dtype": "f8"
         },
         "xaxis": "x",
         "y": {
          "bdata": "Udio+77H2z8=",
          "dtype": "f8"
         },
         "yaxis": "y"
        },
        {
         "customdata": [
          [
           "111.2 Mio",
           111233435.4993529
          ]
         ],
         "hovertemplate": "<b>%{hovertext}</b><br><br>Land=South America<br>CO₂-Emissionen pro Kopf (Tonnen)=%{x:.2f}<br>Gesamte CO₂-Emissionen (Gt)=%{y:.2f}<br>Bevölkerung (geschätzt)=%{customdata[0]}<extra></extra>",
         "hovertext": [
          "South America"
         ],
         "legendgroup": "South America",
         "marker": {
          "color": "#B6E880",
          "size": {
           "bdata": "Xlb/bSaFmkE=",
           "dtype": "f8"
          },
          "sizemode": "area",
          "sizeref": 971920.4277993267,
          "symbol": "circle"
         },
         "mode": "markers",
         "name": "South America",
         "orientation": "v",
         "showlegend": true,
         "type": "scatter",
         "x": {
          "bdata": "5IHIIk2cIUA=",
          "dtype": "f8"
         },
         "xaxis": "x",
         "y": {
          "bdata": "6Xab3JRX7z8=",
          "dtype": "f8"
         },
         "yaxis": "y"
        },
        {
         "customdata": [
          [
           "48.2 Mio",
           48244196.88153395
          ]
         ],
         "hovertemplate": "<b>%{hovertext}</b><br><br>Land=South Korea<br>CO₂-Emissionen pro Kopf (Tonnen)=%{x:.2f}<br>Gesamte CO₂-Emissionen (Gt)=%{y:.2f}<br>Bevölkerung (geschätzt)=%{customdata[0]}<extra></extra>",
         "hovertext": [
          "South Korea"
         ],
         "legendgroup": "South Korea",
         "marker": {
          "color": "#FF97FF",
          "size": {
           "bdata": "rGENJy8Bh0E=",
           "dtype": "f8"
          },
          "sizemode": "area",
          "sizeref": 971920.4277993267,
          "symbol": "circle"
         },
         "mode": "markers",
         "name": "South Korea",
         "orientation": "v",
         "showlegend": true,
         "type": "scatter",
         "x": {
          "bdata": "ucZnsn/GKEA=",
          "dtype": "f8"
         },
         "xaxis": "x",
         "y": {
          "bdata": "pviu99Ef4z8=",
          "dtype": "f8"
         },
         "yaxis": "y"
        },
        {
         "customdata": [
          [
           "283.2 Mio",
           283166010.9589989
          ]
         ],
         "hovertemplate": "<b>%{hovertext}</b><br><br>Land=United States<br>CO₂-Emissionen pro Kopf (Tonnen)=%{x:.2f}<br>Gesamte CO₂-Emissionen (Gt)=%{y:.2f}<br>Bevölkerung (geschätzt)=%{customdata[0]}<extra></extra>",
         "hovertext": [
          "United States"
         ],
         "legendgroup": "United States",
         "marker": {
          "color": "#FECB52",
          "size": {
           "bdata": "9ID1OsXgsEE=",
           "dtype": "f8"
          },
          "sizemode": "area",
          "sizeref": 971920.4277993267,
          "symbol": "circle"
         },
         "mode": "markers",
         "name": "United States",
         "orientation": "v",
         "showlegend": true,
         "type": "scatter",
         "x": {
          "bdata": "jlcgelKmMEA=",
          "dtype": "f8"
         },
         "xaxis": "x",
         "y": {
          "bdata": "OzlDccfbEkA=",
          "dtype": "f8"
         },
         "yaxis": "y"
        }
       ],
       "layout": {
        "legend": {
         "itemsizing": "constant",
         "title": {
          "text": "Entitaet"
         },
         "tracegroupgap": 0
        },
        "margin": {
         "b": 60,
         "l": 60,
         "r": 30,
         "t": 80
        },
        "template": {
         "data": {
          "bar": [
           {
            "error_x": {
             "color": "#2a3f5f"
            },
            "error_y": {
             "color": "#2a3f5f"
            },
            "marker": {
             "line": {
              "color": "white",
              "width": 0.5
             },
             "pattern": {
              "fillmode": "overlay",
              "size": 10,
              "solidity": 0.2
             }
            },
            "type": "bar"
           }
          ],
          "barpolar": [
           {
            "marker": {
             "line": {
              "color": "white",
              "width": 0.5
             },
             "pattern": {
              "fillmode": "overlay",
              "size": 10,
              "solidity": 0.2
             }
            },
            "type": "barpolar"
           }
          ],
          "carpet": [
           {
            "aaxis": {
             "endlinecolor": "#2a3f5f",
             "gridcolor": "#C8D4E3",
             "linecolor": "#C8D4E3",
             "minorgridcolor": "#C8D4E3",
             "startlinecolor": "#2a3f5f"
            },
            "baxis": {
             "endlinecolor": "#2a3f5f",
             "gridcolor": "#C8D4E3",
             "linecolor": "#C8D4E3",
             "minorgridcolor": "#C8D4E3",
             "startlinecolor": "#2a3f5f"
            },
            "type": "carpet"
           }
          ],
          "choropleth": [
           {
            "colorbar": {
             "outlinewidth": 0,
             "ticks": ""
            },
            "type": "choropleth"
           }
          ],
          "contour": [
           {
            "colorbar": {
             "outlinewidth": 0,
             "ticks": ""
            },
            "colorscale": [
             [
              0,
              "#0d0887"
             ],
             [
              0.1111111111111111,
              "#46039f"
             ],
             [
              0.2222222222222222,
              "#7201a8"
             ],
             [
              0.3333333333333333,
              "#9c179e"
             ],
             [
              0.4444444444444444,
              "#bd3786"
             ],
             [
              0.5555555555555556,
              "#d8576b"
             ],
             [
              0.6666666666666666,
              "#ed7953"
             ],
             [
              0.7777777777777778,
              "#fb9f3a"
             ],
             [
              0.8888888888888888,
              "#fdca26"
             ],
             [
              1,
              "#f0f921"
             ]
            ],
            "type": "contour"
           }
          ],
          "contourcarpet": [
           {
            "colorbar": {
             "outlinewidth": 0,
             "ticks": ""
            },
            "type": "contourcarpet"
           }
          ],
          "heatmap": [
           {
            "colorbar": {
             "outlinewidth": 0,
             "ticks": ""
            },
            "colorscale": [
             [
              0,
              "#0d0887"
             ],
             [
              0.1111111111111111,
              "#46039f"
             ],
             [
              0.2222222222222222,
              "#7201a8"
             ],
             [
              0.3333333333333333,
              "#9c179e"
             ],
             [
              0.4444444444444444,
              "#bd3786"
             ],
             [
              0.5555555555555556,
              "#d8576b"
             ],
             [
              0.6666666666666666,
              "#ed7953"
             ],
             [
              0.7777777777777778,
              "#fb9f3a"
             ],
             [
              0.8888888888888888,
              "#fdca26"
             ],
             [
              1,
              "#f0f921"
             ]
            ],
            "type": "heatmap"
           }
          ],
          "histogram": [
           {
            "marker": {
             "pattern": {
              "fillmode": "overlay",
              "size": 10,
              "solidity": 0.2
             }
            },
            "type": "histogram"
           }
          ],
          "histogram2d": [
           {
            "colorbar": {
             "outlinewidth": 0,
             "ticks": ""
            },
            "colorscale": [
             [
              0,
              "#0d0887"
             ],
             [
              0.1111111111111111,
              "#46039f"
             ],
             [
              0.2222222222222222,
              "#7201a8"
             ],
             [
              0.3333333333333333,
              "#9c179e"
             ],
             [
              0.4444444444444444,
              "#bd3786"
             ],
             [
              0.5555555555555556,
              "#d8576b"
             ],
             [
              0.6666666666666666,
              "#ed7953"
             ],
             [
              0.7777777777777778,
              "#fb9f3a"
             ],
             [
              0.8888888888888888,
              "#fdca26"
             ],
             [
              1,
              "#f0f921"
             ]
            ],
            "type": "histogram2d"
           }
          ],
          "histogram2dcontour": [
           {
            "colorbar": {
             "outlinewidth": 0,
             "ticks": ""
            },
            "colorscale": [
             [
              0,
              "#0d0887"
             ],
             [
              0.1111111111111111,
              "#46039f"
             ],
             [
              0.2222222222222222,
              "#7201a8"
             ],
             [
              0.3333333333333333,
              "#9c179e"
             ],
             [
              0.4444444444444444,
              "#bd3786"
             ],
             [
              0.5555555555555556,
              "#d8576b"
             ],
             [
              0.6666666666666666,
              "#ed7953"
             ],
             [
              0.7777777777777778,
              "#fb9f3a"
             ],
             [
              0.8888888888888888,
              "#fdca26"
             ],
             [
              1,
              "#f0f921"
             ]
            ],
            "type": "histogram2dcontour"
           }
          ],
          "mesh3d": [
           {
            "colorbar": {
             "outlinewidth": 0,
             "ticks": ""
            },
            "type": "mesh3d"
           }
          ],
          "parcoords": [
           {
            "line": {
             "colorbar": {
              "outlinewidth": 0,
              "ticks": ""
             }
            },
            "type": "parcoords"
           }
          ],
          "pie": [
           {
            "automargin": true,
            "type": "pie"
           }
          ],
          "scatter": [
           {
            "fillpattern": {
             "fillmode": "overlay",
             "size": 10,
             "solidity": 0.2
            },
            "type": "scatter"
           }
          ],
          "scatter3d": [
           {
            "line": {
             "colorbar": {
              "outlinewidth": 0,
              "ticks": ""
             }
            },
            "marker": {
             "colorbar": {
              "outlinewidth": 0,
              "ticks": ""
             }
            },
            "type": "scatter3d"
           }
          ],
          "scattercarpet": [
           {
            "marker": {
             "colorbar": {
              "outlinewidth": 0,
              "ticks": ""
             }
            },
            "type": "scattercarpet"
           }
          ],
          "scattergeo": [
           {
            "marker": {
             "colorbar": {
              "outlinewidth": 0,
              "ticks": ""
             }
            },
            "type": "scattergeo"
           }
          ],
          "scattergl": [
           {
            "marker": {
             "colorbar": {
              "outlinewidth": 0,
              "ticks": ""
             }
            },
            "type": "scattergl"
           }
          ],
          "scattermap": [
           {
            "marker": {
             "colorbar": {
              "outlinewidth": 0,
              "ticks": ""
             }
            },
            "type": "scattermap"
           }
          ],
          "scattermapbox": [
           {
            "marker": {
             "colorbar": {
              "outlinewidth": 0,
              "ticks": ""
             }
            },
            "type": "scattermapbox"
           }
          ],
          "scatterpolar": [
           {
            "marker": {
             "colorbar": {
              "outlinewidth": 0,
              "ticks": ""
             }
            },
            "type": "scatterpolar"
           }
          ],
          "scatterpolargl": [
           {
            "marker": {
             "colorbar": {
              "outlinewidth": 0,
              "ticks": ""
             }
            },
            "type": "scatterpolargl"
           }
          ],
          "scatterternary": [
           {
            "marker": {
             "colorbar": {
              "outlinewidth": 0,
              "ticks": ""
             }
            },
            "type": "scatterternary"
           }
          ],
          "surface": [
           {
            "colorbar": {
             "outlinewidth": 0,
             "ticks": ""
            },
            "colorscale": [
             [
              0,
              "#0d0887"
             ],
             [
              0.1111111111111111,
              "#46039f"
             ],
             [
              0.2222222222222222,
              "#7201a8"
             ],
             [
              0.3333333333333333,
              "#9c179e"
             ],
             [
              0.4444444444444444,
              "#bd3786"
             ],
             [
              0.5555555555555556,
              "#d8576b"
             ],
             [
              0.6666666666666666,
              "#ed7953"
             ],
             [
              0.7777777777777778,
              "#fb9f3a"
             ],
             [
              0.8888888888888888,
              "#fdca26"
             ],
             [
              1,
              "#f0f921"
             ]
            ],
            "type": "surface"
           }
          ],
          "table": [
           {
            "cells": {
             "fill": {
              "color": "#EBF0F8"
             },
             "line": {
              "color": "white"
             }
            },
            "header": {
             "fill": {
              "color": "#C8D4E3"
             },
             "line": {
              "color": "white"
             }
            },
            "type": "table"
           }
          ]
         },
         "layout": {
          "annotationdefaults": {
           "arrowcolor": "#2a3f5f",
           "arrowhead": 0,
           "arrowwidth": 1
          },
          "autotypenumbers": "strict",
          "coloraxis": {
           "colorbar": {
            "outlinewidth": 0,
            "ticks": ""
           }
          },
          "colorscale": {
           "diverging": [
            [
             0,
             "#8e0152"
            ],
            [
             0.1,
             "#c51b7d"
            ],
            [
             0.2,
             "#de77ae"
            ],
            [
             0.3,
             "#f1b6da"
            ],
            [
             0.4,
             "#fde0ef"
            ],
            [
             0.5,
             "#f7f7f7"
            ],
            [
             0.6,
             "#e6f5d0"
            ],
            [
             0.7,
             "#b8e186"
            ],
            [
             0.8,
             "#7fbc41"
            ],
            [
             0.9,
             "#4d9221"
            ],
            [
             1,
             "#276419"
            ]
           ],
           "sequential": [
            [
             0,
             "#0d0887"
            ],
            [
             0.1111111111111111,
             "#46039f"
            ],
            [
             0.2222222222222222,
             "#7201a8"
            ],
            [
             0.3333333333333333,
             "#9c179e"
            ],
            [
             0.4444444444444444,
             "#bd3786"
            ],
            [
             0.5555555555555556,
             "#d8576b"
            ],
            [
             0.6666666666666666,
             "#ed7953"
            ],
            [
             0.7777777777777778,
             "#fb9f3a"
            ],
            [
             0.8888888888888888,
             "#fdca26"
            ],
            [
             1,
             "#f0f921"
            ]
           ],
           "sequentialminus": [
            [
             0,
             "#0d0887"
            ],
            [
             0.1111111111111111,
             "#46039f"
            ],
            [
             0.2222222222222222,
             "#7201a8"
            ],
            [
             0.3333333333333333,
             "#9c179e"
            ],
            [
             0.4444444444444444,
             "#bd3786"
            ],
            [
             0.5555555555555556,
             "#d8576b"
            ],
            [
             0.6666666666666666,
             "#ed7953"
            ],
            [
             0.7777777777777778,
             "#fb9f3a"
            ],
            [
             0.8888888888888888,
             "#fdca26"
            ],
            [
             1,
             "#f0f921"
            ]
           ]
          },
          "colorway": [
           "#636efa",
           "#EF553B",
           "#00cc96",
           "#ab63fa",
           "#FFA15A",
           "#19d3f3",
           "#FF6692",
           "#B6E880",
           "#FF97FF",
           "#FECB52"
          ],
          "font": {
           "color": "#2a3f5f"
          },
          "geo": {
           "bgcolor": "white",
           "lakecolor": "white",
           "landcolor": "white",
           "showlakes": true,
           "showland": true,
           "subunitcolor": "#C8D4E3"
          },
          "hoverlabel": {
           "align": "left"
          },
          "hovermode": "closest",
          "mapbox": {
           "style": "light"
          },
          "paper_bgcolor": "white",
          "plot_bgcolor": "white",
          "polar": {
           "angularaxis": {
            "gridcolor": "#EBF0F8",
            "linecolor": "#EBF0F8",
            "ticks": ""
           },
           "bgcolor": "white",
           "radialaxis": {
            "gridcolor": "#EBF0F8",
            "linecolor": "#EBF0F8",
            "ticks": ""
           }
          },
          "scene": {
           "xaxis": {
            "backgroundcolor": "white",
            "gridcolor": "#DFE8F3",
            "gridwidth": 2,
            "linecolor": "#EBF0F8",
            "showbackground": true,
            "ticks": "",
            "zerolinecolor": "#EBF0F8"
           },
           "yaxis": {
            "backgroundcolor": "white",
            "gridcolor": "#DFE8F3",
            "gridwidth": 2,
            "linecolor": "#EBF0F8",
            "showbackground": true,
            "ticks": "",
            "zerolinecolor": "#EBF0F8"
           },
           "zaxis": {
            "backgroundcolor": "white",
            "gridcolor": "#DFE8F3",
            "gridwidth": 2,
            "linecolor": "#EBF0F8",
            "showbackground": true,
            "ticks": "",
            "zerolinecolor": "#EBF0F8"
           }
          },
          "shapedefaults": {
           "line": {
            "color": "#2a3f5f"
           }
          },
          "ternary": {
           "aaxis": {
            "gridcolor": "#DFE8F3",
            "linecolor": "#A2B1C6",
            "ticks": ""
           },
           "baxis": {
            "gridcolor": "#DFE8F3",
            "linecolor": "#A2B1C6",
            "ticks": ""
           },
           "bgcolor": "white",
           "caxis": {
            "gridcolor": "#DFE8F3",
            "linecolor": "#A2B1C6",
            "ticks": ""
           }
          },
          "title": {
           "x": 0.05
          },
          "xaxis": {
           "automargin": true,
           "gridcolor": "#EBF0F8",
           "linecolor": "#EBF0F8",
           "ticks": "",
           "title": {
            "standoff": 15
           },
           "zerolinecolor": "#EBF0F8",
           "zerolinewidth": 2
          },
          "yaxis": {
           "automargin": true,
           "gridcolor": "#EBF0F8",
           "linecolor": "#EBF0F8",
           "ticks": "",
           "title": {
            "standoff": 15
           },
           "zerolinecolor": "#EBF0F8",
           "zerolinewidth": 2
          }
         }
        },
        "title": {
         "text": "Vergleich Bevölkerung vs CO₂-Emissionen pro Kopf (2020)"
        },
        "xaxis": {
         "anchor": "y",
         "domain": [
          0,
          1
         ],
         "title": {
          "text": "CO₂-Emissionen pro Kopf (Tonne)"
         },
         "type": "log"
        },
        "yaxis": {
         "anchor": "x",
         "domain": [
          0,
          1
         ],
         "title": {
          "text": "Gesamte CO₂-Emissionen (Gt)"
         }
        }
       }
      }
     },
     "metadata": {},
     "output_type": "display_data"
    }
   ],
   "source": [
    "def plot_population_vs_emissions(capita_df, total_df, year=2020, excluded_categories=['economic_groups', 'political_unions', 'global', 'exclusions']):\n",
    "\n",
    "    # Reinigung\n",
    "    capita_clean = exclude_entities(capita_df, excluded_categories)\n",
    "    total_clean = exclude_entities(total_df, excluded_categories)\n",
    "\n",
    "    # Jahr Filtern\n",
    "    capita_year = capita_clean[capita_clean['Year'] == year]\n",
    "    total_year = total_clean[total_clean['Year'] == year]\n",
    "\n",
    "    # Die beide DataFrames zusammenfügen\n",
    "    merged = capita_year.merge(\n",
    "        total_year[['Entity', 'Year', 'Co2_emissions']],\n",
    "        on=['Entity', 'Year'],\n",
    "        how='inner'\n",
    "    )\n",
    "    # In eine neue variabel speicher udn die 20 groeßten rausholen \n",
    "    merged = merged[merged['Co2_capita_emissions'] > 0].copy()\n",
    "    top20_entites = merged.nlargest(20, 'Co2_emissions')[\"Entity\"]\n",
    "    merged = merged[merged[\"Entity\"].isin(top20_entites)].copy()\n",
    "\n",
    "    # Berechnung der theoretischen Bevölkerung\n",
    "    merged['population_est'] = merged['Co2_emissions'] / merged['Co2_capita_emissions']\n",
    "    merged['Bevölkerung (geschätzt)'] = (merged['population_est'] / 1_000_000).round(1).astype(str) + \" Mio\"\n",
    "\n",
    "    # Gesamtemissionen in Milliarden umrechnen \n",
    "    merged['Co2_emissions_Gt'] = merged['Co2_emissions'] / 1e9\n",
    "\n",
    "    # Grafik erstellen\n",
    "    fig = px.scatter(\n",
    "        merged,\n",
    "        x='Co2_capita_emissions',\n",
    "        y='Co2_emissions_Gt',\n",
    "        color='Entity',\n",
    "        size='population_est',\n",
    "        hover_name='Entity',\n",
    "        hover_data={\n",
    "            'Bevölkerung (geschätzt)': True,\n",
    "            'Co2_capita_emissions': ':.2f',\n",
    "            'Co2_emissions_Gt': ':.2f',\n",
    "            'population_est': False\n",
    "        },\n",
    "        size_max=60,\n",
    "        log_x=True,\n",
    "        labels={\n",
    "            'Co2_capita_emissions': 'CO₂-Emissionen pro Kopf (Tonnen)',\n",
    "            'Co2_emissions_Gt': 'Gesamte CO₂-Emissionen (Gt)',\n",
    "            'Entity': 'Land'\n",
    "        },\n",
    "        title=f'Vergleich Bevölkerung vs CO₂-Emissionen pro Kopf ({year})'\n",
    "    )\n",
    "\n",
    "    # Layout\n",
    "    fig.update_layout(\n",
    "        template='plotly_white',\n",
    "        xaxis_title='CO₂-Emissionen pro Kopf (Tonne)',\n",
    "        yaxis_title='Gesamte CO₂-Emissionen (Gt)',\n",
    "        legend_title='Entitaet',\n",
    "        margin=dict(t=80, l=60, r=30, b=60)\n",
    "    )\n",
    "\n",
    "    fig.show()\n",
    "\n",
    "# Appel de la fonction\n",
    "plot_population_vs_emissions(capita_co2_emmissions, co2_emissions, year=2020)\n"
   ]
  },
  {
   "cell_type": "markdown",
   "id": "83b2a068",
   "metadata": {},
   "source": [
    "### 7.Durchschnittlisches Co2-Verbrauch pro Kopf nach Region"
   ]
  },
  {
   "cell_type": "code",
   "execution_count": 19,
   "id": "cf95962f",
   "metadata": {},
   "outputs": [],
   "source": [
    "# 1. Dict um eine neune Spalte zuzufuegen. Entity → Region\n",
    "# Die wird \n",
    "entity_to_region = {\n",
    "    # Europe\n",
    "    'Albania': 'Europe', 'Andorra': 'Europe', 'Austria': 'Europe', 'Belarus': 'Europe',\n",
    "    'Belgium': 'Europe', 'Bosnia and Herzegovina': 'Europe', 'Bulgaria': 'Europe',\n",
    "    'Croatia': 'Europe', 'Cyprus': 'Europe', 'Czechia': 'Europe', 'Denmark': 'Europe',\n",
    "    'Estonia': 'Europe', 'Faroe Islands': 'Europe', 'Finland': 'Europe', 'France': 'Europe',\n",
    "    'Germany': 'Europe', 'Greece': 'Europe', 'Greenland': 'Europe', 'Hungary': 'Europe',\n",
    "    'Iceland': 'Europe', 'Ireland': 'Europe', 'Italy': 'Europe', 'Latvia': 'Europe',\n",
    "    'Lithuania': 'Europe', 'Luxembourg': 'Europe', 'Malta': 'Europe', 'Moldova': 'Europe',\n",
    "    'Monaco': 'Europe', 'Montenegro': 'Europe', 'Netherlands': 'Europe', 'North Macedonia': 'Europe',\n",
    "    'Norway': 'Europe', 'Poland': 'Europe', 'Portugal': 'Europe', 'Romania': 'Europe',\n",
    "    'San Marino': 'Europe', 'Serbia': 'Europe', 'Slovakia': 'Europe',\n",
    "    'Slovenia': 'Europe', 'Spain': 'Europe', 'Sweden': 'Europe', 'Switzerland': 'Europe',\n",
    "    'Ukraine': 'Europe', 'United Kingdom': 'Europe', 'Vatican': 'Europe',\n",
    "    # Russia séparée\n",
    "    'Russia': 'Russia',\n",
    "    # Asie\n",
    "    'Afghanistan': 'Asia', 'Armenia': 'Asia', 'Azerbaijan': 'Asia', 'Bahrain': 'Asia',\n",
    "    'Bangladesh': 'Asia', 'Bhutan': 'Asia', 'Brunei': 'Asia', 'Cambodia': 'Asia',\n",
    "    'China': 'Asia', 'East Timor': 'Asia', 'Georgia': 'Asia', 'Hong Kong': 'Asia',\n",
    "    'India': 'Asia', 'Indonesia': 'Asia', 'Iran': 'Asia', 'Iraq': 'Asia',\n",
    "    'Israel': 'Asia', 'Japan': 'Asia', 'Jordan': 'Asia', 'Kazakhstan': 'Asia',\n",
    "    'Kuwait': 'Asia', 'Kyrgyzstan': 'Asia', 'Laos': 'Asia', 'Lebanon': 'Asia',\n",
    "    'Macau': 'Asia', 'Malaysia': 'Asia', 'Maldives': 'Asia', 'Mongolia': 'Asia',\n",
    "    'Myanmar': 'Asia', 'Nepal': 'Asia', 'North Korea': 'Asia', 'Oman': 'Asia',\n",
    "    'Pakistan': 'Asia', 'Palestine': 'Asia', 'Philippines': 'Asia', 'Qatar': 'Asia',\n",
    "    'Saudi Arabia': 'Asia', 'Singapore': 'Asia', 'South Korea': 'Asia', 'Sri Lanka': 'Asia',\n",
    "    'Syria': 'Asia', 'Taiwan': 'Asia', 'Tajikistan': 'Asia', 'Thailand': 'Asia',\n",
    "    'Turkey': 'Asia', 'Turkmenistan': 'Asia', 'United Arab Emirates': 'Asia',\n",
    "    'Uzbekistan': 'Asia', 'Vietnam': 'Asia', 'Yemen': 'Asia',\n",
    "    # Afrique\n",
    "    'Algeria': 'Africa', 'Angola': 'Africa', 'Benin': 'Africa', 'Botswana': 'Africa',\n",
    "    'Burkina Faso': 'Africa', 'Burundi': 'Africa', 'Cabo Verde': 'Africa',\n",
    "    'Cameroon': 'Africa', 'Central African Republic': 'Africa', 'Chad': 'Africa',\n",
    "    'Comoros': 'Africa', 'Congo': 'Africa', 'Democratic Republic of Congo': 'Africa',\n",
    "    \"Cote d'Ivoire\": 'Africa', 'Djibouti': 'Africa', 'Egypt': 'Africa',\n",
    "    'Equatorial Guinea': 'Africa', 'Eritrea': 'Africa', 'Eswatini': 'Africa',\n",
    "    'Ethiopia': 'Africa', 'Gabon': 'Africa', 'Gambia': 'Africa', 'Ghana': 'Africa',\n",
    "    'Guinea': 'Africa', 'Guinea-Bissau': 'Africa', 'Kenya': 'Africa', 'Lesotho': 'Africa',\n",
    "    'Liberia': 'Africa', 'Libya': 'Africa', 'Madagascar': 'Africa', 'Malawi': 'Africa',\n",
    "    'Mali': 'Africa', 'Mauritania': 'Africa', 'Mauritius': 'Africa', 'Morocco': 'Africa',\n",
    "    'Mozambique': 'Africa', 'Namibia': 'Africa', 'Niger': 'Africa', 'Nigeria': 'Africa',\n",
    "    'Rwanda': 'Africa', 'Sao Tome and Principe': 'Africa', 'Senegal': 'Africa',\n",
    "    'Seychelles': 'Africa', 'Sierra Leone': 'Africa', 'Somalia': 'Africa',\n",
    "    'South Africa': 'Africa', 'South Sudan': 'Africa', 'Sudan': 'Africa',\n",
    "    'Tanzania': 'Africa', 'Togo': 'Africa', 'Tunisia': 'Africa', 'Uganda': 'Africa',\n",
    "    'Zambia': 'Africa', 'Zimbabwe': 'Africa',\n",
    "    # Amérique du Nord\n",
    "    'Antigua and Barbuda': 'North America', 'Bahamas': 'North America', 'Barbados': 'North America',\n",
    "    'Belize': 'North America', 'Bermuda': 'North America', 'Canada': 'North America',\n",
    "    'Costa Rica': 'North America', 'Cuba': 'North America', 'Dominica': 'North America',\n",
    "    'Dominican Republic': 'North America', 'El Salvador': 'North America', 'Grenada': 'North America',\n",
    "    'Guatemala': 'North America', 'Haiti': 'North America', 'Honduras': 'North America',\n",
    "    'Jamaica': 'North America', 'Mexico': 'North America', 'Nicaragua': 'North America',\n",
    "    'Panama': 'North America', 'Saint Kitts and Nevis': 'North America', 'Saint Lucia': 'North America',\n",
    "    'Saint Vincent and the Grenadines': 'North America', 'Trinidad and Tobago': 'North America',\n",
    "    'United States': 'North America',\n",
    "    # Amérique du Sud\n",
    "    'Argentina': 'South America', 'Bolivia': 'South America', 'Brazil': 'South America',\n",
    "    'Chile': 'South America', 'Colombia': 'South America', 'Ecuador': 'South America',\n",
    "    'Guyana': 'South America', 'Paraguay': 'South America', 'Peru': 'South America',\n",
    "    'Suriname': 'South America', 'Uruguay': 'South America', 'Venezuela': 'South America',\n",
    "    # Océanie\n",
    "    'Australia': 'Oceania', 'Fiji': 'Oceania', 'Kiribati': 'Oceania', 'Marshall Islands': 'Oceania',\n",
    "    'Micronesia': 'Oceania', 'Nauru': 'Oceania', 'New Zealand': 'Oceania',\n",
    "    'Palau': 'Oceania', 'Papua New Guinea': 'Oceania', 'Samoa': 'Oceania',\n",
    "    'Solomon Islands': 'Oceania', 'Tonga': 'Oceania', 'Tuvalu': 'Oceania',\n",
    "    'Vanuatu': 'Oceania',\n",
    "    # Continent-level pseudo-pays\n",
    "    'Europe': 'Europe',\n",
    "    'Asia': 'Asia',\n",
    "    'Africa': 'Africa',\n",
    "    'North America': 'North America',\n",
    "    'South America': 'South America',\n",
    "    'Oceania': 'Oceania',\n",
    "}"
   ]
  },
  {
   "cell_type": "code",
   "execution_count": 20,
   "id": "3f1f69d3",
   "metadata": {},
   "outputs": [
    {
     "name": "stderr",
     "output_type": "stream",
     "text": [
      "C:\\Users\\Anwender\\AppData\\Local\\Temp\\ipykernel_28564\\191270375.py:7: SettingWithCopyWarning:\n",
      "\n",
      "\n",
      "A value is trying to be set on a copy of a slice from a DataFrame.\n",
      "Try using .loc[row_indexer,col_indexer] = value instead\n",
      "\n",
      "See the caveats in the documentation: https://pandas.pydata.org/pandas-docs/stable/user_guide/indexing.html#returning-a-view-versus-a-copy\n",
      "\n"
     ]
    },
    {
     "data": {
      "application/vnd.plotly.v1+json": {
       "config": {
        "plotlyServerURL": "https://plot.ly"
       },
       "data": [
        {
         "fillpattern": {
          "shape": ""
         },
         "hovertemplate": "Region=Africa<br>Jahr=%{x}<br>CO₂-Emissionen pro Kopf (Tonnen)=%{y}<extra></extra>",
         "legendgroup": "Africa",
         "line": {
          "color": "#636efa"
         },
         "marker": {
          "symbol": "circle"
         },
         "mode": "lines",
         "name": "Africa",
         "orientation": "v",
         "showlegend": true,
         "stackgroup": "1",
         "type": "scatter",
         "x": {
          "bdata": "Ogc7BzwHPQc+Bz8HQAdBB0IHQwdEB0UHRgdHB0gHSQdKB0sHTAdNB04HTwdQB1EHUgdTB1QHVQdWB1cHWAdZB1oHWwdcB10HXgdfB2AHYQdiB2MHZAdlB2YHZwdoB2kHagdrB2wHbQduB28HcAdxB3IHcwd0B3UHdgd3B3gHeQd6B3sHfAd9B34HfweAB4EHggeDB4QHhQeGB4cHiAeJB4oHiweMB40HjgePB5AHkQeSB5MHlAeVB5YHlweYB5kHmgebB5wHnQeeB58HoAehB6IHowekB6UHpgenB6gHqQeqB6sHrAetB64HrwewB7EHsgezB7QHtQe2B7cHuAe5B7oHuwe8B70Hvge/B8AHwQfCB8MHxAfFB8YHxwfIB8kHygfLB8wHzQfOB88H0AfRB9IH0wfUB9UH1gfXB9gH2QfaB9sH3AfdB94H3wfgB+EH4gfjB+QH5QfmB+cH",
          "dtype": "i2"
         },
         "xaxis": "x",
         "y": {
          "bdata": "qLfLDx/nEUAyOJmZiuoUQOjS9r2D8xRAQfD/QLlGFUD+ZqkrE/cWQBkx6g+wUhVAQHENBgy9FkDCzTSZ8+cXQNO05G+pexdA+DodveGQHEBCLHpuD/IQQAAQcO2KrgdA6p5ksGNeAkAXi0LFuTIJQOnnksDoVgVAMpiMXChUBUC/08uN+VYEQEQ3LpEAcP0/upJWlOXf9z+vt1yshvYDQO4qvOF3vwFAPwHrHXF0A0B/93RLTU8DQE9j1jQWcAJAF32i+zbKAUAiRIjOw9n9Py+ye/JttABA/cA5orNHAEDiZVp3p9z/Pwusfn8AVwFAQvt6nfTm/j8ciRuzEQP+PyJPhJ/DowVAIU8RRFKzA0BIPgCqG/ABQOumLKYangRAEriFXLQvA0DoS8XjcE0BQJ+1lIau1gFAp3NTp2cgAkDc7UeZmvsAQAfZK6L4TQhARs9P9wd8/j+DCpET6MsCQHxFSOOYyAFAvvDRKXjT/z+nwWdsNBAHQP/sZfbwtgJAIdweFTzNA0Abh+n6/E0FQNdbv1RgLAlA9UTrirtdBEDTYh1NgXkEQKNpCT1kkAVAhsT1bG41CEAz99s1poMIQPotQCOUvgZAhoKT4fNtBkCXSwkBILYIQDycFGkBCQpA+Ardx7iiCkCTF87WuGcNQCcXIrlEeA1AojgHqGlPC0Dq7eDr8loOQOsyDQv3rBRAfiN08fxREUCgc/PD9iURQEd47fZ5KQ9A4xLoCoffDkBqia4rlbcQQPZFNN2HaRBAbfqgCd6XE0AgYMep+7sSQCmp+b2qpRNATYokcfCeFECNu01Iql4TQG1pZG1JtRRAo0YpA3JREkDCtEiQ9PYRQIyt4wamsRVAuS8icvCZGEB1S119nOoZQJavEh/O4hlAmBC8pMoAGEARxZZdCmcYQBEFAAN3NhhAS6ivseNPFkCkmtd2pzMbQJ34xQDkExlA+4suju8uHkA5HJxWUK0hQK+tU3tVnCJA9OfjvGq5I0CZ5NxUNlYjQE3oBgUkDyRA38ZsVKi0JEAVuuonjRUkQCEiSfL+JyVASA1Ci8BqJUAWNaKqmTAkQNebXJhYMSRApPL6eaPAIkDUQ8RDp3AiQMG3XeO9dyJAjEEDC+h+IkC2Vrhc2R4iQDkz28+ZqiFAOTXO1a/rIUBUzr63AHYiQBgLVf+dMSBApVmQrGsTHkDz9JCYY+0bQKFWlsiTIxpAzmOWUVG0GkDGN4o7jb4YQOrwhNmOKBhAG0sDb+5GGkC2YhE3ht8ZQLTakAiQXRxAfs5xGPK7G0DCW+mGTdMZQOMalegakRhAYg5nxO71GECzsRVHsigXQOfurWoSJxhA/20bH1NzF0DZgnQ4DdcYQPRGyO6TMRZAKz6wSocSFkAf+uR1smsUQB8hlTuy3BNAxDwk582LE0D1Ox/VLvESQJwYWG6oZBJAMc+rV+XQEkDyDGBloYURQJBqxftdWhJAcyBYcqANEkCI3wbMkpQSQDSF0VCBjxNA35O4xPlrE0BGiIIJqNITQFvG4a0RtRNA+P6BuY9pFUDvG8Nd7xQVQDUUAv0NyxVA8ASO56iFFkBbNn3yynEXQFAKvwaEBBdAgZCoobWPFkDkzg0w4s4VQOrSaQMnshRAmY2ttL3CFECF/Mw1Mr0UQNg8RYBxXhRAdZerhe3oE0Dj9R07CLwTQA2EDxLKPxRAszn4pMFCE0A5sKKGbsoTQFmFNvX7fRNA1hnd6s84E0CwRbGXjnsSQBMQXaXOSxFAIVKuQIZTEUCi06DvfsEQQEn6q2Ho/hBAv82VipbnD0AVvi6EBaEOQItfy9v57gxA89rKgU9bDkCjhKri19kNQCdZYQkPfw1A",
          "dtype": "f8"
         },
         "yaxis": "y"
        },
        {
         "fillpattern": {
          "shape": ""
         },
         "hovertemplate": "Region=Asia<br>Jahr=%{x}<br>CO₂-Emissionen pro Kopf (Tonnen)=%{y}<extra></extra>",
         "legendgroup": "Asia",
         "line": {
          "color": "#EF553B"
         },
         "marker": {
          "symbol": "circle"
         },
         "mode": "lines",
         "name": "Asia",
         "orientation": "v",
         "showlegend": true,
         "stackgroup": "1",
         "type": "scatter",
         "x": {
          "bdata": "Ogc7BzwHPQc+Bz8HQAdBB0IHQwdEB0UHRgdHB0gHSQdKB0sHTAdNB04HTwdQB1EHUgdTB1QHVQdWB1cHWAdZB1oHWwdcB10HXgdfB2AHYQdiB2MHZAdlB2YHZwdoB2kHagdrB2wHbQduB28HcAdxB3IHcwd0B3UHdgd3B3gHeQd6B3sHfAd9B34HfweAB4EHggeDB4QHhQeGB4cHiAeJB4oHiweMB40HjgePB5AHkQeSB5MHlAeVB5YHlweYB5kHmgebB5wHnQeeB58HoAehB6IHowekB6UHpgenB6gHqQeqB6sHrAetB64HrwewB7EHsgezB7QHtQe2B7cHuAe5B7oHuwe8B70Hvge/B8AHwQfCB8MHxAfFB8YHxwfIB8kHygfLB8wHzQfOB88H0AfRB9IH0wfUB9UH1gfXB9gH2QfaB9sH3AfdB94H3wfgB+EH4gfjB+QH5QfmB+cH",
          "dtype": "i2"
         },
         "xaxis": "x",
         "y": {
          "bdata": "aOueRD0tEUAsGNQ4TRUMQGAq4f4iShJASxDSdxtiFUCpvPJgWEQSQEyhQJHFaRdAUR7nSZ2nC0DJgQtuGdYRQA9XRNQVaA1AsTU1siahD0DXsTJlf8oWQH33d03clxBAJL7bCEBLFkB3kBBHTgwSQFWE6AJ1uRBAhSotClimD0Df7i0tq2MRQPyCBxhk6A5APThLCifID0AXfme0huENQOmLjQ+qVA5AZuJDdsvMEEDtey0Yt0ARQP8faWgqYA1AFcNDhiOHEEDhpnIdGN0QQD4poV2CPxRA6KM/QjZsC0AMJWykE6sNQMeLO5SXUxBAPQ5i62JTEEBMYRa/rDgTQPEvNVCCaBJAQMGv1uknFUBdNYKbLpASQMCz5anAHRNAkz5E1yUnE0BUbIFFCLsRQBI22ZIXLxJAD+LCN7KsEkDLZLzWsxwTQMxD3FYdiBJABoLUsJiqEkD3tLvuimIRQOkX0ABdLRFAMInSYEnXEEAIKhyjbCURQD1YUjCbgxNA19IjEY6BEUBhCSkWWQETQA28GqJkyxJAg7akvBmlEkDhNLoKmnsSQPm/1ctEcxJAy52JTSY+EUAnp5p9oocTQLOMgEs7gxRAn+YFVE/rEkBt4w04JHASQNRVDQR5RRNAl6/ZMwgIEkBbgJqAfY0TQH20yt5kvhJAMo8d0Kl+EkA4eu6bPhsUQHRsCWpuExJAHGrguAKYEUBqsVJFFpYRQIkRujJFEBJAT3xSeX0lE0CL9ZzeiqcQQNUnxwZPXw5AT8yFi4zxDkClD0SzfpIQQJybCHooKhBAPZ66FpECEECkcfkmBRYQQC9QXbr5fQ9ASv58ZsrPEEC62OsUwrkQQOmUqmE99RFAFRTtxzkQEkBdB2ymeeIRQKFw1fXAqRJAyxzSdc+YEkBrIeZmYkMTQLuCsskVQxNA7Rkg1O04FUDkB/h/31QWQPARUjM7tBtAGw4csi20HEBFuyDd7/QYQIhixp42IRhA17xmlt2/GEBsMIEZW3saQJjHAKWsxhhAEbVokGw3HECuAXx9Tm0kQCc1fT/+GxxADL/PR0NHK0BPFersrG0jQJtYk7XPsiNAJXBvp6KjIkB9JAQvQwMlQMAHbUGoJylAsDIXEA2iKUCsZ+8prCAoQCkw2moH6SdA93s2NWlbKkAlw/nt7scqQL/rwvm5XSZALZkFCNbcKECdmQOvmiMoQPGsUc3UyixAtXkJO5KnLEA1ouOIiU0rQEuOcme9PClAaJOiGfT/KEBwHGpyVG4qQD3dqDNbOTBAKalHqU7aMEDJn+UAMtMwQFnJThDXMjFAYzgJaxTSMUB1Ikh2Z0kwQL+zW598uy5AAHeXkwlxLkBNnJrTHoAtQHHcnxIIkS1AlRWlsIi9LECjW9tRg2crQBXX3681jChASbw8nWt6J0BR/hIVjrAmQL8nT4j+NydAHGs12mCXJ0AF8iO1B38oQInZSmdfuCdAELmYHkwyKEAhzSFygw8oQFf8uXvTVidADquyzszLMkCZge7vUN4nQLiwADio0ShATVwPp5QDKUAhmAnburonQJdNyu5zZSlAlwJAg7vcKUAPK+dMamAoQCiVXglSNChAgUySsyETKUCkjsVtq0IoQCfjtZ7DYidAKyvGKE0qKECtRhvsMhUoQCvaU6nQ5ydAwHKX1yQrKEDMHnvQRnknQJTFWAGZ+CdAmJh4UUUMJ0ADcP0FTNsnQDOpoQ2AZShAQAyHuMzvKEBfv4QuBcUnQNu2p2MNYydAkOIJqjOWJkCfsFZ/Fi0mQM8y+dSfVSZAPOfLLwdOJkCfW1bPN4wmQOS5mhiutyVAywo3d3f2JUDZIZDd17glQFPm+ebRnyVA",
          "dtype": "f8"
         },
         "yaxis": "y"
        },
        {
         "fillpattern": {
          "shape": ""
         },
         "hovertemplate": "Region=Europe<br>Jahr=%{x}<br>CO₂-Emissionen pro Kopf (Tonnen)=%{y}<extra></extra>",
         "legendgroup": "Europe",
         "line": {
          "color": "#00cc96"
         },
         "marker": {
          "symbol": "circle"
         },
         "mode": "lines",
         "name": "Europe",
         "orientation": "v",
         "showlegend": true,
         "stackgroup": "1",
         "type": "scatter",
         "x": {
          "bdata": "Ogc7BzwHPQc+Bz8HQAdBB0IHQwdEB0UHRgdHB0gHSQdKB0sHTAdNB04HTwdQB1EHUgdTB1QHVQdWB1cHWAdZB1oHWwdcB10HXgdfB2AHYQdiB2MHZAdlB2YHZwdoB2kHagdrB2wHbQduB28HcAdxB3IHcwd0B3UHdgd3B3gHeQd6B3sHfAd9B34HfweAB4EHggeDB4QHhQeGB4cHiAeJB4oHiweMB40HjgePB5AHkQeSB5MHlAeVB5YHlweYB5kHmgebB5wHnQeeB58HoAehB6IHowekB6UHpgenB6gHqQeqB6sHrAetB64HrwewB7EHsgezB7QHtQe2B7cHuAe5B7oHuwe8B70Hvge/B8AHwQfCB8MHxAfFB8YHxwfIB8kHygfLB8wHzQfOB88H0AfRB9IH0wfUB9UH1gfXB9gH2QfaB9sH3AfdB94H3wfgB+EH4gfjB+QH5QfmB+cH",
          "dtype": "i2"
         },
         "xaxis": "x",
         "y": {
          "bdata": "qZOPhM2UFECcdgOViTwUQF5QCrMDKBRAMGJJANETFEACH/giniwUQJ6MV0RA5RNASXFluwjbE0C1DzpnkrQTQJFtqRtZlBNAjhsoN6RmE0CyHh92pCgTQMHSfyp87xJAUihuiRrBEkB7i3rNmqkSQOdztsxegRJASWl9ZE93EkBrb+3NumcSQMg5jnjikxJAa0ae1RZVEkBSI+UIyEcSQO2T9//egxJAvaX1572NEkCzoux+rLwSQLGbF/y92RJAaGFo2ByWEkAqsx1gocgSQBI0MyHQ2xJA28pkm8jCEkCgvFX4L8ASQEpiefKRsBJAU5VJHJhjE0CwEvGrefQSQJ0iGOtBCxNAFiMQhOspE0Bjk6HPbOoSQILxvdOl7RJAkJ/PeInDEkDCLWYe1f0SQBAYhvCxAhNA3p3iXLYeE0BSGWkjA0ITQM3IQYX6QhNAl8kNEuQqE0DC/3QIPgsTQDIzxJXZYhNASxBNV7JgE0DsKGRtJ34TQBTfWGm1rRNAXM34xqnIE0BgHL9kIfYTQCP/C4WBYRRAMDESsXM5FEDC1UudESYUQEYeatZ3SBRAtPmjmwliFEA4uULMY1EUQJaf5Ka3mhRAirgGpGcWFUA9/ekEiVEVQIv+AAaqAxVAoZaiOQtrFUBOEPHmW4wVQBY8vwczyhVAPFbkaPKoFkD6KXKu/0QVQMq8Z7pdxhRAij/bgXK4FEBh5bmGZdQTQLohIyb8bxNAV075ElXvEkDCnU0/D8wTQGUZt9g6VBNAnNVMCOcPFECJabGk9DYUQHqtIcTX+BRAuw4m3OPSFEC9FEez7BsUQOJKo+0LfhVALvd7wg90FUAQrszQAjwWQCTGchg6hxVAan5f0AANFUDmsAq6DigUQC3YORLXOhRAKHBfxTGOFEBWICcK/LUUQFjIfSc9ExVA2jFAZabIFUBxx0q1l3IVQB0rSmzrlBVA0gCmWKrMFUCoaAD9K/0UQGbVYTFcexRAcvyhsMMLFUBZl4U8ozgUQIx1kCjLNRJA9aYxQPPVFECURNjrO/QWQEYW56qk2RdAJrDRI1qQGEBlmMkmrzUcQD4JpnlLxR1ABrPwkov/HkDCtaiJHfUeQHofwzrAwh9ANoxINejHIEAqSaZcxEshQAbB22pz0SFAih/ftbZ/IUDcLF4sjKkhQMPBtUVf5yFAJhWuw6gOIkCSlDZNBlUiQII6YZlpxSJA+K1SUadHI0C6Oc+3iXQjQNlGuKApzyNAWdBqN7DXI0AsIB+6QbUkQH4IBQCiKiVAUhYZeEkbJkB+/MZT5lImQOJshI/SsCZA8GlOXmSBJ0Dtje/FdicnQKz8dDR1zCZA31qaGYWRJ0C8YoAjhYInQEM5boQHHChAI6lcE5iTKEDVz7yYPRgoQHDM0zVqTydApjNJj1POJkBmuZXz/8MmQN+qZxipDSdAZtKNTf6LJ0C+nq9ZLpknQPOM4PMBYidA6khoqqsWJ0DGyv1IcBgnQOpzOU4f0CdALWTHqUpMJ0BS4LYZm44lQGGkm+2fzCRAXsje43A7JEBaPv0tYqkjQHoNAY3AOiRA1EVMgTP1I0DEp2uzUqIjQFbW05qoNyNAi2FWQe/TIkA491ePezUjQH1VsoyiXCNATK8HclT3I0Ac7Cz+334kQFF7Oux48SNAsBkinz4JJEC+iM8AC2YkQJhdxRzj0CNAfx9hWsxzIkASa9AbFzcjQAQyIu495SJAV3YkC1aAIkBCPQE9IgMiQPL8UAaaZiFAWk+EPwlVIUDWvHAI0TohQCPEjUIvXiFAyjnrMoBFIUDmyOs97IkgQAg7pJxYdB5AJgKLsm1gH0BTm+4rxWQeQF5+yNd15BxA",
          "dtype": "f8"
         },
         "yaxis": "y"
        },
        {
         "fillpattern": {
          "shape": ""
         },
         "hovertemplate": "Region=North America<br>Jahr=%{x}<br>CO₂-Emissionen pro Kopf (Tonnen)=%{y}<extra></extra>",
         "legendgroup": "North America",
         "line": {
          "color": "#ab63fa"
         },
         "marker": {
          "symbol": "circle"
         },
         "mode": "lines",
         "name": "North America",
         "orientation": "v",
         "showlegend": true,
         "stackgroup": "1",
         "type": "scatter",
         "x": {
          "bdata": "Ogc7BzwHPQc+Bz8HQAdBB0IHQwdEB0UHRgdHB0gHSQdKB0sHTAdNB04HTwdQB1EHUgdTB1QHVQdWB1cHWAdZB1oHWwdcB10HXgdfB2AHYQdiB2MHZAdlB2YHZwdoB2kHagdrB2wHbQduB28HcAdxB3IHcwd0B3UHdgd3B3gHeQd6B3sHfAd9B34HfweAB4EHggeDB4QHhQeGB4cHiAeJB4oHiweMB40HjgePB5AHkQeSB5MHlAeVB5YHlweYB5kHmgebB5wHnQeeB58HoAehB6IHowekB6UHpgenB6gHqQeqB6sHrAetB64HrwewB7EHsgezB7QHtQe2B7cHuAe5B7oHuwe8B70Hvge/B8AHwQfCB8MHxAfFB8YHxwfIB8kHygfLB8wHzQfOB88H0AfRB9IH0wfUB9UH1gfXB9gH2QfaB9sH3AfdB94H3wfgB+EH4gfjB+QH5QfmB+cH",
          "dtype": "i2"
         },
         "xaxis": "x",
         "y": {
          "bdata": "6kapZdf4I0A2SFXZEa0kQGbPEUM1oSRAyi/VqDZ9I0ArvdTPIg8iQJrduAOdwyFAqH9Qrks4IUDGXNl8/ZkhQODAhDKgDiJAoe++HjjlIUBm4EGQpiQiQCrxq+/A6iFABrZAjyeYIUA4HqiTfG0iQNN2795u8iFAgwxi5vVZIUD5ay4OmT4hQA9FAKMFuiFAGPl7LNlkIUDKV4yN6T4iQD2//Yo2GCJAj3vFyMRGIECKVuU8ufchQFq6lP8dfSFAGnGlSCAUJEC/K4vIWggjQNHxXX7cOyJAX+QDiXJsIUDRdX+83g8hQIBXIundJSFA6HEvq5rnIUBD/NEz+4shQMhRZVTgviFAi9FSW6+vIkBkXsj1bP8hQALQOLg8UiNAO4zVoc11IkBbsUsPPS8hQMYFUs8i/SBAyhYaEAzkIEA/iDTFh4EhQBLYmI7q0SBAdskXOMkuIUAjQyFim/khQFVJSqMQaSFAU4AJwV+9IUBF+QLT6mQhQOO34xfIFCJAuECHtvepIEDNT0UOy6sgQLNMjB0rHSJAl0TE+bfdIkDA8x1hJhgiQJlP9vdlsCJAAOsRy3msI0Atc4FgTxojQMOYieOdAiNAgW0kqM5bIkB44VcZtH0jQCarB4FeWSNAbIWyX//VIkC9OxkyrL0jQNgVzRV+XSNAE/BIqRzvIkA6MPBf1YojQFpt6Ut5UiNAnfgOeV8MI0CjLFDNO3QjQFw9uLM94yNA2nzqWWnuI0CYa7m9dyYkQH8ACA4eSiRAdxueQRCfI0BfSh1N0/gjQNGjrvlKVyRAi3NZYnrbI0AXRPBqj9IjQG2CthGPRiNAYeqnaIpxI0CAnkJ1gewiQPLY5yAX7SRAyfXNhuJTJUA2eseOm9IkQM/hXQMsCSVAw52aWyV/JUCvYTRP/3YlQPHKom5vBiVA+uec57ExJkBkYOxd5P8lQE5Hh4X5SCZAB5/bXTMPKED5FLgTZRQqQN96/c4MnypAa6KS/3YeKkADVkVJwK4pQNZDAnKlKilA+LzTtAaRKUAZBZFZYykpQLqDw2rQzyhArjOeeal0KEC2caiZdI4nQHEwrvgddShA2GU2d4xFKEBx+SrLDNsnQBwP4uaavydAEqLwHm0kKEC8j9PDKj0oQE3ccXiDJSdAQXmioGTnJ0CzRCyIuq4rQPgarNU+cSNAZuRIn9SkIUC0t2HMNH4hQOGa7lZ7AyFAyB2M/SqqIEB4cgoNlm4hQFHLpn5HPx9AD6KxJgKfIEC3yQhHffAgQCHziSehciFAgDvIAGpQIUAHCENgytYiQDhzFwF2jSRA8rNCEat4I0AFsM/IA6UjQK6CupFPyCRAiVHE8D3DJEB40+gIKKglQJiY8CPkqiNAHUSt2h6zI0BxMXxxOS0kQNB9CgiY8yFAN0eD5CoAIEBpKdtBMq8hQGb7Qd1gISBA/C0FdHOnH0CAoOSg6RIgQLmYqF34eSJAL+Lc+6zhIUCmbZq3cxAiQIIv3ER06SBAdgi89EJXIUBEw9axF1YiQLhyDhSl5CBA0ODTVqsJIUB9Qw6h1VQgQChQNWPPqiBAqrveGbO2IEBo5N7ig+8hQFRKuyuiSCJAHbgA2LG5IUDUhsA1qL0hQLMphUSqrCFAx+JKb1OUIUDN+f89vPAgQHoIPYIx4CBAcwQW2bjMIUD0YrfmkNwhQPoxnQC+hyFAuzByd+mIIUAW8aA1DlUhQICi9rQ27iBAxijTOOiAIEBz/4yOUmogQHVurn4m/SBAUvC3+sz3IECWCFMgbgkgQB1yj3SmqR9Ak0JtwWsBH0BkozLIuQQgQLZjARV26xxAtfbKdyNTHUBc/U7ABocdQEtaNkAhUR1A",
          "dtype": "f8"
         },
         "yaxis": "y"
        },
        {
         "fillpattern": {
          "shape": ""
         },
         "hovertemplate": "Region=Oceania<br>Jahr=%{x}<br>CO₂-Emissionen pro Kopf (Tonnen)=%{y}<extra></extra>",
         "legendgroup": "Oceania",
         "line": {
          "color": "#FFA15A"
         },
         "marker": {
          "symbol": "circle"
         },
         "mode": "lines",
         "name": "Oceania",
         "orientation": "v",
         "showlegend": true,
         "stackgroup": "1",
         "type": "scatter",
         "x": {
          "bdata": "Ogc7BzwHPQc+Bz8HQAdBB0IHQwdEB0UHRgdHB0gHSQdKB0sHTAdNB04HTwdQB1EHUgdTB1QHVQdWB1cHWAdZB1oHWwdcB10HXgdfB2AHYQdiB2MHZAdlB2YHZwdoB2kHagdrB2wHbQduB28HcAdxB3IHcwd0B3UHdgd3B3gHeQd6B3sHfAd9B34HfweAB4EHggeDB4QHhQeGB4cHiAeJB4oHiweMB40HjgePB5AHkQeSB5MHlAeVB5YHlweYB5kHmgebB5wHnQeeB58HoAehB6IHowekB6UHpgenB6gHqQeqB6sHrAetB64HrwewB7EHsgezB7QHtQe2B7cHuAe5B7oHuwe8B70Hvge/B8AHwQfCB8MHxAfFB8YHxwfIB8kHygfLB8wHzQfOB88H0AfRB9IH0wfUB9UH1gfXB9gH2QfaB9sH3AfdB94H3wfgB+EH4gfjB+QH5QfmB+cH",
          "dtype": "i2"
         },
         "xaxis": "x",
         "y": {
          "bdata": "TNTwAYSkPkC1COw2meI8QCA9QiWhojpANIhfS9ObN0DxF8Fo00k3QMFQLFw7MDZA8k6c35g5M0AoIc1i5tg0QPpjLjNlkjNA6UyChFonM0DSCsLLAuQxQCRUM+RHsDFAwPuncxhcMED41xHYc7YxQBGZfCzsXTBAEaJbM2KSL0C3Xw8IILArQDfPuECn+ytAGK2VZ2HoKEAHFmBTdi4qQHm3AqRhKStAv7bplZPnKEC3jXzlEpInQPh7I2qIYyhALVR3lOihJ0CVKESJ3xonQN1LB9g0eilAGQc0ZP7SJUDtFXzv+r0lQC2LWnw2SydAkfObFZPjIkAMxKRWG9AkQEqBdp1IqSNA3WVGEElII0AoV+6Mh70lQNMt62TFPyJAPxEiHNtyIkA4HGIt1NAkQOdKyv51hyVAORSOuoG3I0BMGA/nyLwxQGz6NG9d9DJA8dQC/8RyNEAelQSlwDo0QJFeAFe5VzNAFDLN+1DpNED11Ws1yz80QBPX2d11ujRAVCBs3qyTNEDncEBawuI0QKeUnZ9ezClA9Fy7wQsuJ0AIhU0M5VQlQH0OZvLR9CRAlXG+nlCVJECHA5LGIxEmQL9S/DR5jCBAxfBv08d3IkDrvGnWdRohQPG9ypvzhyBACD0id/NuIUCh4yJ2pVYhQKRc5uVGIiBAt6Vcgev6IEB4peRU6uMhQNOjOxqZRCNA9FyKoPB9I0Cnr5r1y4wbQBYSk+R3aSJAoP25fny2H0CRShe3XNwiQK+y4pF/aCBAaQ/pJTRxG0DT3R1mIdUhQPtD7dsnQR9Axy7NhJFVHUBBYWZawqUhQJQszOcB9iFAi0Noym+UIUBcDHxIoBcdQNts+ToHGx9AbPQ+GPH0H0BnZhnwmy8eQCXpCzebOR5AndgMOX+AHkCHmqtfGEgeQLsqvg91VxtAkatgbe/+GkAUOSs//BweQBioMcYs4RpA4oZK6TouIUD7Nmm/WhslQGCxRG+KxCRA3SNk6QwvJkDIh5qYlP8lQDRLGIjFaSRAs7byW71aJkCrnnRvN8ElQBcnTW3uSydA8Pqg8b3iJ0D5qw4ils8kQA/ViQqlASVAudThHAQCJEANkbWyulYjQGu+E3wcDCVAb/NV3H1vI0DB6st6/mwjQKKE02EJQiNAvssGSQUnJEDhfdxPKGQiQCV7qJE6GSBAVO2JZH6vIEA9sUBSRwgdQCMiylFfBR5Agc5X1wqII0AcUsShNhQgQDPFd70PEyFA0QI45goFI0Dbvn6/T7QiQLuIPySnoiJAiK6X6CR9I0DMrctQ4RokQA99HHLYCiJA08Dc4CK0IkCTJoYx200mQD1febGsgSZAo776shM7JUA5W+WuyoolQCUDCVNd7SNAZ2FwSeXlI0C1QO19y7YnQP1Tc4L/LCVAULdrwQrEJECPAEKuTdUjQBfk/IfT+iJA+bJvTvFqJUCOCys5SzQjQP2k+7XMpCNAMTgmZwRuI0Aah0fUokgjQESlzxapLCJA04pvKHxYIUAv/E4BniUkQLmRDf/EXSNArwBA+bDQI0DQnAvet9QjQKwOOMp5qCNAeoMLVY0tI0D4wVGldCgjQOSTlhLKPyNAzcMcF2gfI0B2D6yGoCIkQMnQLUum6iFAReiFDy9JI0AVPDjm3lUiQEkLzhcyPSFACamkF35/IUCTdEms9+YgQF8K7ot06SBAXGSDzQE1IEARPFA5uEEhQHU1506e1yBAfulIibiTIEAyIa/Q0AMgQOeVRiemJB9AVGVgZbWBHkCRvjYIYJgeQIwAXerWDR9A/+9covMvHUBg+9zjX/QbQJQqZMHX9BpAezLIJsIxG0CwjzipCEQbQPdHc7+e2hpA",
          "dtype": "f8"
         },
         "yaxis": "y"
        },
        {
         "fillpattern": {
          "shape": ""
         },
         "hovertemplate": "Region=Russia<br>Jahr=%{x}<br>CO₂-Emissionen pro Kopf (Tonnen)=%{y}<extra></extra>",
         "legendgroup": "Russia",
         "line": {
          "color": "#19d3f3"
         },
         "marker": {
          "symbol": "circle"
         },
         "mode": "lines",
         "name": "Russia",
         "orientation": "v",
         "showlegend": true,
         "stackgroup": "1",
         "type": "scatter",
         "x": {
          "bdata": "Ogc7BzwHPQc+Bz8HQAdBB0IHQwdEB0UHRgdHB0gHSQdKB0sHTAdNB04HTwdQB1EHUgdTB1QHVQdWB1cHWAdZB1oHWwdcB10HXgdfB2AHYQdiB2MHZAdlB2YHZwdoB2kHagdrB2wHbQduB28HcAdxB3IHcwd0B3UHdgd3B3gHeQd6B3sHfAd9B34HfweAB4EHggeDB4QHhQeGB4cHiAeJB4oHiweMB40HjgePB5AHkQeSB5MHlAeVB5YHlweYB5kHmgebB5wHnQeeB58HoAehB6IHowekB6UHpgenB6gHqQeqB6sHrAetB64HrwewB7EHsgezB7QHtQe2B7cHuAe5B7oHuwe8B70Hvge/B8AHwQfCB8MHxAfFB8YHxwfIB8kHygfLB8wHzQfOB88H0AfRB9IH0wfUB9UH1gfXB9gH2QfaB9sH3AfdB94H3wfgB+EH4gfjB+QH5QfmB+cH",
          "dtype": "i2"
         },
         "xaxis": "x",
         "y": {
          "bdata": "iulCrP5IJEAyc4HLY60nQJlGk4sxyCZAW9HmOLfZJkC30QDeAlEoQOc3TDRIQSVAiq2gaYmtKECOlZhnJT0lQF0ZVBucMCVAJ77aUZybJEBz843onh0iQCF00CUcuiZAJ6JfWz+9JkBbecn/5FslQDKqDONuWCRA/kP67etoJEDG3/YEiYUlQFxV9l0RfCNAiEuOO6WTI0Cxwi0fSVkjQHZtb7ck5yVA0etP4nOXIkBbQGg9fJkmQEwceSCyXCNAqYdodAdxJ0AmxccnZIcnQAtBDkqY0SZAMErQX+jhJUB3ZKw2/88lQN0MN+DzyyRA6xwDstdzJ0DhB+dTx6omQCDURQplgShAZr6DnzhUJEApsWt7u80pQMSVs3dGgyhA6tDpeTcuJkDFcHUAxAEoQOQTsvM2viVAOiLfpdRFJ0CvtfepKrQpQACPqFDdtCtALdFZZhGCK0CpaKz9ndUsQEcAN4sXayxAw0gvavezK0C6L2e2K5wpQNUhN8MNyCtAgV1NnrLiK0BF8pVASrgrQNU/iGTI2S1ASwSqfxBVLUDFymjk80ovQFn7O9ujZy5A6x7ZXDXnLkABpaFGISkwQBpvK702gzBAi8QENXwDL0BWDFcHQBgwQOrr+ZrlnjBA0bLuHwshLUCrtMU1PlsqQPHUIw1uQyhAO+RmuAEHJkBlVu9wO8wlQF/uk6MAYSRA98d71crMJEAVOxqH+l0jQKinj8AfHiFAn8ppT8mZIEDgDtQpjy4iQD1jX7LxeCRAeJeL+E6EI0AZPEz75r4kQLO2KR4X9SVAdw/QfTnrI0CqK5/leWAkQKQ4Rx0d3yVAV3cstkn1JUCfkJ23sbElQHWxaaUQ4ChACwkYXd6ULEA7qpog6kotQFeXUwJimi1AiCr8Gd6UL0BkBFQ4giwvQNaQuMfSmzBAJefEHtoXMUB8fhghPCYxQP3YJD/i/zBAH4DUJk6uK0Ck42pkV5opQHb7rDJTQiRAhEnx8QnJIUAwuycPC60iQLoRFhVxaiFAXTEjvD0QIECSs7CnHY4gQBFSt7OvnB1A+y5bof4ZHUDj32dcOCgjQOfDswQZWSVAUP9Z8+OfJkB3FOeoozsoQCC0Hr5MnCpAvHSTGAQeLUBSZK2h1A4vQCOGHcakczBAJ79FJ0u9LkAfaAWGrK4yQAmH3uLh6TBAH0dzZOXrMUDj+nd95rQvQOOpRxrcGjBAw7tcxHcSMECTGARWDn0wQCSAm8WLwTBA5ggZyLMHMUAOn3QiwSAxQEph3uNMKzFA1T4djxmwMkA2PSgoRfMxQC20c5oFTjJAYOl8eJZkM0CYpDLFHHQzQDf/rzpysDNAb4EExY+pNEDqeMxAZSA1QMo0mlyMkTVAhxqFJLMKNUDM7PMY5V02QCqMLQQ5aDVANiOD3EUkNUBZi08BMG41QBiyutVzgjVAhe6SOCuGNkByGMxfIVM2QCRCI9i4ZjZAXK/pQUHdNkCx+E1hpeo1QJOpglFJ3TZAr1+wG7a1NUBS8uocAxoyQKvsuyL4rzBAyjZwB+pcLkBZF7fRAG4sQJ7PgHoz0jBAyZHOwMjjKkC7DWq/tbcpQLJIE+8AtypAy9k7o62yKUBsXtVZLXApQGyYofFEOClAD2PS30u5KkDSAUnYt4srQIlFDDuMKStAqYk+H2UsLUBuawvPSz0tQHCwNzEk/y1AzEV8J2Z9LUAGhUGZRvcwQLTmx19azC5ADoelgR95MUA9Qzhm2UMwQEfH1ciuDC9A/WoOEMwZMUBIaqFkcu4wQKcIcHoX1zBAtHHEWnxeMUDkoISZtoMwQECH+fICbDBAL4fddwxXMUDOcAM+P1QyQP/PYb68gDJA",
          "dtype": "f8"
         },
         "yaxis": "y"
        },
        {
         "fillpattern": {
          "shape": ""
         },
         "hovertemplate": "Region=South America<br>Jahr=%{x}<br>CO₂-Emissionen pro Kopf (Tonnen)=%{y}<extra></extra>",
         "legendgroup": "South America",
         "line": {
          "color": "#FF6692"
         },
         "marker": {
          "symbol": "circle"
         },
         "mode": "lines",
         "name": "South America",
         "orientation": "v",
         "showlegend": true,
         "stackgroup": "1",
         "type": "scatter",
         "x": {
          "bdata": "Ogc7BzwHPQc+Bz8HQAdBB0IHQwdEB0UHRgdHB0gHSQdKB0sHTAdNB04HTwdQB1EHUgdTB1QHVQdWB1cHWAdZB1oHWwdcB10HXgdfB2AHYQdiB2MHZAdlB2YHZwdoB2kHagdrB2wHbQduB28HcAdxB3IHcwd0B3UHdgd3B3gHeQd6B3sHfAd9B34HfweAB4EHggeDB4QHhQeGB4cHiAeJB4oHiweMB40HjgePB5AHkQeSB5MHlAeVB5YHlweYB5kHmgebB5wHnQeeB58HoAehB6IHowekB6UHpgenB6gHqQeqB6sHrAetB64HrwewB7EHsgezB7QHtQe2B7cHuAe5B7oHuwe8B70Hvge/B8AHwQfCB8MHxAfFB8YHxwfIB8kHygfLB8wHzQfOB88H0AfRB9IH0wfUB9UH1gfXB9gH2QfaB9sH3AfdB94H3wfgB+EH4gfjB+QH5QfmB+cH",
          "dtype": "i2"
         },
         "xaxis": "x",
         "y": {
          "bdata": "aID45qQaMkDrR6UEOroqQJ8eEvU59jBAo3KBOehVMUBbyQ/dNLguQAfGebex7zFAdyM9VjpEMUAJbXBZvM0xQMVXzQXAAjJAJ3wAnCiML0AYMDfOXAArQEHgpficUDBATYqzRmFhLUBxGW73qQIpQDsD7GyRJSpAx7ZD+iTxK0Ds3/WZs0QmQOQui1ILEilAQdqRfLedKUAzMM67jTQnQBe0bIk4KipAhwPqlubvKkDceD25IvYnQKAphYq70CpALPX1RQujKECMmSDGRzYtQNVuBV53SitAqbaNnfMKJUDV9veaZkkpQNVksxAKfSVAsUHeKgfyKUBQrOVgyN8qQFH61EPGHytAK3krAedgLUC5/SmMZCUsQHSYLy/Adi1AYMftBdSQKUAf0ktoblkvQIhiBdLYOyxA9WbUfJWYLUA5xIn5A4UoQJXkyupnhihAnWiy2lctK0C7bCpBNXwoQMFAa9m16ypARFHXEb6zK0Csh52X+HsoQHTEomo8kChA42YCj7mIK0ARMmxw/p0qQF8NGViQSCtA+wNTOzEOLEAl0yCE/7UuQEmWphs7Ry5Am53En2CLLUDbcsBAovQtQFxpLHQ4qi1AJ1Ev+DQlLkDVr3Q+PLguQJOnGiufUi9AkfeXysjzLkB7YUUgcfUvQPlziaK/EjBA9UvEW+fvL0ClYQtU2W0vQF/gcQk/fy9AEZNdVk62L0DlTADrXkIvQJAn7h3aRTBABR3RYWITMECfhoIsHjkwQL0MR9g4xDBAHS+Tl2sVMEASuyQ8j+QwQDDX2cdBXzFAnXsiYl1iMEBR7/MpkbAxQD9xboHyWDFAYclCYb1+MUBDCJHVdvEtQPU8N+x2ejBARyJrRGe/LkCVNQ4Zs64wQDcYj/dPpzBABeHTZXogMUAYBWYqabcvQAObc/DM9zBAjxKXv57OMEAPsZ3LMHAwQFFLcyuEMS5AGye8O+kbMEA91ep06cYwQLub3vy9qDBAppnuddKNMEBD/Qp1NDMvQNOl7c3dTS1A3UP5udg9LUD1uN05AkYtQAjnwUve1C1Axc+jBvfcK0CLUGwFTa4vQAMt7zwD9jBAiXTk7a1xMkBAogkUsbkxQMe8jjjk+DFAtz8q2Fm9MkDsUn6tphkzQCXEOFscyzJA9yhJxIGYMUAxAdIR09ozQCEsGbYcYTJA2ekHdZHWLUCwEzqLuvAqQKgPN7pd1SpAuFUQA12HKUCkb5tyThooQBDaYQJtKihAQ1C2ySkjJkBCwQ15TFckQD0mUprNNiVAK4arAyCQJ0A87m54VJ0lQBN3z5SwvyVADOGrMJDLJkAPZD21+scnQOgOB66XdiZAVKjcsrFEKEBYy8GQ+comQMOOWryzfCdAV1WwDshnKEAIUjxBdW4oQAEYKloUeCZADEq+/3yHJUCp4SSWXY4kQGb35GGh4iNAO99PjZdgJEB8xzpm6lEjQL0wrPVYrSJAoUs49BaQIUD7K4ilpXAhQBGPH4VGwCFALxFLpuYoI0BbzqW4qjMlQP9SUJuCDyRA8XmhXPbmJ0Ac/08PGyQnQC/dkoo0CiVAvydELqYDKECxleGJavUoQOgRbCU9CidAoHS0PKH8I0B+L5jSDdciQFFAJI0bWCRAs6U0iPweKkA7g5nJSoQmQPmQb27LrCNAp3ud1JcmJUAXM3hOaTEkQL9vMmB/nyVADcYawO36JEBRbV1XuVYlQNyX2CGjMyVAK5l2RJggJ0Az3sT+IKglQO9d3ndnQSRAdzRpri7pIkAwDi4dc6IjQDvYrETqJCJAXjCBJLUlIkAGPLHP5HYiQIfWnQEIoCFAk1q6FOmwIUBzZinH0nkhQEIxMRWaqCFA",
          "dtype": "f8"
         },
         "yaxis": "y"
        }
       ],
       "layout": {
        "legend": {
         "title": {
          "text": "Region"
         },
         "tracegroupgap": 0
        },
        "template": {
         "data": {
          "bar": [
           {
            "error_x": {
             "color": "#2a3f5f"
            },
            "error_y": {
             "color": "#2a3f5f"
            },
            "marker": {
             "line": {
              "color": "white",
              "width": 0.5
             },
             "pattern": {
              "fillmode": "overlay",
              "size": 10,
              "solidity": 0.2
             }
            },
            "type": "bar"
           }
          ],
          "barpolar": [
           {
            "marker": {
             "line": {
              "color": "white",
              "width": 0.5
             },
             "pattern": {
              "fillmode": "overlay",
              "size": 10,
              "solidity": 0.2
             }
            },
            "type": "barpolar"
           }
          ],
          "carpet": [
           {
            "aaxis": {
             "endlinecolor": "#2a3f5f",
             "gridcolor": "#C8D4E3",
             "linecolor": "#C8D4E3",
             "minorgridcolor": "#C8D4E3",
             "startlinecolor": "#2a3f5f"
            },
            "baxis": {
             "endlinecolor": "#2a3f5f",
             "gridcolor": "#C8D4E3",
             "linecolor": "#C8D4E3",
             "minorgridcolor": "#C8D4E3",
             "startlinecolor": "#2a3f5f"
            },
            "type": "carpet"
           }
          ],
          "choropleth": [
           {
            "colorbar": {
             "outlinewidth": 0,
             "ticks": ""
            },
            "type": "choropleth"
           }
          ],
          "contour": [
           {
            "colorbar": {
             "outlinewidth": 0,
             "ticks": ""
            },
            "colorscale": [
             [
              0,
              "#0d0887"
             ],
             [
              0.1111111111111111,
              "#46039f"
             ],
             [
              0.2222222222222222,
              "#7201a8"
             ],
             [
              0.3333333333333333,
              "#9c179e"
             ],
             [
              0.4444444444444444,
              "#bd3786"
             ],
             [
              0.5555555555555556,
              "#d8576b"
             ],
             [
              0.6666666666666666,
              "#ed7953"
             ],
             [
              0.7777777777777778,
              "#fb9f3a"
             ],
             [
              0.8888888888888888,
              "#fdca26"
             ],
             [
              1,
              "#f0f921"
             ]
            ],
            "type": "contour"
           }
          ],
          "contourcarpet": [
           {
            "colorbar": {
             "outlinewidth": 0,
             "ticks": ""
            },
            "type": "contourcarpet"
           }
          ],
          "heatmap": [
           {
            "colorbar": {
             "outlinewidth": 0,
             "ticks": ""
            },
            "colorscale": [
             [
              0,
              "#0d0887"
             ],
             [
              0.1111111111111111,
              "#46039f"
             ],
             [
              0.2222222222222222,
              "#7201a8"
             ],
             [
              0.3333333333333333,
              "#9c179e"
             ],
             [
              0.4444444444444444,
              "#bd3786"
             ],
             [
              0.5555555555555556,
              "#d8576b"
             ],
             [
              0.6666666666666666,
              "#ed7953"
             ],
             [
              0.7777777777777778,
              "#fb9f3a"
             ],
             [
              0.8888888888888888,
              "#fdca26"
             ],
             [
              1,
              "#f0f921"
             ]
            ],
            "type": "heatmap"
           }
          ],
          "histogram": [
           {
            "marker": {
             "pattern": {
              "fillmode": "overlay",
              "size": 10,
              "solidity": 0.2
             }
            },
            "type": "histogram"
           }
          ],
          "histogram2d": [
           {
            "colorbar": {
             "outlinewidth": 0,
             "ticks": ""
            },
            "colorscale": [
             [
              0,
              "#0d0887"
             ],
             [
              0.1111111111111111,
              "#46039f"
             ],
             [
              0.2222222222222222,
              "#7201a8"
             ],
             [
              0.3333333333333333,
              "#9c179e"
             ],
             [
              0.4444444444444444,
              "#bd3786"
             ],
             [
              0.5555555555555556,
              "#d8576b"
             ],
             [
              0.6666666666666666,
              "#ed7953"
             ],
             [
              0.7777777777777778,
              "#fb9f3a"
             ],
             [
              0.8888888888888888,
              "#fdca26"
             ],
             [
              1,
              "#f0f921"
             ]
            ],
            "type": "histogram2d"
           }
          ],
          "histogram2dcontour": [
           {
            "colorbar": {
             "outlinewidth": 0,
             "ticks": ""
            },
            "colorscale": [
             [
              0,
              "#0d0887"
             ],
             [
              0.1111111111111111,
              "#46039f"
             ],
             [
              0.2222222222222222,
              "#7201a8"
             ],
             [
              0.3333333333333333,
              "#9c179e"
             ],
             [
              0.4444444444444444,
              "#bd3786"
             ],
             [
              0.5555555555555556,
              "#d8576b"
             ],
             [
              0.6666666666666666,
              "#ed7953"
             ],
             [
              0.7777777777777778,
              "#fb9f3a"
             ],
             [
              0.8888888888888888,
              "#fdca26"
             ],
             [
              1,
              "#f0f921"
             ]
            ],
            "type": "histogram2dcontour"
           }
          ],
          "mesh3d": [
           {
            "colorbar": {
             "outlinewidth": 0,
             "ticks": ""
            },
            "type": "mesh3d"
           }
          ],
          "parcoords": [
           {
            "line": {
             "colorbar": {
              "outlinewidth": 0,
              "ticks": ""
             }
            },
            "type": "parcoords"
           }
          ],
          "pie": [
           {
            "automargin": true,
            "type": "pie"
           }
          ],
          "scatter": [
           {
            "fillpattern": {
             "fillmode": "overlay",
             "size": 10,
             "solidity": 0.2
            },
            "type": "scatter"
           }
          ],
          "scatter3d": [
           {
            "line": {
             "colorbar": {
              "outlinewidth": 0,
              "ticks": ""
             }
            },
            "marker": {
             "colorbar": {
              "outlinewidth": 0,
              "ticks": ""
             }
            },
            "type": "scatter3d"
           }
          ],
          "scattercarpet": [
           {
            "marker": {
             "colorbar": {
              "outlinewidth": 0,
              "ticks": ""
             }
            },
            "type": "scattercarpet"
           }
          ],
          "scattergeo": [
           {
            "marker": {
             "colorbar": {
              "outlinewidth": 0,
              "ticks": ""
             }
            },
            "type": "scattergeo"
           }
          ],
          "scattergl": [
           {
            "marker": {
             "colorbar": {
              "outlinewidth": 0,
              "ticks": ""
             }
            },
            "type": "scattergl"
           }
          ],
          "scattermap": [
           {
            "marker": {
             "colorbar": {
              "outlinewidth": 0,
              "ticks": ""
             }
            },
            "type": "scattermap"
           }
          ],
          "scattermapbox": [
           {
            "marker": {
             "colorbar": {
              "outlinewidth": 0,
              "ticks": ""
             }
            },
            "type": "scattermapbox"
           }
          ],
          "scatterpolar": [
           {
            "marker": {
             "colorbar": {
              "outlinewidth": 0,
              "ticks": ""
             }
            },
            "type": "scatterpolar"
           }
          ],
          "scatterpolargl": [
           {
            "marker": {
             "colorbar": {
              "outlinewidth": 0,
              "ticks": ""
             }
            },
            "type": "scatterpolargl"
           }
          ],
          "scatterternary": [
           {
            "marker": {
             "colorbar": {
              "outlinewidth": 0,
              "ticks": ""
             }
            },
            "type": "scatterternary"
           }
          ],
          "surface": [
           {
            "colorbar": {
             "outlinewidth": 0,
             "ticks": ""
            },
            "colorscale": [
             [
              0,
              "#0d0887"
             ],
             [
              0.1111111111111111,
              "#46039f"
             ],
             [
              0.2222222222222222,
              "#7201a8"
             ],
             [
              0.3333333333333333,
              "#9c179e"
             ],
             [
              0.4444444444444444,
              "#bd3786"
             ],
             [
              0.5555555555555556,
              "#d8576b"
             ],
             [
              0.6666666666666666,
              "#ed7953"
             ],
             [
              0.7777777777777778,
              "#fb9f3a"
             ],
             [
              0.8888888888888888,
              "#fdca26"
             ],
             [
              1,
              "#f0f921"
             ]
            ],
            "type": "surface"
           }
          ],
          "table": [
           {
            "cells": {
             "fill": {
              "color": "#EBF0F8"
             },
             "line": {
              "color": "white"
             }
            },
            "header": {
             "fill": {
              "color": "#C8D4E3"
             },
             "line": {
              "color": "white"
             }
            },
            "type": "table"
           }
          ]
         },
         "layout": {
          "annotationdefaults": {
           "arrowcolor": "#2a3f5f",
           "arrowhead": 0,
           "arrowwidth": 1
          },
          "autotypenumbers": "strict",
          "coloraxis": {
           "colorbar": {
            "outlinewidth": 0,
            "ticks": ""
           }
          },
          "colorscale": {
           "diverging": [
            [
             0,
             "#8e0152"
            ],
            [
             0.1,
             "#c51b7d"
            ],
            [
             0.2,
             "#de77ae"
            ],
            [
             0.3,
             "#f1b6da"
            ],
            [
             0.4,
             "#fde0ef"
            ],
            [
             0.5,
             "#f7f7f7"
            ],
            [
             0.6,
             "#e6f5d0"
            ],
            [
             0.7,
             "#b8e186"
            ],
            [
             0.8,
             "#7fbc41"
            ],
            [
             0.9,
             "#4d9221"
            ],
            [
             1,
             "#276419"
            ]
           ],
           "sequential": [
            [
             0,
             "#0d0887"
            ],
            [
             0.1111111111111111,
             "#46039f"
            ],
            [
             0.2222222222222222,
             "#7201a8"
            ],
            [
             0.3333333333333333,
             "#9c179e"
            ],
            [
             0.4444444444444444,
             "#bd3786"
            ],
            [
             0.5555555555555556,
             "#d8576b"
            ],
            [
             0.6666666666666666,
             "#ed7953"
            ],
            [
             0.7777777777777778,
             "#fb9f3a"
            ],
            [
             0.8888888888888888,
             "#fdca26"
            ],
            [
             1,
             "#f0f921"
            ]
           ],
           "sequentialminus": [
            [
             0,
             "#0d0887"
            ],
            [
             0.1111111111111111,
             "#46039f"
            ],
            [
             0.2222222222222222,
             "#7201a8"
            ],
            [
             0.3333333333333333,
             "#9c179e"
            ],
            [
             0.4444444444444444,
             "#bd3786"
            ],
            [
             0.5555555555555556,
             "#d8576b"
            ],
            [
             0.6666666666666666,
             "#ed7953"
            ],
            [
             0.7777777777777778,
             "#fb9f3a"
            ],
            [
             0.8888888888888888,
             "#fdca26"
            ],
            [
             1,
             "#f0f921"
            ]
           ]
          },
          "colorway": [
           "#636efa",
           "#EF553B",
           "#00cc96",
           "#ab63fa",
           "#FFA15A",
           "#19d3f3",
           "#FF6692",
           "#B6E880",
           "#FF97FF",
           "#FECB52"
          ],
          "font": {
           "color": "#2a3f5f"
          },
          "geo": {
           "bgcolor": "white",
           "lakecolor": "white",
           "landcolor": "white",
           "showlakes": true,
           "showland": true,
           "subunitcolor": "#C8D4E3"
          },
          "hoverlabel": {
           "align": "left"
          },
          "hovermode": "closest",
          "mapbox": {
           "style": "light"
          },
          "paper_bgcolor": "white",
          "plot_bgcolor": "white",
          "polar": {
           "angularaxis": {
            "gridcolor": "#EBF0F8",
            "linecolor": "#EBF0F8",
            "ticks": ""
           },
           "bgcolor": "white",
           "radialaxis": {
            "gridcolor": "#EBF0F8",
            "linecolor": "#EBF0F8",
            "ticks": ""
           }
          },
          "scene": {
           "xaxis": {
            "backgroundcolor": "white",
            "gridcolor": "#DFE8F3",
            "gridwidth": 2,
            "linecolor": "#EBF0F8",
            "showbackground": true,
            "ticks": "",
            "zerolinecolor": "#EBF0F8"
           },
           "yaxis": {
            "backgroundcolor": "white",
            "gridcolor": "#DFE8F3",
            "gridwidth": 2,
            "linecolor": "#EBF0F8",
            "showbackground": true,
            "ticks": "",
            "zerolinecolor": "#EBF0F8"
           },
           "zaxis": {
            "backgroundcolor": "white",
            "gridcolor": "#DFE8F3",
            "gridwidth": 2,
            "linecolor": "#EBF0F8",
            "showbackground": true,
            "ticks": "",
            "zerolinecolor": "#EBF0F8"
           }
          },
          "shapedefaults": {
           "line": {
            "color": "#2a3f5f"
           }
          },
          "ternary": {
           "aaxis": {
            "gridcolor": "#DFE8F3",
            "linecolor": "#A2B1C6",
            "ticks": ""
           },
           "baxis": {
            "gridcolor": "#DFE8F3",
            "linecolor": "#A2B1C6",
            "ticks": ""
           },
           "bgcolor": "white",
           "caxis": {
            "gridcolor": "#DFE8F3",
            "linecolor": "#A2B1C6",
            "ticks": ""
           }
          },
          "title": {
           "x": 0.05
          },
          "xaxis": {
           "automargin": true,
           "gridcolor": "#EBF0F8",
           "linecolor": "#EBF0F8",
           "ticks": "",
           "title": {
            "standoff": 15
           },
           "zerolinecolor": "#EBF0F8",
           "zerolinewidth": 2
          },
          "yaxis": {
           "automargin": true,
           "gridcolor": "#EBF0F8",
           "linecolor": "#EBF0F8",
           "ticks": "",
           "title": {
            "standoff": 15
           },
           "zerolinecolor": "#EBF0F8",
           "zerolinewidth": 2
          }
         }
        },
        "title": {
         "text": "Durchschnittliche CO₂-Emissionen pro Kopf nach Region"
        },
        "xaxis": {
         "anchor": "y",
         "domain": [
          0,
          1
         ],
         "title": {
          "text": "Jahr"
         }
        },
        "yaxis": {
         "anchor": "x",
         "domain": [
          0,
          1
         ],
         "title": {
          "text": "CO₂-Emissionen pro Kopf (Tonnen)"
         }
        }
       }
      }
     },
     "metadata": {},
     "output_type": "display_data"
    }
   ],
   "source": [
    "def plot_emissions_per_capita_by_region(capita_df, excluded_categories=['all']):\n",
    "\n",
    "    # Reinigung\n",
    "    capita_clean = exclude_entities(capita_df, excluded_categories)\n",
    "\n",
    "    # Mapping\n",
    "    capita_clean['Region'] = capita_clean['Entity'].map(entity_to_region)\n",
    "    capita_clean = capita_clean.dropna(subset=['Region'])\n",
    "\n",
    "    # Mean des Verbrauchs / Einwohner & Region\n",
    "    df_grouped = capita_clean.groupby(['Year', 'Region'])['Co2_capita_emissions'].mean().reset_index()\n",
    "\n",
    "    # Graphique\n",
    "    fig4 = px.area(\n",
    "        df_grouped,\n",
    "        x='Year',\n",
    "        y='Co2_capita_emissions',\n",
    "        color='Region',\n",
    "        labels={\n",
    "            'Year': 'Jahr',\n",
    "            'Co2_capita_emissions': 'CO₂-Emissionen pro Kopf (Tonnen)',\n",
    "            'Region': 'Region'\n",
    "        },\n",
    "        title='Durchschnittliche CO₂-Emissionen pro Kopf nach Region'\n",
    "    )\n",
    "\n",
    "    fig4.update_layout(template='plotly_white')\n",
    "    fig4.show()\n",
    "plot_emissions_per_capita_by_region(capita_co2_emmissions)"
   ]
  },
  {
   "cell_type": "markdown",
   "id": "2f8e7854",
   "metadata": {},
   "source": [
    " Wo sollte Russland hin?"
   ]
  },
  {
   "cell_type": "markdown",
   "id": "0362a6eb",
   "metadata": {},
   "source": [
    "### 8. Top 20 Laender nach Co2 Verbrauch pro Kopf"
   ]
  },
  {
   "cell_type": "code",
   "execution_count": 21,
   "id": "bb2a9c4e",
   "metadata": {},
   "outputs": [
    {
     "data": {
      "application/vnd.plotly.v1+json": {
       "config": {
        "plotlyServerURL": "https://plot.ly"
       },
       "data": [
        {
         "customdata": {
          "bdata": "UrgehetR+D8AAAC4LXCYQQ==",
          "dtype": "f8",
          "shape": "1, 2"
         },
         "hovertemplate": "Land=%{y}<br>CO₂-Emissionen pro Kopf (Tonnen)=%{text:.2f}<br>Bevölkerung (Mio)=%{customdata[0]}<br>Co2_emissions=%{customdata[1]:.0f}<extra></extra>",
         "legendgroup": "Qatar",
         "marker": {
          "color": "#636efa",
          "pattern": {
           "shape": ""
          }
         },
         "name": "Qatar",
         "orientation": "h",
         "showlegend": true,
         "text": {
          "bdata": "3xrYKsHSUEA=",
          "dtype": "f8"
         },
         "textposition": "outside",
         "texttemplate": "%{x:.2f}",
         "type": "bar",
         "x": {
          "bdata": "3xrYKsHSUEA=",
          "dtype": "f8"
         },
         "xaxis": "x",
         "y": [
          "Qatar"
         ],
         "yaxis": "y"
        },
        {
         "customdata": {
          "bdata": "4XoUrkfh6j8AAABw79SBQQ==",
          "dtype": "f8",
          "shape": "1, 2"
         },
         "hovertemplate": "Land=%{y}<br>CO₂-Emissionen pro Kopf (Tonnen)=%{text:.2f}<br>Bevölkerung (Mio)=%{customdata[0]}<br>Co2_emissions=%{customdata[1]:.0f}<extra></extra>",
         "legendgroup": "Bahrain",
         "marker": {
          "color": "#EF553B",
          "pattern": {
           "shape": ""
          }
         },
         "name": "Bahrain",
         "orientation": "h",
         "showlegend": true,
         "text": {
          "bdata": "h8Q9lj5cRkA=",
          "dtype": "f8"
         },
         "textposition": "outside",
         "texttemplate": "%{x:.2f}",
         "type": "bar",
         "x": {
          "bdata": "h8Q9lj5cRkA=",
          "dtype": "f8"
         },
         "xaxis": "x",
         "y": [
          "Bahrain"
         ],
         "yaxis": "y"
        },
        {
         "customdata": {
          "bdata": "j8L1KFyP0j8AAABAs0dlQQ==",
          "dtype": "f8",
          "shape": "1, 2"
         },
         "hovertemplate": "Land=%{y}<br>CO₂-Emissionen pro Kopf (Tonnen)=%{text:.2f}<br>Bevölkerung (Mio)=%{customdata[0]}<br>Co2_emissions=%{customdata[1]:.0f}<extra></extra>",
         "legendgroup": "Brunei",
         "marker": {
          "color": "#00cc96",
          "pattern": {
           "shape": ""
          }
         },
         "name": "Brunei",
         "orientation": "h",
         "showlegend": true,
         "text": {
          "bdata": "oRSt3AtqQ0A=",
          "dtype": "f8"
         },
         "textposition": "outside",
         "texttemplate": "%{x:.2f}",
         "type": "bar",
         "x": {
          "bdata": "oRSt3AtqQ0A=",
          "dtype": "f8"
         },
         "xaxis": "x",
         "y": [
          "Brunei"
         ],
         "yaxis": "y"
        },
        {
         "customdata": {
          "bdata": "rkfhehSu7z8AAAAAjriAQQ==",
          "dtype": "f8",
          "shape": "1, 2"
         },
         "hovertemplate": "Land=%{y}<br>CO₂-Emissionen pro Kopf (Tonnen)=%{text:.2f}<br>Bevölkerung (Mio)=%{customdata[0]}<br>Co2_emissions=%{customdata[1]:.0f}<extra></extra>",
         "legendgroup": "Trinidad and Tobago",
         "marker": {
          "color": "#ab63fa",
          "pattern": {
           "shape": ""
          }
         },
         "name": "Trinidad and Tobago",
         "orientation": "h",
         "showlegend": true,
         "text": {
          "bdata": "v3/z4sSvQUA=",
          "dtype": "f8"
         },
         "textposition": "outside",
         "texttemplate": "%{x:.2f}",
         "type": "bar",
         "x": {
          "bdata": "v3/z4sSvQUA=",
          "dtype": "f8"
         },
         "xaxis": "x",
         "y": [
          "Trinidad and Tobago"
         ],
         "yaxis": "y"
        },
        {
         "customdata": {
          "bdata": "CtejcD0KCUAAAABoTs6WQQ==",
          "dtype": "f8",
          "shape": "1, 2"
         },
         "hovertemplate": "Land=%{y}<br>CO₂-Emissionen pro Kopf (Tonnen)=%{text:.2f}<br>Bevölkerung (Mio)=%{customdata[0]}<br>Co2_emissions=%{customdata[1]:.0f}<extra></extra>",
         "legendgroup": "Kuwait",
         "marker": {
          "color": "#FFA15A",
          "pattern": {
           "shape": ""
          }
         },
         "name": "Kuwait",
         "orientation": "h",
         "showlegend": true,
         "text": {
          "bdata": "FCNL5liGPkA=",
          "dtype": "f8"
         },
         "textposition": "outside",
         "texttemplate": "%{x:.2f}",
         "type": "bar",
         "x": {
          "bdata": "FCNL5liGPkA=",
          "dtype": "f8"
         },
         "xaxis": "x",
         "y": [
          "Kuwait"
         ],
         "yaxis": "y"
        },
        {
         "customdata": {
          "bdata": "j8L1KFyPHkAAAAD45empQQ==",
          "dtype": "f8",
          "shape": "1, 2"
         },
         "hovertemplate": "Land=%{y}<br>CO₂-Emissionen pro Kopf (Tonnen)=%{text:.2f}<br>Bevölkerung (Mio)=%{customdata[0]}<br>Co2_emissions=%{customdata[1]:.0f}<extra></extra>",
         "legendgroup": "United Arab Emirates",
         "marker": {
          "color": "#19d3f3",
          "pattern": {
           "shape": ""
          }
         },
         "name": "United Arab Emirates",
         "orientation": "h",
         "showlegend": true,
         "text": {
          "bdata": "02achqh2PEA=",
          "dtype": "f8"
         },
         "textposition": "outside",
         "texttemplate": "%{x:.2f}",
         "type": "bar",
         "x": {
          "bdata": "02achqh2PEA=",
          "dtype": "f8"
         },
         "xaxis": "x",
         "y": [
          "United Arab Emirates"
         ],
         "yaxis": "y"
        },
        {
         "customdata": {
          "bdata": "ZmZmZmZm9j8AAABghq2BQQ==",
          "dtype": "f8",
          "shape": "1, 2"
         },
         "hovertemplate": "Land=%{y}<br>CO₂-Emissionen pro Kopf (Tonnen)=%{text:.2f}<br>Bevölkerung (Mio)=%{customdata[0]}<br>Co2_emissions=%{customdata[1]:.0f}<extra></extra>",
         "legendgroup": "Mongolia",
         "marker": {
          "color": "#FF6692",
          "pattern": {
           "shape": ""
          }
         },
         "name": "Mongolia",
         "orientation": "h",
         "showlegend": true,
         "text": {
          "bdata": "nYAmwoZrOkA=",
          "dtype": "f8"
         },
         "textposition": "outside",
         "texttemplate": "%{x:.2f}",
         "type": "bar",
         "x": {
          "bdata": "nYAmwoZrOkA=",
          "dtype": "f8"
         },
         "xaxis": "x",
         "y": [
          "Mongolia"
         ],
         "yaxis": "y"
        },
        {
         "customdata": {
          "bdata": "pHA9CtdjOUAAAACAXFzCQQ==",
          "dtype": "f8",
          "shape": "1, 2"
         },
         "hovertemplate": "Land=%{y}<br>CO₂-Emissionen pro Kopf (Tonnen)=%{text:.2f}<br>Bevölkerung (Mio)=%{customdata[0]}<br>Co2_emissions=%{customdata[1]:.0f}<extra></extra>",
         "legendgroup": "Saudi Arabia",
         "marker": {
          "color": "#B6E880",
          "pattern": {
           "shape": ""
          }
         },
         "name": "Saudi Arabia",
         "orientation": "h",
         "showlegend": true,
         "text": {
          "bdata": "54u9F19EOEA=",
          "dtype": "f8"
         },
         "textposition": "outside",
         "texttemplate": "%{x:.2f}",
         "type": "bar",
         "x": {
          "bdata": "54u9F19EOEA=",
          "dtype": "f8"
         },
         "xaxis": "x",
         "y": [
          "Saudi Arabia"
         ],
         "yaxis": "y"
        },
        {
         "customdata": {
          "bdata": "4XoUrkfhBkAAAAAwkFyQQQ==",
          "dtype": "f8",
          "shape": "1, 2"
         },
         "hovertemplate": "Land=%{y}<br>CO₂-Emissionen pro Kopf (Tonnen)=%{text:.2f}<br>Bevölkerung (Mio)=%{customdata[0]}<br>Co2_emissions=%{customdata[1]:.0f}<extra></extra>",
         "legendgroup": "Oman",
         "marker": {
          "color": "#FF97FF",
          "pattern": {
           "shape": ""
          }
         },
         "name": "Oman",
         "orientation": "h",
         "showlegend": true,
         "text": {
          "bdata": "AmN9A5P3N0A=",
          "dtype": "f8"
         },
         "textposition": "outside",
         "texttemplate": "%{x:.2f}",
         "type": "bar",
         "x": {
          "bdata": "AmN9A5P3N0A=",
          "dtype": "f8"
         },
         "xaxis": "x",
         "y": [
          "Oman"
         ],
         "yaxis": "y"
        },
        {
         "customdata": {
          "bdata": "pHA9CtfjMEAAAAAcEMu3QQ==",
          "dtype": "f8",
          "shape": "1, 2"
         },
         "hovertemplate": "Land=%{y}<br>CO₂-Emissionen pro Kopf (Tonnen)=%{text:.2f}<br>Bevölkerung (Mio)=%{customdata[0]}<br>Co2_emissions=%{customdata[1]:.0f}<extra></extra>",
         "legendgroup": "Australia",
         "marker": {
          "color": "#FECB52",
          "pattern": {
           "shape": ""
          }
         },
         "name": "Australia",
         "orientation": "h",
         "showlegend": true,
         "text": {
          "bdata": "NgTHZdygN0A=",
          "dtype": "f8"
         },
         "textposition": "outside",
         "texttemplate": "%{x:.2f}",
         "type": "bar",
         "x": {
          "bdata": "NgTHZdygN0A=",
          "dtype": "f8"
         },
         "xaxis": "x",
         "y": [
          "Australia"
         ],
         "yaxis": "y"
        },
        {
         "customdata": {
          "bdata": "uB6F61F4OkAAAABg/2K/QQ==",
          "dtype": "f8",
          "shape": "1, 2"
         },
         "hovertemplate": "Land=%{y}<br>CO₂-Emissionen pro Kopf (Tonnen)=%{text:.2f}<br>Bevölkerung (Mio)=%{customdata[0]}<br>Co2_emissions=%{customdata[1]:.0f}<extra></extra>",
         "legendgroup": "Canada",
         "marker": {
          "color": "#636efa",
          "pattern": {
           "shape": ""
          }
         },
         "name": "Canada",
         "orientation": "h",
         "showlegend": true,
         "text": {
          "bdata": "OsssQrHlM0A=",
          "dtype": "f8"
         },
         "textposition": "outside",
         "texttemplate": "%{x:.2f}",
         "type": "bar",
         "x": {
          "bdata": "OsssQrHlM0A=",
          "dtype": "f8"
         },
         "xaxis": "x",
         "y": [
          "Canada"
         ],
         "yaxis": "y"
        },
        {
         "customdata": {
          "bdata": "uB6F61G4nj8AAAAAqNIhQQ==",
          "dtype": "f8",
          "shape": "1, 2"
         },
         "hovertemplate": "Land=%{y}<br>CO₂-Emissionen pro Kopf (Tonnen)=%{text:.2f}<br>Bevölkerung (Mio)=%{customdata[0]}<br>Co2_emissions=%{customdata[1]:.0f}<extra></extra>",
         "legendgroup": "Belize",
         "marker": {
          "color": "#EF553B",
          "pattern": {
           "shape": ""
          }
         },
         "name": "Belize",
         "orientation": "h",
         "showlegend": true,
         "text": {
          "bdata": "8b2/QXvtMkA=",
          "dtype": "f8"
         },
         "textposition": "outside",
         "texttemplate": "%{x:.2f}",
         "type": "bar",
         "x": {
          "bdata": "8b2/QXvtMkA=",
          "dtype": "f8"
         },
         "xaxis": "x",
         "y": [
          "Belize"
         ],
         "yaxis": "y"
        },
        {
         "customdata": {
          "bdata": "uB6F61G4LEAAAAAg1HSuQQ==",
          "dtype": "f8",
          "shape": "1, 2"
         },
         "hovertemplate": "Land=%{y}<br>CO₂-Emissionen pro Kopf (Tonnen)=%{text:.2f}<br>Bevölkerung (Mio)=%{customdata[0]}<br>Co2_emissions=%{customdata[1]:.0f}<extra></extra>",
         "legendgroup": "Kazakhstan",
         "marker": {
          "color": "#00cc96",
          "pattern": {
           "shape": ""
          }
         },
         "name": "Kazakhstan",
         "orientation": "h",
         "showlegend": true,
         "text": {
          "bdata": "7ginBS/KMUA=",
          "dtype": "f8"
         },
         "textposition": "outside",
         "texttemplate": "%{x:.2f}",
         "type": "bar",
         "x": {
          "bdata": "7ginBS/KMUA=",
          "dtype": "f8"
         },
         "xaxis": "x",
         "y": [
          "Kazakhstan"
         ],
         "yaxis": "y"
        },
        {
         "customdata": {
          "bdata": "mpmZmZmZDUAAAAAgSqSOQQ==",
          "dtype": "f8",
          "shape": "1, 2"
         },
         "hovertemplate": "Land=%{y}<br>CO₂-Emissionen pro Kopf (Tonnen)=%{text:.2f}<br>Bevölkerung (Mio)=%{customdata[0]}<br>Co2_emissions=%{customdata[1]:.0f}<extra></extra>",
         "legendgroup": "Turkmenistan",
         "marker": {
          "color": "#ab63fa",
          "pattern": {
           "shape": ""
          }
         },
         "name": "Turkmenistan",
         "orientation": "h",
         "showlegend": true,
         "text": {
          "bdata": "vB+3Xz5ZMUA=",
          "dtype": "f8"
         },
         "textposition": "outside",
         "texttemplate": "%{x:.2f}",
         "type": "bar",
         "x": {
          "bdata": "vB+3Xz5ZMUA=",
          "dtype": "f8"
         },
         "xaxis": "x",
         "y": [
          "Turkmenistan"
         ],
         "yaxis": "y"
        },
        {
         "customdata": {
          "bdata": "H4XrUbiycUAAAAA6OJDxQQ==",
          "dtype": "f8",
          "shape": "1, 2"
         },
         "hovertemplate": "Land=%{y}<br>CO₂-Emissionen pro Kopf (Tonnen)=%{text:.2f}<br>Bevölkerung (Mio)=%{customdata[0]}<br>Co2_emissions=%{customdata[1]:.0f}<extra></extra>",
         "legendgroup": "United States",
         "marker": {
          "color": "#FFA15A",
          "pattern": {
           "shape": ""
          }
         },
         "name": "United States",
         "orientation": "h",
         "showlegend": true,
         "text": {
          "bdata": "jlcgelKmMEA=",
          "dtype": "f8"
         },
         "textposition": "outside",
         "texttemplate": "%{x:.2f}",
         "type": "bar",
         "x": {
          "bdata": "jlcgelKmMEA=",
          "dtype": "f8"
         },
         "xaxis": "x",
         "y": [
          "United States"
         ],
         "yaxis": "y"
        },
        {
         "customdata": {
          "bdata": "exSuR+F6AEAAAABAKzmAQQ==",
          "dtype": "f8",
          "shape": "1, 2"
         },
         "hovertemplate": "Land=%{y}<br>CO₂-Emissionen pro Kopf (Tonnen)=%{text:.2f}<br>Bevölkerung (Mio)=%{customdata[0]}<br>Co2_emissions=%{customdata[1]:.0f}<extra></extra>",
         "legendgroup": "New Zealand",
         "marker": {
          "color": "#19d3f3",
          "pattern": {
           "shape": ""
          }
         },
         "name": "New Zealand",
         "orientation": "h",
         "showlegend": true,
         "text": {
          "bdata": "j1AzpIqGMEA=",
          "dtype": "f8"
         },
         "textposition": "outside",
         "texttemplate": "%{x:.2f}",
         "type": "bar",
         "x": {
          "bdata": "j1AzpIqGMEA=",
          "dtype": "f8"
         },
         "xaxis": "x",
         "y": [
          "New Zealand"
         ],
         "yaxis": "y"
        },
        {
         "customdata": {
          "bdata": "XI/C9SjcWEAAAACFIVXYQQ==",
          "dtype": "f8",
          "shape": "1, 2"
         },
         "hovertemplate": "Land=%{y}<br>CO₂-Emissionen pro Kopf (Tonnen)=%{text:.2f}<br>Bevölkerung (Mio)=%{customdata[0]}<br>Co2_emissions=%{customdata[1]:.0f}<extra></extra>",
         "legendgroup": "Russia",
         "marker": {
          "color": "#FF6692",
          "pattern": {
           "shape": ""
          }
         },
         "name": "Russia",
         "orientation": "h",
         "showlegend": true,
         "text": {
          "bdata": "QIf58gJsMEA=",
          "dtype": "f8"
         },
         "textposition": "outside",
         "texttemplate": "%{x:.2f}",
         "type": "bar",
         "x": {
          "bdata": "QIf58gJsMEA=",
          "dtype": "f8"
         },
         "xaxis": "x",
         "y": [
          "Russia"
         ],
         "yaxis": "y"
        },
        {
         "customdata": {
          "bdata": "exSuR+F6hD8AAAAAAPEJQQ==",
          "dtype": "f8",
          "shape": "1, 2"
         },
         "hovertemplate": "Land=%{y}<br>CO₂-Emissionen pro Kopf (Tonnen)=%{text:.2f}<br>Bevölkerung (Mio)=%{customdata[0]}<br>Co2_emissions=%{customdata[1]:.0f}<extra></extra>",
         "legendgroup": "Palau",
         "marker": {
          "color": "#B6E880",
          "pattern": {
           "shape": ""
          }
         },
         "name": "Palau",
         "orientation": "h",
         "showlegend": true,
         "text": {
          "bdata": "f/rPmh8jMEA=",
          "dtype": "f8"
         },
         "textposition": "outside",
         "texttemplate": "%{x:.2f}",
         "type": "bar",
         "x": {
          "bdata": "f/rPmh8jMEA=",
          "dtype": "f8"
         },
         "xaxis": "x",
         "y": [
          "Palau"
         ],
         "yaxis": "y"
        },
        {
         "customdata": {
          "bdata": "KVyPwvUozD8AAAAApqNJQQ==",
          "dtype": "f8",
          "shape": "1, 2"
         },
         "hovertemplate": "Land=%{y}<br>CO₂-Emissionen pro Kopf (Tonnen)=%{text:.2f}<br>Bevölkerung (Mio)=%{customdata[0]}<br>Co2_emissions=%{customdata[1]:.0f}<extra></extra>",
         "legendgroup": "Guyana",
         "marker": {
          "color": "#FF97FF",
          "pattern": {
           "shape": ""
          }
         },
         "name": "Guyana",
         "orientation": "h",
         "showlegend": true,
         "text": {
          "bdata": "/aTap+PRLkA=",
          "dtype": "f8"
         },
         "textposition": "outside",
         "texttemplate": "%{x:.2f}",
         "type": "bar",
         "x": {
          "bdata": "/aTap+PRLkA=",
          "dtype": "f8"
         },
         "xaxis": "x",
         "y": [
          "Guyana"
         ],
         "yaxis": "y"
        },
        {
         "customdata": {
          "bdata": "j8L1KFyPBEAAAAAADfqBQQ==",
          "dtype": "f8",
          "shape": "1, 2"
         },
         "hovertemplate": "Land=%{y}<br>CO₂-Emissionen pro Kopf (Tonnen)=%{text:.2f}<br>Bevölkerung (Mio)=%{customdata[0]}<br>Co2_emissions=%{customdata[1]:.0f}<extra></extra>",
         "legendgroup": "Finland",
         "marker": {
          "color": "#FECB52",
          "pattern": {
           "shape": ""
          }
         },
         "name": "Finland",
         "orientation": "h",
         "showlegend": true,
         "text": {
          "bdata": "V7H4TWFVLUA=",
          "dtype": "f8"
         },
         "textposition": "outside",
         "texttemplate": "%{x:.2f}",
         "type": "bar",
         "x": {
          "bdata": "V7H4TWFVLUA=",
          "dtype": "f8"
         },
         "xaxis": "x",
         "y": [
          "Finland"
         ],
         "yaxis": "y"
        }
       ],
       "layout": {
        "barmode": "relative",
        "legend": {
         "title": {
          "text": "Land"
         },
         "tracegroupgap": 0
        },
        "margin": {
         "b": 60,
         "l": 80,
         "r": 30,
         "t": 80
        },
        "template": {
         "data": {
          "bar": [
           {
            "error_x": {
             "color": "#2a3f5f"
            },
            "error_y": {
             "color": "#2a3f5f"
            },
            "marker": {
             "line": {
              "color": "white",
              "width": 0.5
             },
             "pattern": {
              "fillmode": "overlay",
              "size": 10,
              "solidity": 0.2
             }
            },
            "type": "bar"
           }
          ],
          "barpolar": [
           {
            "marker": {
             "line": {
              "color": "white",
              "width": 0.5
             },
             "pattern": {
              "fillmode": "overlay",
              "size": 10,
              "solidity": 0.2
             }
            },
            "type": "barpolar"
           }
          ],
          "carpet": [
           {
            "aaxis": {
             "endlinecolor": "#2a3f5f",
             "gridcolor": "#C8D4E3",
             "linecolor": "#C8D4E3",
             "minorgridcolor": "#C8D4E3",
             "startlinecolor": "#2a3f5f"
            },
            "baxis": {
             "endlinecolor": "#2a3f5f",
             "gridcolor": "#C8D4E3",
             "linecolor": "#C8D4E3",
             "minorgridcolor": "#C8D4E3",
             "startlinecolor": "#2a3f5f"
            },
            "type": "carpet"
           }
          ],
          "choropleth": [
           {
            "colorbar": {
             "outlinewidth": 0,
             "ticks": ""
            },
            "type": "choropleth"
           }
          ],
          "contour": [
           {
            "colorbar": {
             "outlinewidth": 0,
             "ticks": ""
            },
            "colorscale": [
             [
              0,
              "#0d0887"
             ],
             [
              0.1111111111111111,
              "#46039f"
             ],
             [
              0.2222222222222222,
              "#7201a8"
             ],
             [
              0.3333333333333333,
              "#9c179e"
             ],
             [
              0.4444444444444444,
              "#bd3786"
             ],
             [
              0.5555555555555556,
              "#d8576b"
             ],
             [
              0.6666666666666666,
              "#ed7953"
             ],
             [
              0.7777777777777778,
              "#fb9f3a"
             ],
             [
              0.8888888888888888,
              "#fdca26"
             ],
             [
              1,
              "#f0f921"
             ]
            ],
            "type": "contour"
           }
          ],
          "contourcarpet": [
           {
            "colorbar": {
             "outlinewidth": 0,
             "ticks": ""
            },
            "type": "contourcarpet"
           }
          ],
          "heatmap": [
           {
            "colorbar": {
             "outlinewidth": 0,
             "ticks": ""
            },
            "colorscale": [
             [
              0,
              "#0d0887"
             ],
             [
              0.1111111111111111,
              "#46039f"
             ],
             [
              0.2222222222222222,
              "#7201a8"
             ],
             [
              0.3333333333333333,
              "#9c179e"
             ],
             [
              0.4444444444444444,
              "#bd3786"
             ],
             [
              0.5555555555555556,
              "#d8576b"
             ],
             [
              0.6666666666666666,
              "#ed7953"
             ],
             [
              0.7777777777777778,
              "#fb9f3a"
             ],
             [
              0.8888888888888888,
              "#fdca26"
             ],
             [
              1,
              "#f0f921"
             ]
            ],
            "type": "heatmap"
           }
          ],
          "histogram": [
           {
            "marker": {
             "pattern": {
              "fillmode": "overlay",
              "size": 10,
              "solidity": 0.2
             }
            },
            "type": "histogram"
           }
          ],
          "histogram2d": [
           {
            "colorbar": {
             "outlinewidth": 0,
             "ticks": ""
            },
            "colorscale": [
             [
              0,
              "#0d0887"
             ],
             [
              0.1111111111111111,
              "#46039f"
             ],
             [
              0.2222222222222222,
              "#7201a8"
             ],
             [
              0.3333333333333333,
              "#9c179e"
             ],
             [
              0.4444444444444444,
              "#bd3786"
             ],
             [
              0.5555555555555556,
              "#d8576b"
             ],
             [
              0.6666666666666666,
              "#ed7953"
             ],
             [
              0.7777777777777778,
              "#fb9f3a"
             ],
             [
              0.8888888888888888,
              "#fdca26"
             ],
             [
              1,
              "#f0f921"
             ]
            ],
            "type": "histogram2d"
           }
          ],
          "histogram2dcontour": [
           {
            "colorbar": {
             "outlinewidth": 0,
             "ticks": ""
            },
            "colorscale": [
             [
              0,
              "#0d0887"
             ],
             [
              0.1111111111111111,
              "#46039f"
             ],
             [
              0.2222222222222222,
              "#7201a8"
             ],
             [
              0.3333333333333333,
              "#9c179e"
             ],
             [
              0.4444444444444444,
              "#bd3786"
             ],
             [
              0.5555555555555556,
              "#d8576b"
             ],
             [
              0.6666666666666666,
              "#ed7953"
             ],
             [
              0.7777777777777778,
              "#fb9f3a"
             ],
             [
              0.8888888888888888,
              "#fdca26"
             ],
             [
              1,
              "#f0f921"
             ]
            ],
            "type": "histogram2dcontour"
           }
          ],
          "mesh3d": [
           {
            "colorbar": {
             "outlinewidth": 0,
             "ticks": ""
            },
            "type": "mesh3d"
           }
          ],
          "parcoords": [
           {
            "line": {
             "colorbar": {
              "outlinewidth": 0,
              "ticks": ""
             }
            },
            "type": "parcoords"
           }
          ],
          "pie": [
           {
            "automargin": true,
            "type": "pie"
           }
          ],
          "scatter": [
           {
            "fillpattern": {
             "fillmode": "overlay",
             "size": 10,
             "solidity": 0.2
            },
            "type": "scatter"
           }
          ],
          "scatter3d": [
           {
            "line": {
             "colorbar": {
              "outlinewidth": 0,
              "ticks": ""
             }
            },
            "marker": {
             "colorbar": {
              "outlinewidth": 0,
              "ticks": ""
             }
            },
            "type": "scatter3d"
           }
          ],
          "scattercarpet": [
           {
            "marker": {
             "colorbar": {
              "outlinewidth": 0,
              "ticks": ""
             }
            },
            "type": "scattercarpet"
           }
          ],
          "scattergeo": [
           {
            "marker": {
             "colorbar": {
              "outlinewidth": 0,
              "ticks": ""
             }
            },
            "type": "scattergeo"
           }
          ],
          "scattergl": [
           {
            "marker": {
             "colorbar": {
              "outlinewidth": 0,
              "ticks": ""
             }
            },
            "type": "scattergl"
           }
          ],
          "scattermap": [
           {
            "marker": {
             "colorbar": {
              "outlinewidth": 0,
              "ticks": ""
             }
            },
            "type": "scattermap"
           }
          ],
          "scattermapbox": [
           {
            "marker": {
             "colorbar": {
              "outlinewidth": 0,
              "ticks": ""
             }
            },
            "type": "scattermapbox"
           }
          ],
          "scatterpolar": [
           {
            "marker": {
             "colorbar": {
              "outlinewidth": 0,
              "ticks": ""
             }
            },
            "type": "scatterpolar"
           }
          ],
          "scatterpolargl": [
           {
            "marker": {
             "colorbar": {
              "outlinewidth": 0,
              "ticks": ""
             }
            },
            "type": "scatterpolargl"
           }
          ],
          "scatterternary": [
           {
            "marker": {
             "colorbar": {
              "outlinewidth": 0,
              "ticks": ""
             }
            },
            "type": "scatterternary"
           }
          ],
          "surface": [
           {
            "colorbar": {
             "outlinewidth": 0,
             "ticks": ""
            },
            "colorscale": [
             [
              0,
              "#0d0887"
             ],
             [
              0.1111111111111111,
              "#46039f"
             ],
             [
              0.2222222222222222,
              "#7201a8"
             ],
             [
              0.3333333333333333,
              "#9c179e"
             ],
             [
              0.4444444444444444,
              "#bd3786"
             ],
             [
              0.5555555555555556,
              "#d8576b"
             ],
             [
              0.6666666666666666,
              "#ed7953"
             ],
             [
              0.7777777777777778,
              "#fb9f3a"
             ],
             [
              0.8888888888888888,
              "#fdca26"
             ],
             [
              1,
              "#f0f921"
             ]
            ],
            "type": "surface"
           }
          ],
          "table": [
           {
            "cells": {
             "fill": {
              "color": "#EBF0F8"
             },
             "line": {
              "color": "white"
             }
            },
            "header": {
             "fill": {
              "color": "#C8D4E3"
             },
             "line": {
              "color": "white"
             }
            },
            "type": "table"
           }
          ]
         },
         "layout": {
          "annotationdefaults": {
           "arrowcolor": "#2a3f5f",
           "arrowhead": 0,
           "arrowwidth": 1
          },
          "autotypenumbers": "strict",
          "coloraxis": {
           "colorbar": {
            "outlinewidth": 0,
            "ticks": ""
           }
          },
          "colorscale": {
           "diverging": [
            [
             0,
             "#8e0152"
            ],
            [
             0.1,
             "#c51b7d"
            ],
            [
             0.2,
             "#de77ae"
            ],
            [
             0.3,
             "#f1b6da"
            ],
            [
             0.4,
             "#fde0ef"
            ],
            [
             0.5,
             "#f7f7f7"
            ],
            [
             0.6,
             "#e6f5d0"
            ],
            [
             0.7,
             "#b8e186"
            ],
            [
             0.8,
             "#7fbc41"
            ],
            [
             0.9,
             "#4d9221"
            ],
            [
             1,
             "#276419"
            ]
           ],
           "sequential": [
            [
             0,
             "#0d0887"
            ],
            [
             0.1111111111111111,
             "#46039f"
            ],
            [
             0.2222222222222222,
             "#7201a8"
            ],
            [
             0.3333333333333333,
             "#9c179e"
            ],
            [
             0.4444444444444444,
             "#bd3786"
            ],
            [
             0.5555555555555556,
             "#d8576b"
            ],
            [
             0.6666666666666666,
             "#ed7953"
            ],
            [
             0.7777777777777778,
             "#fb9f3a"
            ],
            [
             0.8888888888888888,
             "#fdca26"
            ],
            [
             1,
             "#f0f921"
            ]
           ],
           "sequentialminus": [
            [
             0,
             "#0d0887"
            ],
            [
             0.1111111111111111,
             "#46039f"
            ],
            [
             0.2222222222222222,
             "#7201a8"
            ],
            [
             0.3333333333333333,
             "#9c179e"
            ],
            [
             0.4444444444444444,
             "#bd3786"
            ],
            [
             0.5555555555555556,
             "#d8576b"
            ],
            [
             0.6666666666666666,
             "#ed7953"
            ],
            [
             0.7777777777777778,
             "#fb9f3a"
            ],
            [
             0.8888888888888888,
             "#fdca26"
            ],
            [
             1,
             "#f0f921"
            ]
           ]
          },
          "colorway": [
           "#636efa",
           "#EF553B",
           "#00cc96",
           "#ab63fa",
           "#FFA15A",
           "#19d3f3",
           "#FF6692",
           "#B6E880",
           "#FF97FF",
           "#FECB52"
          ],
          "font": {
           "color": "#2a3f5f"
          },
          "geo": {
           "bgcolor": "white",
           "lakecolor": "white",
           "landcolor": "white",
           "showlakes": true,
           "showland": true,
           "subunitcolor": "#C8D4E3"
          },
          "hoverlabel": {
           "align": "left"
          },
          "hovermode": "closest",
          "mapbox": {
           "style": "light"
          },
          "paper_bgcolor": "white",
          "plot_bgcolor": "white",
          "polar": {
           "angularaxis": {
            "gridcolor": "#EBF0F8",
            "linecolor": "#EBF0F8",
            "ticks": ""
           },
           "bgcolor": "white",
           "radialaxis": {
            "gridcolor": "#EBF0F8",
            "linecolor": "#EBF0F8",
            "ticks": ""
           }
          },
          "scene": {
           "xaxis": {
            "backgroundcolor": "white",
            "gridcolor": "#DFE8F3",
            "gridwidth": 2,
            "linecolor": "#EBF0F8",
            "showbackground": true,
            "ticks": "",
            "zerolinecolor": "#EBF0F8"
           },
           "yaxis": {
            "backgroundcolor": "white",
            "gridcolor": "#DFE8F3",
            "gridwidth": 2,
            "linecolor": "#EBF0F8",
            "showbackground": true,
            "ticks": "",
            "zerolinecolor": "#EBF0F8"
           },
           "zaxis": {
            "backgroundcolor": "white",
            "gridcolor": "#DFE8F3",
            "gridwidth": 2,
            "linecolor": "#EBF0F8",
            "showbackground": true,
            "ticks": "",
            "zerolinecolor": "#EBF0F8"
           }
          },
          "shapedefaults": {
           "line": {
            "color": "#2a3f5f"
           }
          },
          "ternary": {
           "aaxis": {
            "gridcolor": "#DFE8F3",
            "linecolor": "#A2B1C6",
            "ticks": ""
           },
           "baxis": {
            "gridcolor": "#DFE8F3",
            "linecolor": "#A2B1C6",
            "ticks": ""
           },
           "bgcolor": "white",
           "caxis": {
            "gridcolor": "#DFE8F3",
            "linecolor": "#A2B1C6",
            "ticks": ""
           }
          },
          "title": {
           "x": 0.05
          },
          "xaxis": {
           "automargin": true,
           "gridcolor": "#EBF0F8",
           "linecolor": "#EBF0F8",
           "ticks": "",
           "title": {
            "standoff": 15
           },
           "zerolinecolor": "#EBF0F8",
           "zerolinewidth": 2
          },
          "yaxis": {
           "automargin": true,
           "gridcolor": "#EBF0F8",
           "linecolor": "#EBF0F8",
           "ticks": "",
           "title": {
            "standoff": 15
           },
           "zerolinecolor": "#EBF0F8",
           "zerolinewidth": 2
          }
         }
        },
        "title": {
         "text": "Top 20 Länder nach CO₂-Emissionen pro Kopf (2020)"
        },
        "xaxis": {
         "anchor": "y",
         "domain": [
          0,
          1
         ],
         "title": {
          "text": "CO₂-Emissionen pro Kopf (Tonnen)"
         }
        },
        "yaxis": {
         "anchor": "x",
         "categoryarray": [
          "Finland",
          "Guyana",
          "Palau",
          "Russia",
          "New Zealand",
          "United States",
          "Turkmenistan",
          "Kazakhstan",
          "Belize",
          "Canada",
          "Australia",
          "Oman",
          "Saudi Arabia",
          "Mongolia",
          "United Arab Emirates",
          "Kuwait",
          "Trinidad and Tobago",
          "Brunei",
          "Bahrain",
          "Qatar"
         ],
         "categoryorder": "array",
         "domain": [
          0,
          1
         ],
         "title": {
          "text": "Land"
         }
        }
       }
      }
     },
     "metadata": {},
     "output_type": "display_data"
    }
   ],
   "source": [
    "\n",
    "def barplot_top_capita_emitters(capita_df, total_df, year=2020, excluded_categories=['all']):\n",
    "\n",
    "    # Reinigung\n",
    "    capita_clean = exclude_entities(capita_df, excluded_categories)\n",
    "    total_clean = exclude_entities(total_df, excluded_categories)\n",
    "\n",
    "    # Jahr Filtern\n",
    "    capita_year = capita_clean[capita_clean['Year'] == year]\n",
    "    total_year = total_clean[total_clean['Year'] == year]\n",
    "\n",
    "    # Zusammenfügen\n",
    "    merged = capita_year.merge(\n",
    "        total_year[['Entity', 'Year', 'Co2_emissions']],\n",
    "        on=['Entity', 'Year'],\n",
    "        how='inner'\n",
    "    )\n",
    "\n",
    "    merged = merged[merged['Co2_capita_emissions'] > 0].copy()\n",
    "    top20_capita = merged.nlargest(20, 'Co2_capita_emissions').copy()\n",
    "\n",
    "  \n",
    "    # Bevoeklerung in Mio fuer bessere Lesbarkeit\n",
    "    top20_capita['Bevölkerung (Mio)'] = (top20_capita['Co2_emissions'] / top20_capita['Co2_capita_emissions'] / 1e6).round(2)\n",
    "    #Co2 Verbrauch in Gt:\n",
    "\n",
    "    fig = px.bar(\n",
    "        top20_capita,\n",
    "        x='Co2_capita_emissions',\n",
    "        y='Entity',\n",
    "        orientation='h',\n",
    "        color= 'Entity',\n",
    "        text='Co2_capita_emissions',\n",
    "        hover_data={\n",
    "            'Bevölkerung (Mio)': True,\n",
    "            'Co2_capita_emissions': ':.2f',\n",
    "            'Co2_emissions': ':.0f',\n",
    "        },\n",
    "        labels={\n",
    "            'Entity': 'Land',\n",
    "            'Co2_capita_emissions': 'CO₂-Emissionen pro Kopf (Tonnen)',\n",
    "        },\n",
    "        title=f'Top 20 Länder nach CO₂-Emissionen pro Kopf ({year})'\n",
    "    )\n",
    "\n",
    "    fig.update_traces(texttemplate='%{x:.2f}', textposition='outside')\n",
    "    fig.update_layout(\n",
    "        template='plotly_white',\n",
    "        xaxis_title='CO₂-Emissionen pro Kopf (Tonnen)',\n",
    "        yaxis_title='Land',\n",
    "        margin=dict(t=80, l=80, r=30, b=60)\n",
    "    )\n",
    "    fig.show()\n",
    "\n",
    "# Los geht's!\n",
    "barplot_top_capita_emitters(capita_co2_emmissions, co2_emissions, year=2020)\n"
   ]
  },
  {
   "cell_type": "markdown",
   "id": "b0a1da84",
   "metadata": {},
   "source": [
    "### 9. Vergleich Methan- und Lachgasemissionen pro Kopf nach Region"
   ]
  },
  {
   "cell_type": "code",
   "execution_count": 22,
   "id": "66b5eebb",
   "metadata": {},
   "outputs": [],
   "source": [
    "def prepare_ghg_df(capita_df, total_df, colname, gas_label, region_map, excluded):\n",
    "    df = exclude_entities(capita_df, excluded)\n",
    "    total = exclude_entities(total_df, excluded)\n",
    "\n",
    "    df = df.merge(total[['Entity', 'Year', 'Co2_emissions']], on=['Entity', 'Year'], how='inner')\n",
    "    df = df[df[colname] > 0].copy()\n",
    "    df['population_est'] = df['Co2_emissions'] / df[colname]\n",
    "    df['Region'] = df['Entity'].map(region_map)\n",
    "    df = df.dropna(subset=['Region'])\n",
    "\n",
    "    grouped = df.groupby(['Year', 'Region']).apply(\n",
    "        lambda g: (g[colname] * g['population_est']).sum() / g['population_est'].sum()\n",
    "    ).reset_index(name='Emissionen pro Kopf')\n",
    "    grouped['Gas'] = gas_label\n",
    "\n",
    "    return grouped\n"
   ]
  },
  {
   "cell_type": "code",
   "execution_count": 23,
   "id": "f68af256",
   "metadata": {},
   "outputs": [
    {
     "name": "stderr",
     "output_type": "stream",
     "text": [
      "C:\\Users\\Anwender\\AppData\\Local\\Temp\\ipykernel_28564\\3406835039.py:12: RuntimeWarning:\n",
      "\n",
      "invalid value encountered in scalar divide\n",
      "\n",
      "C:\\Users\\Anwender\\AppData\\Local\\Temp\\ipykernel_28564\\3406835039.py:11: DeprecationWarning:\n",
      "\n",
      "DataFrameGroupBy.apply operated on the grouping columns. This behavior is deprecated, and in a future version of pandas the grouping columns will be excluded from the operation. Either pass `include_groups=False` to exclude the groupings or explicitly select the grouping columns after groupby to silence this warning.\n",
      "\n",
      "C:\\Users\\Anwender\\AppData\\Local\\Temp\\ipykernel_28564\\3406835039.py:12: RuntimeWarning:\n",
      "\n",
      "invalid value encountered in scalar divide\n",
      "\n",
      "C:\\Users\\Anwender\\AppData\\Local\\Temp\\ipykernel_28564\\3406835039.py:11: DeprecationWarning:\n",
      "\n",
      "DataFrameGroupBy.apply operated on the grouping columns. This behavior is deprecated, and in a future version of pandas the grouping columns will be excluded from the operation. Either pass `include_groups=False` to exclude the groupings or explicitly select the grouping columns after groupby to silence this warning.\n",
      "\n"
     ]
    },
    {
     "data": {
      "application/vnd.plotly.v1+json": {
       "config": {
        "plotlyServerURL": "https://plot.ly"
       },
       "data": [
        {
         "hovertemplate": "Region=Asia<br>Gas=Methan (CH₄)<br>Jahr=%{x}<br>Emissionen pro Kopf (Tonnen CO₂e)=%{y}<extra></extra>",
         "legendgroup": "Asia, Methan (CH₄)",
         "line": {
          "color": "#636efa",
          "dash": "solid"
         },
         "marker": {
          "symbol": "circle"
         },
         "mode": "lines",
         "name": "Asia, Methan (CH₄)",
         "showlegend": true,
         "type": "scattergl",
         "x": {
          "bdata": "Ogc7BzwHPQc+Bz8HQAdBB0IHQwdEB0UHRgdHB0gHSQdKB0sHTAdNB04HTwdQB1EHUgdTB1QHVQdWB1cHWAdZB1oHWwdcB10HXgdfB2AHYQdiB2MHZAdlB2YHZwdoB2kHagdrB2wHbQduB28HcAdxB3IHcwd0B3UHdgd3B3gHeQd6B3sHfAd9B34HfweAB4EHggeDB4QHhQeGB4cHiAeJB4oHiweMB40HjgePB5AHkQeSB5MHlAeVB5YHlweYB5kHmgebB5wHnQeeB58HoAehB6IHowekB6UHpgenB6gHqQeqB6sHrAetB64HrwewB7EHsgezB7QHtQe2B7cHuAe5B7oHuwe8B70Hvge/B8AHwQfCB8MHxAfFB8YHxwfIB8kHygfLB8wHzQfOB88H0AfRB9IH0wfUB9UH1gfXB9gH2QfaB9sH3AfdB94H3wfgB+EH4gfjB+QH5QfmB+cH",
          "dtype": "i2"
         },
         "xaxis": "x",
         "y": {
          "bdata": "YBOMmlCz6T8AAAAAAAD4/wAAAAAAAPj/AAAAAAAA+P8AAAAAAAD4/3hsa2SZxOg/AAAAAAAA+P8AAAAAAAD4/yz5ajnG6eo/z7A1SCUP6z9M/fRsu/PqPzHbIjRftuo/NJ0H6WbU6j8P7CVEu+DqPyquaXIzy+o/9Kdp3eh46z8f/PY+ntbqP0d8NASgCOo/jBvCmGvX6D9kTPzkltboP7RSbVUe++c/3qXSaNEQ6D9ynoKzriPoPyDQjww+2ec/VguxhrBM3j/PazjF/2bZP8FoolaCMNo/D0mWP17M2z8cTprRbp/fP/cdpMGWMd0/cFNAW90t3j+Gd7hLFTfeP+PgvP5Yyd4/25jmG2Mr3z/Qs5nprhDfP02ZdKpdAN4/hUqfaurp3T/AShPqXBjdP0jTYg6ZqNw/0XKWlglt3D+gpBzTvavcPxvyUELFLtw/1QXRrNk03T9zhG17YSneP+6VtvX9YNw/Cnmu+uEn3T+ctxnItGjdP+0FSdmEEt4/uyYEJp2o3T8vTvZG4ozeP636qYo08N4/Wy1UO5eT3j8rQDratzTePxfM+Mcac94/S4fWZMOu3j+U3vN93HDePyXUSQh43d4/SONwayht4D+/BpfVn4jgP++RVMrskOA/QSo5OKF14D/1/RSAL2XgP5vXM4cPQOA/6XsZMbOL4D+nY23Td23gP8d6tzAPceA/duW/RDWC4D/oVOV81GfgPx/JtAPVNeA/na37ei5p4D+k0AuHvDjgP4bjpqqNcuA/t/Z6gWCO4D8BU4yMzNzgP5CGCgKPH+E/tI8FS6QZ4T849bcFpDLhP5e2A8MXbeE/PJJ12naY4T+x+VkEjbbhP/TijyBg++E/jlbdRmYQ4j8sPsrmBiLiP7TcBvi9KeI/ZdDBm2mt4j+4IcP3NwvjP/++cI05beM/KfIYNMvC4z8IZozOswjkP4J1RFJimeQ/HXocTwTZ5D/+eLuMA4/kP69lQ8V13eM/ZiudUcUk5D8WboMWPM3kP2SMmxChleY/qsue0J2W6j9VJr/EAETrP7JwDbuPBOk/+ffCkrgj6D/2YYPbU0PnPxsWOhtiNec/Rw8g5nGq5z8qlSBVbOPnP3b4pnFmf+g/awR0+k996T/3cmo7Xw/qP8v2W/WNb+o/98VU91wt6z9NpESFpQbsP23yPvabuuw/yiM4u5sY7D9eX8MeOEXsP3GGIeyllOw/AtfVZ6QX7T9juRDse6PtPzEgApq8Oe4/8+bPzC5A7j+4RuzSvn/uPzHub8Ms0O4/NwuqrUxV7z99ulUVgLbuP9DPvIZH9u0/GF5lOq3s7T+WJ/tmqXXtPyart3JeTO0//+KZoqSD7T9lnXQ8Pq7tP9CQ6v1VTu0/fo85ZWDq7D/xT7CiemvsP4wHogRiCuw/F3NX4Xr56z8XNDlMZzDsPx3Wzi6BZOw/63kDw4uk7D8zN30uJNfsPxy0Qfxlf+w/LnAuy5Z07D9pqRa3/HHsP0FDX+uhT+s/Bk0nn+Cy7D8IV3GcRu/qP79ZERI+1eo/ulM+HEqz6j+CPe5sEN3qP80I0dxMiuo/ok763sfY6T/S7PGI4iTpP4HwLL0w8eg/Uioe9SMo6T8C3/bcrgfpP98B0BvUueg/5Jd5O6yF6T+55nentWvqP0JAnL0LNOs/07VS5QEZ7D80yFtlxE/sP7v0Ik1io+w/daRfmCbv7D9cNfAJ6K3tP3f/wscAbe4/m07HdUAu7j9yucbaVQ3uP50e/cR8Be4/CMCgNRTw7T828RZ333ntPxPewmYKvu0/ttp9Gnwy7j+uFi6qW4PuP2jpidK4+u4/V/2mPnGC7z+sK7r0Zi/wP5pDN+67WPA/",
          "dtype": "f8"
         },
         "yaxis": "y"
        },
        {
         "hovertemplate": "Region=Asia<br>Gas=Lachgas (N₂O)<br>Jahr=%{x}<br>Emissionen pro Kopf (Tonnen CO₂e)=%{y}<extra></extra>",
         "legendgroup": "Asia, Lachgas (N₂O)",
         "line": {
          "color": "#636efa",
          "dash": "dot"
         },
         "marker": {
          "symbol": "circle"
         },
         "mode": "lines",
         "name": "Asia, Lachgas (N₂O)",
         "showlegend": true,
         "type": "scattergl",
         "x": {
          "bdata": "Ogc7BzwHPQc+Bz8HQAdBB0IHQwdEB0UHRgdHB0gHSQdKB0sHTAdNB04HTwdQB1EHUgdTB1QHVQdWB1cHWAdZB1oHWwdcB10HXgdfB2AHYQdiB2MHZAdlB2YHZwdoB2kHagdrB2wHbQduB28HcAdxB3IHcwd0B3UHdgd3B3gHeQd6B3sHfAd9B34HfweAB4EHggeDB4QHhQeGB4cHiAeJB4oHiweMB40HjgePB5AHkQeSB5MHlAeVB5YHlweYB5kHmgebB5wHnQeeB58HoAehB6IHowekB6UHpgenB6gHqQeqB6sHrAetB64HrwewB7EHsgezB7QHtQe2B7cHuAe5B7oHuwe8B70Hvge/B8AHwQfCB8MHxAfFB8YHxwfIB8kHygfLB8wHzQfOB88H0AfRB9IH0wfUB9UH1gfXB9gH2QfaB9sH3AfdB94H3wfgB+EH4gfjB+QH5QfmB+cH",
          "dtype": "i2"
         },
         "xaxis": "x",
         "y": {
          "bdata": "Uwsx11b/0j8AAAAAAAD4/wAAAAAAAPj/AAAAAAAA+P8AAAAAAAD4/wljsReNrNM/AAAAAAAA+P8AAAAAAAD4/zM+J3qRKLs/djKpBDdkuj+LS+5g8+i6PyFPJ/pANLw/tLZdNHKKuz8EFONvvVW7P/ZqFQ+3wLs/7O7BbU8mvD+A2mRIMgLAPw20OPXP28g/FwTEs6hgyD8a0p6D157HP0sVihiEZco/qb93Znjcyj/U4g1zhWPKP5gQ8chew8o/5meLehnkwT/ScxSc/hK+Pw64te9ILMA/E39K7MogwT+bYPP+Rw/BPx32o5Jmd8A/fZemyRwbwT+pRKS9kDrBP+b+1j6LUsE/dnconcKAwT80C1l470HBP4lmnhe6/MA/BPFsLB/KwD/OBxupcj7AP47pyHoRz78//QNK2FI0vz9wBUPf782/P3bKmLaJIL8/blA+DeOlvj+ctjcr3c69P9pP7YyzIb0/Msmlb2FhvT+7k1wf9wS9P9UGAa4CEr0/9yaUTgFovD+NO7qKHFy9P71f1Nfgz70/+jFTrD5yvD9nSpyfr6O8P/dsgmzcmrs/STIQK4J0uz9YyqY3Ase6P26LPV72Cbs/ChrIePztsj8uVBlThMOyP/FQ09e5n7I/IgqNbLx7sj/6GhiEOPCyP/c/FQIAIbU/hlzcOnA0tD+JDHxAjLyzP1fc8G6H+LM/p3+kMHuPsz+266Ug/ICzP220WUE23bI/5fjC/6Ppsj9B4ZTe+GayP758/LIwzrI/8kVAV9n/sj9nf5ph++GyP2wmMGKTMLM/ASgFSgmEsz8uUOpiBxy0P+onBV4DYrQ/ijeYvyWatD9W1SpttNO0P/5pZJBBXLU/mSql5R2HtT8Zt7KjLBi2P9tnB0u2YbY/SwBE6gr1tj+h48QjejC3P+7ar9wopLc/cgqu21p1uD8Tgqwqbpe5PxJ+ZVN4qrk/dlJWJ9ONuT8s+0dk7Nq4P5cavzXdx7g/Qc2nXjSTuz/lwqERBfa+P51XtwqSD8M/f1Hfb90Fxj/IkX1H4XbHPz6rVBGZTcg/ZUwwTnMTxz8/AzwMRg/HPwoNWHCXZ8Y/puS6IpPixT89ZjWah0jGPxSLhWTPIMY/i+o8A4hExj82+BhDa4TGP18PLVJHacY/nQx4NR8yxD+mIgQnyarDP/nAfxJHJMQ/bXEXMFlTxj9KlcQs0YHHP11mmhQROMg/JA5LxNUJyT+K1ynyYHrJP2Z/ZFGiWso/iPm+BCQTyz+b6MkywmXLP+if9yK2d8s/G8UsbM/+yj/moiEf/PPKP4IMJLgjmMs/w0Juek96zD8vaULgIwPMPwkn1mFg18s/7K2jhcrVyz86exY5wd7MP3TGQwxT9c0//kR+hkeNzj9pU1ZLxJbOPybGwjXE8s0/sGBtGadPzj9lneJli2rPP4cssgvnG9A/sqbxgG/Azz8+LlU1ZcvPP7DUI9/NVdA/Lwo2eYjJ0D88DlryrdnQP1442/GPodA/VHAZITqm0D8x+JERRRPRP2AWwvVnotA/P7h7trf00D/64GOQrazRP4DRlihIF9I/ntqT8zCo0T+b8u3v9Y7RPynzqwBlc9E/N3Wk5dxH0D/Cl19yzSbQP04piRO6SdA/AqNiGKFm0D8+rGz78/7QP1FCJK++ONE/5N90K+yX0T+QdvLgGdvRP/fHTzsUndE/EQ0wJugk0T8TcFXDNHXRP2Q4ORmLi9E/2gM5My+p0T9jGn+u05DRP5MZ7ni8ctE/abkEpO5N0T8DgzjxSiHRP+TKrU1/JtE/6T3E28YP0T8dzVNYwZTQPxICFw2DvtA/6HYGQuDq0D+xotGW39zQP6zePwZPrtA/",
          "dtype": "f8"
         },
         "yaxis": "y"
        },
        {
         "hovertemplate": "Region=Europe<br>Gas=Methan (CH₄)<br>Jahr=%{x}<br>Emissionen pro Kopf (Tonnen CO₂e)=%{y}<extra></extra>",
         "legendgroup": "Europe, Methan (CH₄)",
         "line": {
          "color": "#EF553B",
          "dash": "solid"
         },
         "marker": {
          "symbol": "circle"
         },
         "mode": "lines",
         "name": "Europe, Methan (CH₄)",
         "showlegend": true,
         "type": "scattergl",
         "x": {
          "bdata": "Ogc7BzwHPQc+Bz8HQAdBB0IHQwdEB0UHRgdHB0gHSQdKB0sHTAdNB04HTwdQB1EHUgdTB1QHVQdWB1cHWAdZB1oHWwdcB10HXgdfB2AHYQdiB2MHZAdlB2YHZwdoB2kHagdrB2wHbQduB28HcAdxB3IHcwd0B3UHdgd3B3gHeQd6B3sHfAd9B34HfweAB4EHggeDB4QHhQeGB4cHiAeJB4oHiweMB40HjgePB5AHkQeSB5MHlAeVB5YHlweYB5kHmgebB5wHnQeeB58HoAehB6IHowekB6UHpgenB6gHqQeqB6sHrAetB64HrwewB7EHsgezB7QHtQe2B7cHuAe5B7oHuwe8B70Hvge/B8AHwQfCB8MHxAfFB8YHxwfIB8kHygfLB8wHzQfOB88H0AfRB9IH0wfUB9UH1gfXB9gH2QfaB9sH3AfdB94H3wfgB+EH4gfjB+QH5QfmB+cH",
          "dtype": "i2"
         },
         "xaxis": "x",
         "y": {
          "bdata": "GY7/VWKe/D856o4lz8P7P8HF4gykXfs/hF4UACYL+z+S/8827nD8P9lOzAx6Xvs/cMJidVue+z+jXfz/YBf7P0ixN30XT/o/DDam9tEv+z+DSqdLGfL7PyMS2ffQzfs/ZrQFipYV+z8lnwU84lT7PyHaglOGofs/i0zYlabb+z8en3uXUCz8P1Pralaj6Ps/wGCkzzg9+z/osr+VV237P+033wWGGPs/Za6KWDMk+z88aWs1KWn7P+cZWlZflPs/n7/jn22e+z8nyHosZm77P3t0mfaDA/s/WF5YCeYT+z9/mRxPfcL6P6ju7Dowefo/y0bKyjBu+j+SjKZIZSD7P+hVhtcw8fo/WnhJIPEO+z9NnTCtYoL6P4h3G9XmEvo/GNvKgWDT+T+sVW4aZ8/5P+091VjV9/k/yDtN8fsF+j/lH1UO8h76P1mwA8CpGvo/lDXiG7PC+T8Z44tQDLb4P2I+V0iDgPk/GEnfkip0+T/LXSrV/Jb5PwRAHAq0r/k/jkNQkb2U+T809gDYJvL5P5OTsXQXBPo/VJNZfhym+T+gF7CneJ/5P4Q5z+lbyfk/SXaH2RyV+T+OrTz5cZX5P8b8Tb1WhPk/tDGF+fH6+T/m5+HiZmD5P0laEtoXj/k/YcPuHbJf+T9uE5rb6a/5P+7DlGcVffk/OXR99yUc+j9sKfVouED5P2szowy4Qfk/D+MoRYw++j+zxbZPphH7P/TeT3mB9fk/AFPZCec2+T9GLAqGP7v5P1pOLMMflPc/95ge7JgF+T/d6EvWDAP5P+uD6sNV+/k/eHyFF5uw+T8GfZjdhc/2P0+ACnnGn/k/LZOY4iFI+T8StxF3zL/5PyZ2ESMrPfk/v5CdYfxV+D+VnVOmRrL3PxMmSidjxPc/MzWwYoMJ+D9EsZ9+XfH3Px6N/XwzKvk/AwPGxJeY+T/jbWSijGD5Pyx0IS/Vmvk/ZAM8t+6b+T/Tz9qNSPz5P0BCq/GdWPo/2FKIIeiA+z/VWtr0i/76P1FHyuYIWvo/Ow+Jor/o9z9u4pqER8X6P6AXzVEmevs/9tXKWDJ6/D8Srfv2EQv9PzHAElkzXf4/ZOMVbw6m/j9F75VOIwP/P7WKIMHWlv8/Ncg9ioo8AEAeN2miBY0AQM88aRHKqgBAY4EMhTSGAEAwvoTetoAAQHt4nU5R2wBA9n2znPntAEATiydgjxYBQPwUYowyMAFA9j6IqIIBAUDKFZIIFvMAQOLUW3Yd4ABAuYhQbbfVAEBHJDcXE/UAQPcSImYzJQFAfNcu/OSuAEDmF+GqQqIAQLe/hvOEWABAkwhPB35XAEA1DtOzsCoAQO1M/VzBMABAxdazjaIrAEDsw17SqiUAQFatb1ELKwBAoxE7b1ZGAEBxwizt7hwAQMuRurDdsP8/SjuSdMHF/z9po9moq2r/P+zaYq3xBP8/T+Umf9lu/z8WFCDCX3z/P70ZGNfL//4/U2Q5oEts/j8NTQ1Bj6z9PwpPo9roiP0/7hZse7mw/D8KTpHkAGX7P2XKGVpXgfo/QxaaiyXb+T9kLyy8FV75P7+S6PI3Ovk/cSrXMfnD+D+ZQ5ycoOn3P48AEgAtbfc/ocfa1DPz9j9vZzU0gWD2P5aEWVjpDPY/zlDIhOGl9T8k+IbqmBf1P09uXd4Th/Q//DVd5OAq9D/tdVYp2OHzPzqn/jl+Z/M/Bz6yqjPb8j/5m8Qy8I/yP4Fpml0uGvI/WpVc22XZ8T8HBSTlCoTxP4owtaeeFvE/AonNie3A8D9yKuHC9qjwPwBiEcrBnPA/CeIW/Ldt8D8myZwNCBbwP6jthckqi+8/RAwGwcst7z91An9/yJDuPwQyjtCv4e0/",
          "dtype": "f8"
         },
         "yaxis": "y"
        },
        {
         "hovertemplate": "Region=Europe<br>Gas=Lachgas (N₂O)<br>Jahr=%{x}<br>Emissionen pro Kopf (Tonnen CO₂e)=%{y}<extra></extra>",
         "legendgroup": "Europe, Lachgas (N₂O)",
         "line": {
          "color": "#EF553B",
          "dash": "dot"
         },
         "marker": {
          "symbol": "circle"
         },
         "mode": "lines",
         "name": "Europe, Lachgas (N₂O)",
         "showlegend": true,
         "type": "scattergl",
         "x": {
          "bdata": "Ogc7BzwHPQc+Bz8HQAdBB0IHQwdEB0UHRgdHB0gHSQdKB0sHTAdNB04HTwdQB1EHUgdTB1QHVQdWB1cHWAdZB1oHWwdcB10HXgdfB2AHYQdiB2MHZAdlB2YHZwdoB2kHagdrB2wHbQduB28HcAdxB3IHcwd0B3UHdgd3B3gHeQd6B3sHfAd9B34HfweAB4EHggeDB4QHhQeGB4cHiAeJB4oHiweMB40HjgePB5AHkQeSB5MHlAeVB5YHlweYB5kHmgebB5wHnQeeB58HoAehB6IHowekB6UHpgenB6gHqQeqB6sHrAetB64HrwewB7EHsgezB7QHtQe2B7cHuAe5B7oHuwe8B70Hvge/B8AHwQfCB8MHxAfFB8YHxwfIB8kHygfLB8wHzQfOB88H0AfRB9IH0wfUB9UH1gfXB9gH2QfaB9sH3AfdB94H3wfgB+EH4gfjB+QH5QfmB+cH",
          "dtype": "i2"
         },
         "xaxis": "x",
         "y": {
          "bdata": "6Rpv1g5nvT8x7iGbjLi9P/3kzlg7Ab4/q+udli4Xvj9wDDI93YO+P6ET6jMlcr4/l1TudaSnvj+a/0Qfmrm+P5iw4a75vb4/DTrPcojXvj810eAxDt2+P3BROdDJs74/GxIQxMyFvj91Ze3yNGa+P2HrvKEKSr4/hMFsAs9Bvj+KagFRhBu+P5gA+928+70/322iSv7RvT/nZ+WVV7e9PyfITPuQsL0/DtK2ZM7dvT+QLs3szEO+P2F1zc9uE78/Mb91lQ7/vz8yc7NCDLDAP+UhSVPUIsE/xlkGldiywT/Dz4GddSLCP8XdCg8jasI/GAbKAv59wj9zc9qBpaLCPwSLjAompsI/ezd2exSkwj+tXk6oepvCP7R+BCXGksI/WVCOJc2Gwj+Ikdf2QnjCP8DLf+vbcsI/qpNxtAtrwj/LirGPjZjBP7jEuT/XksI/+jdE+Ltjwz8gntioQv/DP/T0aq1op8Q/EEyPaB8bxT8UDUCS83vFPw66Y7ukwsU/qi0vVOPTxT9XH2U8mwfGP1SmP5KUE8Y/It/9xvvOxT84Rt1YWqnFP6BpVQ2IbcU/CZ6+49sjxT9UYaLeSLzEPxGo3agWW8Q/ni9TbgsRxD9YpzHLgLjDP2ktkBIgncM/RNN74SOVwz+u6lZr1rfDP8ijNwVp3sM/TeKPC3IxxD+G55CqBZ3EP+q5XfGRBcU/Tkoo6W+BxT9iTt1nHdjFPxKEFY2cLcY/6jd/4FmSxj9lL4iZzuTGP9vSI+XuCcc/3h/+0WmLxz/lySCODvfHP4FzGSkLVMg/oEFDh/m7yD+bbNLAlCDJP0uUuP74jck/NIFbkrjfyT8semdkmSrKPxu6wLYSfso/zHCChu30yj+JkDePumvLP1TridBl6Ms/PqRhxxVRzD9ThOzxarbMP7MU4SW4h80/ch4SkTHRzT/kwc6WewfOP9Pa2AMRTs4/71aHX0b4zT8LosV8fDTPP/V9xD7VtdA/NN4zb+/S0j+w6fxyqyPVP6d446RBMdg/5dGNlCKo2j8j/jowyNzcP/7EGJ/Ps94//584uO0R4D/w4sBGGI3gP9zaqlui0uA/aC4+kK0s4T8vsm/sKZjhP04HQ5M3GuI/ZjeNUAez4j/zENbLmk3jP16NCkHH2eM/WEgFOZBn5D+/j8qCUf/kP/mbQNVDluU/6eMWk+bN5j+KMHN55I7nP1pZVCDTDeg/GdmCDr2+6D9fBlsYbJfpP/gZ4c9Ufeo//VGDwB9R6z9EMffL0hPsP2dn2KoTnOw/3PiZxg5g6z9rDG6+6bvrP10G/qoz5Os/mBbkT73l7D+6qMT/VmDtPzkRP52TMu0/uE8RVbJx7T/M9alpX17tP/sgsrp3R+4/aVI9lo1E7j/6RqYjWoHtP+2lepxezOw/YqYss8FK7D++kQfG8mXsPznF1ICI0ew/PSfSI5N27D8/sms0JknsP21WzkRKr+w/bQDsDAmx6z86kzIh9hTrPznhRU0YNOk/PCegwjrW5z/HUY7FnYvmP2+uONpt1uU/NYcsnwr95T90Riyt3ozlP9x78Loc2uU/yI5idDJT5T/2V228gajjP9inX8KNy+I/eGCKFMie4j+5/I6VBEDiP/QuiGZoKeI/87CBFQka4j8uUxdeOwniP2u+PtQvoOE/CXIRP5jb4D8B6I26NAXhPwdv0mm0QeA/32PrEHr/3j8/v6zBoJrfP+CCevPFZN8/3pn1/DqT3z+ygH3N3wXgP3Ffim51DeA/A0p97ejS3z84JOQGh+ffP06LVcpIxN8/rDCIj4ZJ3z/yva+tZRjfP5EOZfiCpN4/dK1M+6l63j/ldRi/2MjdP+PrTK1Qdt0/",
          "dtype": "f8"
         },
         "yaxis": "y"
        },
        {
         "hovertemplate": "Region=North America<br>Gas=Methan (CH₄)<br>Jahr=%{x}<br>Emissionen pro Kopf (Tonnen CO₂e)=%{y}<extra></extra>",
         "legendgroup": "North America, Methan (CH₄)",
         "line": {
          "color": "#00cc96",
          "dash": "solid"
         },
         "marker": {
          "symbol": "circle"
         },
         "mode": "lines",
         "name": "North America, Methan (CH₄)",
         "showlegend": true,
         "type": "scattergl",
         "x": {
          "bdata": "Ogc7BzwHPQc+Bz8HQAdBB0IHQwdEB0UHRgdHB0gHSQdKB0sHTAdNB04HTwdQB1EHUgdTB1QHVQdWB1cHWAdZB1oHWwdcB10HXgdfB2AHYQdiB2MHZAdlB2YHZwdoB2kHagdrB2wHbQduB28HcAdxB3IHcwd0B3UHdgd3B3gHeQd6B3sHfAd9B34HfweAB4EHggeDB4QHhQeGB4cHiAeJB4oHiweMB40HjgePB5AHkQeSB5MHlAeVB5YHlweYB5kHmgebB5wHnQeeB58HoAehB6IHowekB6UHpgenB6gHqQeqB6sHrAetB64HrwewB7EHsgezB7QHtQe2B7cHuAe5B7oHuwe8B70Hvge/B8AHwQfCB8MHxAfFB8YHxwfIB8kHygfLB8wHzQfOB88H0AfRB9IH0wfUB9UH1gfXB9gH2QfaB9sH3AfdB94H3wfgB+EH4gfjB+QH5QfmB+cH",
          "dtype": "i2"
         },
         "xaxis": "x",
         "y": {
          "bdata": "+7ZJsNQnCEB2QMQV7UIIQC86A2frQQhA+wo7QitICEA38v+3XUcIQG8TvH8eUwhAV13rnjJNCEAedG++pSsIQE3iZ5H9AghAG8NfnTD7B0AriR7Ve+0HQEgSUVrxpQdAQzTNvvZ7B0B6+PcZYHUHQIoJSTWMaAdAJT7rA8A1B0BeMfZjBwwHQKlbN6FWIQdAvpgfD+EPB0D4Uq/18RIHQAWMpSuF9wZA8qmofqbgBkDjvmwkGCIHQA2S4mctKQdAqLP09yfUBkAfFaZVuqQGQBhMho/PWQZA/RrxgodhBkDyjf+0NxQGQDb6IUVBZgZAizw2jVGcBkDpRNW3JXwGQBSbL5+SlAZA5fWQgUmQBkDXl4Lm73UGQBLEOyvZLQZA7uxHgjcMBkBUyp4/V/8FQKlEA57lnwZAj37N5Qq5BUA1AWMjqk0GQD8ZM+XvTAZAsIAYteBFBkCrMwl3TxEGQM8HyvMHZwVAp1ZJAxTOBUDRIGlC53sFQKko1kY6XAVAs7xrEZ2TBUBPTC3zJS0GQDkBgZqGQgZAAxNHDlihBkB+IeKhYMwGQPi2fW/63QdA6ENyxxNqB0CnfMIxzSgIQE03LNZrXAhAK6a1uMa1CUBBadAHEvUHQKeRNd8VuQhALe7Kyw9yCUCbTRdaEgIJQOICz5IukQlADvvJsxMpCkD3HGBXKeIIQEr+BN6K8ghA6yR7QlXwCUCYa2DG5rUKQPtwZeJj8wpAr+TmQC5HCEDbdwKzXTIJQJt1o9C8agZAGi4+4s1hBkCiWY5wJ9EJQBqOevGgPAhAVK9juDiWCEApe0mNjqkJQCNk5R2qTglAirHXmev8CEDfMTrm9bIJQDSfrgT3IAhAuw0nZcNOBkBxPKatFLoEQIfqRRXIMQVAKGl4+ZumBUAPye09E9cFQMRPN+DxGQdAcCPLx8lpB0Bt5NXaSpkFQCA/u//IcwZAdctHcKCFB0A5He78YqQIQILZW+R2tAlAOOOPlm8jCkD5jOz4dRYLQK7eS9wdhQpApm5yrP/pCUBl/vkEDBwLQJcVBGfxlQtAOckcxQR4CUDyldw95SwKQMuQ5ZSvbApArchgKIoGCkC0u0J0B08KQPodGRAe0wlAoD1EDYXgCkAPM09ipXoLQED6WweEUAtAVbbheA8AC0CIBGcxF1YLQIWFAemsngtAE5/aSJxiC0BPLV16/+YLQCy04SVQYwxAQg0rHEbLDEABO+kpwisNQLtcwieCgQ1A6Zoe+TXdDUA2r30zt04OQEenP92Mzw5A4ByLfGc0DkCUEHL2m9kNQNeGwBzSDA5AI+UlXLfgDUD8UxM3HHoNQE2JZk8sBg1AHYoGhdixDEBuOnqiPBoMQPau4eXJfwtAlbmK+8/oC0C1QIUAh8sLQF8rEWCohwtA09/o6f4MC0A3Kn2XmSkKQP5Uv06QawpAis3PQFL1CUBi5WRBWmYJQDfYlZaZGwlASB7uDzglCUDaWBOhlu8IQDojxoAjXwhAaYdLJhXuB0AxXZx0dM4HQMi9HJ0usAdAn+YA3V2LB0A2otNutBUHQDmzHLLv0gZAz8w12/yXBkDH7Ot0OggGQK4J3TLPawVAQNmzlLQwBUAg0DlDwWsEQJhp2NZf7wNA6B5W4NfUA0BIfHzAmIwDQL4+P+/cRQNA6B8jzt9XA0CgKPXUw2ADQIaq7fXgfQNAamzu1o5tAkAw336f9OoBQNwxL5eE3gFALiBiqFtOAUAspPh8+CEBQATwv17gGgFAsw1v832vAEDNrRIyBxsAQBWHRKxIQwBA+62o5SuHAED/mpK55ZYAQKYDzAwsof8/kLVzRFqn/z+grtDZI9D/P65oGeen+f4/",
          "dtype": "f8"
         },
         "yaxis": "y"
        },
        {
         "hovertemplate": "Region=North America<br>Gas=Lachgas (N₂O)<br>Jahr=%{x}<br>Emissionen pro Kopf (Tonnen CO₂e)=%{y}<extra></extra>",
         "legendgroup": "North America, Lachgas (N₂O)",
         "line": {
          "color": "#00cc96",
          "dash": "dot"
         },
         "marker": {
          "symbol": "circle"
         },
         "mode": "lines",
         "name": "North America, Lachgas (N₂O)",
         "showlegend": true,
         "type": "scattergl",
         "x": {
          "bdata": "Ogc7BzwHPQc+Bz8HQAdBB0IHQwdEB0UHRgdHB0gHSQdKB0sHTAdNB04HTwdQB1EHUgdTB1QHVQdWB1cHWAdZB1oHWwdcB10HXgdfB2AHYQdiB2MHZAdlB2YHZwdoB2kHagdrB2wHbQduB28HcAdxB3IHcwd0B3UHdgd3B3gHeQd6B3sHfAd9B34HfweAB4EHggeDB4QHhQeGB4cHiAeJB4oHiweMB40HjgePB5AHkQeSB5MHlAeVB5YHlweYB5kHmgebB5wHnQeeB58HoAehB6IHowekB6UHpgenB6gHqQeqB6sHrAetB64HrwewB7EHsgezB7QHtQe2B7cHuAe5B7oHuwe8B70Hvge/B8AHwQfCB8MHxAfFB8YHxwfIB8kHygfLB8wHzQfOB88H0AfRB9IH0wfUB9UH1gfXB9gH2QfaB9sH3AfdB94H3wfgB+EH4gfjB+QH5QfmB+cH",
          "dtype": "i2"
         },
         "xaxis": "x",
         "y": {
          "bdata": "zNfkp9JY9T9TBj3TWBH1P/inSCDyx/Q/b1k0nbB79D+fb3qa0Cv0P80fLkas1/M/c2Dxs/br8T/g07zxwrnxPxwdXVjwbfE/IRfm7rpK8T8JEfNjrhDxP+mUeMAQSfA/R9g7A7I17z+yN+OjZQnwP1Kytq9j3+4/b5mW1Ihd7j9Q/LGEy8rtP1V2E4XKqe0/ArlpAFli7T9kmF/59uPsP4Xe1ijDjuw/bQVjGeNo7D/DgxBasrPsP2FRKIHDLu0/Curhye7G7T+ipnbmZIHuP2Y1JqDNTu8/PXMLWITs7z9K61i6iBLwPzC0/BlQOfA/XLGDkfNL8D/QBMqcXCfwP+xTNw5f8e8/6/4yYh2Q7z+n7l9yiizvP7Lefk5cse4/vYZ+I1k97j+Q2uAPXbTtPwxXOn7tR+0/iqLtU9m07D9uJuJKhEztP3a3HN3Kouw/Nv0g2dUe7D9JpkFejwvsP8pHGqudr+s/RowZhQ2V6z/1fBZ/RmLrPyUKz4To+eo/py0IVpTE6j9nNmBb3orqPyrXL+pCXOo/5c5oz4Mj6j+LRmuYMQHqP8YMqAjJ3ek/ddXToQnB6T+r6262JqnpPw790IKyiOk/Ze+Ne3506T9AVFv8TEPpP9zqd5q8GOk/yCUYhBj16D+dcV2Ag6ToPzo+t0RrpOg/zIDoj7+U6D8ZoSLp+JToP0FIf/qaW+g/juE+lBpY6D/rUKpxIwnoPwyhAsCK0+c/SSCt214f5z/w6HuPkRLmP9tvBIu8B+U/+jNZr6XV5D9g5qfnBnXlP1i6zqsd9OQ/N98ae1no5D+1mpxswvfkPzosR5T26+Q/teiQpxLM5D+OdTn1uZvkPzjuob9/YOQ/0+g6FdI95D87GeFiEyLkP54/lxY8G+Q/VdmAd60p5D8AYd5nTyTkP/lSEYkzR+Q/Vy4KbV1V5D8lg99mtV3kP81Z6/LHjuQ/NKnKLQ6m5D9hcEyR+wrlPyIubSlSCuY/rvftMXxM5z9+hsUdMMnoPzsCo4tXTeo/PRzjcGzU6z9GzYa5azHtP+9LI6x0Xu4/RRurRNEP7z//UrVD2ALuPwIFJL0H9+0/M8wrJ9kN7j9v2OVtelnuP2XsPUxpre4/NCTwSBAH7z+KDEM3GXrvP+sFeK1jru8/gfUkTm/77z8yNbc04CrwP/S0K9zSU/A/No+XxEHM8D+fyvfYJVXxPwvk73fuAPI/bNTF4u5q8j8D15A5Bx3zP9xvG2rkqPM/hNBdSRww9D/HO4U+e3T0P9ebs25Mo/Q/WahciZ3d8z8kzeSHE5LzP2RdN+UgsPM/kGWEnFQX9D9QSAy1RX3zP86IIvqaN/M/JMNwTC718z/JaSvSAIzzP324oHW7WvM/tJnBiDv18j+GB+jCiADyPxMNvqQ0wfE/TnnbP/as8D/dZL7XgOjwP4/axKlVE/E/pfd2dztw8D9M0lZo/t3vPxKZwOO/Qe8/AKhO7KWr7j+1ppdR2b3uP4Z1Vaepce0/9YB3oxFU7D92xWSWu+7sP2Rx8pLGGe0/fHZpP/oi7j8sUPRkDEHuP/F0EDF5tO4/Jn3L7ME/7j8pkV8pFO3tP3vXTDqDiO0/oKnwvZAJ7T/oBGYsf0rsP27fQbwl9+s/0ESZO5F07D/s0ezOrkzsP+hwT0sIB+w/dAdaZ0j86z/yei2L6B3sPzUjaAEFu+o/5jl0l/EJ6j91pykhBGDqP4SFFQjvQ+o/9qWkIe+Z6T/tvcSVRq3pP1zO/eDlP+k/gGB2bzPA6D+DxPoUpp3oPyhseUGbJug/x2WAfLA36D+GFwjDIpfnPzKs2kJLUuc/0//ORUqN5z8k80S6upznP2IzFchMQuc/",
          "dtype": "f8"
         },
         "yaxis": "y"
        },
        {
         "hovertemplate": "Region=Oceania<br>Gas=Methan (CH₄)<br>Jahr=%{x}<br>Emissionen pro Kopf (Tonnen CO₂e)=%{y}<extra></extra>",
         "legendgroup": "Oceania, Methan (CH₄)",
         "line": {
          "color": "#ab63fa",
          "dash": "solid"
         },
         "marker": {
          "symbol": "circle"
         },
         "mode": "lines",
         "name": "Oceania, Methan (CH₄)",
         "showlegend": true,
         "type": "scattergl",
         "x": {
          "bdata": "Ogc7BzwHPQc+Bz8HQAdBB0IHQwdEB0UHRgdHB0gHSQdKB0sHTAdNB04HTwdQB1EHUgdTB1QHVQdWB1cHWAdZB1oHWwdcB10HXgdfB2AHYQdiB2MHZAdlB2YHZwdoB2kHagdrB2wHbQduB28HcAdxB3IHcwd0B3UHdgd3B3gHeQd6B3sHfAd9B34HfweAB4EHggeDB4QHhQeGB4cHiAeJB4oHiweMB40HjgePB5AHkQeSB5MHlAeVB5YHlweYB5kHmgebB5wHnQeeB58HoAehB6IHowekB6UHpgenB6gHqQeqB6sHrAetB64HrwewB7EHsgezB7QHtQe2B7cHuAe5B7oHuwe8B70Hvge/B8AHwQfCB8MHxAfFB8YHxwfIB8kHygfLB8wHzQfOB88H0AfRB9IH0wfUB9UH1gfXB9gH2QfaB9sH3AfdB94H3wfgB+EH4gfjB+QH5QfmB+cH",
          "dtype": "i2"
         },
         "xaxis": "x",
         "y": {
          "bdata": "BVkFIKQdFkDAw/78CL0XQBIz+zxG4RhAamgDsAGRGUBCvjp98wEaQJ/DIcCOPBpAwtzu5T5JGkA3+wPlti0aQAagUbr07xlARUYHJGHfGUCjBWhbzeoZQOwwJv29LBpAPPslPWdWGkAin/yCgtcaQL5ojxfSMRtA08H6P4exG0D430p2bDQcQJBSv8HNmBxAmggbnl6xHEAmOsssQvEcQGYmGM41LB1ARdjw9EppHUCGx34WS6EdQJpXGp2Y8h1AT/Be/78rHkAuQUZAhVMeQKzI6IAkjB5A33FAAcrFHkAbN6FpFBYgQCfbD6L+YiBAwGpnIt20IECmn/ZI1qIgQIZgEHbhriBA1w/fPFy4IED5FiAEhMQgQMCknCG6yCBAG3TbGk3CIEAzqK8J+rcgQPENV13dtCBAWw0xdxCMIEA30W+iUa8gQKZRwwG+kCBAEv/zCe+VIEBa0waHcKQgQN10vDoSoyBAvFNqsdiiIEA4C0ffv6AgQDM0eFn/pCBAXjqdhzCzIECLDthgMrYgQMoLInlOMSFAkd0z/ilSIUA3hA8ySV8hQM8o3MG/WiFA/ed//gJmIUAd5N5nP2khQD+rHp7MlSFAB9/77eSmIUCpuglzu7UhQCcrMM0BfiFAxat9zLy6IUA7FhyOKdYhQJYt/++v+SFAeSBzs/EFIkAM71IPgzgiQMybXaFq7iFARUDFNKOyIUBJjlT5xLMhQHuX1Z+NyiFAncLof4SXIUB5bsfVjsghQANgEKlHhCFAS7vm6QiPIUC3MUfqmY8hQFplYb9GrCFAogikjzuyIUCtx1Mnc5shQBCE2dKjnSFAjclmo/RXIUA5CaR8/iQhQH6uNA0aByFAy24KJq7VIEBHSO2dU9UgQIrIWBqo8SBAqMz5LsYWIUAZX5CY5EghQOCtARQqkiFAUFPLEszfIUBJByfipgAiQEu3N4V4aSJAgwxRPxddIkAz0Ziy1PAiQOU7Mf+WQCNAq6TiOVNWI0D4U/DW13IjQMiUkoGMgCNAxqXqGezFI0Bumgbt0wkkQLV99syBLSRANXvwdZA7JEAtNC/D4PYjQNP9LBZ3ICRAle2B/jkKJEBmYnxd0w8kQIyxCZ2hciRAftVdDCYvJEBUNhs9lkYkQMyld3MEUCRAo14e++h6JEC78Ch07qgkQHGM/dQ1yyRAnHKVYNdSJECzfLhitVIkQMlJcywo+yNACh7wlHKII0D+SVJPMrcjQESIcRR+8CJAnc4H5A2XIkAmQYmbw34iQCimXc8auSJAgUZzJBwHIkAKwg1i/d4gQP9T2D0okCFATNfFcMk2IEDrQkBKswsgQEI212jgriBAfK0GpPuMIUARCyGUgEIhQKus1AKZMh9A4LCW3mk/IECHNbSvw5UgQCC9j3f1Ih1AGWnHo1c5IEBGi7GaouocQKLa8CifQx1AuYF77xwDIECEvhYSu2UeQI3XPrBySxxATbZjDieuG0DnfCU/zNwcQLhmEPY0Ox9ADUyGIFsLH0B323Gh/58eQEyLMG7vMh5AyKHQBHvsHUBziqo1/woeQBsO1ul7qRxAvrcMuyEhHECwWUnXmG4dQHE1HS5lwh5AuPwcUKEVIECpqn7yGywgQA9EWbo+Sh9ASAPaBp/IGEDZEgENkg8bQISViIWA6hhAozcvxrlrG0Bf5zDRgAIZQL2q1SqPihdAXQfCBj6XFkA/erjljAEVQFP1bJHLhRlAIyxyhZQzGkA5G4kmzIcUQBWFacYHQBVA8cQxT359FUCEVBq2OZYSQPNiebxGwhRAY3SzXsX+E0DkBE8vIB8SQAhweVirpA9AX2E66tIZEEDNzjSbXQIQQOG3ef0gvgxA",
          "dtype": "f8"
         },
         "yaxis": "y"
        },
        {
         "hovertemplate": "Region=Oceania<br>Gas=Lachgas (N₂O)<br>Jahr=%{x}<br>Emissionen pro Kopf (Tonnen CO₂e)=%{y}<extra></extra>",
         "legendgroup": "Oceania, Lachgas (N₂O)",
         "line": {
          "color": "#ab63fa",
          "dash": "dot"
         },
         "marker": {
          "symbol": "circle"
         },
         "mode": "lines",
         "name": "Oceania, Lachgas (N₂O)",
         "showlegend": true,
         "type": "scattergl",
         "x": {
          "bdata": "Ogc7BzwHPQc+Bz8HQAdBB0IHQwdEB0UHRgdHB0gHSQdKB0sHTAdNB04HTwdQB1EHUgdTB1QHVQdWB1cHWAdZB1oHWwdcB10HXgdfB2AHYQdiB2MHZAdlB2YHZwdoB2kHagdrB2wHbQduB28HcAdxB3IHcwd0B3UHdgd3B3gHeQd6B3sHfAd9B34HfweAB4EHggeDB4QHhQeGB4cHiAeJB4oHiweMB40HjgePB5AHkQeSB5MHlAeVB5YHlweYB5kHmgebB5wHnQeeB58HoAehB6IHowekB6UHpgenB6gHqQeqB6sHrAetB64HrwewB7EHsgezB7QHtQe2B7cHuAe5B7oHuwe8B70Hvge/B8AHwQfCB8MHxAfFB8YHxwfIB8kHygfLB8wHzQfOB88H0AfRB9IH0wfUB9UH1gfXB9gH2QfaB9sH3AfdB94H3wfgB+EH4gfjB+QH5QfmB+cH",
          "dtype": "i2"
         },
         "xaxis": "x",
         "y": {
          "bdata": "BWwHI/aZLUBq96sA310sQO/hkuNO8SpAWABTBg5gKUDghhived0nQKRRgZNtaCZAfVuwVBcAJUCsGoS53aMjQCVATS1bUyJAak/JObE/IUBm9Q63Q1sgQBakGYumQx9AnUySnW0kHkDyypr9JlEdQP1VNmIcghxA8ULfghG4G0An+Kbps/MaQM/GAD+ZNRpAQ/EZP0N+GUA7yOvBpNgYQD2a6sn8QxhAqRWm7zUUGECnPSXnxH4YQM7ixcIQWRlArbKl/cVyGkBYwn9fyKcbQOhJmdTQ1hxArxLigEzhHUCkRxOlyUweQOtnI3SdXx5ApiIw2ALkHUC1AheWJV0dQDJ7HO+SwxxAm9rRlBMfHECQ8hnKPWQbQGemMC1vsBpABL9kvmH3GUCCZPpyjEgZQJQvoAmdohhAqOjVpbUgGEAxglkt8BQaQObezLsvaBhAgMdlkkjuFkAPGnplFq4VQNUHBwvWpRRAQpiG/Nu/E0AU2CumXPkSQGcxa4tHVhJAhVSi9zTNEUD4IZKgnlsRQBTU5jhMBxFACc2+DeriEEB9Q/24qfgQQPm1XGMfQRFAZs4q3dOnEUDN7YLYNiQSQFUvg1hAqxJA7leRV+YeE0BT8wwijYATQEvmsp9tmhNAhRifRiClE0C0G+JCMZ4TQNGJlk9xeBNABgSyffphE0CQ2b2A3R0TQO3h7Xv92BJARAfO1SeMEkBeXsZbJmYSQIcrjzb8OBJAM48/vaYIEkA7dCziVfYRQF0prBsyyhFA71isSG2yEUCnIaeLhZsRQEjTAM6zjhFAEgFgFwd+EUATta9LFGMRQBEEM8YvRBFAlElSc4MQEUB8hHwj9NgQQKID3fI+oRBAVLB2uolpEEBy3iZysUYQQOYDAr6PHRBAZSno5MvRD0AAsfFrUHkPQOPFumj6JA9A9havhaLMDkCrbTwKIXwOQNVgVPEMLg5A8YaCxSHFDUAlQgA1AOUNQA9s3nNXvA5ACWsz0OYDEEAzCgUvqdsQQJS9AWt1xhFAJgnZmlDBEkBPRpH9zKUTQFmmsis8YhRAwsC7vhDcFEDvj85PpAAUQCzuo5qc3xNA0OeOdmdzE0Dq0l/zEmMTQCLGdHOmfRNAGH9Wy2csE0A3OmorzyMTQDtesetnJhNArCM8xdgvE0ATKtesoygTQNGph3V8JBNAHnpHjUmTEkDwxe+SZXwSQLercl2URxJAsv5I3zSfEUBcKBytCsURQOKZQ0/FPRFASp87JiDmEEBHH2cECAcRQJuJYY46RxFA2DEKNnIuEEB6/CTiIUUNQLVkFA6b3xBAjy9Tgp/pC0CcRZwRSCoNQFbZ9R71hA9ALsOaYV+jEUDXCrjXUwMRQEb8XD0M+QxAlPY99uM5EEAx+zExt+0QQBdSggmf0wlABa6GKm+5D0AxaoOyubwKQMa3Wmtt4QpAuUdkH/BOEED0xSTwcw0NQDESGbKPywhAW0AqC+qtCEAZpfTEOYMJQPNWvTLOkAxAIf40ai/4C0D/qE5LB3YLQCxQSwZpEwtALRwlfpclC0BfGmfjIN0KQKWFykdwoglAK1jl/r/xCEBY11c89FAJQMqWcNr+Gg5Ax6+vECj4DkAp0OV5qjoQQHgpwtrltA5ALqeN0ktVBUDig1np108KQNknezBflARA1Pd0jLqDCED3yBQO0yoGQCNyw5TmFANAZnVMYuDMA0Cw5HCEPucAQA/FpXtMBApATZJ/DkyqCkAmHCVs9mwCQMYIH4TNjQNA6XfP/d3xAkCc10gBGDT/P9BV0oB/KwNAIcWYXEJ9AkABNaG9ElD/P+B8Yr0hWfo/xeSF+oxU/D/mjsJ9rYf8P5f8bpUZrPg/",
          "dtype": "f8"
         },
         "yaxis": "y"
        },
        {
         "hovertemplate": "Region=Russia<br>Gas=Methan (CH₄)<br>Jahr=%{x}<br>Emissionen pro Kopf (Tonnen CO₂e)=%{y}<extra></extra>",
         "legendgroup": "Russia, Methan (CH₄)",
         "line": {
          "color": "#FFA15A",
          "dash": "solid"
         },
         "marker": {
          "symbol": "circle"
         },
         "mode": "lines",
         "name": "Russia, Methan (CH₄)",
         "showlegend": true,
         "type": "scattergl",
         "x": {
          "bdata": "Ogc/B0IHQwdEB0UHRgdHB0gHSQdKB0sHTAdNB04HTwdQB1EHUgdTB1QHVQdWB1cHWAdZB1oHWwdcB10HXgdfB2AHYQdiB2MHZAdlB2YHZwdoB2kHagdrB2wHbQduB28HcAdxB3IHcwd0B3UHdgd3B3gHeQd6B3sHfAd9B34HfweAB4EHggeDB4QHhQeGB4cHiAeJB4oHiweMB40HjgePB5AHkQeSB5MHlAeVB5YHlweYB5kHmgebB5wHnQeeB58HoAehB6IHowekB6UHpgenB6gHqQeqB6sHrAetB64HrwewB7EHsgezB7QHtQe2B7cHuAe5B7oHuwe8B70Hvge/B8AHwQfCB8MHxAfFB8YHxwfIB8kHygfLB8wHzQfOB88H0AfRB9IH0wfUB9UH1gfXB9gH2QfaB9sH3AfdB94H3wfgB+EH4gfjB+QH5QfmB+cH",
          "dtype": "i2"
         },
         "xaxis": "x",
         "y": {
          "bdata": "tw2jIHg8/z9jxiXYyer/PzZWYp6VJABAh5oygWwzAEDgHc8ds0IAQOdOVUbIRQBA0T3rGi1HAEDlRSbg10gAQE7tDFNbSgBAFHAZgcJKAED19ueiIVMAQHcMNES6VABABMTJolVSAEBGckOdA1UAQEsKhzmcVABADgS3pFlvAEDfd8IB438AQMwtCEA3jwBAJ77aUZyjAEBS5Fr+jbcAQNtJ6T6lzwBA63r9pDXhAED5akdxjvoAQHounSD7CgFAGNrvP+gfAUBpg11eyjoBQATKplzhTQFAGlMLgExmAUBTtTi+UYYBQAlOfSB5pwFAg7i8g+m1AUCbh10ladgBQEMEd/sH7AFAzOTl+oj5AUCastMP6iICQLfDFQYbTQJAsSZghaVbAkDhU0oZgo0CQA5jdybZfwJAlUc3wqLSAkAoGyDiMNICQBHsrqL1BgNAdiuVAbFGA0D97mfCQIEDQHkhHR7C2ANAfDK1W4E3BECxlvGlpkMEQBf+wuG7QwRA/rRRnQ6UBEDFocik0EMEQMGhAQaTrARAK73bYbj/BEAgUsICTiUFQPAw7Zv7awVARpp4B3iSBUBOmDCalU0FQGx8JvvnOQVAdqbQeY0NBUAoL426MZgEQAfbPpqgPARA5D0YwnsIBED6Orpbo28DQDSGOUGbzAFAMPMd/MSBAUBj8ZvCShUBQI68YvzqAAFA845TdCQXAUByCAvd2zMBQErbroZ6UAFAbQuFvqpZAUDOlmL9VbYBQGLePgaGBwJAP2E/enkQAkB+jSRBuFICQE7VPbK5qgNAaBcd2hGIBEAkiKnj57UEQP/Xb9wYEQVAUvr4Ol/yBUCY43BBEYYGQN7140BZQgdA7fSDukiBB0DWLOEa6eYHQM7ixcIQ+QdAngDUHkDgCECfhU4ZScwHQH7FGi5yDwZAe2ZJgJr6BUCXviGeNmQGQLPxu0RQUARALekoB7NpBEDV5qSc1PwEQILknUMZ6gRATU+zm3RGBUDiWu1hL1QFQDRuxVlsngVAqP+s+fH3BUCElOnhFTIGQH6IslzboAZAUrgeheuBB0D1r/bBQzIIQFFvoYbK2ghA5nuh26ZDCUA+PiE7b2MJQK6gxEIIYwlAa6XGOgvhCEC214LeG1MJQO1FtB1TxwlAkCfuHdpsCUB35tSEo0oJQBquaTkrXQlAou9uZYkOCUDNzTeieyYIQF6jQPqBNgdAa0Wb49z2B0Ce97Xkp1cIQJfTVAVZxQhA28zXG2slCUCloUYhybwJQB/QPvs2SQpAb96T4j6tCkB/UHLiBtcKQPoA7sOLPwtAEqJ8QQtpC0B4kVOFUI8LQIp6HGGsagtAEluLYC24C0CRcBBjiMILQO0QtSOLKgxAbfB0nfw8DECEbXoGw48MQHxa6sX1xAxATjgFQ2fTDEBZhjjWxc0MQCWIBJ1a1wxAC2DKwAGNC0D4ZA/+j90JQJ1dYzzvqwhAeI4SBUQCB0Dv5NNjWxYGQBx5ILJIEwVAnbLkO0IHBEBUHjjC/ZsDQIxeV900xwNAdopVgzAXBECdEDroEo4EQPDOkOD8vARAgSTs20mUBUDlHyLaM9AFQBKlvcEXNgZAWhU84BWcBkB3AeWlUQcHQHmhynp7YQdAt32P+uuVBkAk7UYf88EHQOosaXuqOQhAJemayTebCECwrgrUYrAIQEIyLmaVswhACI82jljrCECCUe7jDWUJQHSWWYRiSwpARjU2hd9XC0D75ThcUGQMQMazFUVZuQtAKg3rfC4ZDUCeHRWkvsEMQDKfvUQGUw1A",
          "dtype": "f8"
         },
         "yaxis": "y"
        },
        {
         "hovertemplate": "Region=Russia<br>Gas=Lachgas (N₂O)<br>Jahr=%{x}<br>Emissionen pro Kopf (Tonnen CO₂e)=%{y}<extra></extra>",
         "legendgroup": "Russia, Lachgas (N₂O)",
         "line": {
          "color": "#FFA15A",
          "dash": "dot"
         },
         "marker": {
          "symbol": "circle"
         },
         "mode": "lines",
         "name": "Russia, Lachgas (N₂O)",
         "showlegend": true,
         "type": "scattergl",
         "x": {
          "bdata": "Ogc/B0IHQwdEB0UHRgdHB0gHSQdKB0sHTAdNB04HTwdQB1EHUgdTB1QHVQdWB1cHWAdZB1oHWwdcB10HXgdfB2AHYQdiB2MHZAdlB2YHZwdoB2kHagdrB2wHbQduB28HcAdxB3IHcwd0B3UHdgd3B3gHeQd6B3sHfAd9B34HfweAB4EHggeDB4QHhQeGB4cHiAeJB4oHiweMB40HjgePB5AHkQeSB5MHlAeVB5YHlweYB5kHmgebB5wHnQeeB58HoAehB6IHowekB6UHpgenB6gHqQeqB6sHrAetB64HrwewB7EHsgezB7QHtQe2B7cHuAe5B7oHuwe8B70Hvge/B8AHwQfCB8MHxAfFB8YHxwfIB8kHygfLB8wHzQfOB88H0AfRB9IH0wfUB9UH1gfXB9gH2QfaB9sH3AfdB94H3wfgB+EH4gfjB+QH5QfmB+cH",
          "dtype": "i2"
         },
         "xaxis": "x",
         "y": {
          "bdata": "dUJkaKcszz83Y6CE/CDQPyOFsvD1NdA/nk39chwu0D9IMqt3uB3QP+5ytiUXCNA/eOXEaGfizz/edOwc2rLPPylYTgg+gs8/v6xYFURRzz8YDbZklyDPPzBPITbc8M4/USWxQbLCzj9ed0adsZbOP5KA6oJubc4/v0nToGiezj/XWi3qck7PPzKfYouTMdA/sxqeoEXd0D/iYIj/6JnRPzjKsECqV9I/SPyrQ0UH0z8LRiV1AprTPw+IxsmzAdQ/IuE5Y7Ew1D97QVWWMjrUP3XwAtt3O9Q/1BnO6z421D/xoSM9NSzUP9+ToCL7HtQ/y/FMYCEQ1D8UqXpDKwHUP6XitQGO89M/Cn00xbHo0z9B05ZjRx3UP5Lp0Ol5N9Q/Mnjzr0BP1D90DvnCv2PUP19f61IjdNQ/zLJpnZ9/1D9n5ajtcIXUP4p62kTahNQ/dQGSXSd91D9Pkmx9qm3UP0BF3SC9VdQ/PMInpbk41D/QOWhEoxrUP/iWByPV+9M/k1N936bc0z8hmeUdbb3TP6rPep15ntM/vZry1xqA0z+1OJ1DnWLTP/jkvFpJRtM/H0CO/2Ur0z8RrAVRUjvTP0JkqsN+jdM/qXChflkS1D/Z4kMe+7jUP7x7HcQQcdU/c7qwXtoq1j+Zu3WCJtfWPwMWTD5uZtc/FQPifW7L1z8T4Oy9lfjXP7GjcajfBdg/IPaduk0T2D+ifpN9wh/YP3nktEwrKtg/WZAcn38x2D9cOHO8wDTYP/ff77z5Mtg/8mCL3T4r2D9r5W+MrhzYP1wpuuRuBtg/D3YvnBDf1z/uKZTgaKLXP327up1cV9c/o4DE4ZIE1z8d8/BUdrDWP2e8Kbw2YdY/ddk75ckc1j+ZpmMp7ejVPy0JzBony9U/yVfhGsjI1T8hMe7EtAjWP3pgMhuFoNY/w6ic3fd71z+0t4yCfYfYP3PYGp01sNk//z1X3+nj2j8xA99+ChHcP82hPUWrJt0/E66yfH4U3j+Kzo1Ew33eP6bUZ//qDt8/CcyeX+/Z3z9DpI3Aq2fgPxvTuNwF7+A/ei742W184T+M3NPVHQviP5J4eTpXlOI/ZRwj2SMU4z+at6gego3jP+eVoeAY+OM/47FVODjH5D9UcHhBRKrlPwXScl5rSOY/d1rIbUWs5j/SxDvAk1bnP34p8tpbwOg/Vvq/2Zx56T9MgRZcvRTqP/0eq0oRT+o/t9NzXqXz6T/qTVZW5OHqPxBdUN8yp+s/50w9f5gM7T85LuOmBtrtP/Gk4ISdfe4//4LVPyW67j9JGpJJ/MDuP9gxKoCUPu8/YLiM/kTj7j9/+PnvwSvvP3EfuTXptu4/P3to/hzv7j/QIbqx6j3vP0cf8wGBDu8/usEG+voQ7z9XGkLfJ9juPwpbFsBSpe4/+X5RH9TH7T9/+FSpNH3sP2L+wAsRpuo/4lmCjIBK6D8bSxb/kGHnPxvGk5M/TuU/ElToF4Bh4j85Bgn2BG7hP42+3e3VouA/cscwYROd3j8H6hiA203cP9bWHcUYXNw/wDfy5aqe3T/zDTtCvGTePwtlwN2Cut4/VJvuK8VE3z9vpTIg1rbdP/wr8aHAEt4/w5jbWrJs3j9G0uq7jRPfPxesgmJ1deA/YfXsXpM64D/BkHKD4+rfPxLKkJ2Ww+A/EvZxXcZn4D8JKvQLwFDgP7HojN5f8+A/bIPJQ5XQ4D9i7Tn6qfvgP9zhIyAuEuE/0K+UAl5o4T/QVm8emM3hP72tsr6a5uE/lH5nIDt04j8QH/n/SGPiP/PY4I6BxuI/",
          "dtype": "f8"
         },
         "yaxis": "y"
        },
        {
         "hovertemplate": "Region=South America<br>Gas=Methan (CH₄)<br>Jahr=%{x}<br>Emissionen pro Kopf (Tonnen CO₂e)=%{y}<extra></extra>",
         "legendgroup": "South America, Methan (CH₄)",
         "line": {
          "color": "#19d3f3",
          "dash": "solid"
         },
         "marker": {
          "symbol": "circle"
         },
         "mode": "lines",
         "name": "South America, Methan (CH₄)",
         "showlegend": true,
         "type": "scattergl",
         "x": {
          "bdata": "Ogc7BzwHPQc+Bz8HQAdBB0IHQwdEB0UHRgdHB0gHSQdKB0sHTAdNB04HTwdQB1EHUgdTB1QHVQdWB1cHWAdZB1oHWwdcB10HXgdfB2AHYQdiB2MHZAdlB2YHZwdoB2kHagdrB2wHbQduB28HcAdxB3IHcwd0B3UHdgd3B3gHeQd6B3sHfAd9B34HfweAB4EHggeDB4QHhQeGB4cHiAeJB4oHiweMB40HjgePB5AHkQeSB5MHlAeVB5YHlweYB5kHmgebB5wHnQeeB58HoAehB6IHowekB6UHpgenB6gHqQeqB6sHrAetB64HrwewB7EHsgezB7QHtQe2B7cHuAe5B7oHuwe8B70Hvge/B8AHwQfCB8MHxAfFB8YHxwfIB8kHygfLB8wHzQfOB88H0AfRB9IH0wfUB9UH1gfXB9gH2QfaB9sH3AfdB94H3wfgB+EH4gfjB+QH5QfmB+cH",
          "dtype": "i2"
         },
         "xaxis": "x",
         "y": {
          "bdata": "m6bPDrgu7j+MyCThSg/uP9aqwD2NQ+4/p/dDIiN27j/zOuKQDaTuP9jc0f9yze4/iv5mFFL/9T/po6Dj1cf0PyV/cuJCZfY/+UOQspaN+D/Ey5Yj7t32P74UBYAi8Pg/KsMEq5BL+D9wSYhaapH6P3AWjpUOBfg/cVKb+q2W+T/s4dQ4jVH6P0CSjYz4ivc/RUceAKjG+j++f2vv5jL6P4dQaeH9b/k/9jyLk4bC+T//gfW1PJv3Px2XofGzvPY/JrVgo6iv9j8RVye2Hdr1P6VQY+VrUfU/hVHIEzsu9j8Jv0AxRFH2P6VKqyoq/fU/qLASku5x9T+6PvBURGP2PyYPdGvV1PU/uc9mwZyx9z+PQHoQHb74P6GM6wmVW/k/GzUk090t+T/q/LFtf3n7PwIo/tE8Pvk/OHda4zD4/D8OTP2Ug1b6P48FEo5ALfg/gn6KFhyK+j9eXoCScFD6P1s0FHaiG/k/Wpp/x5DB+j+rbGU8iDH6P9vgkTJA6Po/TJSCAlP2+j/ppIDkZmb7P3TsRScMP/s/KyO6VeGI/D8BIuzfKtD+P8iMRlz0zf4/9t0nz8RW/z+rDSGi8ar+PzhLLb8l+wBA3lNY09re/j8NRApGtyIAQOcY3+tWlf8/SDaS2zGfAEDmAvfILLcAQP0CA98rggBAZq8irCGwAECiI1cStdQAQHiayrqWwABAubNcefHM/j9xOIwFhqT8Pxy0/QiPgvw//4SBC/mj/z/81/9mKS8BQKU4abnh3f8/SE7czfMFAkDqf66e9lICQDJ6RYe/egJA6lrmZQB0AkC+T2mh2qsCQB31LmzaIANAmcqlsYU6A0Bx0JO7tw0DQC1tc2BoJwJAJsRoEJKYAkAHSEC6pScFQNf+6T6BtwNA0MvGR5bQBEBBIx81or0EQO7Ow5fmWQNAJyLn/ECEBUC13jfntyoEQEMugv5H9gRAbd3ahBB6BkBrKygWUrYHQBE3Nh1f8AVAySxwIsxjBUCxEjkz3joHQDItVjZ3YwdArKn3GjwDCECeISc89okIQNBLcqkAfQpAFpT6z5aCC0BGFYzuV1cLQOAVWUfU6AxA8PsZJeW6DEDibmXmugQMQGwqzJZPwgtAEaKQswfNDEDWkyAKJysNQLoDArMj7A1A8kzYDVs4CkDChQ8vdIYMQHKSX3fzJwpA+JMslfI1CUB5C0ft/YEIQPfHWeL5OghA593nA30HCECnlSpEspMIQPziLV1IjwdA+YXDr8SwB0DDLaoagqcGQDYOCTGe3wVASS6rS9qhBUDmyqVuNDoFQLdeaVO6SwVAfY2PjYYvBUA6NdO/GS4FQIvXgNyq2ARARQrtfw0jBUCeFxzo5hoFQCA7c9RbzQRAyF84mTcLBUAQLd801FEFQPVE8aR89QRA0IBNUky8BEC+t96OaWcEQAwpn2pHaARA2I+jR5IfBED8sHe7HicEQAhUrtJDGARAoqvyuKUjBEDl7Rmv0xIEQMFI/eAt+QNAYOhXS9MRBEACRORPwgEEQJGnv05FtQNAgdyxKZ7eA0Dsk9RsdDIEQOIHbo470QNA65Hrv8TgA0D4b75do9wDQGpWVXFT1gNA7GOxRkjdA0C9oit85OYDQH9WhNPkBgRArRpiz4JWBECEwmXpOr0EQDAVGRuJhgRAT6k5ylhxBEDhl7PtBgwEQEa0qPXrDQRAb2zGuKtxA0B/xeGtfjMDQIMHdopxJgNAmlpIJVZPA0BCsPtKnToDQIlay/GF+wJAEjbolyyeAkB+Wmx10GACQDT9/63APQJA6uv42GP0AUA2gY1YdK4BQM4OOiC4qAFAOJPPfVvEAUCi5GflfbsBQNx8GngfdQFA",
          "dtype": "f8"
         },
         "yaxis": "y"
        },
        {
         "hovertemplate": "Region=South America<br>Gas=Lachgas (N₂O)<br>Jahr=%{x}<br>Emissionen pro Kopf (Tonnen CO₂e)=%{y}<extra></extra>",
         "legendgroup": "South America, Lachgas (N₂O)",
         "line": {
          "color": "#19d3f3",
          "dash": "dot"
         },
         "marker": {
          "symbol": "circle"
         },
         "mode": "lines",
         "name": "South America, Lachgas (N₂O)",
         "showlegend": true,
         "type": "scattergl",
         "x": {
          "bdata": "Ogc7BzwHPQc+Bz8HQAdBB0IHQwdEB0UHRgdHB0gHSQdKB0sHTAdNB04HTwdQB1EHUgdTB1QHVQdWB1cHWAdZB1oHWwdcB10HXgdfB2AHYQdiB2MHZAdlB2YHZwdoB2kHagdrB2wHbQduB28HcAdxB3IHcwd0B3UHdgd3B3gHeQd6B3sHfAd9B34HfweAB4EHggeDB4QHhQeGB4cHiAeJB4oHiweMB40HjgePB5AHkQeSB5MHlAeVB5YHlweYB5kHmgebB5wHnQeeB58HoAehB6IHowekB6UHpgenB6gHqQeqB6sHrAetB64HrwewB7EHsgezB7QHtQe2B7cHuAe5B7oHuwe8B70Hvge/B8AHwQfCB8MHxAfFB8YHxwfIB8kHygfLB8wHzQfOB88H0AfRB9IH0wfUB9UH1gfXB9gH2QfaB9sH3AfdB94H3wfgB+EH4gfjB+QH5QfmB+cH",
          "dtype": "i2"
         },
         "xaxis": "x",
         "y": {
          "bdata": "OitYmd8fuT+RRZW/TQ+5P++/fE84/bg/FfoFYKjouD/LNiHBFc+4PwKynRC2r7g/2p9Ddtalvj/oFkN397u9P8uvimmLE8A/88JpwPIjwT8/Ksc1QbK/PyoY3hL2l8A/T1+yYC2Svz+BWuXwZjDBP71DqEWMlb4/x2FCYhsGwD9PrEI6J1TAPyDiCx1cQb4/jEAASrw/wD+tp4NkMDTAP97PdmtCQ74/fj4dC+XqvT/sG6X00Z27P0V7rKIksrs/04mHZlg3vT+cm7T3Nsy8PwC9fAzqML0/y3yeMajqvj//tK78IHy/P1xOVyWuZL8/COWFKpZgvz/RvORrKjjAPzitxnUpML8/9bDDRZqmwD/HwdIqxv3AP16ubvr8WsE/rjEQxmkiwT+PbQg7hDzCPy7xPNqib8A/NK61NL44wz8VFFT1MQ3FP2ZaQvFBXMM/AbpTbcczxT+Hq6+KjU7FP+Rr/tOOzsQ/n127MDXuxT9udsX0F/LFP2BYalCYAMc/1+DlHI9Qxz9hl+Qb6V/IP1a0thZ+U8g/upf9Tdd7yT/PRjAMoW3MP2B5nCOyCc4/hdxyhDqD0D97t5BMOiXRP9767UUr1dM/Bz1a1DS50j89iztQt+LTP5BJZZ5K59M/mtC5ckrz1D/OXXSphcPUP/1B10goINQ/14pMNdtF1D+JcoS1BXnUP2ReensLxdM/cQ7rci+U0T85pzQUigzQP5HraaSKkM8/3BRK5ytb0T97shic9QTTP8t/Wlp3O9E/YJVkNh680j9xDt0ifHLSP1XthbAv89E/TjG7OO8j0T94az/Lf6bQPxyRBXZPqtA/pu0XSorizz9tjul0HJvOP0jqLyCSmM4/z3TV6OSGzz8vvy5M5OnPPzSvXTjSi84/EO8kER/uzj9KOdaoWc7OP5eVt+AcC88/tfx4TFZwzz87zNyKCKvPP3jOkDQUXtA/L/riMl5r0D9QwahlSeDQPwsKKSaRudE/vviJXYF50z84633IiX3VP+uRp0+ewdc/1Y7FVg/Y2T/f1Csy9MLbP0eixxoT490/F66AHTKm3j/NnO6AXz7gP4L400BufeA/473F5Q+/4D+xBl1SozbhP61S3tkxvuE/SH3I/EBK4j/OIG1bDQHjPx1jrtUPq+M/ZEcQ1Pjp4z95iBMa9z3kP6w61130JeQ/ou556VJ65D9fceeA3B3kP+ZjPeRLoOM//elIkUTB4z9mgbAEdNzjPxjq7ZeU2+M/2iG8Ji3R4z9mlgdAy67jP2pPDkmyreM/AHbbiocg5D+f3/uLInPjP8zrWPs/EuQ/9ZQILDSV4z/9l3vu8izkPyyhLjynjOQ/tZt1K29U5T9UNOHwX83kP+9MMx8Vw+Q/7lG4ZfXU5D83sNwqU8DkP0OdwhqP0eM/D6L1HpMO5D+UVFJlWMPjP3AYy/SZfuM/so2U/E064z+qvTmLMsnjP0hVSlQ9TOQ/veYnLzYA5D9yHgkg0hnjPyS6XmW7weI/3m7k+ED44j/FtTEaGuviP3u8sHTgw+I/9PEl0XHi4j+py0pQHuniP8oN5jOFkeI/1RN+Uvea4j8nOJoc2A7jP2A0MPeK9eI/2No8LHPo4j9zD2wpIkDjP2oekJYn7+I/K6Qdsst84z/bkKTmxiTkP7F18uZb0+M/60DnMBGm4z/0E30F+FnkPw3kX7naWeQ/6p6qZEIr4z9shxZDbn/jPxB0q5gnPeM/lF11qLOA4z9mNbA5XkLjPz3bfuTUV+M/ebUc8F7J4j+U406q+6biP3FqFq6K+eI/FxtBwuuh4j8A6xphv+/iPyanauXwpuM/Jm36R+MP5D/BDV18pf7jPypCwtHIAuQ/",
          "dtype": "f8"
         },
         "yaxis": "y"
        },
        {
         "hovertemplate": "Region=Africa<br>Gas=Methan (CH₄)<br>Jahr=%{x}<br>Emissionen pro Kopf (Tonnen CO₂e)=%{y}<extra></extra>",
         "legendgroup": "Africa, Methan (CH₄)",
         "line": {
          "color": "#FF6692",
          "dash": "solid"
         },
         "marker": {
          "symbol": "circle"
         },
         "mode": "lines",
         "name": "Africa, Methan (CH₄)",
         "showlegend": true,
         "type": "scattergl",
         "x": {
          "bdata": "XAddB14HXwdgB2EHYgdjB2QHZQdmB2cHaAdpB2oHawdsB20HbgdvB3AHcQdyB3MHdAd1B3YHdwd4B3kHegd7B3wHfQd+B38HgAeBB4IHgweEB4UHhgeHB4gHiQeKB4sHjAeNB44HjweQB5EHkgeTB5QHlQeWB5cHmAeZB5oHmwecB50HngefB6AHoQeiB6MHpAelB6YHpweoB6kHqgerB6wHrQeuB68HsAexB7IHswe0B7UHtge3B7gHuQe6B7sHvAe9B74HvwfAB8EHwgfDB8QHxQfGB8cHyAfJB8oHywfMB80HzgfPB9AH0QfSB9MH1AfVB9YH1wfYB9kH2gfbB9wH3QfeB98H4AfhB+IH4wfkB+UH5gfnBw==",
          "dtype": "i2"
         },
         "xaxis": "x",
         "y": {
          "bdata": "a6gHuxfO5D8nP5jKkQTlP8ffD6IpOeU/uqKUEKxq5T/2tjbgNaDlP4Q7xP1P1+U/75Y/OtAe5j9teqsJ/afmP4QkWMEUSuc/OxleQYGU6D+wRDVfBHHpP2e6dB/CcOo/0f2cgvxs6z8We1g9minsPySn4SGtTe0/ixI+pZRh7T8r9OJAH/frP0XaIVkbPu0/t0zhnGye7j9VqstAivzvP132fRB3X/A/WnedTRHQ8D9RrMjwQEPxP/1UnF7lovE/+qW9NRfP8T+X0f6nt1TyPysuWC6K2PI/3qd9fza78j8Snd1QuPDyP7c4/1HgT/M/USGCnRYb8z/OOMtLNzHzP1MmWCbwrPM/CWd8M+Ny8z8NkkjoVp3yPzRnbys06PI/qvlVEgIs8z85gxsKkOfyP3cwJU2kl/I/spADYPIH8z+HtXFuAv/yP2Wz5JzpC/M/e8NsThfV8j9LxH45iW7yP7tjsk1STvI/wYjCkv5m8j+vIK5l9dXxP0NNlDzHWvE/HxhU8Vhi8T+B4O+638nxP+ROZJyeLvI/tLvDlDGg8j/50aJhWSTzP/iyaO4fLPM/4NRDq7l78z8gC+TrDZzzP3GejcMWofM/8lay4U/a8z/CNSmSaEj0P5mt2BAWZvQ/ZqffW+Py9D9bccB8KYX1P9AOZ34RZ/U/DzCM3mWQ9T+IOk438mr1P50phOYfxPU/nMk6J9W39D8x0Zyk6Wr1Pyk7ZaBxiPU/TVPkzZN09T9Lo1FKJ9b1PweFFFPRt/Y/M2YkZv9O9z8e47t3lnj3P3PSQEnG//c/li+fAUXy9z8P19HG9zH4P4yYINZkvfg/u06UW9Km+D9wgt3000v4PxO243g4qfg/p7e6VOoM+T+9in2a3pf4P4KGel1C2/o/nVkHAeY++z/vmEd2x7b7PzQNeQpxyfs/eVL/DujU+T99kzufgHn5P9lE4LRxTPo/9tW/Y483+T/35G0Zror4P81Ne+rLmPk/wHEx/Ubd+T/MTrCkqVr6P00tHTRpAPs/Jiehk8fo+j+33OKUmVT5P2wq511IVfk/uomrbecw+T/BmQHQqKT5P0XAeI0Cs/k/GoFqH8Hu+D+x9A8qbc34PzQd+q6WWfg/hKrCov5u+D97a91SIHf4Pzl0ZQTW5/g/YxBYyy/89z/ulfe0XHH3P/e14sgmjfg//svduWny+D8aHRp2J3r5PyRnD6Cr/Pg/CtwNjRon+D9YGO6phOH3P9cr1ZjMvPc/ahtRlcKR9z9zTWQsnfT2P9K8JTXPfPc/Wfoe8A9n9z8er8dqOqf3P2wyzaVrKvc/XG93Z32s9j8wLH0B3QL3P03qcVkNSfY/CkwCVfHs9T9MX3nDGmH1PxGxk8N5sfU/Yij/yjrn9D9HVPQYLnH0P45lqd6puvM/T8PjvARK8z9ThkxDq1nzP6mE1oWYRPM/EWWjhOwQ8z/KRShGcufxP5etcBd64vE/cep57j2D8T9fHZTZ9BbxPw==",
          "dtype": "f8"
         },
         "yaxis": "y"
        },
        {
         "hovertemplate": "Region=Africa<br>Gas=Lachgas (N₂O)<br>Jahr=%{x}<br>Emissionen pro Kopf (Tonnen CO₂e)=%{y}<extra></extra>",
         "legendgroup": "Africa, Lachgas (N₂O)",
         "line": {
          "color": "#FF6692",
          "dash": "dot"
         },
         "marker": {
          "symbol": "circle"
         },
         "mode": "lines",
         "name": "Africa, Lachgas (N₂O)",
         "showlegend": true,
         "type": "scattergl",
         "x": {
          "bdata": "XAddB14HXwdgB2EHYgdjB2QHZQdmB2cHaAdpB2oHawdsB20HbgdvB3AHcQdyB3MHdAd1B3YHdwd4B3kHegd7B3wHfQd+B38HgAeBB4IHgweEB4UHhgeHB4gHiQeKB4sHjAeNB44HjweQB5EHkgeTB5QHlQeWB5cHmAeZB5oHmwecB50HngefB6AHoQeiB6MHpAelB6YHpweoB6kHqgerB6wHrQeuB68HsAexB7IHswe0B7UHtge3B7gHuQe6B7sHvAe9B74HvwfAB8EHwgfDB8QHxQfGB8cHyAfJB8oHywfMB80HzgfPB9AH0QfSB9MH1AfVB9YH1wfYB9kH2gfbB9wH3QfeB98H4AfhB+IH4wfkB+UH5gfnBw==",
          "dtype": "i2"
         },
         "xaxis": "x",
         "y": {
          "bdata": "OML928C43j8Ampw105jeP5uK+V7odt4/5qpYgN9U3j9L0LqhhDTeP3svvmiPF94/TWiSWFLu3j/FCWVEFufeP7RKfv5a4t4/Nqvjnejf3j+1BHS6h9/eP13OtuQC4d4/OZEF8Sbk3j/wBX8iw+jeP4a15+in7t4/SKXgQoHr3j/FEM7hOd/eP8szikBQyd4/GCAsvvyp3j8UOmEdHlnePzEFu7UzL94/bfBzPrD53T83nrXJC97dP3wtsSHPwt0/NT9xPnSW3T/FvPALjI3dP0Nvf4qQiN0/XOUuZg903T+vMvpyrwbdP0hhLddpA94/Fy2fqfgV3D+qnCr1rn7eP5GiY8KuRt4/vXoA5b6a3D/e2RKH89nZPwcqt8DlrNs/ZSq0WWYi3T9mGWwal5zcP3iewboymd0/lbaxhmWD3j8Cabl/lJfeP/dTk0AlhN4/kAn6K7083j+i6wYmkbPdP6IwKpfnn9w/S3IZ7QCU3D+U7kqMdHrbP2ViR9JUZdo/1IyVBxId2j/4YnUxKGraP+RKuveNeto/y52yvryy2j+Vu80vrMPaP9jh+Vio2Nk/wi3erd9c2T91wD6/klrXP+8T2ULrNtY/beDK1bGT1j+lbii+sP/ZPz2/2rtzn94/Ls0XGsgx4j/j/fdwz2XlP5hRNjWE2+c/0sffr5s46j8SXaeBJ6LqP/QvHu+vKes/YUkO6ImG5j8T1AZTc2/mPy4pAwz45uU/E3nRXJKb5D+ceRF3SEjjP4t0UNfArOI/P8zMDHiT4T8kznxvTcjfPxlnExwKst0/imPotPZA3D9Y7oRXH37aPzeBiUm9Cd0/kuYfTYD93D+bNWwLperbP8wjSteqRts/EddRC3u92j+/16paym3ZP4yjf13igto/2w9dbfMU2z8hWDwv9GnaPyKGd/uHcdk/kpXTZWSs1z/eCMTBHq7WP4wH5Wg+6NU/UV4cXYfE1D91rBqWCUbWP4LVF9itjNU/enR4yODL1T9P+0EJa43UP2/BjCHYQNU/HnndRsNL1T+NTbiJ0CXVPyw5OMXoKtY/CHvjnVBS1T/xm85e0FjUP8nH9+ro1NM/E+5nhbuI0z/h/qHFfZPTP/jmmLCf1dI/g2CEDoI/0z8YZfIWwKHTP40+j1T6X9M/DrDYhOd50z+rJRAE4GbTPydDN2dsSNI/pP7zoZ4D0j+zOxcorGjSP+w14vKkLtI/yTmPAEmn0j8LE6gS+qHSPzJ6pmqbK9I/208D9jrQ0T+NfIJ7vuLRP/+nxVImCtI/UfToFsac0j/xV1sWgf/RPzOIQT15wdE/XDm/gHxJ0j8h/i6GU/vRP2DdXmug8NE/zYf17O7e0T9BRmSyhrbRP57GeLGRs9E/i3bZoiZJ0T9umXMUzhDRP4ouacc0sdA/BmY+elF30D/YTmU+1KHQPxBiKhNUTtA/6GviHUOizz9IUQJE/KzOP6AnepiipM4/dQrF+mozzj/uZ9TbabrNPw==",
          "dtype": "f8"
         },
         "yaxis": "y"
        }
       ],
       "layout": {
        "legend": {
         "title": {
          "text": "Region, Gas"
         },
         "tracegroupgap": 0
        },
        "template": {
         "data": {
          "bar": [
           {
            "error_x": {
             "color": "#2a3f5f"
            },
            "error_y": {
             "color": "#2a3f5f"
            },
            "marker": {
             "line": {
              "color": "white",
              "width": 0.5
             },
             "pattern": {
              "fillmode": "overlay",
              "size": 10,
              "solidity": 0.2
             }
            },
            "type": "bar"
           }
          ],
          "barpolar": [
           {
            "marker": {
             "line": {
              "color": "white",
              "width": 0.5
             },
             "pattern": {
              "fillmode": "overlay",
              "size": 10,
              "solidity": 0.2
             }
            },
            "type": "barpolar"
           }
          ],
          "carpet": [
           {
            "aaxis": {
             "endlinecolor": "#2a3f5f",
             "gridcolor": "#C8D4E3",
             "linecolor": "#C8D4E3",
             "minorgridcolor": "#C8D4E3",
             "startlinecolor": "#2a3f5f"
            },
            "baxis": {
             "endlinecolor": "#2a3f5f",
             "gridcolor": "#C8D4E3",
             "linecolor": "#C8D4E3",
             "minorgridcolor": "#C8D4E3",
             "startlinecolor": "#2a3f5f"
            },
            "type": "carpet"
           }
          ],
          "choropleth": [
           {
            "colorbar": {
             "outlinewidth": 0,
             "ticks": ""
            },
            "type": "choropleth"
           }
          ],
          "contour": [
           {
            "colorbar": {
             "outlinewidth": 0,
             "ticks": ""
            },
            "colorscale": [
             [
              0,
              "#0d0887"
             ],
             [
              0.1111111111111111,
              "#46039f"
             ],
             [
              0.2222222222222222,
              "#7201a8"
             ],
             [
              0.3333333333333333,
              "#9c179e"
             ],
             [
              0.4444444444444444,
              "#bd3786"
             ],
             [
              0.5555555555555556,
              "#d8576b"
             ],
             [
              0.6666666666666666,
              "#ed7953"
             ],
             [
              0.7777777777777778,
              "#fb9f3a"
             ],
             [
              0.8888888888888888,
              "#fdca26"
             ],
             [
              1,
              "#f0f921"
             ]
            ],
            "type": "contour"
           }
          ],
          "contourcarpet": [
           {
            "colorbar": {
             "outlinewidth": 0,
             "ticks": ""
            },
            "type": "contourcarpet"
           }
          ],
          "heatmap": [
           {
            "colorbar": {
             "outlinewidth": 0,
             "ticks": ""
            },
            "colorscale": [
             [
              0,
              "#0d0887"
             ],
             [
              0.1111111111111111,
              "#46039f"
             ],
             [
              0.2222222222222222,
              "#7201a8"
             ],
             [
              0.3333333333333333,
              "#9c179e"
             ],
             [
              0.4444444444444444,
              "#bd3786"
             ],
             [
              0.5555555555555556,
              "#d8576b"
             ],
             [
              0.6666666666666666,
              "#ed7953"
             ],
             [
              0.7777777777777778,
              "#fb9f3a"
             ],
             [
              0.8888888888888888,
              "#fdca26"
             ],
             [
              1,
              "#f0f921"
             ]
            ],
            "type": "heatmap"
           }
          ],
          "histogram": [
           {
            "marker": {
             "pattern": {
              "fillmode": "overlay",
              "size": 10,
              "solidity": 0.2
             }
            },
            "type": "histogram"
           }
          ],
          "histogram2d": [
           {
            "colorbar": {
             "outlinewidth": 0,
             "ticks": ""
            },
            "colorscale": [
             [
              0,
              "#0d0887"
             ],
             [
              0.1111111111111111,
              "#46039f"
             ],
             [
              0.2222222222222222,
              "#7201a8"
             ],
             [
              0.3333333333333333,
              "#9c179e"
             ],
             [
              0.4444444444444444,
              "#bd3786"
             ],
             [
              0.5555555555555556,
              "#d8576b"
             ],
             [
              0.6666666666666666,
              "#ed7953"
             ],
             [
              0.7777777777777778,
              "#fb9f3a"
             ],
             [
              0.8888888888888888,
              "#fdca26"
             ],
             [
              1,
              "#f0f921"
             ]
            ],
            "type": "histogram2d"
           }
          ],
          "histogram2dcontour": [
           {
            "colorbar": {
             "outlinewidth": 0,
             "ticks": ""
            },
            "colorscale": [
             [
              0,
              "#0d0887"
             ],
             [
              0.1111111111111111,
              "#46039f"
             ],
             [
              0.2222222222222222,
              "#7201a8"
             ],
             [
              0.3333333333333333,
              "#9c179e"
             ],
             [
              0.4444444444444444,
              "#bd3786"
             ],
             [
              0.5555555555555556,
              "#d8576b"
             ],
             [
              0.6666666666666666,
              "#ed7953"
             ],
             [
              0.7777777777777778,
              "#fb9f3a"
             ],
             [
              0.8888888888888888,
              "#fdca26"
             ],
             [
              1,
              "#f0f921"
             ]
            ],
            "type": "histogram2dcontour"
           }
          ],
          "mesh3d": [
           {
            "colorbar": {
             "outlinewidth": 0,
             "ticks": ""
            },
            "type": "mesh3d"
           }
          ],
          "parcoords": [
           {
            "line": {
             "colorbar": {
              "outlinewidth": 0,
              "ticks": ""
             }
            },
            "type": "parcoords"
           }
          ],
          "pie": [
           {
            "automargin": true,
            "type": "pie"
           }
          ],
          "scatter": [
           {
            "fillpattern": {
             "fillmode": "overlay",
             "size": 10,
             "solidity": 0.2
            },
            "type": "scatter"
           }
          ],
          "scatter3d": [
           {
            "line": {
             "colorbar": {
              "outlinewidth": 0,
              "ticks": ""
             }
            },
            "marker": {
             "colorbar": {
              "outlinewidth": 0,
              "ticks": ""
             }
            },
            "type": "scatter3d"
           }
          ],
          "scattercarpet": [
           {
            "marker": {
             "colorbar": {
              "outlinewidth": 0,
              "ticks": ""
             }
            },
            "type": "scattercarpet"
           }
          ],
          "scattergeo": [
           {
            "marker": {
             "colorbar": {
              "outlinewidth": 0,
              "ticks": ""
             }
            },
            "type": "scattergeo"
           }
          ],
          "scattergl": [
           {
            "marker": {
             "colorbar": {
              "outlinewidth": 0,
              "ticks": ""
             }
            },
            "type": "scattergl"
           }
          ],
          "scattermap": [
           {
            "marker": {
             "colorbar": {
              "outlinewidth": 0,
              "ticks": ""
             }
            },
            "type": "scattermap"
           }
          ],
          "scattermapbox": [
           {
            "marker": {
             "colorbar": {
              "outlinewidth": 0,
              "ticks": ""
             }
            },
            "type": "scattermapbox"
           }
          ],
          "scatterpolar": [
           {
            "marker": {
             "colorbar": {
              "outlinewidth": 0,
              "ticks": ""
             }
            },
            "type": "scatterpolar"
           }
          ],
          "scatterpolargl": [
           {
            "marker": {
             "colorbar": {
              "outlinewidth": 0,
              "ticks": ""
             }
            },
            "type": "scatterpolargl"
           }
          ],
          "scatterternary": [
           {
            "marker": {
             "colorbar": {
              "outlinewidth": 0,
              "ticks": ""
             }
            },
            "type": "scatterternary"
           }
          ],
          "surface": [
           {
            "colorbar": {
             "outlinewidth": 0,
             "ticks": ""
            },
            "colorscale": [
             [
              0,
              "#0d0887"
             ],
             [
              0.1111111111111111,
              "#46039f"
             ],
             [
              0.2222222222222222,
              "#7201a8"
             ],
             [
              0.3333333333333333,
              "#9c179e"
             ],
             [
              0.4444444444444444,
              "#bd3786"
             ],
             [
              0.5555555555555556,
              "#d8576b"
             ],
             [
              0.6666666666666666,
              "#ed7953"
             ],
             [
              0.7777777777777778,
              "#fb9f3a"
             ],
             [
              0.8888888888888888,
              "#fdca26"
             ],
             [
              1,
              "#f0f921"
             ]
            ],
            "type": "surface"
           }
          ],
          "table": [
           {
            "cells": {
             "fill": {
              "color": "#EBF0F8"
             },
             "line": {
              "color": "white"
             }
            },
            "header": {
             "fill": {
              "color": "#C8D4E3"
             },
             "line": {
              "color": "white"
             }
            },
            "type": "table"
           }
          ]
         },
         "layout": {
          "annotationdefaults": {
           "arrowcolor": "#2a3f5f",
           "arrowhead": 0,
           "arrowwidth": 1
          },
          "autotypenumbers": "strict",
          "coloraxis": {
           "colorbar": {
            "outlinewidth": 0,
            "ticks": ""
           }
          },
          "colorscale": {
           "diverging": [
            [
             0,
             "#8e0152"
            ],
            [
             0.1,
             "#c51b7d"
            ],
            [
             0.2,
             "#de77ae"
            ],
            [
             0.3,
             "#f1b6da"
            ],
            [
             0.4,
             "#fde0ef"
            ],
            [
             0.5,
             "#f7f7f7"
            ],
            [
             0.6,
             "#e6f5d0"
            ],
            [
             0.7,
             "#b8e186"
            ],
            [
             0.8,
             "#7fbc41"
            ],
            [
             0.9,
             "#4d9221"
            ],
            [
             1,
             "#276419"
            ]
           ],
           "sequential": [
            [
             0,
             "#0d0887"
            ],
            [
             0.1111111111111111,
             "#46039f"
            ],
            [
             0.2222222222222222,
             "#7201a8"
            ],
            [
             0.3333333333333333,
             "#9c179e"
            ],
            [
             0.4444444444444444,
             "#bd3786"
            ],
            [
             0.5555555555555556,
             "#d8576b"
            ],
            [
             0.6666666666666666,
             "#ed7953"
            ],
            [
             0.7777777777777778,
             "#fb9f3a"
            ],
            [
             0.8888888888888888,
             "#fdca26"
            ],
            [
             1,
             "#f0f921"
            ]
           ],
           "sequentialminus": [
            [
             0,
             "#0d0887"
            ],
            [
             0.1111111111111111,
             "#46039f"
            ],
            [
             0.2222222222222222,
             "#7201a8"
            ],
            [
             0.3333333333333333,
             "#9c179e"
            ],
            [
             0.4444444444444444,
             "#bd3786"
            ],
            [
             0.5555555555555556,
             "#d8576b"
            ],
            [
             0.6666666666666666,
             "#ed7953"
            ],
            [
             0.7777777777777778,
             "#fb9f3a"
            ],
            [
             0.8888888888888888,
             "#fdca26"
            ],
            [
             1,
             "#f0f921"
            ]
           ]
          },
          "colorway": [
           "#636efa",
           "#EF553B",
           "#00cc96",
           "#ab63fa",
           "#FFA15A",
           "#19d3f3",
           "#FF6692",
           "#B6E880",
           "#FF97FF",
           "#FECB52"
          ],
          "font": {
           "color": "#2a3f5f"
          },
          "geo": {
           "bgcolor": "white",
           "lakecolor": "white",
           "landcolor": "white",
           "showlakes": true,
           "showland": true,
           "subunitcolor": "#C8D4E3"
          },
          "hoverlabel": {
           "align": "left"
          },
          "hovermode": "closest",
          "mapbox": {
           "style": "light"
          },
          "paper_bgcolor": "white",
          "plot_bgcolor": "white",
          "polar": {
           "angularaxis": {
            "gridcolor": "#EBF0F8",
            "linecolor": "#EBF0F8",
            "ticks": ""
           },
           "bgcolor": "white",
           "radialaxis": {
            "gridcolor": "#EBF0F8",
            "linecolor": "#EBF0F8",
            "ticks": ""
           }
          },
          "scene": {
           "xaxis": {
            "backgroundcolor": "white",
            "gridcolor": "#DFE8F3",
            "gridwidth": 2,
            "linecolor": "#EBF0F8",
            "showbackground": true,
            "ticks": "",
            "zerolinecolor": "#EBF0F8"
           },
           "yaxis": {
            "backgroundcolor": "white",
            "gridcolor": "#DFE8F3",
            "gridwidth": 2,
            "linecolor": "#EBF0F8",
            "showbackground": true,
            "ticks": "",
            "zerolinecolor": "#EBF0F8"
           },
           "zaxis": {
            "backgroundcolor": "white",
            "gridcolor": "#DFE8F3",
            "gridwidth": 2,
            "linecolor": "#EBF0F8",
            "showbackground": true,
            "ticks": "",
            "zerolinecolor": "#EBF0F8"
           }
          },
          "shapedefaults": {
           "line": {
            "color": "#2a3f5f"
           }
          },
          "ternary": {
           "aaxis": {
            "gridcolor": "#DFE8F3",
            "linecolor": "#A2B1C6",
            "ticks": ""
           },
           "baxis": {
            "gridcolor": "#DFE8F3",
            "linecolor": "#A2B1C6",
            "ticks": ""
           },
           "bgcolor": "white",
           "caxis": {
            "gridcolor": "#DFE8F3",
            "linecolor": "#A2B1C6",
            "ticks": ""
           }
          },
          "title": {
           "x": 0.05
          },
          "xaxis": {
           "automargin": true,
           "gridcolor": "#EBF0F8",
           "linecolor": "#EBF0F8",
           "ticks": "",
           "title": {
            "standoff": 15
           },
           "zerolinecolor": "#EBF0F8",
           "zerolinewidth": 2
          },
          "yaxis": {
           "automargin": true,
           "gridcolor": "#EBF0F8",
           "linecolor": "#EBF0F8",
           "ticks": "",
           "title": {
            "standoff": 15
           },
           "zerolinecolor": "#EBF0F8",
           "zerolinewidth": 2
          }
         }
        },
        "title": {
         "text": "Vergleich Methan- und Lachgasemissionen pro Kopf nach Region"
        },
        "xaxis": {
         "anchor": "y",
         "domain": [
          0,
          1
         ],
         "title": {
          "text": "Jahr"
         }
        },
        "yaxis": {
         "anchor": "x",
         "domain": [
          0,
          1
         ],
         "title": {
          "text": "Emissionen pro Kopf (Tonnen CO₂e)"
         }
        }
       }
      }
     },
     "metadata": {},
     "output_type": "display_data"
    }
   ],
   "source": [
    "excluded = ['all']\n",
    "\n",
    "df_methane = prepare_ghg_df(capita_methane, co2_emissions, 'Co2_capita_methane', 'Methan (CH₄)', entity_to_region, excluded)\n",
    "df_n2o = prepare_ghg_df(capita_nitrous_oxide, co2_emissions, 'Co2_capita_nitrous_oxide', 'Lachgas (N₂O)', entity_to_region, excluded)\n",
    "\n",
    "df_combined = pd.concat([df_methane, df_n2o])\n",
    "\n",
    "fig = px.line(\n",
    "    df_combined,\n",
    "    x='Year',\n",
    "    y='Emissionen pro Kopf',\n",
    "    color='Region',\n",
    "    line_dash='Gas',\n",
    "    labels={\n",
    "        'Emissionen pro Kopf': 'Emissionen pro Kopf (Tonnen CO₂e)',\n",
    "        'Year': 'Jahr',\n",
    "        'Region': 'Region',\n",
    "        'Gas': 'Gas'\n",
    "    },\n",
    "    title='Vergleich Methan- und Lachgasemissionen pro Kopf nach Region'\n",
    ")\n",
    "fig.update_layout(template='plotly_white')\n",
    "fig.show()\n"
   ]
  },
  {
   "cell_type": "markdown",
   "id": "df12dbf6",
   "metadata": {},
   "source": [
    "### 10. Zusammenhang zwischen Co2-Emmisionen und globaler Temparatur"
   ]
  },
  {
   "cell_type": "code",
   "execution_count": 24,
   "id": "db5fa725",
   "metadata": {},
   "outputs": [],
   "source": [
    "import plotly.graph_objects as go\n",
    "\n",
    "def plot_temp_vs_emissions_dual_axis(co2_df, temp_df):\n",
    "    # Filter auf Welt\n",
    "    co2_world = co2_df[co2_df['Entity'] == 'World']\n",
    "    temp_world = temp_df[temp_df['Entity'] == 'World']\n",
    "\n",
    "    # Fusion\n",
    "    merged = co2_world.merge(temp_world, on='Year', how='inner')\n",
    "    merged = merged.rename(columns={\n",
    "        'Co2_emissions': 'CO₂-Emissionen (Gt)',\n",
    "        'Co2_fossil_ressources_mean': 'Δ Temperatur (°C)'\n",
    "    })\n",
    "\n",
    "    # Grafik\n",
    "    fig = go.Figure()\n",
    "\n",
    "    # Trace 1 : CO₂-Emissionen\n",
    "    fig.add_trace(go.Scatter(\n",
    "        x=merged['Year'],\n",
    "        y=merged['CO₂-Emissionen (Gt)'],\n",
    "        name='CO₂-Emissionen (Gt)',\n",
    "        line=dict(color='firebrick'),\n",
    "        yaxis='y1'\n",
    "    ))\n",
    "\n",
    "    # Trace 2 : Temperatur\n",
    "    fig.add_trace(go.Scatter(\n",
    "        x=merged['Year'],\n",
    "        y=merged['Δ Temperatur (°C)'],\n",
    "        name='Δ Temperatur (°C)',\n",
    "        line=dict(color='royalblue', dash='dash'),\n",
    "        yaxis='y2'\n",
    "    ))\n",
    "\n",
    "    # Layout\n",
    "    fig.update_layout(\n",
    "        title='Zusammenhang zwischen CO₂-Emissionen und globaler Temperatur',\n",
    "        template='plotly_white',\n",
    "        xaxis=dict(title='Jahr'),\n",
    "        yaxis=dict(\n",
    "            title=dict(text='CO₂-Emissionen (Gt)', font=dict(color='firebrick')),\n",
    "            tickfont=dict(color='firebrick')\n",
    "        ),\n",
    "        yaxis2=dict(\n",
    "            title=dict(text='Δ Temperatur (°C)', font=dict(color='royalblue')),\n",
    "            tickfont=dict(color='royalblue'),\n",
    "            anchor='x',\n",
    "            overlaying='y',\n",
    "            side='right'\n",
    "        ),\n",
    "        legend=dict(x=0.02, y=0.95)\n",
    "    )\n",
    "\n",
    "    fig.show()\n"
   ]
  },
  {
   "cell_type": "code",
   "execution_count": 25,
   "id": "ae4bc000",
   "metadata": {},
   "outputs": [
    {
     "data": {
      "application/vnd.plotly.v1+json": {
       "config": {
        "plotlyServerURL": "https://plot.ly"
       },
       "data": [
        {
         "line": {
          "color": "firebrick"
         },
         "name": "CO₂-Emissionen (Gt)",
         "type": "scatter",
         "x": {
          "bdata": "Owc8Bz0HPgc/B0AHQQdCB0MHRAdFB0YHRwdIB0kHSgdLB0wHTQdOB08HUAdRB1IHUwdUB1UHVgdXB1gHWQdaB1sHXAddB14HXwdgB2EHYgdjB2QHZQdmB2cHaAdpB2oHawdsB20HbgdvB3AHcQdyB3MHdAd1B3YHdwd4B3kHegd7B3wHfQd+B38HgAeBB4IHgweEB4UHhgeHB4gHiQeKB4sHjAeNB44HjweQB5EHkgeTB5QHlQeWB5cHmAeZB5oHmwecB50HngefB6AHoQeiB6MHpAelB6YHpweoB6kHqgerB6wHrQeuB68HsAexB7IHswe0B7UHtge3B7gHuQe6B7sHvAe9B74HvwfAB8EHwgfDB8QHxQfGB8cHyAfJB8oHywfMB80HzgfPB9AH0QfSB9MH1AfVB9YH1wfYB9kH2gfbB9wH3QfeB98H4AfhB+IH4wfkB+UH5gfnBw==",
          "dtype": "i2"
         },
         "y": {
          "bdata": "AAAAWD2yp0EAAACkTL+oQQAAAOiL5alBAAAAwChnrkEAAAAogAavQQAAAP6wlbBBAAAAhHvCsEEAAABwHwWxQQAAAIDiCLJBAAAA3HjOs0EAAAAkONC0QQAAADz+N7VBAAAAID6ftkEAAACY3Gi4QQAAAAJO67lBAAAA+DfEukEAAABMo6i8QQAAAGRfeb1BAAAAvsJGv0EAAACkl/S/QQAAAAAN+8BBAAAArtrNwkEAAABAQvvDQQAAANxPvMJBAAAA4PtLxEEAAADyuZTEQQAAAB9Y+8RBAAAAQjImxUEAAABhxaTGQQAAAApykslBAAAApKJ2ykEAAAAChfPLQQAAAKBuus1BAAAAlFYVzkEAAABaMlDOQQAAAHA3xs5BAAAAoxcm0EEAAADpseTRQQAAAMNr59FBAAAA+D9400EAAAC9/2XUQQAAAKGNj9RBAAAAJ5VN1EEAAAAZkgjVQQAAAD3iR9ZBAAAA6WkE10EAAAC3PhrYQQAAAIq5a9lBAAAAKkzD20EAAABDfjrdQQAAAD/PKN5BAAAAK7zq3kEAAAC/gtrgQQAAANoTC+FBAAAArlMo4kEAAADOOPXiQQAAAB/um+VBAAAAokbB5EEAAACliZ3lQQAAAAavrOZBAAAAA+UF50EAAADZKTDoQQAAACFBM+pBAAAA5AjE50EAAIA7mmXnQQAAANGsRelBAACAgIlv6kEAAABAHxPqQQAAAOWWmuZBAAAAeeNb6kEAAACBkyTnQQAAgB1lP+hBAACAfHJ/60EAAACVfJbrQQAAAECx3utBAACAIRlm60EAAADgFubtQQAAAB9cxu1BAACARR3z70EAAAAQeH3tQQAAgL23XupBAAAAnmLJ50EAAABBzw3pQQAAgJufPetBAACAJBmU7EEAAACd/VnvQQAAQOJmwPBBAAAAwFuD70EAAICNDafwQQAAAOxgMvJBAADAnYGf8kEAAACGtI/yQQAAgFIo6PJBAADAoVQ780EAAIDeNvXvQQAAgIsNK/FBAADAf+w980EAAIAMgkv0QQAAgFv0YvNBAAAAYYUX9kEAAMD9zcX3QQAAgN/ZF/hBAACAOMfG+EEAAIDa/0r5QQAAAGwNu/tBAACAxNWG/UEAAIB8cH7+QQAAQF5BW/9BAACAxj5+AEIAAMBdE3wBQgAAgB5xiQFCAADAXt4nAkIAAAARlB8DQgAAQNOBKQRCAAAAelARBUIAAMAGjRgGQgAAQHU7ywZCAAAADbgJCEIAAEBlIaIJQgAAALl0wAtCAADAbNDgDEIAAECgfTgOQgAAgMPO0g9CAAAA4IKvD0IAAADEYsMPQgAAAEPwwBBCAACAI2s6EUIAAEAYecIRQgAAgJknQxJCAACAG20mEkIAAGDbabcRQgAAoFo4kxFCAADAMQawEUIAAKCaZkwSQgAAwBy86hJCAADgfP0yE0IAAOClacoTQgAAQFyBkRRCAAAg42PZFEIAACBlAysVQgAAwFv/lxVCAACAfyL7FEIAAOADZzEVQgAA4BzyaRVCAADgXHzqFUIAAKAimZcWQgAAQCXeuRZCAABA43iiFkIAAEBLlyUXQgAAQKYwwhdCAAAgnNvwF0IAAMDd5HgYQgAAQKXrxBlCAABAeoWqGkIAAOA5n5QbQgAAIP9ghhxCAAAg/HFeHUIAAADPFd8dQgAAQCMuYB1CAABgwKoQH0IAAMD+QhEgQgAAQNhTTCBCAACwA0lwIEIAAGAD+4EgQgAAQM2XfCBCAACgoP59IEIAAFB+VMIgQgAAUJ2bGiFCAABwnCxHIUIAAGCAaFsgQgAA4CHCOSFCAAAgfsVdIUIAAKAwG5khQg==",
          "dtype": "f8"
         },
         "yaxis": "y"
        },
        {
         "line": {
          "color": "royalblue",
          "dash": "dash"
         },
         "name": "Δ Temperatur (°C)",
         "type": "scatter",
         "x": {
          "bdata": "Owc8Bz0HPgc/B0AHQQdCB0MHRAdFB0YHRwdIB0kHSgdLB0wHTQdOB08HUAdRB1IHUwdUB1UHVgdXB1gHWQdaB1sHXAddB14HXwdgB2EHYgdjB2QHZQdmB2cHaAdpB2oHawdsB20HbgdvB3AHcQdyB3MHdAd1B3YHdwd4B3kHegd7B3wHfQd+B38HgAeBB4IHgweEB4UHhgeHB4gHiQeKB4sHjAeNB44HjweQB5EHkgeTB5QHlQeWB5cHmAeZB5oHmwecB50HngefB6AHoQeiB6MHpAelB6YHpweoB6kHqgerB6wHrQeuB68HsAexB7IHswe0B7UHtge3B7gHuQe6B7sHvAe9B74HvwfAB8EHwgfDB8QHxQfGB8cHyAfJB8oHywfMB80HzgfPB9AH0QfSB9MH1AfVB9YH1wfYB9kH2gfbB9wH3QfeB98H4AfhB+IH4wfkB+UH5gfnBw==",
          "dtype": "i2"
         },
         "y": {
          "bdata": "IQG203z0Mj+qh9Ed9RZDP8M8LiFU5kw/LLiH0zXSUz+T1wypEDpZPwgm/99NwV4/sY5EH5wlYj8luH/PielkP0x3HByzx2c/zSlhozXRaj+FDVj84u5tP172QU8wh3A/OmHgvrAqcj9jbnCCbOJzPwAb5aBRqHU/SHjl9KF9dz8MhX/9BmB5P71hRGJHSns/Cxeoe1NHfT8hNIQgVUZ/PwqITnFKsIA/CI1M/xPVgT+FMU/S7weDPxNM+E9+JYQ/B8J2eThWhT/MhG4VFYiGP7REpv2Iv4c/gm5Qd3X5iD8eQ0lGo0KKP9rvZa8yq4s/HfDVmwwfjT+pFq6aKaWOP0sCN/9tHpA/nfN546npkD9UaNe/FrSRP413y/4Of5I/iuFDuc9Skz8UL+kEQTuUP7jWsSYjIpU/POum1vMclj/xfWJ+HSGXPw0GPAi4Ipg/+XnNVzsdmT8GIyn7RCSaPwANcdcLOJs/nZMoxdhTnD+uigA/lHydP1oO6t5ntZ4/sA+hAEAEoD8k3/NjlrSgPzA7WaRoaaE/Ptc7/x0hoj+XZeUd++eiP10iw5wzsaM/ztKFwOCGpD+3U6XzAmilP7gezMDdZqY/XAiL7WJYpz/6jJewLlWoP+mVV1P+Wqk/uytYNrVkqj8/LEjx+XqrP6wr8i2kqqw/vl6KQC+7rT/cmhmir8WuPwwfn/055q8/KfUb3IyJsD9g8vVroRqxP/9fr4/SlbE/tYdil00lsj+1olGqEp+yP78Y4yYXIbM/DKNJ9621sz9aRJjL20u0P7rBzE5x4rQ/M5uuxI9ztT/Wl3weaRG2P3rJWp5isLY/tAwGEYhbtz87J6xDJPm3P8nlgcCxhLg/jtv9ZGsBuT9nFplnwoK5PyFHCMnhF7o/7GapadW2uj+LbbX7E2S7PwSwXMpUHLw/jvDur7vMvD8VZL9/1429P7z7yiDKWb4/pUTYEQM0vz8Rkj/3aQXAP3c3BeitcMA/K77C/sLdwD90a0bEnDnBP8P7YM+Nn8E/wXrURhIQwj+86uDkp4bCP+EDImFr+MI/irZ8h094wz+hqY2g5wXEP3ZYXV7rmMQ/WFJRaYIwxT95UJoXccvFPzDysiYWeMY/MmV15ZIuxz/VqiNoSOzHP6Q5Daw+ssg/BSCkXTuHyT+YiSKkbmfKP7PmrsK5SMs/NiiSlmcxzD/nXII6gifNPx4+fql+Kc4/IUu0Hp0+zz/4UQ37PTHQPzDL6JFQxNA/oYigxa1d0T9dlmU+1gLSP63IvwHzsdI/YZeXssJj0z9BD1JDXRzUPzopSEP43dQ/zBRrnyud1T+RNCwEQVnWP3SGmAEdHNc/PRLMJCzi1z9SSxAByazYP9JnrKLketk/3HKiG2lC2j93hfw79ADbP+hZvYHRvts/cZ01LtJ63D8zNJ4I4jzdP3wQPJ2vAt4/rv6+NWbI3j8Q8/6ieJPfP3CJbZxeM+A/XlA67Bmd4D/hBbbv9gXhP9xDJSK6b+E/XyqRn+jV4T/ExsT/gDviP9GaejjcouI/6xlneFgN4z87frlgunrjP4pZcaJE6OM/iNii/fZS5D/kJ3qFqr3kP5U4PM5+LuU/Q4x8Azii5T9R+t+dvhbmPwrYDkbsk+Y/RvXvXfcU5z8McXLgUZrnPwCvjYAjJOg/yIdNIsqw6D9fHtcr0T7pPxUMfH9iyOk/wQNewZFb6j9lGeJYF/fqP993BB61les/MLsnDws17D8HhO9gONXsP0wMdoGac+0/vlNcsK8Q7j9jqNQ2D7HuP3KOlfMgWO8/sCqxIe4A8D9BZy1gXVDwPweda/NapPA/NdZZiGn68D8OVlLdEk/xPw==",
          "dtype": "f8"
         },
         "yaxis": "y2"
        }
       ],
       "layout": {
        "legend": {
         "x": 0.02,
         "y": 0.95
        },
        "template": {
         "data": {
          "bar": [
           {
            "error_x": {
             "color": "#2a3f5f"
            },
            "error_y": {
             "color": "#2a3f5f"
            },
            "marker": {
             "line": {
              "color": "white",
              "width": 0.5
             },
             "pattern": {
              "fillmode": "overlay",
              "size": 10,
              "solidity": 0.2
             }
            },
            "type": "bar"
           }
          ],
          "barpolar": [
           {
            "marker": {
             "line": {
              "color": "white",
              "width": 0.5
             },
             "pattern": {
              "fillmode": "overlay",
              "size": 10,
              "solidity": 0.2
             }
            },
            "type": "barpolar"
           }
          ],
          "carpet": [
           {
            "aaxis": {
             "endlinecolor": "#2a3f5f",
             "gridcolor": "#C8D4E3",
             "linecolor": "#C8D4E3",
             "minorgridcolor": "#C8D4E3",
             "startlinecolor": "#2a3f5f"
            },
            "baxis": {
             "endlinecolor": "#2a3f5f",
             "gridcolor": "#C8D4E3",
             "linecolor": "#C8D4E3",
             "minorgridcolor": "#C8D4E3",
             "startlinecolor": "#2a3f5f"
            },
            "type": "carpet"
           }
          ],
          "choropleth": [
           {
            "colorbar": {
             "outlinewidth": 0,
             "ticks": ""
            },
            "type": "choropleth"
           }
          ],
          "contour": [
           {
            "colorbar": {
             "outlinewidth": 0,
             "ticks": ""
            },
            "colorscale": [
             [
              0,
              "#0d0887"
             ],
             [
              0.1111111111111111,
              "#46039f"
             ],
             [
              0.2222222222222222,
              "#7201a8"
             ],
             [
              0.3333333333333333,
              "#9c179e"
             ],
             [
              0.4444444444444444,
              "#bd3786"
             ],
             [
              0.5555555555555556,
              "#d8576b"
             ],
             [
              0.6666666666666666,
              "#ed7953"
             ],
             [
              0.7777777777777778,
              "#fb9f3a"
             ],
             [
              0.8888888888888888,
              "#fdca26"
             ],
             [
              1,
              "#f0f921"
             ]
            ],
            "type": "contour"
           }
          ],
          "contourcarpet": [
           {
            "colorbar": {
             "outlinewidth": 0,
             "ticks": ""
            },
            "type": "contourcarpet"
           }
          ],
          "heatmap": [
           {
            "colorbar": {
             "outlinewidth": 0,
             "ticks": ""
            },
            "colorscale": [
             [
              0,
              "#0d0887"
             ],
             [
              0.1111111111111111,
              "#46039f"
             ],
             [
              0.2222222222222222,
              "#7201a8"
             ],
             [
              0.3333333333333333,
              "#9c179e"
             ],
             [
              0.4444444444444444,
              "#bd3786"
             ],
             [
              0.5555555555555556,
              "#d8576b"
             ],
             [
              0.6666666666666666,
              "#ed7953"
             ],
             [
              0.7777777777777778,
              "#fb9f3a"
             ],
             [
              0.8888888888888888,
              "#fdca26"
             ],
             [
              1,
              "#f0f921"
             ]
            ],
            "type": "heatmap"
           }
          ],
          "histogram": [
           {
            "marker": {
             "pattern": {
              "fillmode": "overlay",
              "size": 10,
              "solidity": 0.2
             }
            },
            "type": "histogram"
           }
          ],
          "histogram2d": [
           {
            "colorbar": {
             "outlinewidth": 0,
             "ticks": ""
            },
            "colorscale": [
             [
              0,
              "#0d0887"
             ],
             [
              0.1111111111111111,
              "#46039f"
             ],
             [
              0.2222222222222222,
              "#7201a8"
             ],
             [
              0.3333333333333333,
              "#9c179e"
             ],
             [
              0.4444444444444444,
              "#bd3786"
             ],
             [
              0.5555555555555556,
              "#d8576b"
             ],
             [
              0.6666666666666666,
              "#ed7953"
             ],
             [
              0.7777777777777778,
              "#fb9f3a"
             ],
             [
              0.8888888888888888,
              "#fdca26"
             ],
             [
              1,
              "#f0f921"
             ]
            ],
            "type": "histogram2d"
           }
          ],
          "histogram2dcontour": [
           {
            "colorbar": {
             "outlinewidth": 0,
             "ticks": ""
            },
            "colorscale": [
             [
              0,
              "#0d0887"
             ],
             [
              0.1111111111111111,
              "#46039f"
             ],
             [
              0.2222222222222222,
              "#7201a8"
             ],
             [
              0.3333333333333333,
              "#9c179e"
             ],
             [
              0.4444444444444444,
              "#bd3786"
             ],
             [
              0.5555555555555556,
              "#d8576b"
             ],
             [
              0.6666666666666666,
              "#ed7953"
             ],
             [
              0.7777777777777778,
              "#fb9f3a"
             ],
             [
              0.8888888888888888,
              "#fdca26"
             ],
             [
              1,
              "#f0f921"
             ]
            ],
            "type": "histogram2dcontour"
           }
          ],
          "mesh3d": [
           {
            "colorbar": {
             "outlinewidth": 0,
             "ticks": ""
            },
            "type": "mesh3d"
           }
          ],
          "parcoords": [
           {
            "line": {
             "colorbar": {
              "outlinewidth": 0,
              "ticks": ""
             }
            },
            "type": "parcoords"
           }
          ],
          "pie": [
           {
            "automargin": true,
            "type": "pie"
           }
          ],
          "scatter": [
           {
            "fillpattern": {
             "fillmode": "overlay",
             "size": 10,
             "solidity": 0.2
            },
            "type": "scatter"
           }
          ],
          "scatter3d": [
           {
            "line": {
             "colorbar": {
              "outlinewidth": 0,
              "ticks": ""
             }
            },
            "marker": {
             "colorbar": {
              "outlinewidth": 0,
              "ticks": ""
             }
            },
            "type": "scatter3d"
           }
          ],
          "scattercarpet": [
           {
            "marker": {
             "colorbar": {
              "outlinewidth": 0,
              "ticks": ""
             }
            },
            "type": "scattercarpet"
           }
          ],
          "scattergeo": [
           {
            "marker": {
             "colorbar": {
              "outlinewidth": 0,
              "ticks": ""
             }
            },
            "type": "scattergeo"
           }
          ],
          "scattergl": [
           {
            "marker": {
             "colorbar": {
              "outlinewidth": 0,
              "ticks": ""
             }
            },
            "type": "scattergl"
           }
          ],
          "scattermap": [
           {
            "marker": {
             "colorbar": {
              "outlinewidth": 0,
              "ticks": ""
             }
            },
            "type": "scattermap"
           }
          ],
          "scattermapbox": [
           {
            "marker": {
             "colorbar": {
              "outlinewidth": 0,
              "ticks": ""
             }
            },
            "type": "scattermapbox"
           }
          ],
          "scatterpolar": [
           {
            "marker": {
             "colorbar": {
              "outlinewidth": 0,
              "ticks": ""
             }
            },
            "type": "scatterpolar"
           }
          ],
          "scatterpolargl": [
           {
            "marker": {
             "colorbar": {
              "outlinewidth": 0,
              "ticks": ""
             }
            },
            "type": "scatterpolargl"
           }
          ],
          "scatterternary": [
           {
            "marker": {
             "colorbar": {
              "outlinewidth": 0,
              "ticks": ""
             }
            },
            "type": "scatterternary"
           }
          ],
          "surface": [
           {
            "colorbar": {
             "outlinewidth": 0,
             "ticks": ""
            },
            "colorscale": [
             [
              0,
              "#0d0887"
             ],
             [
              0.1111111111111111,
              "#46039f"
             ],
             [
              0.2222222222222222,
              "#7201a8"
             ],
             [
              0.3333333333333333,
              "#9c179e"
             ],
             [
              0.4444444444444444,
              "#bd3786"
             ],
             [
              0.5555555555555556,
              "#d8576b"
             ],
             [
              0.6666666666666666,
              "#ed7953"
             ],
             [
              0.7777777777777778,
              "#fb9f3a"
             ],
             [
              0.8888888888888888,
              "#fdca26"
             ],
             [
              1,
              "#f0f921"
             ]
            ],
            "type": "surface"
           }
          ],
          "table": [
           {
            "cells": {
             "fill": {
              "color": "#EBF0F8"
             },
             "line": {
              "color": "white"
             }
            },
            "header": {
             "fill": {
              "color": "#C8D4E3"
             },
             "line": {
              "color": "white"
             }
            },
            "type": "table"
           }
          ]
         },
         "layout": {
          "annotationdefaults": {
           "arrowcolor": "#2a3f5f",
           "arrowhead": 0,
           "arrowwidth": 1
          },
          "autotypenumbers": "strict",
          "coloraxis": {
           "colorbar": {
            "outlinewidth": 0,
            "ticks": ""
           }
          },
          "colorscale": {
           "diverging": [
            [
             0,
             "#8e0152"
            ],
            [
             0.1,
             "#c51b7d"
            ],
            [
             0.2,
             "#de77ae"
            ],
            [
             0.3,
             "#f1b6da"
            ],
            [
             0.4,
             "#fde0ef"
            ],
            [
             0.5,
             "#f7f7f7"
            ],
            [
             0.6,
             "#e6f5d0"
            ],
            [
             0.7,
             "#b8e186"
            ],
            [
             0.8,
             "#7fbc41"
            ],
            [
             0.9,
             "#4d9221"
            ],
            [
             1,
             "#276419"
            ]
           ],
           "sequential": [
            [
             0,
             "#0d0887"
            ],
            [
             0.1111111111111111,
             "#46039f"
            ],
            [
             0.2222222222222222,
             "#7201a8"
            ],
            [
             0.3333333333333333,
             "#9c179e"
            ],
            [
             0.4444444444444444,
             "#bd3786"
            ],
            [
             0.5555555555555556,
             "#d8576b"
            ],
            [
             0.6666666666666666,
             "#ed7953"
            ],
            [
             0.7777777777777778,
             "#fb9f3a"
            ],
            [
             0.8888888888888888,
             "#fdca26"
            ],
            [
             1,
             "#f0f921"
            ]
           ],
           "sequentialminus": [
            [
             0,
             "#0d0887"
            ],
            [
             0.1111111111111111,
             "#46039f"
            ],
            [
             0.2222222222222222,
             "#7201a8"
            ],
            [
             0.3333333333333333,
             "#9c179e"
            ],
            [
             0.4444444444444444,
             "#bd3786"
            ],
            [
             0.5555555555555556,
             "#d8576b"
            ],
            [
             0.6666666666666666,
             "#ed7953"
            ],
            [
             0.7777777777777778,
             "#fb9f3a"
            ],
            [
             0.8888888888888888,
             "#fdca26"
            ],
            [
             1,
             "#f0f921"
            ]
           ]
          },
          "colorway": [
           "#636efa",
           "#EF553B",
           "#00cc96",
           "#ab63fa",
           "#FFA15A",
           "#19d3f3",
           "#FF6692",
           "#B6E880",
           "#FF97FF",
           "#FECB52"
          ],
          "font": {
           "color": "#2a3f5f"
          },
          "geo": {
           "bgcolor": "white",
           "lakecolor": "white",
           "landcolor": "white",
           "showlakes": true,
           "showland": true,
           "subunitcolor": "#C8D4E3"
          },
          "hoverlabel": {
           "align": "left"
          },
          "hovermode": "closest",
          "mapbox": {
           "style": "light"
          },
          "paper_bgcolor": "white",
          "plot_bgcolor": "white",
          "polar": {
           "angularaxis": {
            "gridcolor": "#EBF0F8",
            "linecolor": "#EBF0F8",
            "ticks": ""
           },
           "bgcolor": "white",
           "radialaxis": {
            "gridcolor": "#EBF0F8",
            "linecolor": "#EBF0F8",
            "ticks": ""
           }
          },
          "scene": {
           "xaxis": {
            "backgroundcolor": "white",
            "gridcolor": "#DFE8F3",
            "gridwidth": 2,
            "linecolor": "#EBF0F8",
            "showbackground": true,
            "ticks": "",
            "zerolinecolor": "#EBF0F8"
           },
           "yaxis": {
            "backgroundcolor": "white",
            "gridcolor": "#DFE8F3",
            "gridwidth": 2,
            "linecolor": "#EBF0F8",
            "showbackground": true,
            "ticks": "",
            "zerolinecolor": "#EBF0F8"
           },
           "zaxis": {
            "backgroundcolor": "white",
            "gridcolor": "#DFE8F3",
            "gridwidth": 2,
            "linecolor": "#EBF0F8",
            "showbackground": true,
            "ticks": "",
            "zerolinecolor": "#EBF0F8"
           }
          },
          "shapedefaults": {
           "line": {
            "color": "#2a3f5f"
           }
          },
          "ternary": {
           "aaxis": {
            "gridcolor": "#DFE8F3",
            "linecolor": "#A2B1C6",
            "ticks": ""
           },
           "baxis": {
            "gridcolor": "#DFE8F3",
            "linecolor": "#A2B1C6",
            "ticks": ""
           },
           "bgcolor": "white",
           "caxis": {
            "gridcolor": "#DFE8F3",
            "linecolor": "#A2B1C6",
            "ticks": ""
           }
          },
          "title": {
           "x": 0.05
          },
          "xaxis": {
           "automargin": true,
           "gridcolor": "#EBF0F8",
           "linecolor": "#EBF0F8",
           "ticks": "",
           "title": {
            "standoff": 15
           },
           "zerolinecolor": "#EBF0F8",
           "zerolinewidth": 2
          },
          "yaxis": {
           "automargin": true,
           "gridcolor": "#EBF0F8",
           "linecolor": "#EBF0F8",
           "ticks": "",
           "title": {
            "standoff": 15
           },
           "zerolinecolor": "#EBF0F8",
           "zerolinewidth": 2
          }
         }
        },
        "title": {
         "text": "Zusammenhang zwischen CO₂-Emissionen und globaler Temperatur"
        },
        "xaxis": {
         "title": {
          "text": "Jahr"
         }
        },
        "yaxis": {
         "tickfont": {
          "color": "firebrick"
         },
         "title": {
          "font": {
           "color": "firebrick"
          },
          "text": "CO₂-Emissionen (Gt)"
         }
        },
        "yaxis2": {
         "anchor": "x",
         "overlaying": "y",
         "side": "right",
         "tickfont": {
          "color": "royalblue"
         },
         "title": {
          "font": {
           "color": "royalblue"
          },
          "text": "Δ Temperatur (°C)"
         }
        }
       }
      }
     },
     "metadata": {},
     "output_type": "display_data"
    }
   ],
   "source": [
    "plot_temp_vs_emissions_dual_axis(co2_emissions, fossil_ressources_mean)\n"
   ]
  },
  {
   "cell_type": "markdown",
   "id": "68d966d9",
   "metadata": {},
   "source": [
    "### Bonus : Entwicklung der Top-10 Co2 Verbraucher 1750-2023"
   ]
  },
  {
   "cell_type": "code",
   "execution_count": 55,
   "id": "c2627682",
   "metadata": {},
   "outputs": [],
   "source": [
    "def plot_top_emitters_rank_over_time(\n",
    "    co2_df, excluded_categories=None, top_n=10, show_labels=True, min_year=None\n",
    "):\n",
    "    if excluded_categories is None:\n",
    "        excluded_categories = ['all']\n",
    "\n",
    "    # Unerwünschte Kategorien entfernen\n",
    "    df = exclude_entities(co2_df, excluded_categories)\n",
    "    df = df[df['Co2_emissions'] > 0].copy()\n",
    "    if min_year:\n",
    "        df = df[df['Year'] >= min_year]\n",
    "        \n",
    "    # Jährliche Rangliste erstellen\n",
    "    df_ranked = (\n",
    "        df.groupby('Year')\n",
    "        .apply(lambda g: g.sort_values('Co2_emissions', ascending=False).assign(Rang=range(1, len(g)+1)))\n",
    "        .reset_index(drop=True)\n",
    "    )\n",
    "\n",
    "    # Top-N Länder auswählen, die am häufigsten im Top-N vertreten sind\n",
    "    top_entities = (\n",
    "        df_ranked[df_ranked['Rang'] <= top_n]['Entity']\n",
    "        .value_counts()\n",
    "        .head(top_n)\n",
    "        .index\n",
    "    )\n",
    "    df_top = df_ranked[df_ranked['Entity'].isin(top_entities)]\n",
    "    df_top = df_top[df_top['Rang'] <= 25]\n",
    "\n",
    "    # Namen der Länder nur im letzten Jahr anzeigen\n",
    "    if show_labels:\n",
    "        last_year = df_top['Year'].max()\n",
    "        df_top['Text'] = df_top.apply(lambda row: row['Entity'] if row['Year'] == last_year else \"\", axis=1)\n",
    "    else:\n",
    "        df_top['Text'] = \"\"\n",
    "\n",
    "    # Linien-Plot erstellen\n",
    "    fig = px.line(\n",
    "        df_top,\n",
    "        x='Year',\n",
    "        y='Rang',\n",
    "        color='Entity',\n",
    "        markers=True,\n",
    "        text='Text',  # Länderkürzel am Ende anzeigen\n",
    "        labels={\n",
    "            'Year': 'Jahr',\n",
    "            'Rang': 'Platz im CO₂-Ranking',\n",
    "            'Entity': 'Land'\n",
    "        },\n",
    "        title=f'Entwicklung der Top-{top_n} CO₂-Verbraucher im Zeitverlauf'\n",
    "    )\n",
    "\n",
    "    # Layout anpassen\n",
    "    fig.update_layout(\n",
    "        template='plotly_white',\n",
    "        yaxis=dict(\n",
    "            autorange='reversed',\n",
    "            dtick=1,\n",
    "            range=[1, 25],\n",
    "            title='Rang',\n",
    "            tickmode='linear',\n",
    "            tickfont=dict(size=11)\n",
    "        ),\n",
    "        xaxis=dict(title='Jahr', tickfont=dict(size=11)),\n",
    "        legend=dict(font=dict(size=11)),\n",
    "        margin=dict(l=60, r=30, t=60, b=40),\n",
    "        hovermode='x unified'\n",
    "    )\n",
    "\n",
    "    fig.update_traces(\n",
    "        mode='lines+markers+text',\n",
    "        textposition='middle right',\n",
    "        line=dict(width=2.5)\n",
    "    )\n",
    "    fig.update_layout(xaxis=dict(rangeslider=dict(visible=True)),\n",
    "                      yaxis_title = 'PLatz')\n",
    "\n",
    "    fig.show()\n"
   ]
  },
  {
   "cell_type": "code",
   "execution_count": 56,
   "id": "2e1d7177",
   "metadata": {},
   "outputs": [
    {
     "name": "stderr",
     "output_type": "stream",
     "text": [
      "C:\\Users\\Anwender\\AppData\\Local\\Temp\\ipykernel_28564\\4027790453.py:16: DeprecationWarning:\n",
      "\n",
      "DataFrameGroupBy.apply operated on the grouping columns. This behavior is deprecated, and in a future version of pandas the grouping columns will be excluded from the operation. Either pass `include_groups=False` to exclude the groupings or explicitly select the grouping columns after groupby to silence this warning.\n",
      "\n"
     ]
    },
    {
     "data": {
      "application/vnd.plotly.v1+json": {
       "config": {
        "plotlyServerURL": "https://plot.ly"
       },
       "data": [
        {
         "hovertemplate": "Land=United Kingdom<br>Jahr=%{x}<br>Platz im CO₂-Ranking=%{y}<br>Text=%{text}<extra></extra>",
         "legendgroup": "United Kingdom",
         "line": {
          "color": "#636efa",
          "dash": "solid",
          "width": 2.5
         },
         "marker": {
          "symbol": "circle"
         },
         "mode": "lines+markers+text",
         "name": "United Kingdom",
         "showlegend": true,
         "text": [
          "",
          "",
          "",
          "",
          "",
          "",
          "",
          "",
          "",
          "",
          "",
          "",
          "",
          "",
          "",
          "",
          "",
          "",
          "",
          "",
          "",
          "",
          "",
          "",
          "",
          "",
          "",
          "",
          "",
          "",
          "",
          "",
          "",
          "",
          "",
          "",
          "",
          "",
          "",
          "",
          "",
          "",
          "",
          "",
          "",
          "",
          "",
          "",
          "",
          "",
          "",
          "",
          "",
          "",
          "",
          "",
          "",
          "",
          "",
          "",
          "",
          "",
          "",
          "",
          "",
          "",
          "",
          "",
          "",
          "",
          "",
          "",
          "",
          "",
          "",
          "",
          "",
          "",
          "",
          "",
          "",
          "",
          "",
          "",
          "",
          "",
          "",
          "",
          "",
          "",
          "",
          "",
          "",
          "",
          "",
          "",
          "",
          "",
          "",
          "",
          "",
          "",
          "",
          "",
          "",
          "",
          "",
          "",
          "",
          "",
          "",
          "",
          "",
          "",
          "",
          "",
          "",
          "",
          "",
          "",
          "",
          "",
          "",
          "",
          "",
          "",
          "",
          "",
          "",
          "",
          "",
          "",
          "",
          "",
          "",
          "",
          "",
          "",
          "",
          "",
          "",
          "",
          "",
          "",
          "",
          "",
          "",
          "",
          "",
          "",
          "",
          "",
          "",
          "",
          "",
          "",
          "",
          "",
          "",
          "",
          "",
          "",
          "",
          "",
          "",
          "",
          "",
          "",
          "",
          "",
          "",
          "",
          "",
          "",
          "",
          "",
          "",
          "",
          "",
          "",
          "",
          "",
          "",
          "",
          "",
          "",
          "",
          "",
          "",
          "",
          "",
          "",
          "",
          "",
          "",
          "",
          "",
          "",
          "",
          "",
          "",
          "",
          "",
          "",
          "",
          "",
          "",
          "",
          "",
          "",
          "",
          "",
          "",
          "",
          "",
          "",
          "",
          "",
          "",
          "",
          "",
          "",
          "",
          "",
          "",
          "",
          "",
          "",
          "",
          "",
          "",
          "",
          "",
          "",
          "",
          "",
          "",
          "",
          "",
          "",
          "",
          "",
          "",
          "",
          "",
          "",
          "",
          "",
          "",
          "",
          "",
          "",
          "",
          "",
          "",
          "",
          "",
          "",
          "",
          "",
          "",
          "",
          "",
          "",
          "",
          "",
          "",
          "",
          "",
          "",
          "",
          "",
          "",
          "United Kingdom"
         ],
         "textposition": "middle right",
         "type": "scattergl",
         "x": {
          "bdata": "1gbXBtgG2QbaBtsG3AbdBt4G3wbgBuEG4gbjBuQG5QbmBucG6AbpBuoG6wbsBu0G7gbvBvAG8QbyBvMG9Ab1BvYG9wb4BvkG+gb7BvwG/Qb+Bv8GAAcBBwIHAwcEBwUHBgcHBwgHCQcKBwsHDAcNBw4HDwcQBxEHEgcTBxQHFQcWBxcHGAcZBxoHGwccBx0HHgcfByAHIQciByMHJAclByYHJwcoBykHKgcrBywHLQcuBy8HMAcxBzIHMwc0BzUHNgc3BzgHOQc6BzsHPAc9Bz4HPwdAB0EHQgdDB0QHRQdGB0cHSAdJB0oHSwdMB00HTgdPB1AHUQdSB1MHVAdVB1YHVwdYB1kHWgdbB1wHXQdeB18HYAdhB2IHYwdkB2UHZgdnB2gHaQdqB2sHbAdtB24HbwdwB3EHcgdzB3QHdQd2B3cHeAd5B3oHewd8B30Hfgd/B4AHgQeCB4MHhAeFB4YHhweIB4kHigeLB4wHjQeOB48HkAeRB5IHkweUB5UHlgeXB5gHmQeaB5sHnAedB54HnwegB6EHogejB6QHpQemB6cHqAepB6oHqwesB60HrgevB7AHsQeyB7MHtAe1B7YHtwe4B7kHuge7B7wHvQe+B78HwAfBB8IHwwfEB8UHxgfHB8gHyQfKB8sHzAfNB84HzwfQB9EH0gfTB9QH1QfWB9cH2AfZB9oH2wfcB90H3gffB+AH4QfiB+MH5AflB+YH5wc=",
          "dtype": "i2"
         },
         "xaxis": "x",
         "y": {
          "bdata": "AQEBAQEBAQEBAQEBAQEBAQEBAQEBAQEBAQEBAQEBAQEBAQEBAQEBAQEBAQEBAQEBAQEBAQEBAQEBAQEBAQEBAQEBAQEBAQEBAQEBAQEBAQEBAQEBAQEBAQEBAQEBAQEBAQEBAQEBAQEBAQEBAQEBAQEBAQEBAQEBAQEBAQEBAQEBAQEBAQEBAQEBAgECAgICAgICAgICAgICAgICAgICAgICAwMDAgIDAwICAwMCAgIDAgMDAwICAgIDAwMDAwMDAwMDAgICAgIDAwMDBAQEBAQFBQQEBAQEBAQEBQYGBgYGBgcHBwcHBwgICAgICAgICAkICAgICAgICAgICQkJCQkJCQwMDg8PEBASEhISExIUFA==",
          "dtype": "i1"
         },
         "yaxis": "y"
        },
        {
         "hovertemplate": "Land=Canada<br>Jahr=%{x}<br>Platz im CO₂-Ranking=%{y}<br>Text=%{text}<extra></extra>",
         "legendgroup": "Canada",
         "line": {
          "color": "#EF553B",
          "dash": "solid",
          "width": 2.5
         },
         "marker": {
          "symbol": "circle"
         },
         "mode": "lines+markers+text",
         "name": "Canada",
         "showlegend": true,
         "text": [
          "",
          "",
          "",
          "",
          "",
          "",
          "",
          "",
          "",
          "",
          "",
          "",
          "",
          "",
          "",
          "",
          "",
          "",
          "",
          "",
          "",
          "",
          "",
          "",
          "",
          "",
          "",
          "",
          "",
          "",
          "",
          "",
          "",
          "",
          "",
          "",
          "",
          "",
          "",
          "",
          "",
          "",
          "",
          "",
          "",
          "",
          "",
          "",
          "",
          "",
          "",
          "",
          "",
          "",
          "",
          "",
          "",
          "",
          "",
          "",
          "",
          "",
          "",
          "",
          "",
          "",
          "",
          "",
          "",
          "",
          "",
          "",
          "",
          "",
          "",
          "",
          "",
          "",
          "",
          "",
          "",
          "",
          "",
          "",
          "",
          "",
          "",
          "",
          "",
          "",
          "",
          "",
          "",
          "",
          "",
          "",
          "",
          "",
          "",
          "",
          "",
          "",
          "",
          "",
          "",
          "",
          "",
          "",
          "",
          "",
          "",
          "",
          "",
          "",
          "",
          "",
          "",
          "",
          "",
          "",
          "",
          "",
          "",
          "",
          "",
          "",
          "",
          "",
          "",
          "",
          "",
          "",
          "",
          "",
          "",
          "",
          "",
          "",
          "",
          "",
          "",
          "",
          "",
          "",
          "",
          "",
          "",
          "",
          "",
          "",
          "",
          "",
          "",
          "",
          "",
          "",
          "",
          "",
          "",
          "",
          "",
          "",
          "",
          "",
          "",
          "",
          "",
          "",
          "",
          "",
          "",
          "",
          "",
          "",
          "",
          "",
          "",
          "",
          "",
          "",
          "",
          "",
          "",
          "",
          "",
          "",
          "",
          "",
          "",
          "",
          "",
          "",
          "",
          "",
          "",
          "",
          "",
          "",
          "",
          "",
          "",
          "",
          "",
          "",
          "",
          "",
          "",
          "",
          "",
          "",
          "",
          "",
          "",
          "",
          "",
          "",
          "",
          "",
          "",
          "",
          "",
          "",
          "",
          "",
          "",
          "",
          "",
          "",
          "",
          "",
          "",
          "",
          "",
          "",
          "",
          "",
          "",
          "",
          "Canada"
         ],
         "textposition": "middle right",
         "type": "scattergl",
         "x": {
          "bdata": "+Qb6BvsG/Ab9Bv4G/wYABwEHAgcDBwQHBQcGBwcHCAcJBwoHCwcMBw0HDgcPBxAHEQcSBxMHFAcVBxYHFwcYBxkHGgcbBxwHHQceBx8HIAchByIHIwckByUHJgcnBygHKQcqBysHLActBy4HLwcwBzEHMgczBzQHNQc2BzcHOAc5BzoHOwc8Bz0HPgc/B0AHQQdCB0MHRAdFB0YHRwdIB0kHSgdLB0wHTQdOB08HUAdRB1IHUwdUB1UHVgdXB1gHWQdaB1sHXAddB14HXwdgB2EHYgdjB2QHZQdmB2cHaAdpB2oHawdsB20HbgdvB3AHcQdyB3MHdAd1B3YHdwd4B3kHegd7B3wHfQd+B38HgAeBB4IHgweEB4UHhgeHB4gHiQeKB4sHjAeNB44HjweQB5EHkgeTB5QHlQeWB5cHmAeZB5oHmwecB50HngefB6AHoQeiB6MHpAelB6YHpweoB6kHqgerB6wHrQeuB68HsAexB7IHswe0B7UHtge3B7gHuQe6B7sHvAe9B74HvwfAB8EHwgfDB8QHxQfGB8cHyAfJB8oHywfMB80HzgfPB9AH0QfSB9MH1AfVB9YH1wfYB9kH2gfbB9wH3QfeB98H4AfhB+IH4wfkB+UH5gfnBw==",
          "dtype": "i2"
         },
         "xaxis": "x",
         "y": {
          "bdata": "AgICAgICAgMDAwMDAwMDBQUHBQYFBQYFBQYGBgYGBgYGBgcIBwgICAcICAgJDQsMDAsLDAwMDQ0NDQ4PDxAQDw8REBAQDxETExUTEhISEA8ODw0SFREODxESEREREhMLDAsLCwwLCwkKCgoKCgoKCgoLCgoKCgkJCQkICQgJCAcGBgcGBgYGBQYIBQYHBQUFBQYIBwgHBwcHBwcIBwcHBgQGBgYGBgYGBwcICAkICgoKCgoKCQkJCQkJCQkKCgoKCwsKCwoLCwoKCwsKCgoMCgoJCQkJCQkJCQgICAgICAgJCwoLCwsLCwsMDAwMDAw=",
          "dtype": "i1"
         },
         "yaxis": "y"
        },
        {
         "hovertemplate": "Land=Germany<br>Jahr=%{x}<br>Platz im CO₂-Ranking=%{y}<br>Text=%{text}<extra></extra>",
         "legendgroup": "Germany",
         "line": {
          "color": "#00cc96",
          "dash": "solid",
          "width": 2.5
         },
         "marker": {
          "symbol": "circle"
         },
         "mode": "lines+markers+text",
         "name": "Germany",
         "showlegend": true,
         "text": [
          "",
          "",
          "",
          "",
          "",
          "",
          "",
          "",
          "",
          "",
          "",
          "",
          "",
          "",
          "",
          "",
          "",
          "",
          "",
          "",
          "",
          "",
          "",
          "",
          "",
          "",
          "",
          "",
          "",
          "",
          "",
          "",
          "",
          "",
          "",
          "",
          "",
          "",
          "",
          "",
          "",
          "",
          "",
          "",
          "",
          "",
          "",
          "",
          "",
          "",
          "",
          "",
          "",
          "",
          "",
          "",
          "",
          "",
          "",
          "",
          "",
          "",
          "",
          "",
          "",
          "",
          "",
          "",
          "",
          "",
          "",
          "",
          "",
          "",
          "",
          "",
          "",
          "",
          "",
          "",
          "",
          "",
          "",
          "",
          "",
          "",
          "",
          "",
          "",
          "",
          "",
          "",
          "",
          "",
          "",
          "",
          "",
          "",
          "",
          "",
          "",
          "",
          "",
          "",
          "",
          "",
          "",
          "",
          "",
          "",
          "",
          "",
          "",
          "",
          "",
          "",
          "",
          "",
          "",
          "",
          "",
          "",
          "",
          "",
          "",
          "",
          "",
          "",
          "",
          "",
          "",
          "",
          "",
          "",
          "",
          "",
          "",
          "",
          "",
          "",
          "",
          "",
          "",
          "",
          "",
          "",
          "",
          "",
          "",
          "",
          "",
          "",
          "",
          "",
          "",
          "",
          "",
          "",
          "",
          "",
          "",
          "",
          "",
          "",
          "",
          "",
          "",
          "",
          "",
          "",
          "",
          "",
          "",
          "",
          "",
          "",
          "",
          "",
          "",
          "",
          "",
          "",
          "",
          "",
          "",
          "",
          "",
          "",
          "",
          "",
          "",
          "",
          "",
          "",
          "",
          "",
          "",
          "",
          "",
          "",
          "",
          "",
          "",
          "",
          "",
          "",
          "",
          "",
          "",
          "",
          "",
          "",
          "",
          "",
          "",
          "",
          "",
          "",
          "",
          "",
          "",
          "",
          "",
          "",
          "",
          "",
          "",
          "",
          "",
          "",
          "",
          "Germany"
         ],
         "textposition": "middle right",
         "type": "scattergl",
         "x": {
          "bdata": "AAcBBwIHAwcEBwUHBgcHBwgHCQcKBwsHDAcNBw4HDwcQBxEHEgcTBxQHFQcWBxcHGAcZBxoHGwccBx0HHgcfByAHIQciByMHJAclByYHJwcoBykHKgcrBywHLQcuBy8HMAcxBzIHMwc0BzUHNgc3BzgHOQc6BzsHPAc9Bz4HPwdAB0EHQgdDB0QHRQdGB0cHSAdJB0oHSwdMB00HTgdPB1AHUQdSB1MHVAdVB1YHVwdYB1kHWgdbB1wHXQdeB18HYAdhB2IHYwdkB2UHZgdnB2gHaQdqB2sHbAdtB24HbwdwB3EHcgdzB3QHdQd2B3cHeAd5B3oHewd8B30Hfgd/B4AHgQeCB4MHhAeFB4YHhweIB4kHigeLB4wHjQeOB48HkAeRB5IHkweUB5UHlgeXB5gHmQeaB5sHnAedB54HnwegB6EHogejB6QHpQemB6cHqAepB6oHqwesB60HrgevB7AHsQeyB7MHtAe1B7YHtwe4B7kHuge7B7wHvQe+B78HwAfBB8IHwwfEB8UHxgfHB8gHyQfKB8sHzAfNB84HzwfQB9EH0gfTB9QH1QfWB9cH2AfZB9oH2wfcB90H3gffB+AH4QfiB+MH5AflB+YH5wc=",
          "dtype": "i2"
         },
         "xaxis": "x",
         "y": {
          "bdata": "AgICAgICAgICAgQCAwICAgICAwMDAwMDAwICAgICAgIDAgIDAwMEAwQEAwMEBAMDAwMDAwMDAwQEBAQEBAQEBAQEAwQEAwMDAwICAwMDAwMDAwMDAwMDAwMDAwMDAwMDAwMDAwMDAwMDAwMDAwMDAwMDAwMDAwMDAgICAwMCAgMDAgIDAwMCAwICAgMDAwMCAgICAgICAgICBQMDAwMCAgICAgICAgMDAwMDAwMDAwMDAwMDAwMDBAQEBAQEBAQEBAQEBAQFBQUGBgYGBgYGBwcHBwcHBwcHBwcHBwcHBwcHBwcICAkKCg==",
          "dtype": "i1"
         },
         "yaxis": "y"
        },
        {
         "hovertemplate": "Land=Poland<br>Jahr=%{x}<br>Platz im CO₂-Ranking=%{y}<br>Text=%{text}<extra></extra>",
         "legendgroup": "Poland",
         "line": {
          "color": "#ab63fa",
          "dash": "solid",
          "width": 2.5
         },
         "marker": {
          "symbol": "circle"
         },
         "mode": "lines+markers+text",
         "name": "Poland",
         "showlegend": true,
         "text": [
          "",
          "",
          "",
          "",
          "",
          "",
          "",
          "",
          "",
          "",
          "",
          "",
          "",
          "",
          "",
          "",
          "",
          "",
          "",
          "",
          "",
          "",
          "",
          "",
          "",
          "",
          "",
          "",
          "",
          "",
          "",
          "",
          "",
          "",
          "",
          "",
          "",
          "",
          "",
          "",
          "",
          "",
          "",
          "",
          "",
          "",
          "",
          "",
          "",
          "",
          "",
          "",
          "",
          "",
          "",
          "",
          "",
          "",
          "",
          "",
          "",
          "",
          "",
          "",
          "",
          "",
          "",
          "",
          "",
          "",
          "",
          "",
          "",
          "",
          "",
          "",
          "",
          "",
          "",
          "",
          "",
          "",
          "",
          "",
          "",
          "",
          "",
          "",
          "",
          "",
          "",
          "",
          "",
          "",
          "",
          "",
          "",
          "",
          "",
          "",
          "",
          "",
          "",
          "",
          "",
          "",
          "",
          "",
          "",
          "",
          "",
          "",
          "",
          "",
          "",
          "",
          "",
          "",
          "",
          "",
          "",
          "",
          "",
          "",
          "",
          "",
          "",
          "",
          "",
          "",
          "",
          "",
          "",
          "",
          "",
          "",
          "",
          "",
          "",
          "",
          "",
          "",
          "",
          "",
          "",
          "",
          "",
          "",
          "",
          "",
          "",
          "",
          "",
          "",
          "",
          "",
          "",
          "",
          "",
          "",
          "",
          "",
          "",
          "",
          "",
          "",
          "",
          "",
          "",
          "",
          "",
          "",
          "",
          "",
          "",
          "",
          "",
          "",
          "",
          "",
          "",
          "",
          "",
          "",
          "",
          "",
          "",
          "",
          "",
          "",
          "",
          "",
          "",
          "",
          "",
          "",
          "",
          "",
          "",
          "",
          "",
          "",
          "",
          "",
          "",
          "",
          "",
          "",
          "",
          "",
          "",
          "",
          "",
          "",
          "",
          "",
          "",
          "",
          "",
          "",
          "",
          "",
          "Poland"
         ],
         "textposition": "middle right",
         "type": "scattergl",
         "x": {
          "bdata": "CAcJBwoHCwcMBw0HDgcPBxAHEQcSBxMHFAcVBxYHFwcYBxkHGgcbBxwHHQceBx8HIAchByIHIwckByUHJgcnBygHKQcqBysHLActBy4HLwcwBzEHMgczBzQHNQc2BzcHOAc5BzoHOwc8Bz0HPgc/B0AHQQdCB0MHRAdFB0YHRwdIB0kHSgdLB0wHTQdOB08HUAdRB1IHUwdUB1UHVgdXB1gHWQdaB1sHXAddB14HXwdgB2EHYgdjB2QHZQdmB2cHaAdpB2oHawdsB20HbgdvB3AHcQdyB3MHdAd1B3YHdwd4B3kHegd7B3wHfQd+B4AHgQeCB4MHhAeFB4YHhweIB4kHigeLB4wHjQeOB48HkAeRB5IHkweUB5UHlgeXB5gHmQeaB5sHnAedB54HnwegB6EHogejB6QHpQemB6cHqAepB6oHqwesB60HrgevB7AHsQeyB7MHtAe1B7YHtwe4B7kHuge7B7wHvQe+B78HwAfBB8IHwwfEB8UHxgfHB8gHyQfKB8sHzAfNB84HzwfQB9EH0gfTB9QH1QfWB9cH2AfZB9oH2wfcB90H3gffB+AH4QfiB+MH5AflB+YH5wc=",
          "dtype": "i2"
         },
         "xaxis": "x",
         "y": {
          "bdata": "AwMFAwQDAwMDAwQEBQUFBQQEBAUFBAQEBAQFBQUFBgYGBgYGBgYGBgYGBgYGBgYHBwcGBgYGBwYGBgYGBgYGBgYGBgYGBgYGBgYGBgYGBgYGBgYGBgYFBgUFBQUFBQUFBQUFBQUFBQUFBQUFBQUFBQUFBQUFBQUHBwYJCgkICAkICQkKCwsLCwsLDAUFBAQFCggJCQgICQkJCQkJCgoJCQkJCQkKCgoKCgoLCwwMCwsKCgsKCwoKCQkJCQsLDQ8NDQ0ODQ4PERIUFRUVFRUWFRUUFRUVFRUVFRQVFRQTFQ==",
          "dtype": "i1"
         },
         "yaxis": "y"
        },
        {
         "hovertemplate": "Land=United States<br>Jahr=%{x}<br>Platz im CO₂-Ranking=%{y}<br>Text=%{text}<extra></extra>",
         "legendgroup": "United States",
         "line": {
          "color": "#FFA15A",
          "dash": "solid",
          "width": 2.5
         },
         "marker": {
          "symbol": "circle"
         },
         "mode": "lines+markers+text",
         "name": "United States",
         "showlegend": true,
         "text": [
          "",
          "",
          "",
          "",
          "",
          "",
          "",
          "",
          "",
          "",
          "",
          "",
          "",
          "",
          "",
          "",
          "",
          "",
          "",
          "",
          "",
          "",
          "",
          "",
          "",
          "",
          "",
          "",
          "",
          "",
          "",
          "",
          "",
          "",
          "",
          "",
          "",
          "",
          "",
          "",
          "",
          "",
          "",
          "",
          "",
          "",
          "",
          "",
          "",
          "",
          "",
          "",
          "",
          "",
          "",
          "",
          "",
          "",
          "",
          "",
          "",
          "",
          "",
          "",
          "",
          "",
          "",
          "",
          "",
          "",
          "",
          "",
          "",
          "",
          "",
          "",
          "",
          "",
          "",
          "",
          "",
          "",
          "",
          "",
          "",
          "",
          "",
          "",
          "",
          "",
          "",
          "",
          "",
          "",
          "",
          "",
          "",
          "",
          "",
          "",
          "",
          "",
          "",
          "",
          "",
          "",
          "",
          "",
          "",
          "",
          "",
          "",
          "",
          "",
          "",
          "",
          "",
          "",
          "",
          "",
          "",
          "",
          "",
          "",
          "",
          "",
          "",
          "",
          "",
          "",
          "",
          "",
          "",
          "",
          "",
          "",
          "",
          "",
          "",
          "",
          "",
          "",
          "",
          "",
          "",
          "",
          "",
          "",
          "",
          "",
          "",
          "",
          "",
          "",
          "",
          "",
          "",
          "",
          "",
          "",
          "",
          "",
          "",
          "",
          "",
          "",
          "",
          "",
          "",
          "",
          "",
          "",
          "",
          "",
          "",
          "",
          "",
          "",
          "",
          "",
          "",
          "",
          "",
          "",
          "",
          "",
          "",
          "",
          "",
          "",
          "",
          "",
          "",
          "",
          "",
          "",
          "",
          "",
          "",
          "",
          "",
          "",
          "",
          "",
          "",
          "",
          "",
          "",
          "",
          "",
          "",
          "",
          "",
          "",
          "",
          "",
          "",
          "",
          "",
          "",
          "",
          "",
          "",
          "United States"
         ],
         "textposition": "middle right",
         "type": "scattergl",
         "x": {
          "bdata": "CAcJBwoHCwcMBw0HDgcPBxAHEQcSBxMHFAcVBxYHFwcYBxkHGgcbBxwHHQceBx8HIAchByIHIwckByUHJgcnBygHKQcqBysHLActBy4HLwcwBzEHMgczBzQHNQc2BzcHOAc5BzoHOwc8Bz0HPgc/B0AHQQdCB0MHRAdFB0YHRwdIB0kHSgdLB0wHTQdOB08HUAdRB1IHUwdUB1UHVgdXB1gHWQdaB1sHXAddB14HXwdgB2EHYgdjB2QHZQdmB2cHaAdpB2oHawdsB20HbgdvB3AHcQdyB3MHdAd1B3YHdwd4B3kHegd7B3wHfQd+B38HgAeBB4IHgweEB4UHhgeHB4gHiQeKB4sHjAeNB44HjweQB5EHkgeTB5QHlQeWB5cHmAeZB5oHmwecB50HngefB6AHoQeiB6MHpAelB6YHpweoB6kHqgerB6wHrQeuB68HsAexB7IHswe0B7UHtge3B7gHuQe6B7sHvAe9B74HvwfAB8EHwgfDB8QHxQfGB8cHyAfJB8oHywfMB80HzgfPB9AH0QfSB9MH1AfVB9YH1wfYB9kH2gfbB9wH3QfeB98H4AfhB+IH4wfkB+UH5gfnBw==",
          "dtype": "i2"
         },
         "xaxis": "x",
         "y": {
          "bdata": "BAQGBAUEBAQEBAUFBAQEBAUFBQQEBQUFBQUEBAQEBQUFBQUFBQUFBQUFBQQEBAQDAgICAgICAgICAgICAgICAgIDAwICAgICAgICAgICAgICAgICAgICAgECAQEBAQEBAQEBAQEBAQEBAQEBAQEBAQEBAQEBAQEBAQEBAQEBAQEBAQEBAQEBAQEBAQEBAQEBAQEBAQEBAQEBAQEBAQEBAQEBAQEBAQEBAQEBAQEBAQEBAQEBAQEBAQEBAQEBAQEBAQEBAQEBAQEBAQEBAQECAgICAgICAgICAgICAgICAgI=",
          "dtype": "i1"
         },
         "yaxis": "y"
        },
        {
         "hovertemplate": "Land=Belgium<br>Jahr=%{x}<br>Platz im CO₂-Ranking=%{y}<br>Text=%{text}<extra></extra>",
         "legendgroup": "Belgium",
         "line": {
          "color": "#19d3f3",
          "dash": "solid",
          "width": 2.5
         },
         "marker": {
          "symbol": "circle"
         },
         "mode": "lines+markers+text",
         "name": "Belgium",
         "showlegend": true,
         "text": [
          "",
          "",
          "",
          "",
          "",
          "",
          "",
          "",
          "",
          "",
          "",
          "",
          "",
          "",
          "",
          "",
          "",
          "",
          "",
          "",
          "",
          "",
          "",
          "",
          "",
          "",
          "",
          "",
          "",
          "",
          "",
          "",
          "",
          "",
          "",
          "",
          "",
          "",
          "",
          "",
          "",
          "",
          "",
          "",
          "",
          "",
          "",
          "",
          "",
          "",
          "",
          "",
          "",
          "",
          "",
          "",
          "",
          "",
          "",
          "",
          "",
          "",
          "",
          "",
          "",
          "",
          "",
          "",
          "",
          "",
          "",
          "",
          "",
          "",
          "",
          "",
          "",
          "",
          "",
          "",
          "",
          "",
          "",
          "",
          "",
          "",
          "",
          "",
          "",
          "",
          "",
          "",
          "",
          "",
          "",
          "",
          "",
          "",
          "",
          "",
          "",
          "",
          "",
          "",
          "",
          "",
          "",
          "",
          "",
          "",
          "",
          "",
          "",
          "",
          "",
          "",
          "",
          "",
          "",
          "",
          "",
          "",
          "",
          "",
          "",
          "",
          "",
          "",
          "",
          "",
          "",
          "",
          "",
          "",
          "",
          "",
          "",
          "",
          "",
          "",
          "",
          "",
          "",
          "",
          "",
          "",
          "",
          "",
          "",
          "",
          "",
          "",
          ""
         ],
         "textposition": "middle right",
         "type": "scattergl",
         "x": {
          "bdata": "CgcmBycHKAcpByoHKwcsBy0HLgcvBzAHMQcyBzMHNAc1BzYHNwc4BzkHOgc7BzwHPQc+Bz8HQAdBB0IHQwdEB0UHRgdHB0gHSQdKB0sHTAdNB04HTwdQB1EHUgdTB1QHVQdWB1cHWAdZB1oHWwdcB10HXgdfB2AHYQdiB2MHZAdlB2YHZwdoB2kHagdrB2wHbQduB28HcAdxB3IHcwd0B3UHdgd3B3gHeQd6B3sHfAd9B34HfweAB4EHggeDB4QHhQeGB4cHiAeJB4oHiweMB40HjgePB5AHkQeSB5MHlAeVB5YHlweYB5kHmgebB5wHnQeeB58HoAehB6IHowekB6UHpgenB6gHqQeqB6sHrAetB64HrwewB7EHsgezB7QHtQe2B7cHuAe5B7oHuwe8B70H",
          "dtype": "i2"
         },
         "xaxis": "x",
         "y": {
          "bdata": "AgMEAwMEBAMDBAQEBAQFBQUFBQUFBQUFBQUFBQUFBQUFBQUFBQUFBQUFBQUFBQUFBQUFBQUFBQUFBgUGBgYGBgYGBgYGBgYGBwYGBgYGBgcHBgYICAsLCQoLBwkJCQgHBgcGBwYHBggHCAkJCAgKCwsLCxEQCwoLCgsLCwsLCwsLDxAQERERERISEhISExYWFhgYGBgYGBgZ",
          "dtype": "i1"
         },
         "yaxis": "y"
        },
        {
         "hovertemplate": "Land=France<br>Jahr=%{x}<br>Platz im CO₂-Ranking=%{y}<br>Text=%{text}<extra></extra>",
         "legendgroup": "France",
         "line": {
          "color": "#FF6692",
          "dash": "solid",
          "width": 2.5
         },
         "marker": {
          "symbol": "circle"
         },
         "mode": "lines+markers+text",
         "name": "France",
         "showlegend": true,
         "text": [
          "",
          "",
          "",
          "",
          "",
          "",
          "",
          "",
          "",
          "",
          "",
          "",
          "",
          "",
          "",
          "",
          "",
          "",
          "",
          "",
          "",
          "",
          "",
          "",
          "",
          "",
          "",
          "",
          "",
          "",
          "",
          "",
          "",
          "",
          "",
          "",
          "",
          "",
          "",
          "",
          "",
          "",
          "",
          "",
          "",
          "",
          "",
          "",
          "",
          "",
          "",
          "",
          "",
          "",
          "",
          "",
          "",
          "",
          "",
          "",
          "",
          "",
          "",
          "",
          "",
          "",
          "",
          "",
          "",
          "",
          "",
          "",
          "",
          "",
          "",
          "",
          "",
          "",
          "",
          "",
          "",
          "",
          "",
          "",
          "",
          "",
          "",
          "",
          "",
          "",
          "",
          "",
          "",
          "",
          "",
          "",
          "",
          "",
          "",
          "",
          "",
          "",
          "",
          "",
          "",
          "",
          "",
          "",
          "",
          "",
          "",
          "",
          "",
          "",
          "",
          "",
          "",
          "",
          "",
          "",
          "",
          "",
          "",
          "",
          "",
          "",
          "",
          "",
          "",
          "",
          "",
          "",
          "",
          "",
          "",
          "",
          "",
          "",
          "",
          "",
          "",
          "",
          "",
          "",
          "",
          "",
          "",
          "",
          "",
          "",
          "",
          "",
          "",
          "",
          "",
          "",
          "",
          "",
          "",
          "",
          "",
          "",
          "",
          "",
          "",
          "",
          "",
          "",
          "",
          "",
          "",
          "",
          "",
          "",
          "",
          "",
          "",
          "",
          "",
          "",
          "",
          "",
          "",
          "",
          "",
          "",
          "",
          "",
          "",
          "",
          "",
          "",
          "",
          "",
          "",
          "",
          "",
          "",
          "",
          "",
          "",
          "",
          "",
          "",
          "",
          "",
          "",
          "",
          "",
          "",
          "",
          "",
          "",
          "",
          "",
          "France"
         ],
         "textposition": "middle right",
         "type": "scattergl",
         "x": {
          "bdata": "CgcMBxIHEwcUBxUHFgcXBxgHGQcaBxsHHAcdBx4HHwcgByEHIgcjByQHJQcmBycHKAcpByoHKwcsBy0HLgcvBzAHMQcyBzMHNAc1BzYHNwc4BzkHOgc7BzwHPQc+Bz8HQAdBB0IHQwdEB0UHRgdHB0gHSQdKB0sHTAdNB04HTwdQB1EHUgdTB1QHVQdWB1cHWAdZB1oHWwdcB10HXgdfB2AHYQdiB2MHZAdlB2YHZwdoB2kHagdrB2wHbQduB28HcAdxB3IHcwd0B3UHdgd3B3gHeQd6B3sHfAd9B34HfweAB4EHggeDB4QHhQeGB4cHiAeJB4oHiweMB40HjgePB5AHkQeSB5MHlAeVB5YHlweYB5kHmgebB5wHnQeeB58HoAehB6IHowekB6UHpgenB6gHqQeqB6sHrAetB64HrwewB7EHsgezB7QHtQe2B7cHuAe5B7oHuwe8B70Hvge/B8AHwQfCB8MHxAfFB8YHxwfIB8kHygfLB8wHzQfOB88H0AfRB9IH0wfUB9UH1gfXB9gH2QfaB9sH3AfdB94H3wfgB+EH4gfjB+QH5QfmB+cH",
          "dtype": "i2"
         },
         "xaxis": "x",
         "y": {
          "bdata": "AwICAgICAgICAwMDAwMDAwIDAwICAgICAgICAgICAgICAgICAgICAgMDAwMDAwMDAwMEAwMEBAQEBAQEBAQEBAQEBAQEBAQEBAQEBAQEBAQEBAQEBAQEBAQEBAQEBAQEBAQEBAQEBAQEBAQEBAQEBAQEBAQEBAQEBAQEBAQEBAUFBQUFBwgJCAkGBQUFBQUFBQUFBQUFBgcGBgYGBggIBwcHBwcHBwgICAkJCQkJCQkLCwwMDA0MDgwMDAwMDAsLDAwNDQ8PEBESExMTExMUFBQUFRYWFhYX",
          "dtype": "i1"
         },
         "yaxis": "y"
        },
        {
         "hovertemplate": "Land=Russia<br>Jahr=%{x}<br>Platz im CO₂-Ranking=%{y}<br>Text=%{text}<extra></extra>",
         "legendgroup": "Russia",
         "line": {
          "color": "#B6E880",
          "dash": "solid",
          "width": 2.5
         },
         "marker": {
          "symbol": "circle"
         },
         "mode": "lines+markers+text",
         "name": "Russia",
         "showlegend": true,
         "text": [
          "",
          "",
          "",
          "",
          "",
          "",
          "",
          "",
          "",
          "",
          "",
          "",
          "",
          "",
          "",
          "",
          "",
          "",
          "",
          "",
          "",
          "",
          "",
          "",
          "",
          "",
          "",
          "",
          "",
          "",
          "",
          "",
          "",
          "",
          "",
          "",
          "",
          "",
          "",
          "",
          "",
          "",
          "",
          "",
          "",
          "",
          "",
          "",
          "",
          "",
          "",
          "",
          "",
          "",
          "",
          "",
          "",
          "",
          "",
          "",
          "",
          "",
          "",
          "",
          "",
          "",
          "",
          "",
          "",
          "",
          "",
          "",
          "",
          "",
          "",
          "",
          "",
          "",
          "",
          "",
          "",
          "",
          "",
          "",
          "",
          "",
          "",
          "",
          "",
          "",
          "",
          "",
          "",
          "",
          "",
          "",
          "",
          "",
          "",
          "",
          "",
          "",
          "",
          "",
          "",
          "",
          "",
          "",
          "",
          "",
          "",
          "",
          "",
          "",
          "",
          "",
          "",
          "",
          "",
          "",
          "",
          "",
          "",
          "",
          "",
          "",
          "",
          "",
          "",
          "",
          "",
          "",
          "",
          "",
          "",
          "",
          "",
          "",
          "",
          "",
          "",
          "",
          "",
          "",
          "",
          "",
          "",
          "",
          "",
          "",
          "",
          "",
          "",
          "",
          "",
          "",
          "",
          "",
          "",
          "",
          "",
          "",
          "",
          "",
          "",
          "",
          "",
          "",
          "",
          "",
          "",
          "Russia"
         ],
         "textposition": "middle right",
         "type": "scattergl",
         "x": {
          "bdata": "JgcnBygHKQc6Bz8HQgdDB0QHRQdGB0cHSAdJB0oHSwdMB00HTgdPB1AHUQdSB1MHVAdVB1YHVwdYB1kHWgdbB1wHXQdeB18HYAdhB2IHYwdkB2UHZgdnB2gHaQdqB2sHbAdtB24HbwdwB3EHcgdzB3QHdQd2B3cHeAd5B3oHewd8B30Hfgd/B4AHgQeCB4MHhAeFB4YHhweIB4kHigeLB4wHjQeOB48HkAeRB5IHkweUB5UHlgeXB5gHmQeaB5sHnAedB54HnwegB6EHogejB6QHpQemB6cHqAepB6oHqwesB60HrgevB7AHsQeyB7MHtAe1B7YHtwe4B7kHuge7B7wHvQe+B78HwAfBB8IHwwfEB8UHxgfHB8gHyQfKB8sHzAfNB84HzwfQB9EH0gfTB9QH1QfWB9cH2AfZB9oH2wfcB90H3gffB+AH4QfiB+MH5AflB+YH5wc=",
          "dtype": "i2"
         },
         "xaxis": "x",
         "y": {
          "bdata": "CQkKCRAPEhQREBQTFhcLCw0LDAoKCwoKCgoJCQkJCQkJCQgICAgICAgICAgICAcHBwYHBwcHBwcIBgcHBgcHBgcIDQ8QEQ8NDQ4JCQgJBQUFBQUEBAQEBAQEBgYEAwQEBAQEBAQEAwMDAwICAgICAgICAgICAgICAgICAgICAgICAgICAgICAgIDAgMDAwMDAwMDAwMDAwQEBAQEBAUFBQUFBQUFBQUFBQUFBQ==",
          "dtype": "i1"
         },
         "yaxis": "y"
        },
        {
         "hovertemplate": "Land=Japan<br>Jahr=%{x}<br>Platz im CO₂-Ranking=%{y}<br>Text=%{text}<extra></extra>",
         "legendgroup": "Japan",
         "line": {
          "color": "#FF97FF",
          "dash": "solid",
          "width": 2.5
         },
         "marker": {
          "symbol": "circle"
         },
         "mode": "lines+markers+text",
         "name": "Japan",
         "showlegend": true,
         "text": [
          "",
          "",
          "",
          "",
          "",
          "",
          "",
          "",
          "",
          "",
          "",
          "",
          "",
          "",
          "",
          "",
          "",
          "",
          "",
          "",
          "",
          "",
          "",
          "",
          "",
          "",
          "",
          "",
          "",
          "",
          "",
          "",
          "",
          "",
          "",
          "",
          "",
          "",
          "",
          "",
          "",
          "",
          "",
          "",
          "",
          "",
          "",
          "",
          "",
          "",
          "",
          "",
          "",
          "",
          "",
          "",
          "",
          "",
          "",
          "",
          "",
          "",
          "",
          "",
          "",
          "",
          "",
          "",
          "",
          "",
          "",
          "",
          "",
          "",
          "",
          "",
          "",
          "",
          "",
          "",
          "",
          "",
          "",
          "",
          "",
          "",
          "",
          "",
          "",
          "",
          "",
          "",
          "",
          "",
          "",
          "",
          "",
          "",
          "",
          "",
          "",
          "",
          "",
          "",
          "",
          "",
          "",
          "",
          "",
          "",
          "",
          "",
          "",
          "",
          "",
          "",
          "",
          "",
          "",
          "",
          "",
          "",
          "",
          "",
          "",
          "",
          "",
          "",
          "",
          "",
          "",
          "",
          "",
          "",
          "",
          "",
          "",
          "",
          "",
          "",
          "",
          "",
          "",
          "",
          "",
          "",
          "",
          "",
          "Japan"
         ],
         "textposition": "middle right",
         "type": "scattergl",
         "x": {
          "bdata": "UwdUB1UHVgdXB1gHWQdaB1sHXAddB14HXwdgB2EHYgdjB2QHZQdmB2cHaAdpB2oHawdsB20HbgdvB3AHcQdyB3MHdAd1B3YHdwd4B3kHegd7B3wHfQd+B38HgAeBB4IHgweEB4UHhgeHB4gHiQeKB4sHjAeNB44HjweQB5EHkgeTB5QHlQeWB5cHmAeZB5oHmwecB50HngefB6AHoQeiB6MHpAelB6YHpweoB6kHqgerB6wHrQeuB68HsAexB7IHswe0B7UHtge3B7gHuQe6B7sHvAe9B74HvwfAB8EHwgfDB8QHxQfGB8cHyAfJB8oHywfMB80HzgfPB9AH0QfSB9MH1AfVB9YH1wfYB9kH2gfbB9wH3QfeB98H4AfhB+IH4wfkB+UH5gfnBw==",
          "dtype": "i2"
         },
         "xaxis": "x",
         "y": {
          "bdata": "FBYWExETExMTExMTEBAPDw4PDg0LCwsKCwsLCwoKCgsLCwsLCgoKCAgIBwcFCAgHBgUFBgcGBwgHBgYGBgYGBgYGBgUFBwgNCwoJCQgICAoKCggJCAgICAgHBgYFBQQFBQUFBQUFBQUFBQUFBQUFBQUFBAQEBAQEBAQEBAUFBQUFBQUGBgYGBgYGBgYGBgYGBgYGBgY=",
          "dtype": "i1"
         },
         "yaxis": "y"
        },
        {
         "hovertemplate": "Land=China<br>Jahr=%{x}<br>Platz im CO₂-Ranking=%{y}<br>Text=%{text}<extra></extra>",
         "legendgroup": "China",
         "line": {
          "color": "#FECB52",
          "dash": "solid",
          "width": 2.5
         },
         "marker": {
          "symbol": "circle"
         },
         "mode": "lines+markers+text",
         "name": "China",
         "showlegend": true,
         "text": [
          "",
          "",
          "",
          "",
          "",
          "",
          "",
          "",
          "",
          "",
          "",
          "",
          "",
          "",
          "",
          "",
          "",
          "",
          "",
          "",
          "",
          "",
          "",
          "",
          "",
          "",
          "",
          "",
          "",
          "",
          "",
          "",
          "",
          "",
          "",
          "",
          "",
          "",
          "",
          "",
          "",
          "",
          "",
          "",
          "",
          "",
          "",
          "",
          "",
          "",
          "",
          "",
          "",
          "",
          "",
          "",
          "",
          "",
          "",
          "",
          "",
          "",
          "",
          "",
          "",
          "",
          "",
          "",
          "",
          "",
          "",
          "",
          "",
          "",
          "",
          "",
          "",
          "",
          "",
          "",
          "",
          "",
          "",
          "",
          "",
          "",
          "",
          "",
          "",
          "",
          "",
          "",
          "",
          "",
          "",
          "",
          "",
          "",
          "",
          "",
          "",
          "",
          "",
          "",
          "",
          "",
          "",
          "",
          "",
          "",
          "",
          "",
          "",
          "",
          "",
          "",
          "China"
         ],
         "textposition": "middle right",
         "type": "scattergl",
         "x": {
          "bdata": "cwd0B3UHdgd3B3gHeQd6B3sHfAd9B34HfweAB4EHggeDB4QHhQeGB4cHiAeJB4oHiweMB40HjgePB5AHkQeSB5MHlAeVB5YHlweYB5kHmgebB5wHnQeeB58HoAehB6IHowekB6UHpgenB6gHqQeqB6sHrAetB64HrwewB7EHsgezB7QHtQe2B7cHuAe5B7oHuwe8B70Hvge/B8AHwQfCB8MHxAfFB8YHxwfIB8kHygfLB8wHzQfOB88H0AfRB9IH0wfUB9UH1gfXB9gH2QfaB9sH3AfdB94H3wfgB+EH4gfjB+QH5QfmB+cH",
          "dtype": "i2"
         },
         "xaxis": "x",
         "y": {
          "bdata": "Dg4NDQ4SDw4NDAwKCgoKCgoJCgsKCgoKCgkJCQgICgoJCgkICQgLERISCwoKCgoIBwcGBQQEBQUFBQUFBgYGBAQEBAQDAwMDAwMDAwMDAwMDAwIDAgICAgICAgICAgICAgICAQEBAQEBAQEBAQEBAQEBAQEB",
          "dtype": "i1"
         },
         "yaxis": "y"
        }
       ],
       "layout": {
        "hovermode": "x unified",
        "legend": {
         "font": {
          "size": 11
         },
         "title": {
          "text": "Land"
         },
         "tracegroupgap": 0
        },
        "margin": {
         "b": 40,
         "l": 60,
         "r": 30,
         "t": 60
        },
        "template": {
         "data": {
          "bar": [
           {
            "error_x": {
             "color": "#2a3f5f"
            },
            "error_y": {
             "color": "#2a3f5f"
            },
            "marker": {
             "line": {
              "color": "white",
              "width": 0.5
             },
             "pattern": {
              "fillmode": "overlay",
              "size": 10,
              "solidity": 0.2
             }
            },
            "type": "bar"
           }
          ],
          "barpolar": [
           {
            "marker": {
             "line": {
              "color": "white",
              "width": 0.5
             },
             "pattern": {
              "fillmode": "overlay",
              "size": 10,
              "solidity": 0.2
             }
            },
            "type": "barpolar"
           }
          ],
          "carpet": [
           {
            "aaxis": {
             "endlinecolor": "#2a3f5f",
             "gridcolor": "#C8D4E3",
             "linecolor": "#C8D4E3",
             "minorgridcolor": "#C8D4E3",
             "startlinecolor": "#2a3f5f"
            },
            "baxis": {
             "endlinecolor": "#2a3f5f",
             "gridcolor": "#C8D4E3",
             "linecolor": "#C8D4E3",
             "minorgridcolor": "#C8D4E3",
             "startlinecolor": "#2a3f5f"
            },
            "type": "carpet"
           }
          ],
          "choropleth": [
           {
            "colorbar": {
             "outlinewidth": 0,
             "ticks": ""
            },
            "type": "choropleth"
           }
          ],
          "contour": [
           {
            "colorbar": {
             "outlinewidth": 0,
             "ticks": ""
            },
            "colorscale": [
             [
              0,
              "#0d0887"
             ],
             [
              0.1111111111111111,
              "#46039f"
             ],
             [
              0.2222222222222222,
              "#7201a8"
             ],
             [
              0.3333333333333333,
              "#9c179e"
             ],
             [
              0.4444444444444444,
              "#bd3786"
             ],
             [
              0.5555555555555556,
              "#d8576b"
             ],
             [
              0.6666666666666666,
              "#ed7953"
             ],
             [
              0.7777777777777778,
              "#fb9f3a"
             ],
             [
              0.8888888888888888,
              "#fdca26"
             ],
             [
              1,
              "#f0f921"
             ]
            ],
            "type": "contour"
           }
          ],
          "contourcarpet": [
           {
            "colorbar": {
             "outlinewidth": 0,
             "ticks": ""
            },
            "type": "contourcarpet"
           }
          ],
          "heatmap": [
           {
            "colorbar": {
             "outlinewidth": 0,
             "ticks": ""
            },
            "colorscale": [
             [
              0,
              "#0d0887"
             ],
             [
              0.1111111111111111,
              "#46039f"
             ],
             [
              0.2222222222222222,
              "#7201a8"
             ],
             [
              0.3333333333333333,
              "#9c179e"
             ],
             [
              0.4444444444444444,
              "#bd3786"
             ],
             [
              0.5555555555555556,
              "#d8576b"
             ],
             [
              0.6666666666666666,
              "#ed7953"
             ],
             [
              0.7777777777777778,
              "#fb9f3a"
             ],
             [
              0.8888888888888888,
              "#fdca26"
             ],
             [
              1,
              "#f0f921"
             ]
            ],
            "type": "heatmap"
           }
          ],
          "histogram": [
           {
            "marker": {
             "pattern": {
              "fillmode": "overlay",
              "size": 10,
              "solidity": 0.2
             }
            },
            "type": "histogram"
           }
          ],
          "histogram2d": [
           {
            "colorbar": {
             "outlinewidth": 0,
             "ticks": ""
            },
            "colorscale": [
             [
              0,
              "#0d0887"
             ],
             [
              0.1111111111111111,
              "#46039f"
             ],
             [
              0.2222222222222222,
              "#7201a8"
             ],
             [
              0.3333333333333333,
              "#9c179e"
             ],
             [
              0.4444444444444444,
              "#bd3786"
             ],
             [
              0.5555555555555556,
              "#d8576b"
             ],
             [
              0.6666666666666666,
              "#ed7953"
             ],
             [
              0.7777777777777778,
              "#fb9f3a"
             ],
             [
              0.8888888888888888,
              "#fdca26"
             ],
             [
              1,
              "#f0f921"
             ]
            ],
            "type": "histogram2d"
           }
          ],
          "histogram2dcontour": [
           {
            "colorbar": {
             "outlinewidth": 0,
             "ticks": ""
            },
            "colorscale": [
             [
              0,
              "#0d0887"
             ],
             [
              0.1111111111111111,
              "#46039f"
             ],
             [
              0.2222222222222222,
              "#7201a8"
             ],
             [
              0.3333333333333333,
              "#9c179e"
             ],
             [
              0.4444444444444444,
              "#bd3786"
             ],
             [
              0.5555555555555556,
              "#d8576b"
             ],
             [
              0.6666666666666666,
              "#ed7953"
             ],
             [
              0.7777777777777778,
              "#fb9f3a"
             ],
             [
              0.8888888888888888,
              "#fdca26"
             ],
             [
              1,
              "#f0f921"
             ]
            ],
            "type": "histogram2dcontour"
           }
          ],
          "mesh3d": [
           {
            "colorbar": {
             "outlinewidth": 0,
             "ticks": ""
            },
            "type": "mesh3d"
           }
          ],
          "parcoords": [
           {
            "line": {
             "colorbar": {
              "outlinewidth": 0,
              "ticks": ""
             }
            },
            "type": "parcoords"
           }
          ],
          "pie": [
           {
            "automargin": true,
            "type": "pie"
           }
          ],
          "scatter": [
           {
            "fillpattern": {
             "fillmode": "overlay",
             "size": 10,
             "solidity": 0.2
            },
            "type": "scatter"
           }
          ],
          "scatter3d": [
           {
            "line": {
             "colorbar": {
              "outlinewidth": 0,
              "ticks": ""
             }
            },
            "marker": {
             "colorbar": {
              "outlinewidth": 0,
              "ticks": ""
             }
            },
            "type": "scatter3d"
           }
          ],
          "scattercarpet": [
           {
            "marker": {
             "colorbar": {
              "outlinewidth": 0,
              "ticks": ""
             }
            },
            "type": "scattercarpet"
           }
          ],
          "scattergeo": [
           {
            "marker": {
             "colorbar": {
              "outlinewidth": 0,
              "ticks": ""
             }
            },
            "type": "scattergeo"
           }
          ],
          "scattergl": [
           {
            "marker": {
             "colorbar": {
              "outlinewidth": 0,
              "ticks": ""
             }
            },
            "type": "scattergl"
           }
          ],
          "scattermap": [
           {
            "marker": {
             "colorbar": {
              "outlinewidth": 0,
              "ticks": ""
             }
            },
            "type": "scattermap"
           }
          ],
          "scattermapbox": [
           {
            "marker": {
             "colorbar": {
              "outlinewidth": 0,
              "ticks": ""
             }
            },
            "type": "scattermapbox"
           }
          ],
          "scatterpolar": [
           {
            "marker": {
             "colorbar": {
              "outlinewidth": 0,
              "ticks": ""
             }
            },
            "type": "scatterpolar"
           }
          ],
          "scatterpolargl": [
           {
            "marker": {
             "colorbar": {
              "outlinewidth": 0,
              "ticks": ""
             }
            },
            "type": "scatterpolargl"
           }
          ],
          "scatterternary": [
           {
            "marker": {
             "colorbar": {
              "outlinewidth": 0,
              "ticks": ""
             }
            },
            "type": "scatterternary"
           }
          ],
          "surface": [
           {
            "colorbar": {
             "outlinewidth": 0,
             "ticks": ""
            },
            "colorscale": [
             [
              0,
              "#0d0887"
             ],
             [
              0.1111111111111111,
              "#46039f"
             ],
             [
              0.2222222222222222,
              "#7201a8"
             ],
             [
              0.3333333333333333,
              "#9c179e"
             ],
             [
              0.4444444444444444,
              "#bd3786"
             ],
             [
              0.5555555555555556,
              "#d8576b"
             ],
             [
              0.6666666666666666,
              "#ed7953"
             ],
             [
              0.7777777777777778,
              "#fb9f3a"
             ],
             [
              0.8888888888888888,
              "#fdca26"
             ],
             [
              1,
              "#f0f921"
             ]
            ],
            "type": "surface"
           }
          ],
          "table": [
           {
            "cells": {
             "fill": {
              "color": "#EBF0F8"
             },
             "line": {
              "color": "white"
             }
            },
            "header": {
             "fill": {
              "color": "#C8D4E3"
             },
             "line": {
              "color": "white"
             }
            },
            "type": "table"
           }
          ]
         },
         "layout": {
          "annotationdefaults": {
           "arrowcolor": "#2a3f5f",
           "arrowhead": 0,
           "arrowwidth": 1
          },
          "autotypenumbers": "strict",
          "coloraxis": {
           "colorbar": {
            "outlinewidth": 0,
            "ticks": ""
           }
          },
          "colorscale": {
           "diverging": [
            [
             0,
             "#8e0152"
            ],
            [
             0.1,
             "#c51b7d"
            ],
            [
             0.2,
             "#de77ae"
            ],
            [
             0.3,
             "#f1b6da"
            ],
            [
             0.4,
             "#fde0ef"
            ],
            [
             0.5,
             "#f7f7f7"
            ],
            [
             0.6,
             "#e6f5d0"
            ],
            [
             0.7,
             "#b8e186"
            ],
            [
             0.8,
             "#7fbc41"
            ],
            [
             0.9,
             "#4d9221"
            ],
            [
             1,
             "#276419"
            ]
           ],
           "sequential": [
            [
             0,
             "#0d0887"
            ],
            [
             0.1111111111111111,
             "#46039f"
            ],
            [
             0.2222222222222222,
             "#7201a8"
            ],
            [
             0.3333333333333333,
             "#9c179e"
            ],
            [
             0.4444444444444444,
             "#bd3786"
            ],
            [
             0.5555555555555556,
             "#d8576b"
            ],
            [
             0.6666666666666666,
             "#ed7953"
            ],
            [
             0.7777777777777778,
             "#fb9f3a"
            ],
            [
             0.8888888888888888,
             "#fdca26"
            ],
            [
             1,
             "#f0f921"
            ]
           ],
           "sequentialminus": [
            [
             0,
             "#0d0887"
            ],
            [
             0.1111111111111111,
             "#46039f"
            ],
            [
             0.2222222222222222,
             "#7201a8"
            ],
            [
             0.3333333333333333,
             "#9c179e"
            ],
            [
             0.4444444444444444,
             "#bd3786"
            ],
            [
             0.5555555555555556,
             "#d8576b"
            ],
            [
             0.6666666666666666,
             "#ed7953"
            ],
            [
             0.7777777777777778,
             "#fb9f3a"
            ],
            [
             0.8888888888888888,
             "#fdca26"
            ],
            [
             1,
             "#f0f921"
            ]
           ]
          },
          "colorway": [
           "#636efa",
           "#EF553B",
           "#00cc96",
           "#ab63fa",
           "#FFA15A",
           "#19d3f3",
           "#FF6692",
           "#B6E880",
           "#FF97FF",
           "#FECB52"
          ],
          "font": {
           "color": "#2a3f5f"
          },
          "geo": {
           "bgcolor": "white",
           "lakecolor": "white",
           "landcolor": "white",
           "showlakes": true,
           "showland": true,
           "subunitcolor": "#C8D4E3"
          },
          "hoverlabel": {
           "align": "left"
          },
          "hovermode": "closest",
          "mapbox": {
           "style": "light"
          },
          "paper_bgcolor": "white",
          "plot_bgcolor": "white",
          "polar": {
           "angularaxis": {
            "gridcolor": "#EBF0F8",
            "linecolor": "#EBF0F8",
            "ticks": ""
           },
           "bgcolor": "white",
           "radialaxis": {
            "gridcolor": "#EBF0F8",
            "linecolor": "#EBF0F8",
            "ticks": ""
           }
          },
          "scene": {
           "xaxis": {
            "backgroundcolor": "white",
            "gridcolor": "#DFE8F3",
            "gridwidth": 2,
            "linecolor": "#EBF0F8",
            "showbackground": true,
            "ticks": "",
            "zerolinecolor": "#EBF0F8"
           },
           "yaxis": {
            "backgroundcolor": "white",
            "gridcolor": "#DFE8F3",
            "gridwidth": 2,
            "linecolor": "#EBF0F8",
            "showbackground": true,
            "ticks": "",
            "zerolinecolor": "#EBF0F8"
           },
           "zaxis": {
            "backgroundcolor": "white",
            "gridcolor": "#DFE8F3",
            "gridwidth": 2,
            "linecolor": "#EBF0F8",
            "showbackground": true,
            "ticks": "",
            "zerolinecolor": "#EBF0F8"
           }
          },
          "shapedefaults": {
           "line": {
            "color": "#2a3f5f"
           }
          },
          "ternary": {
           "aaxis": {
            "gridcolor": "#DFE8F3",
            "linecolor": "#A2B1C6",
            "ticks": ""
           },
           "baxis": {
            "gridcolor": "#DFE8F3",
            "linecolor": "#A2B1C6",
            "ticks": ""
           },
           "bgcolor": "white",
           "caxis": {
            "gridcolor": "#DFE8F3",
            "linecolor": "#A2B1C6",
            "ticks": ""
           }
          },
          "title": {
           "x": 0.05
          },
          "xaxis": {
           "automargin": true,
           "gridcolor": "#EBF0F8",
           "linecolor": "#EBF0F8",
           "ticks": "",
           "title": {
            "standoff": 15
           },
           "zerolinecolor": "#EBF0F8",
           "zerolinewidth": 2
          },
          "yaxis": {
           "automargin": true,
           "gridcolor": "#EBF0F8",
           "linecolor": "#EBF0F8",
           "ticks": "",
           "title": {
            "standoff": 15
           },
           "zerolinecolor": "#EBF0F8",
           "zerolinewidth": 2
          }
         }
        },
        "title": {
         "text": "Entwicklung der Top-10 CO₂-Verbraucher im Zeitverlauf"
        },
        "xaxis": {
         "anchor": "y",
         "domain": [
          0,
          1
         ],
         "rangeslider": {
          "visible": true
         },
         "tickfont": {
          "size": 11
         },
         "title": {
          "text": "Jahr"
         }
        },
        "yaxis": {
         "anchor": "x",
         "autorange": "reversed",
         "domain": [
          0,
          1
         ],
         "dtick": 1,
         "range": [
          1,
          25
         ],
         "tickfont": {
          "size": 11
         },
         "tickmode": "linear",
         "title": {
          "text": "PLatz"
         }
        }
       }
      }
     },
     "metadata": {},
     "output_type": "display_data"
    }
   ],
   "source": [
    "plot_top_emitters_rank_over_time(co2_emissions)\n"
   ]
  },
  {
   "cell_type": "markdown",
   "id": "19151c85",
   "metadata": {},
   "source": [
    "## Fazit\n",
    "---"
   ]
  },
  {
   "cell_type": "markdown",
   "id": "d2f191bd",
   "metadata": {},
   "source": [
    "Mehr Zeit = bessere Daten (kein json benutzt, kaum ueber Temparatur geredet, gas nur oberflaechlich...)\n",
    "\n",
    "jetzt fangt eigentlich der Job an : \n",
    "\n",
    "- was sagen eigentlich diese Nummern?\n",
    "- Welches Zusammenhang gibt es zu Ereignisse\n",
    "- Dash Darstellung\n",
    "- ..."
   ]
  }
 ],
 "metadata": {
  "kernelspec": {
   "display_name": "Python 3",
   "language": "python",
   "name": "python3"
  },
  "language_info": {
   "codemirror_mode": {
    "name": "ipython",
    "version": 3
   },
   "file_extension": ".py",
   "mimetype": "text/x-python",
   "name": "python",
   "nbconvert_exporter": "python",
   "pygments_lexer": "ipython3",
   "version": "3.13.5"
  }
 },
 "nbformat": 4,
 "nbformat_minor": 5
}
